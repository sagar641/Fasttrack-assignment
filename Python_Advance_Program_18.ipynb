{
  "nbformat": 4,
  "nbformat_minor": 0,
  "metadata": {
    "colab": {
      "name": "Python Advance Program 18.ipynb",
      "provenance": [],
      "collapsed_sections": []
    },
    "kernelspec": {
      "name": "python3",
      "display_name": "Python 3"
    },
    "language_info": {
      "name": "python"
    }
  },
  "cells": [
    {
      "cell_type": "markdown",
      "metadata": {
        "id": "FMDsChf-G8e5"
      },
      "source": [
        "1. A robot has been given a list of movement instructions. Each instruction is\n",
        "either left, right, up or down, followed by a distance to move. The robot starts\n",
        "at [0, 0]. You want to calculate where the robot will end up and return its final\n",
        "position as a list.\n",
        "\n",
        "- To illustrate, if the robot is given the following instructions:\n",
        "[&quot;right 10&quot;, &quot;up 50&quot;, &quot;left 30&quot;, &quot;down 10&quot;]\n",
        "\n",
        "- It will end up 20 left and 40 up from where it started, so we return [-20, 40].\n",
        "\n",
        "Examples\n",
        "\n",
        "track_robot([&quot;right 10&quot;, &quot;up 50&quot;, &quot;left 30&quot;, &quot;down 10&quot;]) ➞ [-20, 40]\n",
        "\n",
        "track_robot([]) ➞ [0, 0] // If there are no instructions, the robot doesn&#39;t move.\n",
        "\n",
        "track_robot([&quot;right 100&quot;, &quot;right 100&quot;, &quot;up 500&quot;, &quot;up 10000&quot;]) ➞ [200, 10500]"
      ]
    },
    {
      "cell_type": "code",
      "metadata": {
        "id": "ZS9rf7pGG29w"
      },
      "source": [
        "def track_robot(instr):\n",
        "  pos = [0, 0]\n",
        "  for i in instr:\n",
        "    inst = i.split(\" \")\n",
        "    if inst[0] == \"right\":\n",
        "      pos[0] += int(inst[1])\n",
        "    elif inst[0] == \"left\":\n",
        "      pos[0] -= int(inst[1])\n",
        "    elif inst[0] == \"up\":\n",
        "      pos[1] += int(inst[1])\n",
        "    elif inst[0] == \"down\":\n",
        "      pos[1] -= int(inst[1])\n",
        "  return pos"
      ],
      "execution_count": 7,
      "outputs": []
    },
    {
      "cell_type": "code",
      "metadata": {
        "colab": {
          "base_uri": "https://localhost:8080/"
        },
        "id": "sItp9rIbH0wq",
        "outputId": "a785f7a1-77e7-46cb-cc22-92a5757f8da0"
      },
      "source": [
        "track_robot([\"right 100\", \"right 100\", \"up 500\", \"up 10000\"]) "
      ],
      "execution_count": 8,
      "outputs": [
        {
          "output_type": "execute_result",
          "data": {
            "text/plain": [
              "[200, 10500]"
            ]
          },
          "metadata": {
            "tags": []
          },
          "execution_count": 8
        }
      ]
    },
    {
      "cell_type": "code",
      "metadata": {
        "colab": {
          "base_uri": "https://localhost:8080/"
        },
        "id": "baCBocOLZQIt",
        "outputId": "a47c6147-6136-47a4-e6e8-144161178cc8"
      },
      "source": [
        "track_robot([])"
      ],
      "execution_count": 9,
      "outputs": [
        {
          "output_type": "execute_result",
          "data": {
            "text/plain": [
              "[0, 0]"
            ]
          },
          "metadata": {
            "tags": []
          },
          "execution_count": 9
        }
      ]
    },
    {
      "cell_type": "markdown",
      "metadata": {
        "id": "orxwSUwpZfnS"
      },
      "source": [
        "2. Write a function that will return the longest word in a sentence. In cases\n",
        "where more than one word is found, return the first one.\n",
        "\n",
        "Examples\n",
        "\n",
        "find_longest(&quot;A thing of beauty is a joy forever.&quot;) ➞ &quot;forever&quot;\n",
        "\n",
        "find_longest(&quot;Forgetfulness is by all means powerless!&quot;) ➞ &quot;forgetfulness&quot;\n",
        "\n",
        "find_longest(\"\\\"Strengths\\\" is the longest and most commonly used word that\n",
        "contains only a single vowel.&quot;) ➞ &quot;strengths&quot;"
      ]
    },
    {
      "cell_type": "code",
      "metadata": {
        "id": "eIJRIdSJZbHf"
      },
      "source": [
        "import re\n",
        "def find_longest(str1):\n",
        "  lst1 = []\n",
        "  lst2 = []\n",
        "  for i in str1.split(\" \"):\n",
        "    i = re.sub('[\\W\\_]','',i)\n",
        "    lst1.append(i)\n",
        "    lst2.append(len(i))\n",
        "  a = lst2.index(max(lst2))\n",
        "  return lst1[a]"
      ],
      "execution_count": 22,
      "outputs": []
    },
    {
      "cell_type": "code",
      "metadata": {
        "colab": {
          "base_uri": "https://localhost:8080/",
          "height": 35
        },
        "id": "vevS4AoiafMx",
        "outputId": "b0c2ce8a-f287-4ee9-f005-6f8145310617"
      },
      "source": [
        "find_longest(\"'Strengths' is the longest and most commonly used word that contains only a single vowel.\")"
      ],
      "execution_count": 23,
      "outputs": [
        {
          "output_type": "execute_result",
          "data": {
            "application/vnd.google.colaboratory.intrinsic+json": {
              "type": "string"
            },
            "text/plain": [
              "'Strengths'"
            ]
          },
          "metadata": {
            "tags": []
          },
          "execution_count": 23
        }
      ]
    },
    {
      "cell_type": "markdown",
      "metadata": {
        "id": "gvMkdR3zeGwr"
      },
      "source": [
        "3. Create a function to check if a candidate is qualified in an imaginary coding\n",
        "interview of an imaginary tech startup.\n",
        "The criteria for a candidate to be qualified in the coding interview is:\n",
        "1. The candidate should have complete all the questions.\n",
        "2. The maximum time given to complete the interview is 120 minutes.\n",
        "3. The maximum time given for very easy questions is 5 minutes each.\n",
        "4. The maximum time given for easy questions is 10 minutes each.\n",
        "5. The maximum time given for medium questions is 15 minutes each.\n",
        "6. The maximum time given for hard questions is 20 minutes each.\n",
        "\n",
        "- If all the above conditions are satisfied, return &quot;qualified&quot;, else return\n",
        "&quot;disqualified&quot;.\n",
        "- You will be given a list of time taken by a candidate to solve a particular\n",
        "question and the total time taken by the candidate to complete the interview.\n",
        "- Given a list , in a true condition will always be in the format [very easy, very\n",
        "easy, easy, easy, medium, medium, hard, hard].\n",
        "The maximum time to complete the interview includes a buffer time of 20\n",
        "minutes.\n",
        "\n",
        "Examples\n",
        "\n",
        "interview([5, 5, 10, 10, 15, 15, 20, 20], 120) ➞ &quot;qualified&quot;\n",
        "\n",
        "interview([2, 3, 8, 6, 5, 12, 10, 18], 64) ➞ &quot;qualified&quot;\n",
        "\n",
        "interview([5, 5, 10, 10, 25, 15, 20, 20], 120) ➞ &quot;disqualified&quot;\n",
        "Exceeded the time limit for a medium question.\n",
        "\n",
        "interview([5, 5, 10, 10, 15, 15, 20], 120) ➞ &quot;disqualified&quot;\n",
        "Did not complete all the questions.\n",
        "\n",
        "interview([5, 5, 10, 10, 15, 15, 20, 20], 130) ➞ &quot;disqualified&quot;"
      ]
    },
    {
      "cell_type": "code",
      "metadata": {
        "id": "zQiOmzHhaf6C"
      },
      "source": [
        "def interview(lst, max_time):\n",
        "  condition = \"disqualified\"\n",
        "  if max_time <= 120:\n",
        "    j = 0\n",
        "    for i in range(0,len(lst),2):\n",
        "      j += 5\n",
        "      if lst[i]<= j and lst[i+1] <= j:\n",
        "        #print(lst[i], j)\n",
        "        condition = \"qualified\"\n",
        "      else:\n",
        "        condition = \"disqualified\"\n",
        "        break\n",
        "\n",
        "  return (condition)"
      ],
      "execution_count": 59,
      "outputs": []
    },
    {
      "cell_type": "code",
      "metadata": {
        "colab": {
          "base_uri": "https://localhost:8080/",
          "height": 35
        },
        "id": "Oer66nI9eeNS",
        "outputId": "b14f6ef5-d8a6-44f5-bff4-902d483c5002"
      },
      "source": [
        "interview([2, 3, 8, 6, 5, 12, 10, 18], 64)"
      ],
      "execution_count": 60,
      "outputs": [
        {
          "output_type": "execute_result",
          "data": {
            "application/vnd.google.colaboratory.intrinsic+json": {
              "type": "string"
            },
            "text/plain": [
              "'qualified'"
            ]
          },
          "metadata": {
            "tags": []
          },
          "execution_count": 60
        }
      ]
    },
    {
      "cell_type": "code",
      "metadata": {
        "colab": {
          "base_uri": "https://localhost:8080/",
          "height": 35
        },
        "id": "c96YXFk5grkS",
        "outputId": "81d0f5ef-6729-414f-9fa1-aa7b174f1606"
      },
      "source": [
        "interview([5, 5, 10, 10, 25, 15, 20, 20], 120) "
      ],
      "execution_count": 61,
      "outputs": [
        {
          "output_type": "execute_result",
          "data": {
            "application/vnd.google.colaboratory.intrinsic+json": {
              "type": "string"
            },
            "text/plain": [
              "'disqualified'"
            ]
          },
          "metadata": {
            "tags": []
          },
          "execution_count": 61
        }
      ]
    },
    {
      "cell_type": "code",
      "metadata": {
        "colab": {
          "base_uri": "https://localhost:8080/",
          "height": 35
        },
        "id": "EeLTigD-q59Q",
        "outputId": "67379196-01db-4ab8-d7d3-b5137da407a3"
      },
      "source": [
        "interview([5, 5, 10, 10, 15, 15, 20, 20], 130) "
      ],
      "execution_count": 62,
      "outputs": [
        {
          "output_type": "execute_result",
          "data": {
            "application/vnd.google.colaboratory.intrinsic+json": {
              "type": "string"
            },
            "text/plain": [
              "'disqualified'"
            ]
          },
          "metadata": {
            "tags": []
          },
          "execution_count": 62
        }
      ]
    },
    {
      "cell_type": "markdown",
      "metadata": {
        "id": "O3a6L3orrFGw"
      },
      "source": [
        "4. Write a function that divides a list into chunks of size n, where n is the\n",
        "length of each chunk.\n",
        "\n",
        "Examples\n",
        "\n",
        "chunkify([2, 3, 4, 5], 2) ➞ [[2, 3], [4, 5]]\n",
        "\n",
        "chunkify([2, 3, 4, 5, 6], 2) ➞ [[2, 3], [4, 5], [6]]\n",
        "\n",
        "chunkify([2, 3, 4, 5, 6, 7], 3) ➞ [[2, 3, 4], [5, 6, 7]]\n",
        "\n",
        "chunkify([2, 3, 4, 5, 6, 7], 1) ➞ [[2], [3], [4], [5], [6], [7]]\n",
        "\n",
        "chunkify([2, 3, 4, 5, 6, 7], 7) ➞ [[2, 3, 4, 5, 6, 7]]"
      ]
    },
    {
      "cell_type": "code",
      "metadata": {
        "id": "ofNPBRvyq8Mp"
      },
      "source": [
        "def chunkify(lst, l):\n",
        "  lst2 = []\n",
        "  for i in range(0, len(lst), l):\n",
        "    lst1 = lst[i:i+l]\n",
        "    lst2.append(lst1)\n",
        "  return lst2"
      ],
      "execution_count": 76,
      "outputs": []
    },
    {
      "cell_type": "code",
      "metadata": {
        "colab": {
          "base_uri": "https://localhost:8080/"
        },
        "id": "YvnZGguGsDLm",
        "outputId": "c7642f7a-7c71-4b4f-902f-fd9fdf827584"
      },
      "source": [
        "chunkify([2, 3, 4, 5, 6, 7], 7)"
      ],
      "execution_count": 77,
      "outputs": [
        {
          "output_type": "execute_result",
          "data": {
            "text/plain": [
              "[[2, 3, 4, 5, 6, 7]]"
            ]
          },
          "metadata": {
            "tags": []
          },
          "execution_count": 77
        }
      ]
    },
    {
      "cell_type": "code",
      "metadata": {
        "colab": {
          "base_uri": "https://localhost:8080/"
        },
        "id": "7impYXkivsai",
        "outputId": "831ed3a2-6b9c-4235-8ce8-48afa6757991"
      },
      "source": [
        "chunkify([2, 3, 4, 5, 6, 7], 1) "
      ],
      "execution_count": 78,
      "outputs": [
        {
          "output_type": "execute_result",
          "data": {
            "text/plain": [
              "[[2], [3], [4], [5], [6], [7]]"
            ]
          },
          "metadata": {
            "tags": []
          },
          "execution_count": 78
        }
      ]
    },
    {
      "cell_type": "code",
      "metadata": {
        "colab": {
          "base_uri": "https://localhost:8080/"
        },
        "id": "aKzOnRi3vyIC",
        "outputId": "f05353ed-7bf5-4490-9722-85b016f6ec74"
      },
      "source": [
        "chunkify([2, 3, 4, 5, 6], 2) "
      ],
      "execution_count": 79,
      "outputs": [
        {
          "output_type": "execute_result",
          "data": {
            "text/plain": [
              "[[2, 3], [4, 5], [6]]"
            ]
          },
          "metadata": {
            "tags": []
          },
          "execution_count": 79
        }
      ]
    },
    {
      "cell_type": "code",
      "metadata": {
        "id": "kvFbn20Yv0Ua"
      },
      "source": [
        ""
      ],
      "execution_count": null,
      "outputs": []
    }
  ]
}