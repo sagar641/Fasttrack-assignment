{
  "nbformat": 4,
  "nbformat_minor": 0,
  "metadata": {
    "colab": {
      "name": "Python Advance Program 4.ipynb",
      "provenance": [],
      "collapsed_sections": []
    },
    "kernelspec": {
      "name": "python3",
      "display_name": "Python 3"
    },
    "language_info": {
      "name": "python"
    }
  },
  "cells": [
    {
      "cell_type": "markdown",
      "metadata": {
        "id": "wDS4OyXSVwQO"
      },
      "source": [
        "The beginning of the sequence is this:\n",
        "0, 1, 1, 2, 3, 5, 8, 13, 21, 34, 55, 89, 144, ...\n",
        "The function fastFib(num) returns the fibonacci number Fn, of the given num\n",
        "as an argument.\n",
        "\n",
        "Examples\n",
        "\n",
        "fib_fast(5) ➞ 5\n",
        "\n",
        "fib_fast(10) ➞ 55\n",
        "\n",
        "fib_fast(20) ➞ 6765"
      ]
    },
    {
      "cell_type": "code",
      "metadata": {
        "id": "UUZqXhCrVmwp"
      },
      "source": [
        "def fast_fib(n):\n",
        "  if n <= 0:\n",
        "    return 0\n",
        "  if n == 1:\n",
        "    return 1\n",
        "  else:\n",
        "    return fast_fib(n-1) + fast_fib(n-2)"
      ],
      "execution_count": null,
      "outputs": []
    },
    {
      "cell_type": "code",
      "metadata": {
        "colab": {
          "base_uri": "https://localhost:8080/"
        },
        "id": "iLe2bKUdWTLH",
        "outputId": "6f7c1ae5-70e9-4e97-df02-3af7381469f7"
      },
      "source": [
        "fast_fib(5)"
      ],
      "execution_count": null,
      "outputs": [
        {
          "output_type": "execute_result",
          "data": {
            "text/plain": [
              "5"
            ]
          },
          "metadata": {
            "tags": []
          },
          "execution_count": 6
        }
      ]
    },
    {
      "cell_type": "code",
      "metadata": {
        "colab": {
          "base_uri": "https://localhost:8080/"
        },
        "id": "mH4lB6tNWdze",
        "outputId": "e527f8ff-2353-454a-8d5c-b74df2bf709e"
      },
      "source": [
        "fast_fib(20)"
      ],
      "execution_count": null,
      "outputs": [
        {
          "output_type": "execute_result",
          "data": {
            "text/plain": [
              "6765"
            ]
          },
          "metadata": {
            "tags": []
          },
          "execution_count": 7
        }
      ]
    },
    {
      "cell_type": "markdown",
      "metadata": {
        "id": "v0TmT2zLcSrZ"
      },
      "source": [
        "2. Create a function that takes a strings characters as ASCII and returns each\n",
        "characters hexadecimal value as a string.\n",
        "\n",
        "convert_to_hex(&quot;hello world&quot;) ➞ &quot;68 65 6c 6c 6f 20 77 6f 72 6c 64&quot;"
      ]
    },
    {
      "cell_type": "code",
      "metadata": {
        "id": "XbyCLd9BfqNc"
      },
      "source": [
        "def convert_to_hex(text):\n",
        "  str1 = ''\n",
        "  for i in text:\n",
        "    a = ord(i)\n",
        "    b = a//16\n",
        "    c=a%16\n",
        "    if c>=10:\n",
        "      str1 += str(b)+d[c]+' '\n",
        "    else:\n",
        "      str1 += str(b)+str(c)+' '\n",
        "  return str1"
      ],
      "execution_count": null,
      "outputs": []
    },
    {
      "cell_type": "code",
      "metadata": {
        "colab": {
          "base_uri": "https://localhost:8080/",
          "height": 35
        },
        "id": "y87Wb7UQhObE",
        "outputId": "539de38d-89ec-4ce9-8f33-9d1dfedd4833"
      },
      "source": [
        "convert_to_hex(\"Marty Poppinson\")"
      ],
      "execution_count": null,
      "outputs": [
        {
          "output_type": "execute_result",
          "data": {
            "application/vnd.google.colaboratory.intrinsic+json": {
              "type": "string"
            },
            "text/plain": [
              "'4D 61 72 74 79 20 50 6F 70 70 69 6E 73 6F 6E '"
            ]
          },
          "metadata": {
            "tags": []
          },
          "execution_count": 30
        }
      ]
    },
    {
      "cell_type": "markdown",
      "metadata": {
        "id": "46Cb-UKmnKhB"
      },
      "source": [
        "Given a censored string and a string of the censored vowels, return the\n",
        "original uncensored string.\n",
        "\n",
        "Example\n",
        "\n",
        "uncensor(&quot;Wh*r* d*d my v*w*ls g*?&quot;, &quot;eeioeo&quot;) ➞ &quot;Where did my vowels go?&quot;\n",
        "\n",
        "uncensor(&quot;abcd&quot;, &quot;&quot;) ➞ &quot;abcd&quot;"
      ]
    },
    {
      "cell_type": "code",
      "metadata": {
        "id": "PVETKUa-k-dT"
      },
      "source": [
        "def uncensor(text1, text2):\n",
        "  text3 = ''\n",
        "  d = {}\n",
        "  for i in range(len(text2)):\n",
        "    d[i+1] = text2[i]\n",
        "  j = 0\n",
        "  for i in range(len(text1)):\n",
        "    if text1[i] == '*':\n",
        "      j += 1\n",
        "      text3 += d[j]\n",
        "    else:\n",
        "      text3 += text1[i]\n",
        "  return text3"
      ],
      "execution_count": null,
      "outputs": []
    },
    {
      "cell_type": "code",
      "metadata": {
        "colab": {
          "base_uri": "https://localhost:8080/",
          "height": 35
        },
        "id": "ySo3adHNoju-",
        "outputId": "922de81a-c5fd-4834-abca-d3bc16cdc151"
      },
      "source": [
        "uncensor(\"*pp*rc*s*\", \"ueae\")"
      ],
      "execution_count": null,
      "outputs": [
        {
          "output_type": "execute_result",
          "data": {
            "application/vnd.google.colaboratory.intrinsic+json": {
              "type": "string"
            },
            "text/plain": [
              "'uppercase'"
            ]
          },
          "metadata": {
            "tags": []
          },
          "execution_count": 64
        }
      ]
    },
    {
      "cell_type": "code",
      "metadata": {
        "id": "elajtC4UtoH_"
      },
      "source": [
        ""
      ],
      "execution_count": null,
      "outputs": []
    }
  ]
}