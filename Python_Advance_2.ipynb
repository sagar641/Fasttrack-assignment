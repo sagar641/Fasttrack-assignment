{
  "nbformat": 4,
  "nbformat_minor": 0,
  "metadata": {
    "colab": {
      "name": "Python Advance 2.ipynb",
      "provenance": [],
      "collapsed_sections": []
    },
    "kernelspec": {
      "name": "python3",
      "display_name": "Python 3"
    },
    "language_info": {
      "name": "python"
    }
  },
  "cells": [
    {
      "cell_type": "markdown",
      "metadata": {
        "id": "QpY5vhm5bvUx"
      },
      "source": [
        "Q1. What is the relationship between classes and modules?"
      ]
    },
    {
      "cell_type": "markdown",
      "metadata": {
        "id": "V6JVS7C0bxYA"
      },
      "source": [
        "Class modules are a special type of module that allow you to create your own customised objects. You can define the methods and properties for them and even write event handlers. These are similar to form modules, except they have no visible user interface.\n",
        "The main difference between classes and modules is that classes can be instantiated as objects while standard modules cannot. In contrast, object data exists separately for each instantiated object. Another difference is that unlike standard modules, classes can implement interfaces."
      ]
    },
    {
      "cell_type": "markdown",
      "metadata": {
        "id": "TyP92ZTtcfQ3"
      },
      "source": [
        "Q2. How do you make instances and classes?"
      ]
    },
    {
      "cell_type": "markdown",
      "metadata": {
        "id": "17Sgr1EKanim"
      },
      "source": [
        "Class is defined using class name and pass in whatever arguments its __init__ method accepts.\n"
      ]
    },
    {
      "cell_type": "code",
      "metadata": {
        "id": "ZaBVSBAXa4xV"
      },
      "source": [
        "class Data_Science:\n",
        "  def __init__(self, a,b,c,d):\n",
        "    pass\n",
        "\n",
        "a = Data_science()\n",
        "#here 'a' is instance of class Data_Science"
      ],
      "execution_count": null,
      "outputs": []
    },
    {
      "cell_type": "markdown",
      "metadata": {
        "id": "-43ZMhjAbESz"
      },
      "source": [
        "Q3. Where and how should be class attributes created?\n",
        "Q4. Where and how are instance attributes created?"
      ]
    },
    {
      "cell_type": "markdown",
      "metadata": {
        "id": "ywNocngKbJhr"
      },
      "source": [
        "Class attributes are created after the class is declared as in the following code. "
      ]
    },
    {
      "cell_type": "code",
      "metadata": {
        "id": "agjdQGkObY5T"
      },
      "source": [
        "class Data_Science:\n",
        "  a = 20\n",
        "  b = 'sfrvw'\n",
        "  def __init__(self, a,b,c,d):\n",
        "    pass\n",
        "\n",
        "a = Data_Science(1,2,3,6)"
      ],
      "execution_count": 3,
      "outputs": []
    },
    {
      "cell_type": "markdown",
      "metadata": {
        "id": "2YuoZMnKcD6x"
      },
      "source": [
        "Q5. What does the term &quot;self&quot; in a Python class mean?"
      ]
    },
    {
      "cell_type": "markdown",
      "metadata": {
        "id": "Y18IANc9cPWB"
      },
      "source": [
        "The self parameter is a reference to the current instance of the class, and is used to access variables that belongs to the class."
      ]
    },
    {
      "cell_type": "code",
      "metadata": {
        "id": "jIZ40dakbkFw"
      },
      "source": [
        "class Data_Science:\n",
        "  def __init__(self, a,b,c):\n",
        "    self.a = a\n",
        "    self.b = b\n",
        "    self.c = c"
      ],
      "execution_count": 4,
      "outputs": []
    },
    {
      "cell_type": "markdown",
      "metadata": {
        "id": "mXYlpUiRcmq7"
      },
      "source": [
        "Q6. How does a Python class handle operator overloading?"
      ]
    },
    {
      "cell_type": "markdown",
      "metadata": {
        "id": "A4WRi6USc01g"
      },
      "source": [
        "Python operators work for built-in classes. But the same operator behaves differently with different types. For example, the + operator will perform arithmetic addition on two numbers, merge two lists, or concatenate two strings."
      ]
    },
    {
      "cell_type": "code",
      "metadata": {
        "colab": {
          "base_uri": "https://localhost:8080/"
        },
        "id": "3WsNNiEdcfW1",
        "outputId": "dcc2e33a-bec4-4a4f-c17a-ecd53c65dddd"
      },
      "source": [
        "a = 5+6\n",
        "b = ['a', 5, (2,3)] + ['Sa', 'Ab']\n",
        "c = 'Sagar' + 'Jadhav'\n",
        "print('a = ',a,'\\nb = ',b,'\\nc = ',c)\n"
      ],
      "execution_count": 8,
      "outputs": [
        {
          "output_type": "stream",
          "text": [
            "a =  11 \n",
            "b =  ['a', 5, (2, 3), 'Sa', 'Ab'] \n",
            "c =  SagarJadhav\n"
          ],
          "name": "stdout"
        }
      ]
    },
    {
      "cell_type": "markdown",
      "metadata": {
        "id": "58MpitXMfUOJ"
      },
      "source": [
        "Q7. When do you consider allowing operator overloading of your classes?"
      ]
    },
    {
      "cell_type": "markdown",
      "metadata": {
        "id": "ZcD_hP92ii9V"
      },
      "source": [
        "It allows to provide an intuitive interface to users of your class, plus makes it possible for templates to work equally well with classes and built-in/intrinsic types. Operator overloading allows python operators to have user-defined meanings on user-defined classes."
      ]
    },
    {
      "cell_type": "markdown",
      "metadata": {
        "id": "MCbXQuxrit63"
      },
      "source": [
        "Q8. What is the most popular form of operator overloading?"
      ]
    },
    {
      "cell_type": "code",
      "metadata": {
        "colab": {
          "base_uri": "https://localhost:8080/"
        },
        "id": "Gw-eSbx4ei9z",
        "outputId": "66f88330-1a21-49e3-9680-4fc05eb234f7"
      },
      "source": [
        "class A:\n",
        "  def __init__(self, a):\n",
        "    self.a = a\n",
        "\n",
        "  def __mul__(self, b):\n",
        "    return self.a*b.a\n",
        "\n",
        "a = A(5)\n",
        "b = A(3)\n",
        "c = A(\"Data \")\n",
        "\n",
        "print(a*b)\n",
        "print(b*c)"
      ],
      "execution_count": 13,
      "outputs": [
        {
          "output_type": "stream",
          "text": [
            "15\n",
            "Data Data Data \n"
          ],
          "name": "stdout"
        }
      ]
    },
    {
      "cell_type": "markdown",
      "metadata": {
        "id": "egxC0W7VtZOQ"
      },
      "source": [
        "Q9. What are the two most important concepts to grasp in order to comprehend Python OOP code?"
      ]
    },
    {
      "cell_type": "markdown",
      "metadata": {
        "id": "Bc0rdOzNtaGO"
      },
      "source": [
        "Two key concepts of OOP which are inheritance and polymorphism. Both inheritance and polymorphism are key ingredients for designing robust, flexible, and easy-to-maintain software."
      ]
    }
  ]
}