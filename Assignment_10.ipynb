{
 "cells": [
  {
   "cell_type": "markdown",
   "metadata": {},
   "source": [
    "# 1. How do you distinguish between shutil.copy() and shutil.copytree()?\n",
    "\n",
    "Ans:\n",
    "    1) shutil.copy() => Allows you to copy single file at a time from one location to another. If the folder in which you want to copy doesn't exist, then it will copy the file as text file(without .txt extension) in the destination folder with the name as the intended folder name.\n",
    "    It also allows you to copy the file to the new location with another name.\n",
    "    2) shutil.copytree() => Allows you to copy a complete directory tree, which includes files and other directories with it, to some other location.\n",
    "    \n",
    "For e.g.\n",
    "    \n",
    "    "
   ]
  },
  {
   "cell_type": "code",
   "execution_count": 1,
   "metadata": {},
   "outputs": [],
   "source": [
    "import shutil\n",
    "import os\n",
    "os.mkdir(\"test1\")\n",
    "os.mkdir(\"test2\")"
   ]
  },
  {
   "cell_type": "code",
   "execution_count": 4,
   "metadata": {},
   "outputs": [],
   "source": [
    "for i in range(1,3):\n",
    "    with open(\"test1\\\\file_no_{}.txt\".format(i), mode=\"w+\") as file:\n",
    "        file.write(f\"This is a test file #{i}\")\n",
    "        file.close()"
   ]
  },
  {
   "cell_type": "code",
   "execution_count": 6,
   "metadata": {},
   "outputs": [
    {
     "data": {
      "text/plain": [
       "['.ipynb_checkpoints', 'file_no_1.txt', 'file_no_2.txt']"
      ]
     },
     "execution_count": 6,
     "metadata": {},
     "output_type": "execute_result"
    }
   ],
   "source": [
    "# Let's list the file names:\n",
    "os.listdir(\"test1\")"
   ]
  },
  {
   "cell_type": "code",
   "execution_count": 7,
   "metadata": {},
   "outputs": [
    {
     "data": {
      "text/plain": [
       "'test2\\\\file_no_1.txt'"
      ]
     },
     "execution_count": 7,
     "metadata": {},
     "output_type": "execute_result"
    }
   ],
   "source": [
    "# Now, let's use shutil.copy() function.\n",
    "shutil.copy(src=\"test1\\\\file_no_1.txt\",dst = \"test2\")"
   ]
  },
  {
   "cell_type": "code",
   "execution_count": 8,
   "metadata": {},
   "outputs": [
    {
     "data": {
      "text/plain": [
       "['file_no_1.txt']"
      ]
     },
     "execution_count": 8,
     "metadata": {},
     "output_type": "execute_result"
    }
   ],
   "source": [
    "os.listdir(\"test2\")"
   ]
  },
  {
   "cell_type": "code",
   "execution_count": 9,
   "metadata": {},
   "outputs": [
    {
     "data": {
      "text/plain": [
       "'test3'"
      ]
     },
     "execution_count": 9,
     "metadata": {},
     "output_type": "execute_result"
    }
   ],
   "source": [
    "shutil.copytree(src=\"test1\", dst=\"test3\")"
   ]
  },
  {
   "cell_type": "code",
   "execution_count": 10,
   "metadata": {},
   "outputs": [
    {
     "data": {
      "text/plain": [
       "['.ipynb_checkpoints', 'file_no_1.txt', 'file_no_2.txt']"
      ]
     },
     "execution_count": 10,
     "metadata": {},
     "output_type": "execute_result"
    }
   ],
   "source": [
    "os.listdir(\"test3\")"
   ]
  },
  {
   "cell_type": "markdown",
   "metadata": {},
   "source": [
    "# 2. What function is used to rename files??\n",
    "Ans: os.rename() method is used to rename files."
   ]
  },
  {
   "cell_type": "code",
   "execution_count": 11,
   "metadata": {},
   "outputs": [
    {
     "data": {
      "text/plain": [
       "['.ipynb_checkpoints', 'file_no_1.txt', 'file_no_2.txt']"
      ]
     },
     "execution_count": 11,
     "metadata": {},
     "output_type": "execute_result"
    }
   ],
   "source": [
    "os.listdir(\"test1\")"
   ]
  },
  {
   "cell_type": "code",
   "execution_count": 13,
   "metadata": {},
   "outputs": [],
   "source": [
    "os.rename(src=\"test1\\\\file_no_1.txt\", dst=\"test1\\\\renamed1.txt\")"
   ]
  },
  {
   "cell_type": "code",
   "execution_count": 14,
   "metadata": {},
   "outputs": [
    {
     "data": {
      "text/plain": [
       "['.ipynb_checkpoints', 'file_no_2.txt', 'renamed1.txt']"
      ]
     },
     "execution_count": 14,
     "metadata": {},
     "output_type": "execute_result"
    }
   ],
   "source": [
    "os.listdir(\"test1\")"
   ]
  },
  {
   "cell_type": "markdown",
   "metadata": {},
   "source": [
    "# 3. What is the difference between the delete functions in the send2trash and shutil modules?\n",
    "\n",
    "ANS ->\n",
    "    1) send2trash => It helps in safe delete because the files it deletes are stored in recycle bin. Thus, if you aaccidently delete some some files, then it can be easily restored from the recycle bin.<br><br>\n",
    "    2) shutil => Files once deleted using shutil are permanently deleted. They can't be restored in any way. Thus, one needs to be very careful while deleting files using shutil.\n",
    "    <br><br><br>\n",
    "    For e.g."
   ]
  },
  {
   "cell_type": "code",
   "execution_count": 15,
   "metadata": {},
   "outputs": [],
   "source": [
    "import  send2trash"
   ]
  },
  {
   "cell_type": "code",
   "execution_count": 16,
   "metadata": {},
   "outputs": [],
   "source": [
    "send2trash.send2trash(\"test3\")"
   ]
  },
  {
   "cell_type": "code",
   "execution_count": 17,
   "metadata": {},
   "outputs": [],
   "source": [
    "shutil.rmtree(\"test2\")"
   ]
  },
  {
   "cell_type": "code",
   "execution_count": 18,
   "metadata": {},
   "outputs": [
    {
     "data": {
      "text/plain": [
       "False"
      ]
     },
     "execution_count": 18,
     "metadata": {},
     "output_type": "execute_result"
    }
   ],
   "source": [
    "\"test3\" in os.listdir(\".\")"
   ]
  },
  {
   "cell_type": "markdown",
   "metadata": {},
   "source": [
    "# 4. ZipFile objects have a close() method just like File objects’ close() method. What ZipFile method is equivalent to File objects’ open() method?\n",
    "\n",
    "Ans: The instance of zipfile.ZipFile class is equivalent to open() method."
   ]
  },
  {
   "cell_type": "code",
   "execution_count": 19,
   "metadata": {},
   "outputs": [],
   "source": [
    "from zipfile import ZipFile"
   ]
  },
  {
   "cell_type": "code",
   "execution_count": 20,
   "metadata": {},
   "outputs": [
    {
     "data": {
      "text/plain": [
       "'C:\\\\Users\\\\TKIETP-Mech\\\\Ineuron\\\\Python Assignments\\\\Assignments_iNeuron-main'"
      ]
     },
     "execution_count": 20,
     "metadata": {},
     "output_type": "execute_result"
    }
   ],
   "source": [
    "pwd()"
   ]
  },
  {
   "cell_type": "code",
   "execution_count": 22,
   "metadata": {},
   "outputs": [],
   "source": [
    "file_name = \"Zip_files.zip\""
   ]
  },
  {
   "cell_type": "markdown",
   "metadata": {},
   "source": [
    "### Reading and extracting from a zip file"
   ]
  },
  {
   "cell_type": "code",
   "execution_count": 25,
   "metadata": {
    "scrolled": true
   },
   "outputs": [
    {
     "name": "stdout",
     "output_type": "stream",
     "text": [
      "File Name                                             Modified             Size\n",
      "Extracting all files...\n",
      "Done!\n"
     ]
    }
   ],
   "source": [
    "with ZipFile(file_name, mode = \"w\") as z:\n",
    "#     Printing all the contents of zip file\n",
    "    z.printdir()\n",
    "    \n",
    "#     extracting all the files\n",
    "    print(\"Extracting all files...\")\n",
    "    z.extractall()\n",
    "    print(\"Done!\")\n",
    "    \n",
    "    z.close()"
   ]
  },
  {
   "cell_type": "markdown",
   "metadata": {},
   "source": [
    "# 5. Create a programme that searches a folder tree for files with a certain file extension (such as .pdf or .jpg). Copy these files from whatever location they are in to a new folder."
   ]
  },
  {
   "cell_type": "code",
   "execution_count": 26,
   "metadata": {},
   "outputs": [],
   "source": [
    "def find_and_copy_files(src, dest, ext):\n",
    "    import os, shutil\n",
    "    \n",
    "    if dest.endswith(f\"({ext})\"):\n",
    "        new_path = dest\n",
    "    else:\n",
    "        new_path = dest+f\"({ext})\"\n",
    "    \n",
    "    try:\n",
    "        if os.path.exists(new_path):\n",
    "            print(f\"Folder named {dest} already exists!\")\n",
    "            replace = input(\"Want to replace? If no, then leave blank: \")\n",
    "            if replace:\n",
    "                shutil.rmtree(new_path)\n",
    "                print(f\"Folder {new_path} removed!\")\n",
    "                create = input(f\"Create {new_path} ? If no, leave blank\")\n",
    "                \n",
    "                if not create:\n",
    "                    return f\"{new_path} deleted!\"\n",
    "                \n",
    "                else:\n",
    "                    print(f\"Creating {new_path} again...\")\n",
    "                    os.mkdir(new_path)\n",
    "                    raise Exception\n",
    "            else:\n",
    "                raise Exception\n",
    "        else:\n",
    "            print(f\"Creating {new_path}\")\n",
    "            os.mkdir(new_path)\n",
    "            raise Exception\n",
    "    except:\n",
    "        print(\"files copied are:\")\n",
    "        for dir_path, dir_names, file_names in os.walk(src):\n",
    "            for file in file_names:\n",
    "                if file.endswith(ext):\n",
    "                    file_path = os.path.join(dir_path, file)\n",
    "                    shutil.copy(src=file_path, dst=new_path)\n",
    "                    print((file,file_path))\n",
    "\n",
    "        print(\"All files copied!\")"
   ]
  },
  {
   "cell_type": "code",
   "execution_count": 27,
   "metadata": {},
   "outputs": [
    {
     "name": "stdout",
     "output_type": "stream",
     "text": [
      "Creating ..\\..\\Copied_files(.txt)\n",
      "files copied are:\n",
      "('file_no_2.txt', '.\\\\test1\\\\file_no_2.txt')\n",
      "('renamed1.txt', '.\\\\test1\\\\renamed1.txt')\n",
      "All files copied!\n"
     ]
    }
   ],
   "source": [
    "find_and_copy_files(\".\",\"..\\\\..\\\\Copied_files(.txt)\",\".txt\")"
   ]
  },
  {
   "cell_type": "code",
   "execution_count": null,
   "metadata": {},
   "outputs": [],
   "source": []
  }
 ],
 "metadata": {
  "kernelspec": {
   "display_name": "Python 3",
   "language": "python",
   "name": "python3"
  },
  "language_info": {
   "codemirror_mode": {
    "name": "ipython",
    "version": 3
   },
   "file_extension": ".py",
   "mimetype": "text/x-python",
   "name": "python",
   "nbconvert_exporter": "python",
   "pygments_lexer": "ipython3",
   "version": "3.8.3"
  }
 },
 "nbformat": 4,
 "nbformat_minor": 4
}
