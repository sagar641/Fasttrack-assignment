{
  "nbformat": 4,
  "nbformat_minor": 0,
  "metadata": {
    "colab": {
      "name": "Python Advance Program 20.ipynb",
      "provenance": [],
      "collapsed_sections": []
    },
    "kernelspec": {
      "name": "python3",
      "display_name": "Python 3"
    },
    "language_info": {
      "name": "python"
    }
  },
  "cells": [
    {
      "cell_type": "markdown",
      "metadata": {
        "id": "OSbkannuwzbA"
      },
      "source": [
        "1. Create a function based on the input and output. Look at the examples,\n",
        "there is a pattern.\n",
        "\n",
        "Examples\n",
        "\n",
        "secret(&quot;p.one.two.three&quot;) ➞ &quot;&lt;p class=&#39;one two three&#39;&gt;&lt;/p&gt;&quot;\n",
        "\n",
        "secret(&quot;p.one&quot;) ➞ &quot;&lt;p class=&#39;one&#39;&gt;&lt;/p&gt;&quot;\n",
        "\n",
        "secret(&quot;p.four.five&quot;) ➞ &quot;&lt;p class=&#39;four five&#39;&gt;&lt;/p&gt;&quot;"
      ]
    },
    {
      "cell_type": "code",
      "metadata": {
        "id": "x5wrXNVHwT68"
      },
      "source": [
        "def secret(txt):\n",
        "  a = txt.split(\".\")\n",
        "  b = a.pop(0)\n",
        "  class1 = \" \".join(map(str, a))\n",
        "  pattern = \"<\" + b + \" class=\" + \"'{}'\".format(class1) + \"></\" + b + \">\"\n",
        "  return pattern "
      ],
      "execution_count": 9,
      "outputs": []
    },
    {
      "cell_type": "code",
      "metadata": {
        "colab": {
          "base_uri": "https://localhost:8080/",
          "height": 35
        },
        "id": "8Twv6Gp-xTTr",
        "outputId": "3afbd503-33a9-4e16-854b-628bc78a4b39"
      },
      "source": [
        "secret(\"p.four.five\")"
      ],
      "execution_count": 10,
      "outputs": [
        {
          "output_type": "execute_result",
          "data": {
            "application/vnd.google.colaboratory.intrinsic+json": {
              "type": "string"
            },
            "text/plain": [
              "\"<p class='four five'></p>\""
            ]
          },
          "metadata": {
            "tags": []
          },
          "execution_count": 10
        }
      ]
    },
    {
      "cell_type": "markdown",
      "metadata": {
        "id": "VLDC7egGznoA"
      },
      "source": [
        "3. Write a method that accepts two integer parameters rows and cols. The\n",
        "output is a 2d array of numbers displayed in column-major order, meaning the\n",
        "numbers shown increase sequentially down each column and wrap to the top\n",
        "of the next column to the right once the bottom of the current column is\n",
        "reached.\n",
        "\n",
        "Examples\n",
        "\n",
        "printGrid(3, 6) ➞ [\n",
        "[1, 4, 7, 10, 13, 16],\n",
        "[2, 5, 8, 11, 14, 17],\n",
        "[3, 6, 9, 12, 15, 18]\n",
        "]\n",
        "\n",
        "printGrid(5, 3) ➞ [\n",
        "[1, 6, 11],\n",
        "[2, 7, 12],\n",
        "[3, 8, 13],\n",
        "[4, 9, 14],\n",
        "[5, 10, 15]\n",
        "]"
      ]
    },
    {
      "cell_type": "code",
      "metadata": {
        "id": "vmXK1p6czZql"
      },
      "source": [
        "def printGrid(a,b):\n",
        "  lst1 = []\n",
        "  for i in range(b):\n",
        "    for j in range(a):\n",
        "      if i == 0:\n",
        "        lst1.append([(i+1)*(j+1)])\n",
        "      else:\n",
        "        lst1[j].append((i+1)*(j+1))\n",
        "  return lst1"
      ],
      "execution_count": 30,
      "outputs": []
    },
    {
      "cell_type": "code",
      "metadata": {
        "colab": {
          "base_uri": "https://localhost:8080/"
        },
        "id": "M4sMsENY1rRW",
        "outputId": "80fb7b34-45d1-4bb1-b318-3142b4fc2e57"
      },
      "source": [
        "printGrid(5, 3)"
      ],
      "execution_count": 31,
      "outputs": [
        {
          "output_type": "execute_result",
          "data": {
            "text/plain": [
              "[[1, 2, 3], [2, 4, 6], [3, 6, 9], [4, 8, 12], [5, 10, 15]]"
            ]
          },
          "metadata": {
            "tags": []
          },
          "execution_count": 31
        }
      ]
    },
    {
      "cell_type": "code",
      "metadata": {
        "colab": {
          "base_uri": "https://localhost:8080/"
        },
        "id": "z1vzR4U48pwv",
        "outputId": "4de179a1-ba2a-49f6-b461-ee4fed47bd1a"
      },
      "source": [
        "printGrid(3, 6)"
      ],
      "execution_count": 32,
      "outputs": [
        {
          "output_type": "execute_result",
          "data": {
            "text/plain": [
              "[[1, 2, 3, 4, 5, 6], [2, 4, 6, 8, 10, 12], [3, 6, 9, 12, 15, 18]]"
            ]
          },
          "metadata": {
            "tags": []
          },
          "execution_count": 32
        }
      ]
    },
    {
      "cell_type": "code",
      "metadata": {
        "id": "whKZyOc78sCn"
      },
      "source": [
        "import numpy as np\n",
        "def printgrid(a,b):\n",
        "  lst1 = [i for i in range(1, a*b+1)]\n",
        "  arr = np.array(lst1)\n",
        "  arr = np.reshape(arr, (b,a))\n",
        "  return arr.T"
      ],
      "execution_count": 40,
      "outputs": []
    },
    {
      "cell_type": "code",
      "metadata": {
        "colab": {
          "base_uri": "https://localhost:8080/"
        },
        "id": "kIVqh6ZP9-mu",
        "outputId": "855233cd-8d7e-4b1b-dc16-598661a1b53a"
      },
      "source": [
        "printgrid(3,6)"
      ],
      "execution_count": 41,
      "outputs": [
        {
          "output_type": "execute_result",
          "data": {
            "text/plain": [
              "array([[ 1,  4,  7, 10, 13, 16],\n",
              "       [ 2,  5,  8, 11, 14, 17],\n",
              "       [ 3,  6,  9, 12, 15, 18]])"
            ]
          },
          "metadata": {
            "tags": []
          },
          "execution_count": 41
        }
      ]
    },
    {
      "cell_type": "code",
      "metadata": {
        "colab": {
          "base_uri": "https://localhost:8080/"
        },
        "id": "cpfRF_wf_DYg",
        "outputId": "9489cde5-ff51-438d-9a96-49483ae3b6c8"
      },
      "source": [
        "printgrid(5,3)"
      ],
      "execution_count": 42,
      "outputs": [
        {
          "output_type": "execute_result",
          "data": {
            "text/plain": [
              "array([[ 1,  6, 11],\n",
              "       [ 2,  7, 12],\n",
              "       [ 3,  8, 13],\n",
              "       [ 4,  9, 14],\n",
              "       [ 5, 10, 15]])"
            ]
          },
          "metadata": {
            "tags": []
          },
          "execution_count": 42
        }
      ]
    },
    {
      "cell_type": "code",
      "metadata": {
        "colab": {
          "base_uri": "https://localhost:8080/"
        },
        "id": "IxuGOgNJ_Hk0",
        "outputId": "03bbe6bc-4ec6-4b7e-dae9-7c6eddb1cbb6"
      },
      "source": [
        "printgrid(4,1)"
      ],
      "execution_count": 43,
      "outputs": [
        {
          "output_type": "execute_result",
          "data": {
            "text/plain": [
              "array([[1],\n",
              "       [2],\n",
              "       [3],\n",
              "       [4]])"
            ]
          },
          "metadata": {
            "tags": []
          },
          "execution_count": 43
        }
      ]
    },
    {
      "cell_type": "code",
      "metadata": {
        "colab": {
          "base_uri": "https://localhost:8080/"
        },
        "id": "i6LhiCUW_Orw",
        "outputId": "aa0fecb6-83e1-46b7-eb7a-f1985343e2ea"
      },
      "source": [
        "lst1 = [[1,2],[3,[1,3]]]\n",
        "arr = np.array(lst1)\n",
        "arr"
      ],
      "execution_count": 46,
      "outputs": [
        {
          "output_type": "stream",
          "text": [
            "/usr/local/lib/python3.7/dist-packages/ipykernel_launcher.py:2: VisibleDeprecationWarning: Creating an ndarray from ragged nested sequences (which is a list-or-tuple of lists-or-tuples-or ndarrays with different lengths or shapes) is deprecated. If you meant to do this, you must specify 'dtype=object' when creating the ndarray\n",
            "  \n"
          ],
          "name": "stderr"
        },
        {
          "output_type": "execute_result",
          "data": {
            "text/plain": [
              "array([[1, 2],\n",
              "       [3, list([1, 3])]], dtype=object)"
            ]
          },
          "metadata": {
            "tags": []
          },
          "execution_count": 46
        }
      ]
    },
    {
      "cell_type": "markdown",
      "metadata": {
        "id": "Nav2uiNGCofN"
      },
      "source": [
        "5. Google is launching a network of autonomous pizza delivery drones and\n",
        "wants you to create a flexible rewards system (Pizza Points™) that can be\n",
        "tweaked in the future. The rules are simple: if a customer has made at least N\n",
        "orders of at least Y price, they get a FREE pizza!\n",
        "Create a function that takes a dictionary of customers, a minimum number of\n",
        "orders and a minimum order price. Return a list of customers that are eligible\n",
        "for a free pizza.\n",
        "\n",
        "Examples\n",
        "\n",
        "customers = {\n",
        "&quot;Batman&quot;: [22, 30, 11, 17, 15, 52, 27, 12],\n",
        "&quot;Spider-Man&quot;: [5, 17, 30, 33, 40, 22, 26, 10, 11, 45]\n",
        "}\n",
        "\n",
        "pizza_points(customers, 5, 20) ➞ [&quot;Spider-Man&quot;]\n",
        "\n",
        "pizza_points(customers, 3, 10) ➞ [&quot;Batman&quot;, &quot;Spider-Man&quot;]\n",
        "\n",
        "pizza_points(customers, 5, 100) ➞ []"
      ]
    },
    {
      "cell_type": "code",
      "metadata": {
        "id": "jkagNcwiAXgU"
      },
      "source": [
        "customers = { \"Batman\": [22, 30, 11, 17, 15, 52, 27, 12], \n",
        "             \"Spider-Man\": [5, 17, 30, 33, 40, 22, 26, 10, 11, 45], \n",
        "             \"Hit-Man\": [35, 27, 30, 53, 10, 22, 6, 57, 101, 95] \n",
        "             }"
      ],
      "execution_count": 48,
      "outputs": []
    },
    {
      "cell_type": "code",
      "metadata": {
        "id": "l7Mi7WvkDApT"
      },
      "source": [
        "def pizza_points(dict1, orders, prize):\n",
        "  lst1 = []\n",
        "  count = 0\n",
        "  for i in dict1.items():\n",
        "    for j in i[1]:\n",
        "      if j >= prize:\n",
        "        count += 1\n",
        "    if count >= orders:\n",
        "      lst1.append(i[0])\n",
        "  return lst1"
      ],
      "execution_count": 59,
      "outputs": []
    },
    {
      "cell_type": "code",
      "metadata": {
        "colab": {
          "base_uri": "https://localhost:8080/"
        },
        "id": "lMLSe91GDft6",
        "outputId": "0b30076b-d9b1-40f3-f0a6-2f73fce738f1"
      },
      "source": [
        "pizza_points(customers, 3, 10)"
      ],
      "execution_count": 60,
      "outputs": [
        {
          "output_type": "execute_result",
          "data": {
            "text/plain": [
              "['Batman', 'Spider-Man', 'Hit-Man']"
            ]
          },
          "metadata": {
            "tags": []
          },
          "execution_count": 60
        }
      ]
    },
    {
      "cell_type": "code",
      "metadata": {
        "colab": {
          "base_uri": "https://localhost:8080/"
        },
        "id": "7wPXgf9mEXIX",
        "outputId": "601928c3-6aca-4608-a9a6-0c222f1b1080"
      },
      "source": [
        "pizza_points(customers, 2, 90)"
      ],
      "execution_count": 62,
      "outputs": [
        {
          "output_type": "execute_result",
          "data": {
            "text/plain": [
              "['Hit-Man']"
            ]
          },
          "metadata": {
            "tags": []
          },
          "execution_count": 62
        }
      ]
    },
    {
      "cell_type": "code",
      "metadata": {
        "id": "d5vG0Bu1Fa8r"
      },
      "source": [
        ""
      ],
      "execution_count": null,
      "outputs": []
    }
  ]
}