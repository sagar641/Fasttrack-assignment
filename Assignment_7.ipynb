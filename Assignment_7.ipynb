{
 "cells": [
  {
   "cell_type": "markdown",
   "metadata": {},
   "source": [
    "# 1. What is the name of the feature responsible for generating Regex objects?\n",
    "### Ans: re.compile()"
   ]
  },
  {
   "cell_type": "code",
   "execution_count": 1,
   "metadata": {},
   "outputs": [],
   "source": [
    "import re"
   ]
  },
  {
   "cell_type": "code",
   "execution_count": 2,
   "metadata": {},
   "outputs": [
    {
     "data": {
      "text/plain": [
       "re.compile(r'', re.UNICODE)"
      ]
     },
     "execution_count": 2,
     "metadata": {},
     "output_type": "execute_result"
    }
   ],
   "source": [
    "regx1 = re.compile(\"\") \n",
    "(regx1) # This is the Regex object"
   ]
  },
  {
   "cell_type": "markdown",
   "metadata": {},
   "source": [
    "# 2. Why do raw strings often appear in Regex objects?\n",
    "### Ans: Raw  Strings are used so that backslashes (\\\\) used in the string don't get escaped."
   ]
  },
  {
   "cell_type": "code",
   "execution_count": 4,
   "metadata": {},
   "outputs": [
    {
     "name": "stdout",
     "output_type": "stream",
     "text": [
      "Without using raw string, \\\\ is not interpreted properly.\n",
      "The result with raw string: ['Sagar\\\\']\n"
     ]
    }
   ],
   "source": [
    "str1 = \"Sagar\\\\Jadhav\"\n",
    "try:\n",
    "    matching = re.findall(\".*\\\\\", str1)\n",
    "except:\n",
    "    print(\"Without using raw string, \\\\\\\\ is not interpreted properly.\")\n",
    "    print(\"The result with raw string:\", re.findall(r'.*\\\\', str1))"
   ]
  },
  {
   "cell_type": "markdown",
   "metadata": {},
   "source": [
    "# 3. What is the return value of the search() method?\n",
    "\n",
    "### Ans: The search() method returns the match object"
   ]
  },
  {
   "cell_type": "code",
   "execution_count": 5,
   "metadata": {},
   "outputs": [
    {
     "data": {
      "text/plain": [
       "re.Match"
      ]
     },
     "execution_count": 5,
     "metadata": {},
     "output_type": "execute_result"
    }
   ],
   "source": [
    "str1 = \"Sagar Jadhav!\"\n",
    "\n",
    "matching = (re.search(r\".* \", str1))\n",
    "type(matching)"
   ]
  },
  {
   "cell_type": "markdown",
   "metadata": {},
   "source": [
    "# 4. From a Match item, how do you get the actual strings that match the pattern?\n",
    "\n",
    "### Ans: By using group() method of the match object"
   ]
  },
  {
   "cell_type": "code",
   "execution_count": 6,
   "metadata": {},
   "outputs": [
    {
     "data": {
      "text/plain": [
       "<re.Match object; span=(0, 6), match='Sagar '>"
      ]
     },
     "execution_count": 6,
     "metadata": {},
     "output_type": "execute_result"
    }
   ],
   "source": [
    "match1 = re.match(r\".* \", str1)\n",
    "match1 # Match object"
   ]
  },
  {
   "cell_type": "code",
   "execution_count": 8,
   "metadata": {},
   "outputs": [
    {
     "data": {
      "text/plain": [
       "'Sagar '"
      ]
     },
     "execution_count": 8,
     "metadata": {},
     "output_type": "execute_result"
    }
   ],
   "source": [
    "match1.group()"
   ]
  },
  {
   "cell_type": "markdown",
   "metadata": {},
   "source": [
    "# 5. In the regex which created from the r&#39;(\\d\\d\\d)-(\\d\\d\\d-\\d\\d\\d\\d)&#39;, what does group zero cover? Group 2? Group 1?\n",
    "\n",
    "Ans:\n",
    "    group(0) => returns the entire group\n",
    "    group(1) => returns the 1st matched group, which is covered in 1st set of parenthesis\n",
    "    group(2) => returns the 2nd matched group, which is covered in the second set of paranthesis\n"
   ]
  },
  {
   "cell_type": "code",
   "execution_count": 16,
   "metadata": {},
   "outputs": [],
   "source": [
    "str2 = \"Sagar 5645-123-6498\"\n",
    "p = r\"(\\d\\d\\d\\d)-(\\d\\d\\d-\\d\\d\\d\\d)\"\n",
    "m = re.search(p,str2)"
   ]
  },
  {
   "cell_type": "code",
   "execution_count": 17,
   "metadata": {
    "scrolled": true
   },
   "outputs": [
    {
     "name": "stdout",
     "output_type": "stream",
     "text": [
      "group(0): 5645-123-6498\n",
      "group(1): 5645\n",
      "group(2): 123-6498\n"
     ]
    }
   ],
   "source": [
    "# group(0)\n",
    "print(\"group(0):\",m.group(0))\n",
    "\n",
    "# group(1)\n",
    "print(\"group(1):\",m.group(1))\n",
    "\n",
    "# group(2)\n",
    "print(\"group(2):\",m.group(2))"
   ]
  },
  {
   "cell_type": "markdown",
   "metadata": {},
   "source": [
    "# 6. In standard expression syntax, parentheses and intervals have distinct meanings. How can you tell a regex that you want it to fit real parentheses and periods?\n",
    "Ans:METHOD 1:\n",
    "    We can use \\ before them. For e.g.\n",
    "    * Before period: \\.\n",
    "    * Before paranthesis: \\) and \\(\n",
    "METHOD 2: We can enclose these characters in sets or []. For e.g.<br><br>\n",
    "    * For opening paranthesis: [(]\n",
    "    * For closing paranthesis: [)]\n",
    "    * For period: [.]\n",
    "See the below coding examples:"
   ]
  },
  {
   "cell_type": "code",
   "execution_count": 18,
   "metadata": {},
   "outputs": [
    {
     "data": {
      "text/plain": [
       "['(Excellent).']"
      ]
     },
     "execution_count": 18,
     "metadata": {},
     "output_type": "execute_result"
    }
   ],
   "source": [
    "# METHOD 1\n",
    "\n",
    "# For e.g. Suppose we want to extract (Excellent). from the given string.\n",
    "str3 = \"He is good(Excellent).\"\n",
    "p = r\"\\(.*\\)\\.\"\n",
    "\n",
    "re.findall(p, str3)"
   ]
  },
  {
   "cell_type": "code",
   "execution_count": 20,
   "metadata": {},
   "outputs": [
    {
     "data": {
      "text/plain": [
       "['(Excellent).']"
      ]
     },
     "execution_count": 20,
     "metadata": {},
     "output_type": "execute_result"
    }
   ],
   "source": [
    "# METHOD 2\n",
    "\n",
    "# For e.g. Suppose we want to extract (Excellent). from the given string.\n",
    "str3 = \"He is good(Excellent).\"\n",
    "p = r\"[(].*[).]\"\n",
    "\n",
    "re.findall(p, str3)"
   ]
  },
  {
   "cell_type": "markdown",
   "metadata": {},
   "source": [
    "# 7. The findall() method returns a string list or a list of string tuples. What causes it to return one of the two options?\n",
    "\n",
    "    string list => findall() method will return a list of strings when the regex expression doesn't contain any group(within paranthesis()). For e.g. r\"\\d\\d\\d-\\d\\d\\d\\d-\\d\\d\\d\\d\\d\"\n",
    "    string tuples => findall() method will return a list of string tuples if the regex expression contains groups, enclosed in (). For e.g. r\"(\\d\\d\\d)-(\\d\\d\\d\\d)-(\\d\\d\\d\\d\\d)\""
   ]
  },
  {
   "cell_type": "code",
   "execution_count": 21,
   "metadata": {},
   "outputs": [
    {
     "name": "stdout",
     "output_type": "stream",
     "text": [
      "\\d\\d\\d-\\d\\d\\d\\d-\\d\\d\\d\\d\\d: ['123-4567-89635', '536-8954-75214']\n",
      "(\\d\\d\\d)-(\\d\\d\\d\\d)-(\\d\\d\\d\\d\\d): [('123', '4567', '89635'), ('536', '8954', '75214')]\n",
      "(\\d\\d\\d-\\d\\d\\d\\d)-(\\d\\d\\d\\d\\d): [('123-4567', '89635'), ('536-8954', '75214')]\n"
     ]
    }
   ],
   "source": [
    "str4 = \"123-4567-89635 and 536-8954-75214\"\n",
    "p1 = r\"\\d\\d\\d-\\d\\d\\d\\d-\\d\\d\\d\\d\\d\"\n",
    "p2 = r\"(\\d\\d\\d)-(\\d\\d\\d\\d)-(\\d\\d\\d\\d\\d)\"\n",
    "p3 = r\"(\\d\\d\\d-\\d\\d\\d\\d)-(\\d\\d\\d\\d\\d)\" \n",
    "\n",
    "print(f\"{p1}:\", re.findall(p1, str4))\n",
    "print(f\"{p2}:\", re.findall(p2, str4))\n",
    "print(f\"{p3}:\", re.findall(p3, str4))"
   ]
  },
  {
   "cell_type": "markdown",
   "metadata": {},
   "source": [
    "# 8. In standard expressions, what does the | character mean?\n",
    "\n",
    "### Ans: It mean \"either|or\", and it is used when we want the regex to match anyone of the 2 groups/expressions written on both sides of |"
   ]
  },
  {
   "cell_type": "code",
   "execution_count": 22,
   "metadata": {},
   "outputs": [
    {
     "data": {
      "text/plain": [
       "['aaaa', 'bbbb', 'cccc']"
      ]
     },
     "execution_count": 22,
     "metadata": {},
     "output_type": "execute_result"
    }
   ],
   "source": [
    "str5 = \"aaaa bbbb cccc\"\n",
    "p = r\"aaaa|bbbb|cccc\"\n",
    "re.findall(p, str5)"
   ]
  },
  {
   "cell_type": "markdown",
   "metadata": {},
   "source": [
    "# 9. In regular expressions, what does the character ? stand for?\n",
    "\n",
    "Ans: ? character  means to either:\n",
    "    1) Match 0 or 1 group written just before ? in the regex expression<br><br>\n",
    "    2) Signify nongreedy matching. In nongreedy matching, the regex engine matches as few characters as possible, just enough to match pattern in the given string, i.e. the shortest possible match from a given position in the string.<br><br>\n",
    "    Different non-greedy quantifiers are:\n",
    "    ??, *?, {m,n}?, +?\n",
    "    For e.g.    "
   ]
  },
  {
   "cell_type": "code",
   "execution_count": 24,
   "metadata": {},
   "outputs": [
    {
     "data": {
      "text/plain": [
       "['x', 'x', 'x', 'x', 'x', '']"
      ]
     },
     "execution_count": 24,
     "metadata": {},
     "output_type": "execute_result"
    }
   ],
   "source": [
    "# Match 0 or 1 group\n",
    "\n",
    "str6 = \"xxxxx\"\n",
    "p = r\"x?\"\n",
    "\n",
    "re.findall(p, str6)"
   ]
  },
  {
   "cell_type": "code",
   "execution_count": 49,
   "metadata": {},
   "outputs": [
    {
     "name": "stdout",
     "output_type": "stream",
     "text": [
      "Greedy match: ['xxxx', '']\n",
      "NonGreedy match ['', 'x', '', 'x', '', 'x', '', 'x', '']\n"
     ]
    }
   ],
   "source": [
    "# Greedy match\n",
    "s = \"xxxx\"\n",
    "pattern = r\"x*\"\n",
    "print(\"Greedy match:\",re.findall(pattern, s))\n",
    "\n",
    "\n",
    "# Non-Greedy match\n",
    "\n",
    "s = \"xxxx\"\n",
    "pattern = r\"x*?\"\n",
    "print(\"NonGreedy match\",re.findall(pattern, s))"
   ]
  },
  {
   "cell_type": "code",
   "execution_count": 53,
   "metadata": {},
   "outputs": [
    {
     "name": "stdout",
     "output_type": "stream",
     "text": [
      "Greedy match: ['a', 'a', 'a', 'a', 'a', '']\n",
      "NonGreedy match: ['', 'a', '', 'a', '', 'a', '', 'a', '']\n"
     ]
    }
   ],
   "source": [
    "print(\"Greedy match:\",re.findall('a?', 'aaaaa'))\n",
    "\n",
    "print(\"NonGreedy match:\",re.findall('a??', 'aaaa'))"
   ]
  },
  {
   "cell_type": "markdown",
   "metadata": {},
   "source": [
    "# 10. In regular expressions, what is the difference between the + and * characters?\n",
    "\n",
    " +  => + is a metacharacter which means to match 1 or more occurences of the preceeding groups. <br><br>\n",
    "    *  => * is a metacharacter which matches 0 or more occurences of the preceeding groups. For 0 occurence at any position, an empty string ' ' is returned, otherwise the matched string is returned<br><br>\n",
    "\n",
    "For e.g."
   ]
  },
  {
   "cell_type": "code",
   "execution_count": 25,
   "metadata": {},
   "outputs": [
    {
     "name": "stdout",
     "output_type": "stream",
     "text": [
      "r\"a*\" => ['a', '', '', '', 'aa', '']\n",
      "r\"a+\" => ['a', 'aa']\n"
     ]
    }
   ],
   "source": [
    "str7 = \"abbbaa\"\n",
    "p1 = r\"a*\"\n",
    "p2 = r\"a+\"\n",
    "\n",
    "print('r\"a*\" =>',re.findall(p1, str7))\n",
    "print('r\"a+\" =>',re.findall(p2, str7))"
   ]
  },
  {
   "cell_type": "markdown",
   "metadata": {},
   "source": [
    "# 11. What is the difference between {4} and {4,5} in regular expression?\n",
    "\n",
    "Ans: {4} ==> It means search for the matches with exactly 4 continuous occurences of the preceeding group<br><br>\n",
    "    {4,5} ==> It means search for the matches with the continuous occurings between 4 and 5, including 5, of the preceeding group\n",
    "    For e.g."
   ]
  },
  {
   "cell_type": "code",
   "execution_count": 26,
   "metadata": {},
   "outputs": [
    {
     "name": "stdout",
     "output_type": "stream",
     "text": [
      "a{4}: ['aaaa', 'aaaa']\n",
      "a{4,5}: ['aaaa', 'aaaaa']\n"
     ]
    }
   ],
   "source": [
    "str8 = \"aaaa bbb aaaaa\"\n",
    "p1 = r\"a{4}\"\n",
    "p2 = r\"a{4,5}\"\n",
    "\n",
    "print(f\"{p1}:\", re.findall(p1, str8))\n",
    "print(f\"{p2}:\", re.findall(p2, str8))"
   ]
  },
  {
   "cell_type": "markdown",
   "metadata": {},
   "source": [
    "# 12. What do you mean by the \\d, \\w, and \\s shorthand character classes signify in regular expressions?\n",
    "Ans:\n",
    "    \\d => This shorthand character is used to match any digit(0-9) in the string. It is same as writing [0-9].\n",
    "    \\w => It is same as writing [a-zA-Z0-9]. It is used to matchh for any character between a-z or A-Z or any digit between 0-9.    \\s => This shorthand character is used to match for any white space \"  \".\n",
    "    For e.g."
   ]
  },
  {
   "cell_type": "code",
   "execution_count": 27,
   "metadata": {},
   "outputs": [
    {
     "name": "stdout",
     "output_type": "stream",
     "text": [
      "\\d = ['7', '5', '6', '3', '2', '4']\n",
      "\\w = ['G', 'r', 'e', 'a', 't', 'I', 'n', 'd', 'i', 'a', '7', '5', '6', '3', '2', '4']\n",
      "\\s = [' ']\n"
     ]
    }
   ],
   "source": [
    "str9 = \"@GreatIndia 756324\"\n",
    "\n",
    "p1 = r\"\\d\"\n",
    "p2 = r\"\\w\"\n",
    "p3 = r\"\\s\"\n",
    "\n",
    "print(f\"{p1} = {re.findall(p1, str9)}\")\n",
    "print(f\"{p2} = {re.findall(p2, str9)}\")\n",
    "print(f\"{p3} = {re.findall(p3, str9)}\")\n"
   ]
  },
  {
   "cell_type": "markdown",
   "metadata": {},
   "source": [
    "# 13. What do means by \\D, \\W, and \\S shorthand character classes signify in regular expressions?\n",
    "\n",
    "Ans:\n",
    "    \\D => Used to match for any character\\s which are not digit.\n",
    "    \\W => Used to match for any characters or set of characters other than \\w or [a-zA-Z0-9]. It is same as writing [^a-zA-Z0-9].\n",
    "    \\S => Used to match any character\\s other than white space \"  \"\n",
    "    For e.g.\n",
    "\n",
    " "
   ]
  },
  {
   "cell_type": "code",
   "execution_count": 28,
   "metadata": {},
   "outputs": [
    {
     "name": "stdout",
     "output_type": "stream",
     "text": [
      "\\D = ['@', 'G', 'r', 'e', 'a', 't', 'I', 'n', 'd', 'i', 'a', ' ']\n",
      "\\W = ['@', ' ']\n",
      "\\S = ['@', 'G', 'r', 'e', 'a', 't', 'I', 'n', 'd', 'i', 'a', '7', '5', '6', '3', '2', '4']\n"
     ]
    }
   ],
   "source": [
    "str9 = \"@GreatIndia 756324\"\n",
    "\n",
    "p1 = r\"\\D\"\n",
    "p2 = r\"\\W\"\n",
    "p3 = r\"\\S\"\n",
    "\n",
    "print(f\"{p1} = {re.findall(p1, str9)}\")\n",
    "print(f\"{p2} = {re.findall(p2, str9)}\")\n",
    "print(f\"{p3} = {re.findall(p3, str9)}\")\n"
   ]
  },
  {
   "cell_type": "markdown",
   "metadata": {},
   "source": [
    "# 14. What is the difference between .\\*? and .\\*?\n",
    "\n",
    "    Ans:\n",
    "    .* = This special sequence is used for the greedy search. It will match 0 or as many characters in the string as possible. By default it will return the complete string (due to greedy search), and one empty string.\n",
    "    .*? = This special sequence is used for non-greedy search, and will try to match as few characters as possible. It will match 0 or atmost 1 character(due to non-greedy search), and will return empty strings alternative to single character strings.\n",
    "    For e.g.\n",
    "    \n",
    "    "
   ]
  },
  {
   "cell_type": "code",
   "execution_count": 29,
   "metadata": {},
   "outputs": [
    {
     "name": "stdout",
     "output_type": "stream",
     "text": [
      ".* : ['abcde', '']\n",
      ".*? : ['', 'a', '', 'b', '', 'c', '', 'd', '', 'e', '']\n"
     ]
    }
   ],
   "source": [
    "import re\n",
    "\n",
    "str10 = \"abcde\"\n",
    "\n",
    "p1 = r\".*\"\n",
    "p2 = r\".*?\"\n",
    "\n",
    "print(p1,\":\",re.findall(p1, str10))\n",
    "print(p2,\":\",re.findall(p2, str10))"
   ]
  },
  {
   "cell_type": "markdown",
   "metadata": {},
   "source": [
    "# 15. What is the syntax for matching both numbers and lowercase letters with a character class?\n",
    "\n",
    "### Ans: use r\"[a-z0-9]\"  or r\"[0-9a-z]\""
   ]
  },
  {
   "cell_type": "code",
   "execution_count": 30,
   "metadata": {},
   "outputs": [
    {
     "name": "stdout",
     "output_type": "stream",
     "text": [
      "[a-z0-9] : ['e', 'l', 'l', 'o', '1', '2', '3', '4', '5']\n",
      "[0-9a-z] : ['e', 'l', 'l', 'o', '1', '2', '3', '4', '5']\n"
     ]
    }
   ],
   "source": [
    "str11 = \"Hello@12345\"\n",
    "p1 = r\"[a-z0-9]\"\n",
    "p2 = r\"[0-9a-z]\"\n",
    "\n",
    "print(p1,\":\",re.findall(p1, str11))\n",
    "print(p2,\":\",re.findall(p2, str11))"
   ]
  },
  {
   "cell_type": "markdown",
   "metadata": {},
   "source": [
    "# 16. What is the procedure for making a normal expression in regax case insensitive?\n",
    "\n",
    "### Ans: We can use re.IGNORECASE or re.I as the 3rd arguement in the findall() method or search() method, or we can pass re.IGNORECASE or re.I as the 2nd arguement in compile() method to make the normal regex expression case-insensitive.\n",
    "### For e.g."
   ]
  },
  {
   "cell_type": "code",
   "execution_count": 31,
   "metadata": {},
   "outputs": [
    {
     "name": "stdout",
     "output_type": "stream",
     "text": [
      "['hELlO']\n",
      "['hELlO']\n"
     ]
    }
   ],
   "source": [
    "str12 = \"hELlO wORlD\"\n",
    "p = \"hello\"\n",
    "\n",
    "print(re.findall(p, str12, re.IGNORECASE))\n",
    "print(re.findall(p, str12, re.I))"
   ]
  },
  {
   "cell_type": "code",
   "execution_count": 32,
   "metadata": {},
   "outputs": [
    {
     "name": "stdout",
     "output_type": "stream",
     "text": [
      "<re.Match object; span=(0, 5), match='hELlO'>\n",
      "<re.Match object; span=(0, 5), match='hELlO'>\n"
     ]
    }
   ],
   "source": [
    "print(re.search(p, str12, re.IGNORECASE))\n",
    "\n",
    "print(re.search(p, str12, re.I))"
   ]
  },
  {
   "cell_type": "markdown",
   "metadata": {},
   "source": [
    "# 17. What does the . character normally match? What does it match if re.DOTALL is passed as 2nd argument in re.compile()?\n",
    "    Ans: . character normally matches any type of character except the new line character in the string.\n",
    "    On passing re.DOTALL as the 2nd arguement of re.compile(), the dot will also match the new line character\n",
    "    \n",
    "For e.g."
   ]
  },
  {
   "cell_type": "code",
   "execution_count": 35,
   "metadata": {},
   "outputs": [
    {
     "name": "stdout",
     "output_type": "stream",
     "text": [
      "with re.DOTALL: ['H', 'e', 'l', 'l', 'o', '\\n']\n",
      "without re.DOTALL: ['H', 'e', 'l', 'l', 'o']\n"
     ]
    }
   ],
   "source": [
    "s = \"\"\"Hello\n",
    "\"\"\"\n",
    "pattern = \".\"\n",
    "\n",
    "print(\"with re.DOTALL:\",re.findall(pattern, s, re.DOTALL))\n",
    "print(\"without re.DOTALL:\",re.findall(pattern, s))"
   ]
  },
  {
   "cell_type": "markdown",
   "metadata": {},
   "source": [
    "# 18. If numReg = re.compile(r&#39;\\d+&#39;), what will numRegex.sub(&#39;X&#39;, &#39;11 drummers, 10 pipers, five rings, 4 hen&#39;) return?\n",
    "### Ans: It will replace all the digits with X, and  return:\n",
    "'X drummers, X pipers, five rings, X hen'\n"
   ]
  },
  {
   "cell_type": "code",
   "execution_count": 35,
   "metadata": {},
   "outputs": [],
   "source": [
    "numRegx = re.compile(r\"\\d+\")"
   ]
  },
  {
   "cell_type": "code",
   "execution_count": 36,
   "metadata": {},
   "outputs": [
    {
     "data": {
      "text/plain": [
       "'X drummers, X pipers, five rings, X hen'"
      ]
     },
     "execution_count": 36,
     "metadata": {},
     "output_type": "execute_result"
    }
   ],
   "source": [
    "numRegx.sub(\"X\",\"11 drummers, 10 pipers, five rings, 4 hen\")"
   ]
  },
  {
   "cell_type": "markdown",
   "metadata": {},
   "source": [
    "# 19. What does passing re.VERBOSE as the 2nd argument to re.compile() allow to do?\n",
    "\n",
    "<h3> Ans: With re.VERBOSE arguement, you can write the regural expressions with nicer and more readable formatting.<br><br>\n",
    "You can visually separate different sections of the regex pattern<br><br>\n",
    "It also allows you to add comments (written after # character) to the regular expressions and the white spaces within the pattern is ignored, except some in some special cases like:<br><br>\n",
    "    1) when in a character class, or<br><br>\n",
    "    2) When white space is preceded by an unescaped backslash(/ ), or with the tokens like *?, (?: or (?P\n",
    "\n",
    "</h3>\n",
    "\n",
    "\n",
    "### For e.g."
   ]
  },
  {
   "cell_type": "code",
   "execution_count": 139,
   "metadata": {},
   "outputs": [],
   "source": [
    "# Let's write a program to check for correct date of birth pattern.\n",
    "# dob = mm-dd-yyyy\n",
    "\n",
    "def check_dob(dob):\n",
    "    # We can see the comments written in the regular expression and also white spaces are ignored\n",
    "    regex_dob = re.compile(\"\"\"     # ~~~Below are the comments~~~\n",
    "                    ^(\\d\\d)-       # Month: Should be between 1-12\n",
    "                    (\\d\\d)-        # Date: Should be between 1-30\n",
    "                    (\\d\\d\\d\\d)$    # Year of birth  \"\"\", re.VERBOSE)\n",
    "\n",
    "    if regex_dob.search(dob):\n",
    "        return f\"The date entered {dob} is in correct format\"\n",
    "    else:\n",
    "        return f\"The dat entered {dob} is in incorrect format\""
   ]
  },
  {
   "cell_type": "code",
   "execution_count": 140,
   "metadata": {},
   "outputs": [
    {
     "data": {
      "text/plain": [
       "'The date entered 14-12-1996 is in correct format'"
      ]
     },
     "execution_count": 140,
     "metadata": {},
     "output_type": "execute_result"
    }
   ],
   "source": [
    "check_dob(\"14-12-1996\")"
   ]
  },
  {
   "cell_type": "code",
   "execution_count": 141,
   "metadata": {},
   "outputs": [
    {
     "data": {
      "text/plain": [
       "'The dat entered 14-dec-1996 is in incorrect format'"
      ]
     },
     "execution_count": 141,
     "metadata": {},
     "output_type": "execute_result"
    }
   ],
   "source": [
    "check_dob(\"14-dec-1996\")"
   ]
  },
  {
   "cell_type": "markdown",
   "metadata": {},
   "source": [
    "# Que20. How would you write a regex that match a number with comma for every three digits? It must match the given following:\n",
    "<h1>\n",
    "&#39;42&#39;\n",
    "&#39;1,234&#39;\n",
    "&#39;6,368,745&#39;</h1>\n",
    "\n",
    "# but not the following:\n",
    "<h1>\n",
    "&#39;12,34,567&#39; (which has only two digits between the commas)\n",
    "&#39;1234&#39; (which lacks commas)</h1>\n",
    "<pre>\n",
    "<h2> \n",
    "Ans: r\"^\\d(,\\d{3})*$|^\\d{2}$\"</h2>"
   ]
  },
  {
   "cell_type": "code",
   "execution_count": 228,
   "metadata": {},
   "outputs": [],
   "source": [
    "# dd,dd,ddd => wrong\n",
    "# dd,ddd,ddd,ddd => correct\n",
    "\n",
    "def match_digits(digit):\n",
    "    pattern = r\"^\\d(,\\d{3})*$|^\\d{2}$\"\n",
    "    match = re.search(pattern, digit)\n",
    "    \n",
    "    if match:\n",
    "        print(f\"{digit}   =>    correct!\")\n",
    "    else:\n",
    "        print(f\"{digit}   =>   incorrect!\")\n"
   ]
  },
  {
   "cell_type": "code",
   "execution_count": 229,
   "metadata": {
    "scrolled": true
   },
   "outputs": [
    {
     "name": "stdout",
     "output_type": "stream",
     "text": [
      "42   =>    correct!\n",
      "1,234   =>    correct!\n",
      "6,368,745   =>    correct!\n",
      "12,34,567   =>   incorrect!\n",
      "1234   =>   incorrect!\n",
      "12,123,456   =>   incorrect!\n"
     ]
    }
   ],
   "source": [
    "digits = [\"42\",\"1,234\", \"6,368,745\", \"12,34,567\",\"1234\",\"12,123,456\"]\n",
    "\n",
    "for digit in digits:\n",
    "    match_digits(digit)"
   ]
  },
  {
   "cell_type": "markdown",
   "metadata": {},
   "source": [
    "<pre>\n",
    "<h2>\n",
    "Que21. How would you write a regex that matches the \n",
    "full name of someone whose last name is Watanabe? \n",
    "You can assume that the first name that comes before it will \n",
    "always be one word that begins with a capital letter. \n",
    "The regex must match the following:\n",
    "\n",
    "&#39;Haruto Watanabe&#39;\n",
    "&#39;Alice Watanabe&#39;\n",
    "&#39;RoboCop Watanabe&#39;\n",
    "but not the following:\n",
    "&#39;haruto Watanabe&#39; (where the first name is not capitalized)\n",
    "&#39;Mr. Watanabe&#39; (where the preceding word has a nonletter character)\n",
    "&#39;Watanabe&#39; (which has no first name)\n",
    "&#39;Haruto watanabe&#39; (where Watanabe is not capitalized)\n",
    "</h2>\n",
    "</pre>"
   ]
  },
  {
   "cell_type": "code",
   "execution_count": 252,
   "metadata": {},
   "outputs": [],
   "source": [
    "def match_name(name):   \n",
    "    pattern = r\"^[A-Z][\\w^\\d]*\\s(Watanabe)$\"\n",
    "    match = re.search(pattern, name)\n",
    "\n",
    "    if match:\n",
    "        print(f\"{name}  =>  Correct!\")\n",
    "    else:\n",
    "        print(f\"{name}  =>  Incorrect!\")"
   ]
  },
  {
   "cell_type": "code",
   "execution_count": 253,
   "metadata": {},
   "outputs": [],
   "source": [
    "names = [\n",
    "    'Haruto Watanabe',\n",
    "    'Alice Watanabe',\n",
    "    'RoboCop Watanabe',\n",
    "    'haruto Watanabe',\n",
    "    'Mr. Watanabe',\n",
    "    'Watanabe',\n",
    "    'Haruto watanabe' ]"
   ]
  },
  {
   "cell_type": "code",
   "execution_count": 254,
   "metadata": {},
   "outputs": [
    {
     "name": "stdout",
     "output_type": "stream",
     "text": [
      "Haruto Watanabe  =>  Correct!\n",
      "Alice Watanabe  =>  Correct!\n",
      "RoboCop Watanabe  =>  Correct!\n",
      "haruto Watanabe  =>  Incorrect!\n",
      "Mr. Watanabe  =>  Incorrect!\n",
      "Watanabe  =>  Incorrect!\n",
      "Haruto watanabe  =>  Incorrect!\n"
     ]
    }
   ],
   "source": [
    "for name in names:\n",
    "    match_name(name)"
   ]
  },
  {
   "cell_type": "markdown",
   "metadata": {},
   "source": [
    "<pre>\n",
    "<h2>\n",
    "Que22.\n",
    "How would you write a regex that matches a sentence where the first word is either Alice, Bob, or Carol; \n",
    "the second word is either eats, pets, or throws; \n",
    "the third word is apples, cats, or baseballs; \n",
    "and the sentence ends with a period? \n",
    "This regex should be case-insensitive. It must match the\n",
    "following:\n",
    "\n",
    "&#39;Alice eats apples.&#39;\n",
    "&#39;Bob pets cats.&#39;\n",
    "&#39;Carol throws baseballs.&#39;\n",
    "&#39;Alice throws Apples.&#39;\n",
    "&#39;BOB EATS CATS.&#39;\n",
    "but not the following:\n",
    "&#39;RoboCop eats apples.&#39;\n",
    "&#39;ALICE THROWS FOOTBALLS.&#39;\n",
    "&#39;Carol eats 7 cats.&#39;\n",
    "</h2>\n",
    "</pre>"
   ]
  },
  {
   "cell_type": "code",
   "execution_count": 278,
   "metadata": {},
   "outputs": [],
   "source": [
    "words = ['Alice eats apples.',\n",
    "'Bob pets cats.',\n",
    "'Carol throws baseballs.',\n",
    "'Alice throws Apples.',\n",
    "'BOB EATS CATS.',\n",
    "'RoboCop eats apples.',\n",
    "'ALICE THROWS FOOTBALLS.',\n",
    "'Carol eats 7 cats.']"
   ]
  },
  {
   "cell_type": "code",
   "execution_count": 284,
   "metadata": {},
   "outputs": [],
   "source": [
    " def match_words(word):\n",
    "    pattern = r\"^(Alice|Bob|Carol)\\s(eats|pets|throws)\\s(apples|cats|baseballs)[.]$\"\n",
    "    match = re.search(pattern, word, re.IGNORECASE)\n",
    "    \n",
    "    if match:\n",
    "        print(f\"{word}  =>  Correct!\")\n",
    "    else:\n",
    "        print(f\"{word}  =>  Incorrect!\")"
   ]
  },
  {
   "cell_type": "code",
   "execution_count": 285,
   "metadata": {},
   "outputs": [
    {
     "name": "stdout",
     "output_type": "stream",
     "text": [
      "Alice eats apples.  =>  Correct!\n",
      "Bob pets cats.  =>  Correct!\n",
      "Carol throws baseballs.  =>  Correct!\n",
      "Alice throws Apples.  =>  Correct!\n",
      "BOB EATS CATS.  =>  Correct!\n",
      "RoboCop eats apples.  =>  Incorrect!\n",
      "ALICE THROWS FOOTBALLS.  =>  Incorrect!\n",
      "Carol eats 7 cats.  =>  Incorrect!\n"
     ]
    }
   ],
   "source": [
    "for word in words:\n",
    "    match_words(word)"
   ]
  }
 ],
 "metadata": {
  "kernelspec": {
   "display_name": "Python 3",
   "language": "python",
   "name": "python3"
  },
  "language_info": {
   "codemirror_mode": {
    "name": "ipython",
    "version": 3
   },
   "file_extension": ".py",
   "mimetype": "text/x-python",
   "name": "python",
   "nbconvert_exporter": "python",
   "pygments_lexer": "ipython3",
   "version": "3.8.3"
  }
 },
 "nbformat": 4,
 "nbformat_minor": 4
}
