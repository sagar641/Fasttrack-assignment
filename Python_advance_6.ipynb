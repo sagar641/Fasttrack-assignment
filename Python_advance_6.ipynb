{
  "nbformat": 4,
  "nbformat_minor": 0,
  "metadata": {
    "colab": {
      "name": "Python advance 6.ipynb",
      "provenance": [],
      "collapsed_sections": []
    },
    "kernelspec": {
      "name": "python3",
      "display_name": "Python 3"
    },
    "language_info": {
      "name": "python"
    }
  },
  "cells": [
    {
      "cell_type": "markdown",
      "metadata": {
        "id": "qFTsAfBwc7h3"
      },
      "source": [
        "Q1. Describe three applications for exception processing."
      ]
    },
    {
      "cell_type": "markdown",
      "metadata": {
        "id": "CdocznHoc9XE"
      },
      "source": [
        "=> An exception is an event, which occurs during the execution of a program that disrupts the normal flow of the program's instructions. \n",
        "\n",
        "Exception handling ensures that the flow of the program doesn't break when an exception occurs. For example, if a program has bunch of statements and an exception occurs mid way after executing certain statements then the statements after the exception will not execute and the program will terminate abruptly.\n",
        "There are three types of exception—the checked exception, the error and the runtime exception.\n",
        "\n",
        "Applications for exception processing are \n",
        "1)Try\n",
        "2)Except\n",
        "\n",
        "The try block lets you test a block of code for errors. The except block lets you handle the error. The finally block lets you execute code, regardless of the result of the try- and except blocks.\n"
      ]
    },
    {
      "cell_type": "markdown",
      "metadata": {
        "id": "-hqqcVL0e1k_"
      },
      "source": [
        "Q2. What happens if you don&#39;t do something extra to treat an exception?"
      ]
    },
    {
      "cell_type": "markdown",
      "metadata": {
        "id": "oTKDhK2bfVM_"
      },
      "source": [
        "=> Exception leads to creating error during runtime which stops the program from run. Error handling becomes difficult. "
      ]
    },
    {
      "cell_type": "markdown",
      "metadata": {
        "id": "n64oCqV2j8wN"
      },
      "source": [
        "Q3. What are your options for recovering from an exception in your script?\n"
      ]
    },
    {
      "cell_type": "markdown",
      "metadata": {
        "id": "RBgiQjKYkCJc"
      },
      "source": [
        "1. check for any compile errors and eliminate\n",
        "2. check for run time errors if exception exists use ipdb\n",
        "3. use try, except and finally block to get the exceptions and also run the program smoothly..\n",
        "\n"
      ]
    },
    {
      "cell_type": "markdown",
      "metadata": {
        "id": "F83ENNVSw9pO"
      },
      "source": [
        "Q4. Describe two methods for triggering exceptions in your script."
      ]
    },
    {
      "cell_type": "markdown",
      "metadata": {
        "id": "qv8iNz6W5lA0"
      },
      "source": [
        "=> 1) Checked: are the exceptions that are checked at compile time. If some code within a method throws a checked exception, then the method must either handle the exception or it must specify the exception using throws keyword. \n",
        "\n",
        "2) Unchecked are the exceptions that are not checked at compiled time."
      ]
    },
    {
      "cell_type": "markdown",
      "metadata": {
        "id": "4900DwwC6KPK"
      },
      "source": [
        "Q5. Identify two methods for specifying actions to be executed at termination time, regardless of\n",
        "whether or not an exception exists."
      ]
    },
    {
      "cell_type": "markdown",
      "metadata": {
        "id": "GuWsJfqv62sa"
      },
      "source": [
        "1.Else \n",
        "\n",
        "If there is no exception in the program else will be executed\n",
        "\n",
        "Finally\n",
        "\n",
        "It defines a block of code to run when the try... except...else block is final. The finally block will be executed no matter if the try block raises an error or not. This can be useful to close objects and clean up resources."
      ]
    }
  ]
}