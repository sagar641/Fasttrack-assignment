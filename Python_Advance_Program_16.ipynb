{
  "nbformat": 4,
  "nbformat_minor": 0,
  "metadata": {
    "colab": {
      "name": "Python Advance Program 16.ipynb",
      "provenance": [],
      "collapsed_sections": []
    },
    "kernelspec": {
      "name": "python3",
      "display_name": "Python 3"
    },
    "language_info": {
      "name": "python"
    }
  },
  "cells": [
    {
      "cell_type": "markdown",
      "metadata": {
        "id": "U6tx424u1Xnr"
      },
      "source": [
        "1. Rondo Form is a type of musical structure, in which there is a recurring\n",
        "theme/refrain, notated as A. Here are the rules for valid rondo forms:\n",
        "- Rondo forms always start and end with an A section.\n",
        "- In between the A sections, there should be contrasting sections notated as\n",
        "B, then C, then D, etc... No letter should be skipped.\n",
        "- There shouldn&#39;t be any repeats in the sequence (such as ABBACCA).\n",
        "Create a function which validates whether a given string is a valid Rondo\n",
        "Form.\n",
        "\n",
        "Examples\n",
        "\n",
        "valid_rondo(&quot;ABACADAEAFAGAHAIAJA&quot;) ➞ True\n",
        "\n",
        "valid_rondo(&quot;ABA&quot;) ➞ True\n",
        "\n",
        "valid_rondo(&quot;ABBACCA&quot;) ➞ False\n",
        "\n",
        "valid_rondo(&quot;ACAC&quot;) ➞ False\n",
        "\n",
        "valid_rondo(&quot;A&quot;) ➞ False"
      ]
    },
    {
      "cell_type": "code",
      "metadata": {
        "id": "bq5yRQtYb2pq"
      },
      "source": [
        "def valid_rondo(str1):\n",
        "  str1 = list(str1)\n",
        "  condition = False\n",
        "  p = 0\n",
        "  dict1 = {\"A\":1, \"B\":2, \"C\":3, \"D\":4, \"E\":5, \"F\":6, \"G\":7, \"H\":8, \"I\":9, \"J\":10}\n",
        "  if str1[0] == \"A\" and str1[-1] == \"A\":\n",
        "    for i in range(len(str1)):\n",
        "      if str1[i] == \"A\":\n",
        "        if i%2 == 0:\n",
        "          condition = True\n",
        "        else:\n",
        "          condition = False\n",
        "          break\n",
        "      elif str1[i] != \"A\":\n",
        "        if str1[i] in dict1:\n",
        "          if dict1[str1[i]] >= p:\n",
        "            condition=True\n",
        "            p = dict1[str1[i]]\n",
        "          else:\n",
        "            condition = False\n",
        "            break\n",
        "  return condition"
      ],
      "execution_count": 44,
      "outputs": []
    },
    {
      "cell_type": "code",
      "metadata": {
        "colab": {
          "base_uri": "https://localhost:8080/"
        },
        "id": "d46CWE8T2Vuw",
        "outputId": "7f43e382-d6a3-4c1b-8a12-af200a253393"
      },
      "source": [
        "valid_rondo(\"ABACADAAA\")"
      ],
      "execution_count": 46,
      "outputs": [
        {
          "output_type": "execute_result",
          "data": {
            "text/plain": [
              "False"
            ]
          },
          "metadata": {
            "tags": []
          },
          "execution_count": 46
        }
      ]
    },
    {
      "cell_type": "markdown",
      "metadata": {
        "id": "jnVf-GTHGl-W"
      },
      "source": [
        "2. Create a function that returns the whole of the first sentence which\n",
        "contains a specific word. Include the full stop at the end of the sentence.\n",
        "\n",
        "Examples\n",
        "\n",
        "txt = &quot;I have a cat. I have a mat. Things are going swell.&quot;\n",
        "\n",
        "sentence_searcher(txt, &quot;have&quot;) ➞ &quot;I have a cat.&quot;\n",
        "\n",
        "sentence_searcher(txt, &quot;MAT&quot;) ➞ &quot;I have a mat.&quot;\n",
        "\n",
        "sentence_searcher(txt, &quot;things&quot;) ➞ &quot;Things are going swell.&quot;\n",
        "\n",
        "sentence_searcher(txt, &quot;flat&quot;) ➞ &quot;&quot;"
      ]
    },
    {
      "cell_type": "code",
      "metadata": {
        "id": "KS2Pqlzx8nBX"
      },
      "source": [
        "def sentence_searcher(txt, sp_word):\n",
        "  output = \"\"\n",
        "  txt1 = txt.split('.')\n",
        "  txt1\n",
        "  for i in txt1:\n",
        "    if i.lower().find(sp_word.lower()) >= 0:\n",
        "      output = output + i + '.'\n",
        "      break\n",
        "  return output"
      ],
      "execution_count": 63,
      "outputs": []
    },
    {
      "cell_type": "code",
      "metadata": {
        "colab": {
          "base_uri": "https://localhost:8080/",
          "height": 35
        },
        "id": "3mOE2hqCG7Hd",
        "outputId": "afd597a6-f677-4572-d08d-cb29a900417d"
      },
      "source": [
        "txt = \"I have a cat. I have a mat. Things are going swell.\"\n",
        "sentence_searcher(txt, \"have\")"
      ],
      "execution_count": 64,
      "outputs": [
        {
          "output_type": "execute_result",
          "data": {
            "application/vnd.google.colaboratory.intrinsic+json": {
              "type": "string"
            },
            "text/plain": [
              "'I have a cat.'"
            ]
          },
          "metadata": {
            "tags": []
          },
          "execution_count": 64
        }
      ]
    },
    {
      "cell_type": "code",
      "metadata": {
        "colab": {
          "base_uri": "https://localhost:8080/",
          "height": 35
        },
        "id": "Qzuq_4UKI-Oe",
        "outputId": "eaa62407-57f1-4eb8-b312-fe812051f9d9"
      },
      "source": [
        "sentence_searcher(txt, \"flat\")"
      ],
      "execution_count": 65,
      "outputs": [
        {
          "output_type": "execute_result",
          "data": {
            "application/vnd.google.colaboratory.intrinsic+json": {
              "type": "string"
            },
            "text/plain": [
              "''"
            ]
          },
          "metadata": {
            "tags": []
          },
          "execution_count": 65
        }
      ]
    },
    {
      "cell_type": "markdown",
      "metadata": {
        "id": "m18oTxaRJXMF"
      },
      "source": [
        "3. Given a number, find the &quot;round &quot;of each digit of the number. An integer is\n",
        "called &quot;round&quot; if all its digits except the leftmost (most significant) are equal to\n",
        "zero.\n",
        "\n",
        "- Round numbers: 4000, 1, 9, 800, 90\n",
        "- Not round numbers: 110, 707, 222, 1001\n",
        "\n",
        "Create a function that takes a number and returns the &quot;round&quot; of each digit\n",
        "(except if the digit is zero) as a string. Check out the following examples for\n",
        "more clarification.\n",
        "\n",
        "Examples\n",
        "\n",
        "sum_round(101) ➞ &quot;1 100&quot;\n",
        "\n",
        "sum_round(1234) ➞ &quot;4 30 200 1000&quot;\n",
        "\n",
        "sum_round(54210) ➞ &quot;10 200 4000 50000&quot;"
      ]
    },
    {
      "cell_type": "code",
      "metadata": {
        "id": "BbUXdZcQJAge"
      },
      "source": [
        "def sum_round(n):\n",
        "  str1 = str(n)\n",
        "  a = len(str1)\n",
        "  str2 = ''\n",
        "  l = []\n",
        "  for i in range(a):\n",
        "    if int(str1[i]) != 0:\n",
        "      z = int(str1[i])*10**(a-i-1)\n",
        "      l.append(z)\n",
        "  l.reverse()\n",
        "  str2 = ', '.join(map(str, l))\n",
        "  return str2"
      ],
      "execution_count": 83,
      "outputs": []
    },
    {
      "cell_type": "code",
      "metadata": {
        "colab": {
          "base_uri": "https://localhost:8080/",
          "height": 35
        },
        "id": "1gntCkgTL1R_",
        "outputId": "8fb885e2-334e-483d-f1af-913c8743b564"
      },
      "source": [
        "sum_round(54201)"
      ],
      "execution_count": 85,
      "outputs": [
        {
          "output_type": "execute_result",
          "data": {
            "application/vnd.google.colaboratory.intrinsic+json": {
              "type": "string"
            },
            "text/plain": [
              "'1, 200, 4000, 50000'"
            ]
          },
          "metadata": {
            "tags": []
          },
          "execution_count": 85
        }
      ]
    },
    {
      "cell_type": "markdown",
      "metadata": {
        "id": "pZVKT3DlQZfk"
      },
      "source": [
        "4. Your task, is to create N x N multiplication table, of size n provided in\n",
        "parameter.\n",
        "For example, when n is 5, the multiplication table is:\n",
        "- 1, 2, 3, 4, 5\n",
        "- 2, 4, 6, 8, 10\n",
        "- 3, 6, 9, 12, 15\n",
        "- 4, 8, 12, 16, 20\n",
        "- 5, 10, 15, 20, 25\n",
        "\n",
        "This example will result in:\n",
        "\n",
        "[[1, 2, 3, 4, 5], [2, 4, 6, 8, 10], [3, 6, 9, 12, 15], [4, 8, 12, 16, 20], [5, 10, 15, 20,\n",
        "25]]\n",
        "\n",
        "Examples\n",
        "\n",
        "multiplication_table(1) ➞ [[1]]\n",
        "\n",
        "multiplication_table(3) ➞ [[1, 2, 3], [2, 4, 6], [3, 6, 9]]"
      ]
    },
    {
      "cell_type": "code",
      "metadata": {
        "id": "ArSOiNnoPy9h"
      },
      "source": [
        "def multiplication_table(n):\n",
        "  m = []\n",
        "  for i in range(n):\n",
        "    l = []\n",
        "    for j in range(n):\n",
        "      l.append((j+1)*(i+1))\n",
        "    m.append(l)\n",
        "  return m"
      ],
      "execution_count": 90,
      "outputs": []
    },
    {
      "cell_type": "code",
      "metadata": {
        "colab": {
          "base_uri": "https://localhost:8080/"
        },
        "id": "fuO-BIV6SUx0",
        "outputId": "2b79d695-7ffc-42f5-c13a-7718eb37f037"
      },
      "source": [
        "multiplication_table(5)"
      ],
      "execution_count": 91,
      "outputs": [
        {
          "output_type": "execute_result",
          "data": {
            "text/plain": [
              "[[1, 2, 3, 4, 5],\n",
              " [2, 4, 6, 8, 10],\n",
              " [3, 6, 9, 12, 15],\n",
              " [4, 8, 12, 16, 20],\n",
              " [5, 10, 15, 20, 25]]"
            ]
          },
          "metadata": {
            "tags": []
          },
          "execution_count": 91
        }
      ]
    },
    {
      "cell_type": "code",
      "metadata": {
        "colab": {
          "base_uri": "https://localhost:8080/"
        },
        "id": "4dGG709wSqYp",
        "outputId": "a3e3e32c-926e-4933-ce76-0c13bbaf7f11"
      },
      "source": [
        "  n = 5\n",
        "  m = []\n",
        "  for i in range(n):\n",
        "    l = []\n",
        "    for j in range(i):\n",
        "      l.append((j+1)*(i+1))\n",
        "    m.append(l)\n",
        "  m"
      ],
      "execution_count": 95,
      "outputs": [
        {
          "output_type": "execute_result",
          "data": {
            "text/plain": [
              "[[], [2], [3, 6], [4, 8, 12], [5, 10, 15, 20]]"
            ]
          },
          "metadata": {
            "tags": []
          },
          "execution_count": 95
        }
      ]
    },
    {
      "cell_type": "code",
      "metadata": {
        "id": "WrJ1nvogS8zZ"
      },
      "source": [
        ""
      ],
      "execution_count": null,
      "outputs": []
    }
  ]
}