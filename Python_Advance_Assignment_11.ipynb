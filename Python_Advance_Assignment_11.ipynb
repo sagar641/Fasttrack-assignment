{
  "nbformat": 4,
  "nbformat_minor": 0,
  "metadata": {
    "colab": {
      "name": "Python Advance Assignment 11",
      "provenance": [],
      "collapsed_sections": []
    },
    "kernelspec": {
      "name": "python3",
      "display_name": "Python 3"
    },
    "language_info": {
      "name": "python"
    }
  },
  "cells": [
    {
      "cell_type": "markdown",
      "metadata": {
        "id": "4Wy0InK-7mba"
      },
      "source": [
        "1. Create a function that takes a list and returns a new list containing only\n",
        "prime numbers."
      ]
    },
    {
      "cell_type": "code",
      "metadata": {
        "id": "s02A-hxN-Coh"
      },
      "source": [
        "def filter_primes(lst):\n",
        "  primes = []\n",
        "  for i in lst:\n",
        "    for j in range(2,i):\n",
        "      if i%j == 0:\n",
        "        prime = False\n",
        "        break\n",
        "      else:\n",
        "        prime = True\n",
        "    if prime == True:\n",
        "      primes.append(i)\n",
        "  return primes\n"
      ],
      "execution_count": null,
      "outputs": []
    },
    {
      "cell_type": "code",
      "metadata": {
        "colab": {
          "base_uri": "https://localhost:8080/"
        },
        "id": "Y0bwr02b9z4J",
        "outputId": "dd2d3b93-9f1e-4f3d-a6f0-e752ea7b219d"
      },
      "source": [
        "filter_primes([7, 9, 3, 9, 10, 11, 27])"
      ],
      "execution_count": null,
      "outputs": [
        {
          "output_type": "execute_result",
          "data": {
            "text/plain": [
              "[7, 3, 11]"
            ]
          },
          "metadata": {
            "tags": []
          },
          "execution_count": 11
        }
      ]
    },
    {
      "cell_type": "code",
      "metadata": {
        "colab": {
          "base_uri": "https://localhost:8080/"
        },
        "id": "BT5EyaO8DMGX",
        "outputId": "214c079c-76e4-459e-9896-c9e9c3e00813"
      },
      "source": [
        "filter_primes([10007, 1009, 1007, 27, 147, 77, 1001, 70])"
      ],
      "execution_count": null,
      "outputs": [
        {
          "output_type": "execute_result",
          "data": {
            "text/plain": [
              "[10007, 1009]"
            ]
          },
          "metadata": {
            "tags": []
          },
          "execution_count": 12
        }
      ]
    },
    {
      "cell_type": "code",
      "metadata": {
        "colab": {
          "base_uri": "https://localhost:8080/"
        },
        "id": "1bS07kz2DRQ3",
        "outputId": "f6616b3d-1739-4fa6-ee19-2f31afb959eb"
      },
      "source": [
        "filter_primes([1009, 10, 10, 10, 3, 33, 9, 4, 1, 61, 63, 69, 1087, 1091, 1093, 1097])"
      ],
      "execution_count": null,
      "outputs": [
        {
          "output_type": "execute_result",
          "data": {
            "text/plain": [
              "[1009, 3, 61, 1087, 1091, 1093, 1097]"
            ]
          },
          "metadata": {
            "tags": []
          },
          "execution_count": 13
        }
      ]
    },
    {
      "cell_type": "markdown",
      "metadata": {
        "id": "lB_Vsg5yDaFj"
      },
      "source": [
        "2. Once a water balloon pops, is soaks the area around it. The ground gets\n",
        "drier the further away you travel from the balloon. The effect of a water balloon popping can be modeled using a list. Create a\n",
        "function that takes a list which takes the pre-pop state and returns the state\n",
        "after the balloon is popped. The pre-pop state will contain at most a single\n",
        "balloon, whose size is represented by the only non-zero element."
      ]
    },
    {
      "cell_type": "code",
      "metadata": {
        "id": "KaZUU7vsDX0H"
      },
      "source": [
        "lst1 = [0, 0, 0, 0, 4, 0, 0, 0, 0]"
      ],
      "execution_count": 8,
      "outputs": []
    },
    {
      "cell_type": "code",
      "metadata": {
        "id": "YgXLBIXlEgoP"
      },
      "source": [
        "def pop(lst1):\n",
        "  for i in lst1:\n",
        "    if i != 0:\n",
        "      k = lst1.index(i)\n",
        "  for j in range(len(lst1)):\n",
        "    lst1[j] = k - abs(lst1[k] - j) \n",
        "  return lst1"
      ],
      "execution_count": 11,
      "outputs": []
    },
    {
      "cell_type": "code",
      "metadata": {
        "id": "nj6uHn1eGHmv",
        "colab": {
          "base_uri": "https://localhost:8080/"
        },
        "outputId": "211f64e4-78d9-48f4-dec4-4943ced08d93"
      },
      "source": [
        "pop([0, 0, 2, 0, 0])"
      ],
      "execution_count": 12,
      "outputs": [
        {
          "output_type": "execute_result",
          "data": {
            "text/plain": [
              "[0, 1, 2, 1, 0]"
            ]
          },
          "metadata": {
            "tags": []
          },
          "execution_count": 12
        }
      ]
    },
    {
      "cell_type": "code",
      "metadata": {
        "id": "JyQZb782uzu7"
      },
      "source": [
        "def pop1(lst1):\n",
        "  l = len(lst1)\n",
        "  k = (l//2) \n",
        "  for i in range(l):\n",
        "    lst1[i] = k - abs(lst1[k] - i) \n",
        "  return lst1"
      ],
      "execution_count": 19,
      "outputs": []
    },
    {
      "cell_type": "code",
      "metadata": {
        "colab": {
          "base_uri": "https://localhost:8080/"
        },
        "id": "yVZFiCTCvgw_",
        "outputId": "9dfc5865-5180-4b3a-e6b2-ddfd5b454694"
      },
      "source": [
        "pop1([0, 0, 2, 0, 0])"
      ],
      "execution_count": 20,
      "outputs": [
        {
          "output_type": "execute_result",
          "data": {
            "text/plain": [
              "[0, 1, 2, 1, 0]"
            ]
          },
          "metadata": {
            "tags": []
          },
          "execution_count": 20
        }
      ]
    },
    {
      "cell_type": "code",
      "metadata": {
        "colab": {
          "base_uri": "https://localhost:8080/"
        },
        "id": "se0NaTQZvjAL",
        "outputId": "94c3f319-bbbc-4f89-e540-9b8f518c4ef4"
      },
      "source": [
        "pop1([0, 0, 0, 0, 4, 0, 0, 0, 0])"
      ],
      "execution_count": 21,
      "outputs": [
        {
          "output_type": "execute_result",
          "data": {
            "text/plain": [
              "[0, 1, 2, 3, 4, 3, 2, 1, 0]"
            ]
          },
          "metadata": {
            "tags": []
          },
          "execution_count": 21
        }
      ]
    },
    {
      "cell_type": "markdown",
      "metadata": {
        "id": "V8AGZvXvwJa1"
      },
      "source": [
        "3. &quot;Loves me, loves me not&quot; is a traditional game in which a person plucks off all the petals of a flower one by one, saying the phrase &quot;Loves me&quot; and &quot;Loves me not&quot; when determining whether the one that they love, loves them back.                            \n",
        "Given a number of petals, return a string which repeats the phrases &quot;Loves\n",
        "me&quot; and &quot;Loves me not&quot; for every alternating petal, and return the last phrase\n",
        "in all caps. Remember to put a comma and space between phrases."
      ]
    },
    {
      "cell_type": "markdown",
      "metadata": {
        "id": "-NEW1zjUwuYy"
      },
      "source": [
        "Examples\n",
        "\n",
        "loves_me(3) ➞ &quot;Loves me, Loves me not, LOVES ME&quot;\n",
        "\n",
        "loves_me(6) ➞ &quot;Loves me, Loves me not, Loves me, Loves me not, Loves\n",
        "me, LOVES ME NOT&quot;"
      ]
    },
    {
      "cell_type": "code",
      "metadata": {
        "id": "6srPVUj3wDMc"
      },
      "source": [
        "def loves_me(n_petals):\n",
        "  a = 'Loves me'\n",
        "  b = 'Loves me not'\n",
        "  c = ''\n",
        "  for i in range(n_petals):\n",
        "    if i%2 == 0:\n",
        "      if i == n_petals-1:\n",
        "        c += a.upper()\n",
        "      else:\n",
        "        c += a + ', '\n",
        "    else:\n",
        "      if i == n_petals-1:\n",
        "        c += b.upper()\n",
        "      else:\n",
        "        c += b + ', '\n",
        "  return c"
      ],
      "execution_count": 30,
      "outputs": []
    },
    {
      "cell_type": "code",
      "metadata": {
        "colab": {
          "base_uri": "https://localhost:8080/",
          "height": 35
        },
        "id": "Nkv18dv2x7aO",
        "outputId": "d74358ec-679e-46ff-e58f-78ef189e47ca"
      },
      "source": [
        "loves_me(1)"
      ],
      "execution_count": 31,
      "outputs": [
        {
          "output_type": "execute_result",
          "data": {
            "application/vnd.google.colaboratory.intrinsic+json": {
              "type": "string"
            },
            "text/plain": [
              "'LOVES ME'"
            ]
          },
          "metadata": {
            "tags": []
          },
          "execution_count": 31
        }
      ]
    },
    {
      "cell_type": "markdown",
      "metadata": {
        "id": "rtqtdure0-ZO"
      },
      "source": [
        "5. There are three cups on a table, at positions A, B, and C. At the start, there\n",
        "is a ball hidden under the cup at position B.\n",
        "\n",
        "However, I perform several swaps on the cups, which is notated as two\n",
        "letters. For example, if I swap the cups at positions A and B, I could notate\n",
        "this as AB or BA.\n",
        "Create a function that returns the letter position that the ball is at, once I finish\n",
        "swapping the cups. The swaps will be given to you as a list.\n",
        "\n",
        "Example\n",
        "cup_swapping([&quot;AB&quot;, &quot;CA&quot;, &quot;AB&quot;]) ➞ &quot;C&quot;\n",
        "\n",
        "Ball begins at position B.\n",
        "\n",
        "Cups A and B swap, so the ball is at position A.\n",
        "\n",
        "Cups C and A swap, so the ball is at position C.\n",
        "\n",
        "Cups A and B swap, but the ball is at position C, so it doesn&#39;t move."
      ]
    },
    {
      "cell_type": "code",
      "metadata": {
        "id": "OnG0NgEm0nog"
      },
      "source": [
        "swaps = [\"AB\", \"CA\", \"AB\"]"
      ],
      "execution_count": 34,
      "outputs": []
    },
    {
      "cell_type": "code",
      "metadata": {
        "id": "DfenkZ584iHg"
      },
      "source": [
        "def cup_swapping(swaps):\n",
        "  p = \"B\"\n",
        "  for i in range(len(swaps)):\n",
        "    if p in swaps[i]:\n",
        "      if swaps[i][0] == p:\n",
        "        p = swaps[i][1]\n",
        "      else:\n",
        "        p = swaps[i][0]\n",
        "    else:\n",
        "      p = p\n",
        "  return p"
      ],
      "execution_count": 46,
      "outputs": []
    },
    {
      "cell_type": "code",
      "metadata": {
        "colab": {
          "base_uri": "https://localhost:8080/",
          "height": 35
        },
        "id": "J7u2AklL6Xw9",
        "outputId": "d8746d4f-3273-43b1-d852-13edc8b0f7c8"
      },
      "source": [
        "cup_swapping([\"AB\", \"CA\", \"CB\"]) "
      ],
      "execution_count": 48,
      "outputs": [
        {
          "output_type": "execute_result",
          "data": {
            "application/vnd.google.colaboratory.intrinsic+json": {
              "type": "string"
            },
            "text/plain": [
              "'B'"
            ]
          },
          "metadata": {
            "tags": []
          },
          "execution_count": 48
        }
      ]
    },
    {
      "cell_type": "code",
      "metadata": {
        "id": "aVDZ4DEH9yWf"
      },
      "source": [
        ""
      ],
      "execution_count": null,
      "outputs": []
    }
  ]
}