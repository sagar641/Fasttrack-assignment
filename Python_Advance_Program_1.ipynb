{
  "nbformat": 4,
  "nbformat_minor": 0,
  "metadata": {
    "colab": {
      "name": "Python Advance Program 1.ipynb",
      "provenance": []
    },
    "kernelspec": {
      "name": "python3",
      "display_name": "Python 3"
    },
    "language_info": {
      "name": "python"
    }
  },
  "cells": [
    {
      "cell_type": "markdown",
      "metadata": {
        "id": "3sP7MnQkgfKi"
      },
      "source": [
        "1. Write a function that takes a list of lists and returns the value of all of the\n",
        "symbols in it, where each symbol adds or takes something from the total\n",
        "score. Symbol values:\n",
        " -# = 5, O = 3, X = 1, ! = -1, !! = -3, !!! = -5"
      ]
    },
    {
      "cell_type": "code",
      "metadata": {
        "id": "DGoj4SkIfi8n"
      },
      "source": [
        "dict1 = { '#': 5, 'O': 3, 'X': 1, '!': -1, '!!': -3, '!!!': -5}\n",
        "\n",
        "def check_score(a=list):\n",
        "  sum_j = 0\n",
        "  for i in a:\n",
        "    for j in i:\n",
        "      sum_j += dict1[j] \n",
        "  return sum_j"
      ],
      "execution_count": 34,
      "outputs": []
    },
    {
      "cell_type": "code",
      "metadata": {
        "colab": {
          "base_uri": "https://localhost:8080/"
        },
        "id": "BJBXJAm1jYTe",
        "outputId": "b72331ad-0d7f-4b0b-c766-2213ba973341"
      },
      "source": [
        "check_score([['#', '!'],['!!', 'X']])"
      ],
      "execution_count": 35,
      "outputs": [
        {
          "output_type": "execute_result",
          "data": {
            "text/plain": [
              "2"
            ]
          },
          "metadata": {
            "tags": []
          },
          "execution_count": 35
        }
      ]
    },
    {
      "cell_type": "code",
      "metadata": {
        "colab": {
          "base_uri": "https://localhost:8080/"
        },
        "id": "7XL5yWqrj1MM",
        "outputId": "5be794ff-6b0b-47bb-b15f-9a1116475b20"
      },
      "source": [
        "check_score([['!!!', 'O', '!'],['X', '#', '!!!'],['!!', 'X', 'O']])"
      ],
      "execution_count": 36,
      "outputs": [
        {
          "output_type": "execute_result",
          "data": {
            "text/plain": [
              "-1"
            ]
          },
          "metadata": {
            "tags": []
          },
          "execution_count": 36
        }
      ]
    },
    {
      "cell_type": "markdown",
      "metadata": {
        "id": "j5KP4oFMkeQb"
      },
      "source": [
        "2. Create a function that takes a variable number of arguments, each\n",
        "argument representing the number of items in a group, and returns the\n",
        "number of permutations (combinations) of items that you could get by taking\n",
        "one item from each group.\n",
        "\n",
        "Examples :-\n",
        "combinations(2, 3) ➞ 6\n",
        "combinations(3, 7, 4) ➞ 84\n",
        "combinations(2, 3, 4, 5) ➞ 120"
      ]
    },
    {
      "cell_type": "code",
      "metadata": {
        "colab": {
          "base_uri": "https://localhost:8080/"
        },
        "id": "DIx6R_56kGVP",
        "outputId": "df3dd73b-af21-47d6-c9a0-845051018151"
      },
      "source": [
        "def combinations(*args):\n",
        "  combs = 1\n",
        "  for i in args:\n",
        "    combs *= i\n",
        "  return combs"
      ],
      "execution_count": 12,
      "outputs": [
        {
          "output_type": "execute_result",
          "data": {
            "text/plain": [
              "6"
            ]
          },
          "metadata": {
            "tags": []
          },
          "execution_count": 12
        }
      ]
    },
    {
      "cell_type": "code",
      "metadata": {
        "colab": {
          "base_uri": "https://localhost:8080/"
        },
        "id": "8He127LLly0x",
        "outputId": "466f03f4-469f-4488-aafa-9c51d1abf20f"
      },
      "source": [
        "combinations(2,3)"
      ],
      "execution_count": 13,
      "outputs": [
        {
          "output_type": "execute_result",
          "data": {
            "text/plain": [
              "6"
            ]
          },
          "metadata": {
            "tags": []
          },
          "execution_count": 13
        }
      ]
    },
    {
      "cell_type": "code",
      "metadata": {
        "colab": {
          "base_uri": "https://localhost:8080/"
        },
        "id": "lEx42yTOl5Jp",
        "outputId": "6adbc058-9862-4c9f-8955-26f08f56bac3"
      },
      "source": [
        "combinations(3,7,4)"
      ],
      "execution_count": 14,
      "outputs": [
        {
          "output_type": "execute_result",
          "data": {
            "text/plain": [
              "84"
            ]
          },
          "metadata": {
            "tags": []
          },
          "execution_count": 14
        }
      ]
    },
    {
      "cell_type": "code",
      "metadata": {
        "colab": {
          "base_uri": "https://localhost:8080/"
        },
        "id": "La5UY3i9l8fa",
        "outputId": "dd386103-8eac-4dfe-a352-32bdb09228b5"
      },
      "source": [
        "combinations(2,3,4,5)"
      ],
      "execution_count": 15,
      "outputs": [
        {
          "output_type": "execute_result",
          "data": {
            "text/plain": [
              "120"
            ]
          },
          "metadata": {
            "tags": []
          },
          "execution_count": 15
        }
      ]
    },
    {
      "cell_type": "markdown",
      "metadata": {
        "id": "5asQvXzVmAhm"
      },
      "source": [
        "3. Create a function that takes a string as an argument and returns the Morse\n",
        "code equivalent."
      ]
    },
    {
      "cell_type": "code",
      "metadata": {
        "id": "NW4cYji4l_NS"
      },
      "source": [
        "char_to_dots = { 'A': '.-', 'B': '-...', 'C': '-.-.', 'D': '-..', 'E': '.', 'F': '..-.', 'G': '--.', 'H': '....', 'I': '..', 'J': '.---', 'K': '-.-', 'L': '.-..', 'M': '--', 'N': '-.', 'O': '---', 'P': '.--.', 'Q': '--.-', 'R': '.-.', 'S': '...', 'T': '-', 'U': '..-', 'V': '...-', 'W': '.--', 'X': '-..-', 'Y': '-.--', 'Z': '--..', ' ': ' ', '0': '-----', '1': '.----', '2': '..---', '3': '...--', '4': '....-', '5': '.....', '6': '-....', '7': '--...', '8': '---..', '9': '----.', '&': '.-...', \"'\": '.----.', '@': '.--.-.', ')': '-.--.-', '(': '-.--.', ':': '---...', ',': '--..--', '=': '-...-', '!': '-.-.--', '.': '.-.-.-', '-': '-....-', '+': '.-.-.', '\"': '.-..-.', '?': '..--..', '/': '-..-.' , ' ': ' '}"
      ],
      "execution_count": 33,
      "outputs": []
    },
    {
      "cell_type": "code",
      "metadata": {
        "colab": {
          "base_uri": "https://localhost:8080/"
        },
        "id": "aIrv-tPZxonF",
        "outputId": "acdd8579-fcef-4757-e2ae-d49007496fd9"
      },
      "source": [
        "p = []\n",
        "for i in char_to_dots.keys():\n",
        "  p.append(i)\n",
        "print(p)"
      ],
      "execution_count": 63,
      "outputs": [
        {
          "output_type": "stream",
          "text": [
            "['A', 'B', 'C', 'D', 'E', 'F', 'G', 'H', 'I', 'J', 'K', 'L', 'M', 'N', 'O', 'P', 'Q', 'R', 'S', 'T', 'U', 'V', 'W', 'X', 'Y', 'Z', ' ', '0', '1', '2', '3', '4', '5', '6', '7', '8', '9', '&', \"'\", '@', ')', '(', ':', ',', '=', '!', '.', '-', '+', '\"', '?', '/']\n"
          ],
          "name": "stdout"
        }
      ]
    },
    {
      "cell_type": "code",
      "metadata": {
        "id": "vwkEiwtZm1Iy"
      },
      "source": [
        "def encode_morse(a):\n",
        "  string = ''\n",
        "  for i in a:\n",
        "    if i != ' ':\n",
        "      string += char_to_dots[i] \n",
        "    else:\n",
        "      string += ' '\n",
        "  return string"
      ],
      "execution_count": 41,
      "outputs": []
    },
    {
      "cell_type": "code",
      "metadata": {
        "colab": {
          "base_uri": "https://localhost:8080/",
          "height": 35
        },
        "id": "vMnmFckEn6KO",
        "outputId": "b24bfe82-c4ac-4d98-be85-953e75e13205"
      },
      "source": [
        "encode_morse(\"EDDABIT CHALLENGE\")"
      ],
      "execution_count": 42,
      "outputs": [
        {
          "output_type": "execute_result",
          "data": {
            "application/vnd.google.colaboratory.intrinsic+json": {
              "type": "string"
            },
            "text/plain": [
              "'.-..-...--.....- -.-......-.-...-...-.--..'"
            ]
          },
          "metadata": {
            "tags": []
          },
          "execution_count": 42
        }
      ]
    },
    {
      "cell_type": "code",
      "metadata": {
        "colab": {
          "base_uri": "https://localhost:8080/",
          "height": 35
        },
        "id": "3M7B3Pkwn_-I",
        "outputId": "9e4cee4e-5c81-4acd-f9e8-539ba282d4bf"
      },
      "source": [
        "encode_morse(\"HELP ME !\")"
      ],
      "execution_count": 45,
      "outputs": [
        {
          "output_type": "execute_result",
          "data": {
            "application/vnd.google.colaboratory.intrinsic+json": {
              "type": "string"
            },
            "text/plain": [
              "'......-...--. --. -.-.--'"
            ]
          },
          "metadata": {
            "tags": []
          },
          "execution_count": 45
        }
      ]
    },
    {
      "cell_type": "code",
      "metadata": {
        "id": "DgYyeioXquNo"
      },
      "source": [
        "def prime_no(n):\n",
        "  prime = True\n",
        "  for i in range(2,n):\n",
        "    if n%i == 0:\n",
        "      prime = False\n",
        "      break\n",
        "      \n",
        "  return prime"
      ],
      "execution_count": 55,
      "outputs": []
    },
    {
      "cell_type": "code",
      "metadata": {
        "colab": {
          "base_uri": "https://localhost:8080/"
        },
        "id": "KN-gJpWguQ7P",
        "outputId": "d3e83cc7-78d4-445d-8298-083aa8153b51"
      },
      "source": [
        "prime_no(5151512515524)"
      ],
      "execution_count": 54,
      "outputs": [
        {
          "output_type": "execute_result",
          "data": {
            "text/plain": [
              "False"
            ]
          },
          "metadata": {
            "tags": []
          },
          "execution_count": 54
        }
      ]
    },
    {
      "cell_type": "code",
      "metadata": {
        "id": "UMi6CozwvqeF"
      },
      "source": [
        "Alph = ['A', 'B', 'C', 'D', 'E', 'F', 'G', 'H', 'I', 'J', 'K', 'L', 'M', 'N', 'O', 'P', 'Q', 'R', 'S', 'T', 'U', 'V', 'W', 'X', 'Y', 'Z']\n",
        "def to_boolean_list(str):\n",
        "  lst1 = []\n",
        "  lst2 = []\n",
        "  for i in str:\n",
        "    if Alph.index(i.upper())%2 == 0:\n",
        "      lst1.append(1)\n",
        "      lst2.append(True)\n",
        "    else:\n",
        "      lst1.append(0)\n",
        "      lst2.append(False)\n",
        "  return lst1, lst2"
      ],
      "execution_count": 70,
      "outputs": []
    },
    {
      "cell_type": "code",
      "metadata": {
        "colab": {
          "base_uri": "https://localhost:8080/"
        },
        "id": "FOnucOBOzMwx",
        "outputId": "dd1a129a-9294-422b-b468-fcbe6d66a185"
      },
      "source": [
        "to_boolean_list(\"deep\")"
      ],
      "execution_count": 71,
      "outputs": [
        {
          "output_type": "execute_result",
          "data": {
            "text/plain": [
              "([0, 1, 1, 0], [False, True, True, False])"
            ]
          },
          "metadata": {
            "tags": []
          },
          "execution_count": 71
        }
      ]
    },
    {
      "cell_type": "code",
      "metadata": {
        "colab": {
          "base_uri": "https://localhost:8080/"
        },
        "id": "c4MgksMLzTbf",
        "outputId": "93f41d8d-766a-4051-ee94-674ba5588c80"
      },
      "source": [
        "to_boolean_list(\"loves\")"
      ],
      "execution_count": 74,
      "outputs": [
        {
          "output_type": "execute_result",
          "data": {
            "text/plain": [
              "([0, 1, 0, 1, 1], [False, True, False, True, True])"
            ]
          },
          "metadata": {
            "tags": []
          },
          "execution_count": 74
        }
      ]
    },
    {
      "cell_type": "code",
      "metadata": {
        "id": "6hlkXJFG1rel"
      },
      "source": [
        ""
      ],
      "execution_count": null,
      "outputs": []
    }
  ]
}