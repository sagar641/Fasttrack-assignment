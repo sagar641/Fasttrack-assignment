{
  "nbformat": 4,
  "nbformat_minor": 0,
  "metadata": {
    "colab": {
      "name": "Programming Assignment 25.ipynb",
      "provenance": [],
      "collapsed_sections": []
    },
    "kernelspec": {
      "name": "python3",
      "display_name": "Python 3"
    },
    "language_info": {
      "name": "python"
    }
  },
  "cells": [
    {
      "cell_type": "markdown",
      "metadata": {
        "id": "g2RqI5vfNvEv"
      },
      "source": [
        "1. Create a function that takes three integer arguments (a, b, c) and returns the amount of\n",
        "integers which are of equal value.\n",
        "Examples\n",
        "equal(3, 4, 3) ➞ 2\n",
        "equal(1, 1, 1) ➞ 3\n",
        "equal(3, 4, 1) ➞ 0\n",
        "Notes\n",
        "Your function must return 0, 2 or"
      ]
    },
    {
      "cell_type": "code",
      "metadata": {
        "id": "iiXU383RNy-V"
      },
      "source": [
        "def dup(a,b,c):\n",
        "  if a == b and a == c:\n",
        "    return 3\n",
        "  elif a == b or a == c:\n",
        "    return 2\n",
        "  else:\n",
        "    return 0"
      ],
      "execution_count": null,
      "outputs": []
    },
    {
      "cell_type": "code",
      "metadata": {
        "colab": {
          "base_uri": "https://localhost:8080/"
        },
        "id": "BSk4jbXCPwWz",
        "outputId": "0aad14f3-fac3-48f8-fb46-89da6dac08db"
      },
      "source": [
        "dup(1,1,1)"
      ],
      "execution_count": null,
      "outputs": [
        {
          "output_type": "execute_result",
          "data": {
            "text/plain": [
              "3"
            ]
          },
          "metadata": {
            "tags": []
          },
          "execution_count": 2
        }
      ]
    },
    {
      "cell_type": "code",
      "metadata": {
        "colab": {
          "base_uri": "https://localhost:8080/"
        },
        "id": "_t68RzGZP1ow",
        "outputId": "497b339e-59e0-475f-93cf-07bc365234b5"
      },
      "source": [
        "dup(1,2,3)"
      ],
      "execution_count": null,
      "outputs": [
        {
          "output_type": "execute_result",
          "data": {
            "text/plain": [
              "0"
            ]
          },
          "metadata": {
            "tags": []
          },
          "execution_count": 3
        }
      ]
    },
    {
      "cell_type": "code",
      "metadata": {
        "colab": {
          "base_uri": "https://localhost:8080/"
        },
        "id": "2t_oQRk-P4Wv",
        "outputId": "b7c24f8e-a1b7-4389-cc0e-e210838b2160"
      },
      "source": [
        "dup(1,1,2)"
      ],
      "execution_count": null,
      "outputs": [
        {
          "output_type": "execute_result",
          "data": {
            "text/plain": [
              "2"
            ]
          },
          "metadata": {
            "tags": []
          },
          "execution_count": 4
        }
      ]
    },
    {
      "cell_type": "markdown",
      "metadata": {
        "id": "1NqGscKeQW_n"
      },
      "source": [
        "Write a function that converts a dictionary into a list of keys-values tuples.\n",
        "Examples\n",
        "dict_to_list({\n",
        "&quot;D&quot;: 1,\n",
        "&quot;B&quot;: 2,\n",
        "&quot;C&quot;: 3\n",
        "}) ➞ [(&quot;B&quot;, 2), (&quot;C&quot;, 3), (&quot;D&quot;, 1)]\n",
        "dict_to_list({\n",
        "&quot;likes&quot;: 2,\n",
        "&quot;dislikes&quot;: 3,\n",
        "&quot;followers&quot;: 10\n",
        "}) ➞ [(&quot;dislikes&quot;, 3), (&quot;followers&quot;, 10), (&quot;likes&quot;, 2)]\n",
        "Notes\n",
        "Return the elements in the list in alphabetical order."
      ]
    },
    {
      "cell_type": "code",
      "metadata": {
        "id": "vWDJCPBZQYen"
      },
      "source": [
        "def dict_to_list(d = dict):\n",
        "  print(list(sorted(d.items())))"
      ],
      "execution_count": 9,
      "outputs": []
    },
    {
      "cell_type": "code",
      "metadata": {
        "colab": {
          "base_uri": "https://localhost:8080/"
        },
        "id": "FpQF4Z6Jrwgx",
        "outputId": "1c41a601-603a-46dd-d556-63bcac94b621"
      },
      "source": [
        "dict_to_list({\"b\":\"sugriv\",\"a\":\"sagar\", \"c\":\"manoj\"})"
      ],
      "execution_count": 11,
      "outputs": [
        {
          "output_type": "stream",
          "text": [
            "[('a', 'sagar'), ('b', 'sugriv'), ('c', 'manoj')]\n"
          ],
          "name": "stdout"
        }
      ]
    },
    {
      "cell_type": "markdown",
      "metadata": {
        "id": "Fvg_V_h3uMNi"
      },
      "source": [
        "3. Write a function that creates a dictionary with each (key, value) pair being the (lower case,\n",
        "upper case) versions of a letter, respectively.\n",
        "Examples\n",
        "mapping([&quot;p&quot;, &quot;s&quot;]) ➞ { &quot;p&quot;: &quot;P&quot;, &quot;s&quot;: &quot;S&quot; }\n",
        "\n",
        "mapping([&quot;a&quot;, &quot;b&quot;, &quot;c&quot;]) ➞ { &quot;a&quot;: &quot;A&quot;, &quot;b&quot;: &quot;B&quot;, &quot;c&quot;: &quot;C&quot; }\n",
        "mapping([&quot;a&quot;, &quot;v&quot;, &quot;y&quot;, &quot;z&quot;]) ➞ { &quot;a&quot;: &quot;A&quot;, &quot;v&quot;: &quot;V&quot;, &quot;y&quot;: &quot;Y&quot;, &quot;z&quot;: &quot;Z&quot; }\n",
        "Notes\n",
        "All of the letters in the input list will always be lowercase."
      ]
    },
    {
      "cell_type": "code",
      "metadata": {
        "id": "J0nLcFPEuNoH"
      },
      "source": [
        "def mapping(lst = list):\n",
        "  print({i:i.upper() for i in lst})"
      ],
      "execution_count": 20,
      "outputs": []
    },
    {
      "cell_type": "code",
      "metadata": {
        "colab": {
          "base_uri": "https://localhost:8080/"
        },
        "id": "pG0s4oxewRXo",
        "outputId": "80147023-a004-4184-827b-44a778332ac9"
      },
      "source": [
        "mapping(['a','b', 'd', 'g'])"
      ],
      "execution_count": 22,
      "outputs": [
        {
          "output_type": "stream",
          "text": [
            "{'a': 'A', 'b': 'B', 'd': 'D', 'g': 'G'}\n"
          ],
          "name": "stdout"
        }
      ]
    },
    {
      "cell_type": "markdown",
      "metadata": {
        "id": "73l7SOBLxZyc"
      },
      "source": [
        "Question4 : \n",
        "Write a function, that replaces all vowels in a string with a specified vowel.\n",
        "Examples\n",
        "vow_replace(&quot;apples and bananas&quot;, &quot;u&quot;) ➞ &quot;upplus und bununus&quot;\n",
        "vow_replace(&quot;cheese casserole&quot;, &quot;o&quot;) ➞ &quot;chooso cossorolo&quot;\n",
        "vow_replace(&quot;stuffed jalapeno poppers&quot;, &quot;e&quot;) ➞ &quot;steffed jelepene peppers&quot;\n",
        "Notes\n",
        "All words will be lowercase. Y is not considered a vowel."
      ]
    },
    {
      "cell_type": "code",
      "metadata": {
        "id": "-wbHQCQoxboX"
      },
      "source": [
        "def vow_replace(s = str, v = str):\n",
        "  l = ['a', 'e', 'i', 'o', 'u']\n",
        "  for z in s:\n",
        "    if z in l:\n",
        "      x=s.replace(z, v)\n",
        "    else:\n",
        "      x=z\n",
        "  print(x)"
      ],
      "execution_count": 39,
      "outputs": []
    },
    {
      "cell_type": "code",
      "metadata": {
        "colab": {
          "base_uri": "https://localhost:8080/"
        },
        "id": "pLGWeztoyiE5",
        "outputId": "7585b514-4264-4cb6-8c55-007bf71036e1"
      },
      "source": [
        "vow_replace(\"apples and bana\", \"u\")"
      ],
      "execution_count": 51,
      "outputs": [
        {
          "output_type": "stream",
          "text": [
            "upples und bunu\n"
          ],
          "name": "stdout"
        }
      ]
    },
    {
      "cell_type": "markdown",
      "metadata": {
        "id": "ot-OYx-X5LxK"
      },
      "source": [
        "Question5 : \n",
        "Create a function that takes a string as input and capitalizes a letter if its ASCII code is even\n",
        "and returns its lower case version if its ASCII code is odd.\n",
        "Examples\n",
        "ascii_capitalize(&quot;to be or not to be!&quot;) ➞ &quot;To Be oR NoT To Be!&quot;\n",
        "ascii_capitalize(&quot;THE LITTLE MERMAID&quot;) ➞ &quot;THe LiTTLe meRmaiD&quot;\n",
        "ascii_capitalize(&quot;Oh what a beautiful morning.&quot;) ➞ &quot;oH wHaT a BeauTiFuL\n",
        "moRNiNg.&quot;"
      ]
    },
    {
      "cell_type": "code",
      "metadata": {
        "id": "zt7dZfyA5N6Y"
      },
      "source": [
        "def ascii_capitalize(s = str):\n",
        "  t=str\n",
        "  for i in s:\n",
        "    if ord(i)%2 == 0:\n",
        "      x = i.upper()\n",
        "    else:\n",
        "      x = i\n",
        "    print(x, end='')"
      ],
      "execution_count": 72,
      "outputs": []
    },
    {
      "cell_type": "code",
      "metadata": {
        "colab": {
          "base_uri": "https://localhost:8080/"
        },
        "id": "X_kZprmX776e",
        "outputId": "e7283b88-5ff6-4761-f555-6524a5cca858"
      },
      "source": [
        "ascii_capitalize(\"to be or not to be\")"
      ],
      "execution_count": 74,
      "outputs": [
        {
          "output_type": "stream",
          "text": [
            "To Be oR NoT To Be"
          ],
          "name": "stdout"
        }
      ]
    },
    {
      "cell_type": "code",
      "metadata": {
        "id": "XUoQ9y3u3Zbj"
      },
      "source": [
        ""
      ],
      "execution_count": null,
      "outputs": []
    }
  ]
}