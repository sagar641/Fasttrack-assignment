{
  "nbformat": 4,
  "nbformat_minor": 0,
  "metadata": {
    "colab": {
      "name": "Python Programming basic 7.ipynb",
      "provenance": [],
      "collapsed_sections": []
    },
    "kernelspec": {
      "name": "python3",
      "display_name": "Python 3"
    },
    "language_info": {
      "name": "python"
    }
  },
  "cells": [
    {
      "cell_type": "markdown",
      "metadata": {
        "id": "C0GbMhESyRiG"
      },
      "source": [
        "1. Write a Python Program to find sum of array?"
      ]
    },
    {
      "cell_type": "code",
      "metadata": {
        "colab": {
          "base_uri": "https://localhost:8080/"
        },
        "id": "MOCCpMgFxuwx",
        "outputId": "df37d4de-4201-4f33-f74c-b76bb5e4ba94"
      },
      "source": [
        "import numpy as np\n",
        "\n",
        "a = np.array([1,5,6,8,9,4])\n",
        "sum=0\n",
        "for i in a:\n",
        "  sum += i\n",
        "\n",
        "print(sum)"
      ],
      "execution_count": 11,
      "outputs": [
        {
          "output_type": "stream",
          "text": [
            "33\n"
          ],
          "name": "stdout"
        }
      ]
    },
    {
      "cell_type": "markdown",
      "metadata": {
        "id": "dCRpiwHI5oia"
      },
      "source": [
        "2. Write a Python Program to find largest element in an array?"
      ]
    },
    {
      "cell_type": "code",
      "metadata": {
        "colab": {
          "base_uri": "https://localhost:8080/"
        },
        "id": "1G0fNFqT1FA1",
        "outputId": "2114f9c4-e449-45a5-e1ee-94d81ecf5d79"
      },
      "source": [
        "a = np.array([[1,5,6,8,9,4], [8,10,16,2,3,5]])\n",
        "a.max()\n",
        "print(a[1])"
      ],
      "execution_count": 21,
      "outputs": [
        {
          "output_type": "stream",
          "text": [
            "[ 8 10 16  2  3  5]\n"
          ],
          "name": "stdout"
        }
      ]
    },
    {
      "cell_type": "code",
      "metadata": {
        "colab": {
          "base_uri": "https://localhost:8080/"
        },
        "id": "DoozKpq957It",
        "outputId": "967a09fd-89ea-4ea8-9288-1b7b86d11ac3"
      },
      "source": [
        "a.T"
      ],
      "execution_count": 16,
      "outputs": [
        {
          "output_type": "execute_result",
          "data": {
            "text/plain": [
              "array([[ 1,  8],\n",
              "       [ 5, 10],\n",
              "       [ 6, 16],\n",
              "       [ 8,  2],\n",
              "       [ 9,  3],\n",
              "       [ 4,  5]])"
            ]
          },
          "metadata": {
            "tags": []
          },
          "execution_count": 16
        }
      ]
    },
    {
      "cell_type": "markdown",
      "metadata": {
        "id": "epFZvLlW8dbi"
      },
      "source": [
        "4. Write a Python Program to Split the array and add the first part to the end?"
      ]
    },
    {
      "cell_type": "code",
      "metadata": {
        "colab": {
          "base_uri": "https://localhost:8080/"
        },
        "id": "MHks7CMm6SAQ",
        "outputId": "68e6afe7-a591-4c5f-ea8a-0417fbeabe9d"
      },
      "source": [
        "def split_array(arr, n, k):\n",
        "  for i in range(0, k):\n",
        "    first_val = arr[0]\n",
        "    for j in range(0, n-1):\n",
        "      arr[j] = arr[j + 1]\n",
        "    arr[n-1] = first_val\n",
        "  print(arr)\n",
        "   \n",
        "arr = np.array([1,5,6,8,9,4,8,10,16,2,3,5])\n",
        "list_len = len(arr)\n",
        "pos = 3\n",
        "print(\"The list is :\")\n",
        "print(arr)\n",
        "print(\"The split_list method is being called\")\n",
        "split_array(arr, list_len, pos)\n"
      ],
      "execution_count": 49,
      "outputs": [
        {
          "output_type": "stream",
          "text": [
            "The list is :\n",
            "[ 1  5  6  8  9  4  8 10 16  2  3  5]\n",
            "The split_list method is being called\n",
            "[ 8  9  4  8 10 16  2  3  5  1  5  6]\n"
          ],
          "name": "stdout"
        }
      ]
    },
    {
      "cell_type": "markdown",
      "metadata": {
        "id": "Y1x1_YsfRe1Y"
      },
      "source": [
        "5. Write a Python Program to check if given array is Monotonic?"
      ]
    },
    {
      "cell_type": "code",
      "metadata": {
        "id": "LhXL3djC7D28"
      },
      "source": [
        "a = np.array([1,2,3,5,6,8,9])\n",
        "b = np.array([9,8,6,4,3,2,1])\n",
        "c = np.array([1,2,3,6,5,8,9])"
      ],
      "execution_count": 53,
      "outputs": []
    },
    {
      "cell_type": "code",
      "metadata": {
        "id": "sLwASE9f-vNw"
      },
      "source": [
        "def check_mono(a):\n",
        "  mono = False\n",
        "  for i in range(1, len(a)-1):\n",
        "    if a[0] > a[1] and a[i] >= a[i+1]:\n",
        "      mono = True\n",
        "    elif a[0] < a[1] and a[i] <= a[i+1]:\n",
        "      mono = True\n",
        "    else:\n",
        "      mono = False\n",
        "      break\n",
        "  if mono == True:\n",
        "    print(\"Array is monotonous\")\n",
        "  else:\n",
        "    print(\"Array is not monotonous\")"
      ],
      "execution_count": 80,
      "outputs": []
    },
    {
      "cell_type": "code",
      "metadata": {
        "colab": {
          "base_uri": "https://localhost:8080/"
        },
        "id": "0P13xWz8-yi2",
        "outputId": "bef5b275-a97a-48cb-acdc-6e58fff8f0d9"
      },
      "source": [
        "check_mono(a)"
      ],
      "execution_count": 81,
      "outputs": [
        {
          "output_type": "stream",
          "text": [
            "Array is monotonous\n"
          ],
          "name": "stdout"
        }
      ]
    },
    {
      "cell_type": "code",
      "metadata": {
        "colab": {
          "base_uri": "https://localhost:8080/"
        },
        "id": "E3DAzPWYTHBc",
        "outputId": "d2d57eac-45f7-45c7-b636-5f725f3a2b6e"
      },
      "source": [
        "check_mono(b)"
      ],
      "execution_count": 82,
      "outputs": [
        {
          "output_type": "stream",
          "text": [
            "Array is monotonous\n"
          ],
          "name": "stdout"
        }
      ]
    },
    {
      "cell_type": "code",
      "metadata": {
        "colab": {
          "base_uri": "https://localhost:8080/"
        },
        "id": "b5Q1RQ0gUgZz",
        "outputId": "1bd5c213-0da9-40e4-b622-ed178bcd438a"
      },
      "source": [
        "check_mono(c)"
      ],
      "execution_count": 83,
      "outputs": [
        {
          "output_type": "stream",
          "text": [
            "Array is not monotonous\n"
          ],
          "name": "stdout"
        }
      ]
    },
    {
      "cell_type": "code",
      "metadata": {
        "id": "gcfV-bY1UifF"
      },
      "source": [
        ""
      ],
      "execution_count": null,
      "outputs": []
    }
  ]
}