{
  "nbformat": 4,
  "nbformat_minor": 0,
  "metadata": {
    "colab": {
      "name": "Python Advance 5.ipynb",
      "provenance": [],
      "collapsed_sections": []
    },
    "kernelspec": {
      "name": "python3",
      "display_name": "Python 3"
    },
    "language_info": {
      "name": "python"
    }
  },
  "cells": [
    {
      "cell_type": "markdown",
      "metadata": {
        "id": "FOsz2SCi7SMU"
      },
      "source": [
        "Q1. What is the meaning of multiple inheritance?"
      ]
    },
    {
      "cell_type": "markdown",
      "metadata": {
        "id": "YuH1PSyK7Tqy"
      },
      "source": [
        "=> The feature of OOP in which the attributes or methods of more than one class (superclass) are inherited to a child class is multiple inheritance"
      ]
    },
    {
      "cell_type": "markdown",
      "metadata": {
        "id": "qm5ASpjj77Po"
      },
      "source": [
        "Q2. What is the concept of delegation?"
      ]
    },
    {
      "cell_type": "markdown",
      "metadata": {
        "id": "bJLSvbLn7-VQ"
      },
      "source": [
        "=> Delegation means that you use an object of another class as an instance variable, and forward messages to the instance."
      ]
    },
    {
      "cell_type": "markdown",
      "metadata": {
        "id": "clKgnLDO8vmJ"
      },
      "source": [
        "Q3. What is the concept of composition?"
      ]
    },
    {
      "cell_type": "markdown",
      "metadata": {
        "id": "SnIrn9S98wTZ"
      },
      "source": [
        "=> Composition is a concept that models a has a relationship. It enables creating complex types by combining objects of other types. This means that a class Composite can contain an object of another class Component . This relationship means that a Composite has a Component ."
      ]
    },
    {
      "cell_type": "markdown",
      "metadata": {
        "id": "tJFEoE-a-EEu"
      },
      "source": [
        "Q4. What are bound methods and how do we use them?"
      ]
    },
    {
      "cell_type": "markdown",
      "metadata": {
        "id": "4ZXzXsFoDGfN"
      },
      "source": [
        "A bound method is the one which is dependent on the instance of the class as the first argument. It passes the instance as the first argument which is used to access the variables and functions."
      ]
    },
    {
      "cell_type": "markdown",
      "metadata": {
        "id": "VVsz5eX-mUaX"
      },
      "source": [
        "Q5. What is the purpose of pseudoprivate attributes?"
      ]
    },
    {
      "cell_type": "markdown",
      "metadata": {
        "id": "7JUubSb1nCu7"
      },
      "source": [
        "Pseudoprivate is the name given to the private attributes as they are not entirely private, but can be accessed outside of class. Still it is necessary to name the class to access that particular attribute. \n",
        "Pseudoprivate attributes come handy when attributes in different classes have similar names."
      ]
    }
  ]
}