{
  "nbformat": 4,
  "nbformat_minor": 0,
  "metadata": {
    "colab": {
      "name": "Python Advace program 15.ipynb",
      "provenance": [],
      "collapsed_sections": []
    },
    "kernelspec": {
      "name": "python3",
      "display_name": "Python 3"
    },
    "language_info": {
      "name": "python"
    }
  },
  "cells": [
    {
      "cell_type": "markdown",
      "metadata": {
        "id": "Nt-9pI88ykxe"
      },
      "source": [
        "1. Write a function that returns True if a given name can generate an array of\n",
        "words.\n",
        "\n",
        "Examples\n",
        "\n",
        "anagram(&quot;Justin Bieber&quot;, [&quot;injures&quot;, &quot;ebb&quot;, &quot;it&quot;]) ➞ True\n",
        "\n",
        "anagram(&quot;Natalie Portman&quot;, [&quot;ornamental&quot;, &quot;pita&quot;]) ➞ True\n",
        "\n",
        "anagram(&quot;Chris Pratt&quot;, [&quot;chirps&quot;, &quot;rat&quot;]) ➞ False\n",
        "\n",
        "Not all letters are used\n",
        "\n",
        "anagram(&quot;Jeff Goldblum&quot;, [&quot;jog&quot;, &quot;meld&quot;, &quot;bluffs&quot;]) ➞ False\n",
        "\n",
        " &quot;s&quot; does not exist in the original name"
      ]
    },
    {
      "cell_type": "code",
      "metadata": {
        "id": "Q6o6IthUq9dK"
      },
      "source": [
        "def anagram(a, b):\n",
        "  c = ''\n",
        "  for char in a:\n",
        "    if char.isalnum():\n",
        "      c += char\n",
        "  sorted_a = sorted(list(c.lower()))\n",
        "  print(sorted_a)\n",
        "  d = ''\n",
        "  for i in b:\n",
        "    d += i\n",
        "  sorted_d = sorted(list(d))\n",
        "  print(sorted_d)\n",
        "  if sorted_a == sorted_d:\n",
        "    return True\n",
        "  else:\n",
        "    return False"
      ],
      "execution_count": null,
      "outputs": []
    },
    {
      "cell_type": "code",
      "metadata": {
        "colab": {
          "base_uri": "https://localhost:8080/"
        },
        "id": "Z4Sf2hOE3yI8",
        "outputId": "d91fff3c-30c9-4cc3-b40b-1b4e2fed2d80"
      },
      "source": [
        "anagram(\"Natalie Portman\", [\"ornamental\", \"pita\"]) "
      ],
      "execution_count": null,
      "outputs": [
        {
          "output_type": "stream",
          "text": [
            "['a', 'a', 'a', 'e', 'i', 'l', 'm', 'n', 'n', 'o', 'p', 'r', 't', 't']\n",
            "['a', 'a', 'a', 'e', 'i', 'l', 'm', 'n', 'n', 'o', 'p', 'r', 't', 't']\n"
          ],
          "name": "stdout"
        },
        {
          "output_type": "execute_result",
          "data": {
            "text/plain": [
              "True"
            ]
          },
          "metadata": {
            "tags": []
          },
          "execution_count": 14
        }
      ]
    },
    {
      "cell_type": "markdown",
      "metadata": {
        "id": "DNppYBYn8vwQ"
      },
      "source": [
        "2. Given an array of users, each defined by an object with the following\n",
        "properties: name, score, reputation create a function that sorts the array to\n",
        "form the correct leaderboard.\n",
        "The leaderboard takes into consideration the score of each user of course,\n",
        "but an emphasis is put on their reputation in the community, so to get the\n",
        "trueScore, you should add the reputation multiplied by 2 to the score.\n",
        "Once you know the trueScore of each user, sort the array according to it in\n",
        "descending order.\n",
        "\n",
        "Examples\n",
        "\n",
        "leaderboards([\n",
        "{ &quot;name&quot;: &quot;a&quot;, &quot;score&quot;: 100, &quot;reputation&quot;: 20 },\n",
        "\n",
        "{ &quot;name&quot;: &quot;b&quot;, &quot;score&quot;: 90, &quot;reputation&quot;: 40 },\n",
        "\n",
        "{ &quot;name&quot;: &quot;c&quot;, &quot;score&quot;: 115, &quot;reputation&quot;: 30 },]) \n",
        "\n",
        "➞ [{ &quot;name&quot;: &quot;c&quot;, &quot;score&quot;: 115, &quot;reputation&quot;: 30 }, # trueScore = 175\n",
        "\n",
        "{ &quot;name&quot;: &quot;b&quot;, &quot;score&quot;: 90, &quot;reputation&quot;: 40 }, # trueScore = 170\n",
        "\n",
        "{ &quot;name&quot;: &quot;a&quot;, &quot;score&quot;: 100, &quot;reputation&quot;: 20 } # trueScore = 140\n",
        "]"
      ]
    },
    {
      "cell_type": "code",
      "metadata": {
        "id": "W1W2Yl6Y-hjP"
      },
      "source": [
        "def leaderboards(lst1):\n",
        "  for i in lst1:\n",
        "    i[\"true_score\"] = i[\"score\"] + 2*i[\"reputation\"]\n",
        "  return sorted(lst1, key = lambda i:i[\"true_score\"], reverse = True)"
      ],
      "execution_count": null,
      "outputs": []
    },
    {
      "cell_type": "code",
      "metadata": {
        "colab": {
          "base_uri": "https://localhost:8080/"
        },
        "id": "l9Y2ZKB2-nWy",
        "outputId": "53d94de3-16e2-4d18-e09b-9c4b889d9b7f"
      },
      "source": [
        "leaderboards([ { \"name\": \"a\", \"score\": 100, \"reputation\": 20 },{ \"name\": \"b\", \"score\": 90, \"reputation\": 40 }, { \"name\": \"c\", \"score\": 115, \"reputation\": 30 }])"
      ],
      "execution_count": null,
      "outputs": [
        {
          "output_type": "execute_result",
          "data": {
            "text/plain": [
              "[{'name': 'c', 'reputation': 30, 'score': 115, 'true_score': 175},\n",
              " {'name': 'b', 'reputation': 40, 'score': 90, 'true_score': 170},\n",
              " {'name': 'a', 'reputation': 20, 'score': 100, 'true_score': 140}]"
            ]
          },
          "metadata": {
            "tags": []
          },
          "execution_count": 24
        }
      ]
    },
    {
      "cell_type": "markdown",
      "metadata": {
        "id": "L_F2iAQRBXoV"
      },
      "source": [
        "3. Create a function that, given a phrase and a number of letters guessed,\n",
        "returns a string with hyphens - for every letter of the phrase not guessed, and\n",
        "each letter guessed in place.\n",
        "\n",
        "Examples\n",
        "\n",
        "hangman(&quot;helicopter&quot;, [&quot;o&quot;, &quot;e&quot;, &quot;s&quot;]) ➞ &quot;-e---o--e-&quot;\n",
        "\n",
        "hangman(&quot;tree&quot;, [&quot;r&quot;, &quot;t&quot;, &quot;e&quot;]) ➞ &quot;tree&quot;\n",
        "\n",
        "hangman(&quot;Python rules&quot;, [&quot;a&quot;, &quot;n&quot;, &quot;p&quot;, &quot;r&quot;, &quot;z&quot;]) ➞ &quot;P----n r----&quot;\n",
        "\n",
        "hangman(&quot;He&quot;s a very naughty boy!&quot;, [&quot;e&quot;, &quot;a&quot;, &quot;y&quot;]) ➞ &quot;-e&quot;- a -e-y -a----y –y!&quot;"
      ]
    },
    {
      "cell_type": "code",
      "metadata": {
        "id": "ydHBu6yFBSvM"
      },
      "source": [
        "def hangman(a, b):\n",
        "  str1 = ''\n",
        "  for i in a:\n",
        "    if i in b:\n",
        "      str1 += i\n",
        "    else:\n",
        "      str1 += '-'\n",
        "  return str1\n"
      ],
      "execution_count": null,
      "outputs": []
    },
    {
      "cell_type": "code",
      "metadata": {
        "colab": {
          "base_uri": "https://localhost:8080/",
          "height": 35
        },
        "id": "elKl89tjCvXF",
        "outputId": "6b063442-93cd-4d4d-9542-05f94e6e277c"
      },
      "source": [
        "hangman(\"tree\", [\"r\", \"t\", \"e\"])"
      ],
      "execution_count": null,
      "outputs": [
        {
          "output_type": "execute_result",
          "data": {
            "application/vnd.google.colaboratory.intrinsic+json": {
              "type": "string"
            },
            "text/plain": [
              "'tree'"
            ]
          },
          "metadata": {
            "tags": []
          },
          "execution_count": 29
        }
      ]
    },
    {
      "cell_type": "code",
      "metadata": {
        "colab": {
          "base_uri": "https://localhost:8080/",
          "height": 35
        },
        "id": "eEj8WUqeC-UR",
        "outputId": "a109c09b-25fb-49bc-b934-3b647a71be52"
      },
      "source": [
        "hangman(\"He's a very naughty boy!\", [\"e\", \"a\", \"y\"])"
      ],
      "execution_count": null,
      "outputs": [
        {
          "output_type": "execute_result",
          "data": {
            "application/vnd.google.colaboratory.intrinsic+json": {
              "type": "string"
            },
            "text/plain": [
              "'-e---a--e-y--a----y---y-'"
            ]
          },
          "metadata": {
            "tags": []
          },
          "execution_count": 31
        }
      ]
    },
    {
      "cell_type": "markdown",
      "metadata": {
        "id": "IzzSy3V1DLPO"
      },
      "source": [
        "4. The Collatz sequence is as follows:\n",
        "- Start with some given integer n.\n",
        "- If it is even, the next number will be n divided by 2.\n",
        "- If it is odd, multiply it by 3 and add 1 to make the next number.\n",
        "- The sequence stops when it reaches 1.\n",
        "\n",
        "According to the Collatz conjecture, it will always reach 1. If that&#39;s true, you\n",
        "can construct a finite sequence following the aforementioned method for any\n",
        "given integer.\n",
        "\n",
        "Write a function that takes in an integer n and returns the highest integer in\n",
        "the corresponding Collatz sequence.\n",
        "\n",
        "Examples\n",
        "\n",
        "max_collatz(10) ➞ 16\n",
        "\n",
        "Collatz sequence: 10, 5, 16, 8, 4, 2, 1\n",
        "\n",
        "max_collatz(32) ➞ 32\n",
        "\n",
        "Collatz sequence: 32, 16, 8, 4, 2, 1\n",
        "\n",
        "max_collatz(85) ➞ 256\n",
        "\n",
        "Collatz sequence: 85, 256, 128, 64, 32, 16, 8, 4, 2, 1"
      ]
    },
    {
      "cell_type": "code",
      "metadata": {
        "id": "2w3Fz5Y0DDRi"
      },
      "source": [
        "def max_collatz(n):\n",
        "  lst1 = []\n",
        "  while True:\n",
        "    lst1.append(int(n))\n",
        "    if n == 1:\n",
        "      break\n",
        "    if n%2 == 0:\n",
        "      n = n/2\n",
        "    else:\n",
        "      n = 3*n + 1\n",
        "  #print(\"collatz seq =\", lst1)\n",
        "  return max(lst1)"
      ],
      "execution_count": null,
      "outputs": []
    },
    {
      "cell_type": "code",
      "metadata": {
        "colab": {
          "base_uri": "https://localhost:8080/"
        },
        "id": "W1OdwYcKFNaI",
        "outputId": "028caf26-bf26-46fd-9695-4022db479ea8"
      },
      "source": [
        "max_collatz(32)"
      ],
      "execution_count": null,
      "outputs": [
        {
          "output_type": "execute_result",
          "data": {
            "text/plain": [
              "32"
            ]
          },
          "metadata": {
            "tags": []
          },
          "execution_count": 39
        }
      ]
    },
    {
      "cell_type": "code",
      "metadata": {
        "colab": {
          "base_uri": "https://localhost:8080/"
        },
        "id": "lKAxfms-F7ds",
        "outputId": "8138c412-791b-46ca-a61a-17f3120aff62"
      },
      "source": [
        "max_collatz(85)"
      ],
      "execution_count": null,
      "outputs": [
        {
          "output_type": "execute_result",
          "data": {
            "text/plain": [
              "256"
            ]
          },
          "metadata": {
            "tags": []
          },
          "execution_count": 40
        }
      ]
    },
    {
      "cell_type": "markdown",
      "metadata": {
        "id": "jvL_pVgUGS-Q"
      },
      "source": [
        "5. Write a function that sorts a list of integers by their digit length in\n",
        "descending order, then settles ties by sorting numbers with the same digit\n",
        "length in ascending order.\n",
        "\n",
        "Examples\n",
        "\n",
        "digit_sort([77, 23, 5, 7, 101])\n",
        "➞ [101, 23, 77, 5, 7]\n",
        "\n",
        "digit_sort([1, 5, 9, 2, 789, 563, 444])\n",
        "➞ [444, 563, 789, 1, 2, 5, 9]"
      ]
    },
    {
      "cell_type": "code",
      "metadata": {
        "id": "1HlC5EBvF-WL",
        "colab": {
          "base_uri": "https://localhost:8080/"
        },
        "outputId": "a4b0af2c-a943-4918-f655-2262e50faac4"
      },
      "source": [
        "lst1 = [77, 23, 5, 7, 101]\n",
        "lst2 = {}\n",
        "lst3 = []\n",
        "for i in lst1:\n",
        "  if len(str(i)) in lst2:\n",
        "    lst2[len(str(i))] = [i]\n",
        "  else:\n",
        "    lst2[len(str(i))] = i\n",
        "lst2"
      ],
      "execution_count": 1,
      "outputs": [
        {
          "output_type": "execute_result",
          "data": {
            "text/plain": [
              "{1: [7], 2: [23], 3: 101}"
            ]
          },
          "metadata": {
            "tags": []
          },
          "execution_count": 1
        }
      ]
    },
    {
      "cell_type": "code",
      "metadata": {
        "colab": {
          "base_uri": "https://localhost:8080/"
        },
        "id": "VtTl-HiNXAvn",
        "outputId": "0f1f1595-3e84-46a7-bfe2-4e56e8856ef7"
      },
      "source": [
        "sorted(lst2.items(), reverse)"
      ],
      "execution_count": 35,
      "outputs": [
        {
          "output_type": "execute_result",
          "data": {
            "text/plain": [
              "[(101, 3), (77, 2), (23, 2), (7, 1), (5, 1)]"
            ]
          },
          "metadata": {
            "tags": []
          },
          "execution_count": 35
        }
      ]
    },
    {
      "cell_type": "code",
      "metadata": {
        "id": "GM0hZuLHefin"
      },
      "source": [
        "def digit_sort(lst1):\n",
        "  lst2 = {}\n",
        "  lst3 = []\n",
        "  for i in lst1:\n",
        "    if len(str(i)) in lst2:\n",
        "      lst2[len(str(i))].append(i)\n",
        "    else:\n",
        "      lst2[len(str(i))] = [i]\n",
        "  for i in sorted(lst2, reverse=True):\n",
        "    for  j in sorted(lst2[i]):\n",
        "      lst3.append(j)\n",
        "  return lst3"
      ],
      "execution_count": 16,
      "outputs": []
    },
    {
      "cell_type": "code",
      "metadata": {
        "colab": {
          "base_uri": "https://localhost:8080/"
        },
        "id": "1nxZa138L7zX",
        "outputId": "8f521ea8-10a1-4dd3-a915-19d7dc1b9eab"
      },
      "source": [
        "digit_sort([1, 5, 9, 2, 789, 563, 444]) "
      ],
      "execution_count": 17,
      "outputs": [
        {
          "output_type": "execute_result",
          "data": {
            "text/plain": [
              "[444, 563, 789, 1, 2, 5, 9]"
            ]
          },
          "metadata": {
            "tags": []
          },
          "execution_count": 17
        }
      ]
    },
    {
      "cell_type": "code",
      "metadata": {
        "id": "bEk7vVLWPpS-"
      },
      "source": [
        ""
      ],
      "execution_count": null,
      "outputs": []
    }
  ]
}