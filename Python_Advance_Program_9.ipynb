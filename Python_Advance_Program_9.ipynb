{
  "nbformat": 4,
  "nbformat_minor": 0,
  "metadata": {
    "colab": {
      "name": "Python Advance Program 9.ipynb",
      "provenance": [],
      "collapsed_sections": []
    },
    "kernelspec": {
      "name": "python3",
      "display_name": "Python 3"
    },
    "language_info": {
      "name": "python"
    }
  },
  "cells": [
    {
      "cell_type": "markdown",
      "metadata": {
        "id": "WJPvFR6ANi5H"
      },
      "source": [
        "2. We needs your help to construct a building which will be a pile of n cubes.\n",
        "The cube at the bottom will have a volume of n^3, the cube above will have\n",
        "volume of (n-1)^3 and so on until the top which will have a volume of 1^3.\n",
        "Given the total volume m of the building, can you find the number of cubes n\n",
        "required for the building?\n",
        "\n",
        "In other words, you have to return an integer n such that:\n",
        "\n",
        "n^3 + (n-1)^3 + ... + 1^3 == m\n",
        "\n",
        "Return None if there is no such number."
      ]
    },
    {
      "cell_type": "code",
      "metadata": {
        "id": "qdUB95TeLLeK"
      },
      "source": [
        "def cubes(m):\n",
        "  n = 1\n",
        "  summ = 0\n",
        "  while summ <= m:\n",
        "    summ += n**3\n",
        "    n += 1\n",
        "    if summ == m:\n",
        "      a = n - 1\n",
        "      break\n",
        "    else: \n",
        "      a = 'None'  \n",
        "  return a    "
      ],
      "execution_count": 12,
      "outputs": []
    },
    {
      "cell_type": "code",
      "metadata": {
        "colab": {
          "base_uri": "https://localhost:8080/"
        },
        "id": "HUQDhR5DPumr",
        "outputId": "56811527-218c-493d-88e5-521d166aa4c3"
      },
      "source": [
        "cubes(4183059834009)"
      ],
      "execution_count": 13,
      "outputs": [
        {
          "output_type": "execute_result",
          "data": {
            "text/plain": [
              "2022"
            ]
          },
          "metadata": {
            "tags": []
          },
          "execution_count": 13
        }
      ]
    },
    {
      "cell_type": "code",
      "metadata": {
        "colab": {
          "base_uri": "https://localhost:8080/",
          "height": 35
        },
        "id": "4iilr0vQVTEj",
        "outputId": "2e8d4673-6de0-40d5-a8d1-f9d8cf2e8bce"
      },
      "source": [
        "cubes(5000)"
      ],
      "execution_count": 43,
      "outputs": [
        {
          "output_type": "execute_result",
          "data": {
            "application/vnd.google.colaboratory.intrinsic+json": {
              "type": "string"
            },
            "text/plain": [
              "'None'"
            ]
          },
          "metadata": {
            "tags": []
          },
          "execution_count": 43
        }
      ]
    },
    {
      "cell_type": "markdown",
      "metadata": {
        "id": "n-c7hvAdWcGi"
      },
      "source": [
        "3. A fulcrum of a list is an integer such that all elements to the left of it and all\n",
        "elements to the right of it sum to the same value. Write a function that finds\n",
        "the fulcrum of a list.\n",
        "\n",
        "To illustrate:\n",
        "\n",
        "find_fulcrum([3, 1, 5, 2, 4, 6, -1]) ➞ 2\n",
        "// Since [3, 1, 5] and [4, 6, -1] both sum to 9"
      ]
    },
    {
      "cell_type": "code",
      "metadata": {
        "id": "FWE6pDT8VzPu"
      },
      "source": [
        "def find_fulcrum(lst):\n",
        "  for j in range(1, len(lst)-1):\n",
        "    if sum(lst[0:j]) == sum(lst[j+1:]):\n",
        "      return lst[j]\n",
        "      break"
      ],
      "execution_count": 20,
      "outputs": []
    },
    {
      "cell_type": "code",
      "metadata": {
        "colab": {
          "base_uri": "https://localhost:8080/"
        },
        "id": "YVMj1Q-AZdxl",
        "outputId": "684bd3da-907b-4963-f0b4-61c69c073748"
      },
      "source": [
        "find_fulcrum([1, 2, 4, 9, 10, -10, -9, 3])"
      ],
      "execution_count": 21,
      "outputs": [
        {
          "output_type": "execute_result",
          "data": {
            "text/plain": [
              "4"
            ]
          },
          "metadata": {
            "tags": []
          },
          "execution_count": 21
        }
      ]
    },
    {
      "cell_type": "code",
      "metadata": {
        "colab": {
          "base_uri": "https://localhost:8080/"
        },
        "id": "rD8UQd3SqnpW",
        "outputId": "25ea0e93-4297-4a10-a418-30b9e5339c2e"
      },
      "source": [
        "find_fulcrum([7, -1, 0, -1, 1, 1, 2, 3])"
      ],
      "execution_count": 22,
      "outputs": [
        {
          "output_type": "execute_result",
          "data": {
            "text/plain": [
              "0"
            ]
          },
          "metadata": {
            "tags": []
          },
          "execution_count": 22
        }
      ]
    },
    {
      "cell_type": "markdown",
      "metadata": {
        "id": "oR1iBXS7sKG1"
      },
      "source": [
        "4. Given a list of integers representing the color of each sock, determine how\n",
        "many pairs of socks with matching colors there are. For example, there are 7\n",
        "socks with colors [1, 2, 1, 2, 1, 3, 2]. There is one pair of color 1 and one of\n",
        "color 2. There are three odd socks left, one of each color. The number of\n",
        "pairs is 2.\n",
        "\n",
        "Create a function that returns an integer representing the number of matching\n",
        "pairs of socks that are available.\n",
        "\n",
        "Examples\n",
        "\n",
        "sock_merchant([10, 20, 20, 10, 10, 30, 50, 10, 20]) ➞ 3\n",
        "\n",
        "sock_merchant([50, 20, 30, 90, 30, 20, 50, 20, 90]) ➞ 4"
      ]
    },
    {
      "cell_type": "code",
      "metadata": {
        "id": "HJJd4cs-67MR"
      },
      "source": [
        "def sock_merchant(lst):\n",
        "    n = len(lst)\n",
        "    pair = 0\n",
        "    d = {}\n",
        "    for i in lst:\n",
        "        if i in d:\n",
        "            d[i] += 1\n",
        "        if i not in d:\n",
        "            d[i] = 1\n",
        "    print(d)\n",
        "    for x in d:\n",
        "        u = d[x]//2\n",
        "        pair += u\n",
        "    return pair"
      ],
      "execution_count": 42,
      "outputs": []
    },
    {
      "cell_type": "code",
      "metadata": {
        "colab": {
          "base_uri": "https://localhost:8080/"
        },
        "id": "CY9q2jrVkYvG",
        "outputId": "90fa872d-08d2-48f5-8195-dff3e3c38250"
      },
      "source": [
        "sock_merchant([10, 20, 20, 10, 10, 30, 50, 10, 20])"
      ],
      "execution_count": 44,
      "outputs": [
        {
          "output_type": "stream",
          "text": [
            "{10: 4, 20: 3, 30: 1, 50: 1}\n"
          ],
          "name": "stdout"
        },
        {
          "output_type": "execute_result",
          "data": {
            "text/plain": [
              "3"
            ]
          },
          "metadata": {
            "tags": []
          },
          "execution_count": 44
        }
      ]
    },
    {
      "cell_type": "code",
      "metadata": {
        "colab": {
          "base_uri": "https://localhost:8080/"
        },
        "id": "ZQ_JNWtWbqTO",
        "outputId": "331fd4e2-c39a-4e2c-f0c3-fc004a27689d"
      },
      "source": [
        "sock_merchant([50, 20, 30, 90, 30, 20, 50, 20, 90])"
      ],
      "execution_count": 43,
      "outputs": [
        {
          "output_type": "stream",
          "text": [
            "{50: 2, 20: 3, 30: 2, 90: 2}\n"
          ],
          "name": "stdout"
        },
        {
          "output_type": "execute_result",
          "data": {
            "text/plain": [
              "4"
            ]
          },
          "metadata": {
            "tags": []
          },
          "execution_count": 43
        }
      ]
    },
    {
      "cell_type": "code",
      "metadata": {
        "colab": {
          "base_uri": "https://localhost:8080/"
        },
        "id": "STDs5O_tkQdd",
        "outputId": "10264a73-25ee-454c-c205-c2b191b0b74e"
      },
      "source": [
        "-12-11"
      ],
      "execution_count": 45,
      "outputs": [
        {
          "output_type": "execute_result",
          "data": {
            "text/plain": [
              "-23"
            ]
          },
          "metadata": {
            "tags": []
          },
          "execution_count": 45
        }
      ]
    },
    {
      "cell_type": "markdown",
      "metadata": {
        "id": "AylCQvbdmPz8"
      },
      "source": [
        "5. Create a function that takes a string containing integers as well as other\n",
        "characters and return the sum of the negative integers only.\n",
        "\n",
        "Examples\n",
        "negative_sum(&quot;-12 13%14&amp;-11&quot;) ➞ -23\n",
        " -12 + -11 = -23\n",
        " \n",
        "negative_sum(&quot;22 13%14&amp;-11-22 13 12&quot;) ➞ -33\n",
        " -11 + -22 = -33"
      ]
    },
    {
      "cell_type": "code",
      "metadata": {
        "id": "0uwmMKqqnBeE"
      },
      "source": [
        "def negative_sum(str1):\n",
        "  z = 0\n",
        "  str2 = ''\n",
        "  for i in range(len(str1)):\n",
        "    if str1[i] == '-':\n",
        "      str2 = str1[i] + str1[i+1] + str1[i+2]\n",
        "      z += int(str2)  \n",
        "  return z    "
      ],
      "execution_count": 55,
      "outputs": []
    },
    {
      "cell_type": "code",
      "metadata": {
        "colab": {
          "base_uri": "https://localhost:8080/"
        },
        "id": "YmMXOJxTnd4U",
        "outputId": "351e0467-7e5f-4a0a-ca6b-fe70a66e88f7"
      },
      "source": [
        "negative_sum(\"-12 13%14&-11\")"
      ],
      "execution_count": 56,
      "outputs": [
        {
          "output_type": "execute_result",
          "data": {
            "text/plain": [
              "-23"
            ]
          },
          "metadata": {
            "tags": []
          },
          "execution_count": 56
        }
      ]
    },
    {
      "cell_type": "code",
      "metadata": {
        "id": "59rQzF09o_wV"
      },
      "source": [
        ""
      ],
      "execution_count": null,
      "outputs": []
    }
  ]
}