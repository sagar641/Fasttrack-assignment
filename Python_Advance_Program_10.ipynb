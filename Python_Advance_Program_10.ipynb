{
  "nbformat": 4,
  "nbformat_minor": 0,
  "metadata": {
    "colab": {
      "name": "Python Advance Program 10",
      "provenance": [],
      "collapsed_sections": []
    },
    "kernelspec": {
      "name": "python3",
      "display_name": "Python 3"
    },
    "language_info": {
      "name": "python"
    }
  },
  "cells": [
    {
      "cell_type": "markdown",
      "metadata": {
        "id": "L6w_nCQdmVPb"
      },
      "source": [
        "1. Create a function that takes the width, height and character and returns a\n",
        "picture frame as a 2D list."
      ]
    },
    {
      "cell_type": "markdown",
      "metadata": {
        "id": "hwdSnBUXmaJ7"
      },
      "source": [
        "get_frame(4, 5, &quot;#&quot;) ➞ [\n",
        "[&quot;####&quot;],\n",
        "[&quot;# #&quot;],\n",
        "[&quot;# #&quot;],\n",
        "[&quot;# #&quot;],\n",
        "[&quot;####&quot;]\n",
        "]\n",
        "# Frame is 4 characters wide and 5 characters tall."
      ]
    },
    {
      "cell_type": "code",
      "metadata": {
        "id": "kxaI4SQu7v32"
      },
      "source": [
        "def get_frame(a, b, char):\n",
        "  lst = []\n",
        "  if a>2 and b>2:\n",
        "    for i in range(b):\n",
        "      lst1 = []\n",
        "      str1 = ''\n",
        "      for j in range(a):\n",
        "        if j==0 or i==0 or i==b-1 or j==a-1:\n",
        "          str1 += char\n",
        "        else:\n",
        "          str1 += ' '\n",
        "      lst1.append(str1) \n",
        "      lst.append(lst1) \n",
        "    return lst\n",
        "\n",
        "  else:\n",
        "    print(\"Frame's width is not more than 2.\")\n",
        "  "
      ],
      "execution_count": null,
      "outputs": []
    },
    {
      "cell_type": "code",
      "metadata": {
        "id": "R01SJBO08MmT",
        "colab": {
          "base_uri": "https://localhost:8080/"
        },
        "outputId": "8a32adab-fbfa-4e7f-b0c5-a77db446a62a"
      },
      "source": [
        "get_frame(4, 5, \"#\")"
      ],
      "execution_count": null,
      "outputs": [
        {
          "output_type": "execute_result",
          "data": {
            "text/plain": [
              "[['####'], ['#  #'], ['#  #'], ['#  #'], ['####']]"
            ]
          },
          "metadata": {
            "tags": []
          },
          "execution_count": 42
        }
      ]
    },
    {
      "cell_type": "code",
      "metadata": {
        "colab": {
          "base_uri": "https://localhost:8080/"
        },
        "id": "pfvLYIUNw4J9",
        "outputId": "e39d8274-1fed-46c3-951f-26fe331433a3"
      },
      "source": [
        "get_frame(10, 3, \"*\")"
      ],
      "execution_count": null,
      "outputs": [
        {
          "output_type": "execute_result",
          "data": {
            "text/plain": [
              "[['**********'], ['*        *'], ['**********']]"
            ]
          },
          "metadata": {
            "tags": []
          },
          "execution_count": 43
        }
      ]
    },
    {
      "cell_type": "code",
      "metadata": {
        "colab": {
          "base_uri": "https://localhost:8080/"
        },
        "id": "3QsREz4M-KUP",
        "outputId": "c84ad8a7-d2d0-431b-d048-0fd705d5b939"
      },
      "source": [
        "get_frame(10, 2, \"*\")"
      ],
      "execution_count": null,
      "outputs": [
        {
          "output_type": "stream",
          "text": [
            "Frame's width is not more than 2.\n"
          ],
          "name": "stdout"
        }
      ]
    },
    {
      "cell_type": "markdown",
      "metadata": {
        "id": "oupm09P3IOaO"
      },
      "source": [
        "2. Write three functions:\n",
        "1. boolean_and\n",
        "2. boolean_or\n",
        "3. boolean_xor\n",
        "These functions should evaluate a list of True and False values, starting from\n",
        "the leftmost element and evaluating pairwise.\n",
        "Examples\n",
        "boolean_and([True, True, False, True]) ➞ False\n",
        "# [True, True, False, True] =&gt; [True, False, True] =&gt; [False, True] =&gt; False"
      ]
    },
    {
      "cell_type": "code",
      "metadata": {
        "id": "eJFj-hLU-hU8"
      },
      "source": [
        "def boolean_and(lst):\n",
        "  if len(lst) == 2:\n",
        "    return lst[0] and lst[1]\n",
        "  else:\n",
        "    lst2 = []\n",
        "    for i in range(len(lst) - 1):\n",
        "      a = lst[i] and lst[i+1]\n",
        "      lst2.append(a)\n",
        "    return boolean_and(lst2)"
      ],
      "execution_count": null,
      "outputs": []
    },
    {
      "cell_type": "code",
      "metadata": {
        "colab": {
          "base_uri": "https://localhost:8080/"
        },
        "id": "0LfWHj7PQD_8",
        "outputId": "97e763be-e325-4e55-e8d2-afa0fdf5b29a"
      },
      "source": [
        "boolean_and([True, True, True, True])"
      ],
      "execution_count": null,
      "outputs": [
        {
          "output_type": "execute_result",
          "data": {
            "text/plain": [
              "True"
            ]
          },
          "metadata": {
            "tags": []
          },
          "execution_count": 47
        }
      ]
    },
    {
      "cell_type": "code",
      "metadata": {
        "id": "4smTyx5YQHVr"
      },
      "source": [
        "def boolean_or(lst):\n",
        "  if len(lst) == 2:\n",
        "    return lst[0] or lst[1]\n",
        "  else:\n",
        "    lst2 = []\n",
        "    for i in range(len(lst) - 1):\n",
        "      a = lst[i] or lst[i+1]\n",
        "      lst2.append(a)\n",
        "    return boolean_or(lst2)"
      ],
      "execution_count": null,
      "outputs": []
    },
    {
      "cell_type": "code",
      "metadata": {
        "colab": {
          "base_uri": "https://localhost:8080/"
        },
        "id": "8U2He4N-Qb8G",
        "outputId": "3e29dd8e-01ef-46ce-bda4-d141661f67fb"
      },
      "source": [
        "boolean_or([True, True, False, False])"
      ],
      "execution_count": null,
      "outputs": [
        {
          "output_type": "execute_result",
          "data": {
            "text/plain": [
              "True"
            ]
          },
          "metadata": {
            "tags": []
          },
          "execution_count": 50
        }
      ]
    },
    {
      "cell_type": "code",
      "metadata": {
        "id": "ai-wFIEaQfHi"
      },
      "source": [
        "def boolean_xor(lst):\n",
        "  if len(lst) == 2:\n",
        "    return lst[0] ^ lst[1]\n",
        "  else:\n",
        "    lst2 = []\n",
        "    for i in range(len(lst) - 1):\n",
        "      a = lst[i] ^ lst[i+1]\n",
        "      lst2.append(a)\n",
        "    return boolean_xor(lst2)"
      ],
      "execution_count": null,
      "outputs": []
    },
    {
      "cell_type": "code",
      "metadata": {
        "colab": {
          "base_uri": "https://localhost:8080/"
        },
        "id": "JdlqXfDjSF0R",
        "outputId": "2745f0b9-85a0-4ba0-f2e9-437b34b8239f"
      },
      "source": [
        "boolean_xor([True, True, False, False])"
      ],
      "execution_count": null,
      "outputs": [
        {
          "output_type": "execute_result",
          "data": {
            "text/plain": [
              "False"
            ]
          },
          "metadata": {
            "tags": []
          },
          "execution_count": 58
        }
      ]
    },
    {
      "cell_type": "markdown",
      "metadata": {
        "id": "MuOMyfsKUY2C"
      },
      "source": [
        "3. Create a function that creates a box based on dimension n.\n",
        "Examples\n",
        "make_box(5) ➞ [\n",
        "&quot;#####&quot;,\n",
        "&quot;# #&quot;,\n",
        "&quot;# #&quot;,\n",
        "&quot;# #&quot;,\n",
        "&quot;#####&quot;\n",
        "]"
      ]
    },
    {
      "cell_type": "code",
      "metadata": {
        "id": "BCIZN0YQSKj5"
      },
      "source": [
        "def make_box(a):\n",
        "  lst = []\n",
        "  for i in range(a):\n",
        "    str1 = ''\n",
        "    for j in range(a):\n",
        "      if j==0 or i==0 or i==a-1 or j==a-1:\n",
        "        str1 += '#'\n",
        "      else:\n",
        "        str1 += ' '\n",
        "    lst.append(str1) \n",
        "  return lst"
      ],
      "execution_count": null,
      "outputs": []
    },
    {
      "cell_type": "code",
      "metadata": {
        "colab": {
          "base_uri": "https://localhost:8080/"
        },
        "id": "ryGDSPN4U1HH",
        "outputId": "70136e21-40ac-4ce4-edcc-b655ca6ded3f"
      },
      "source": [
        "make_box(5)"
      ],
      "execution_count": null,
      "outputs": [
        {
          "output_type": "execute_result",
          "data": {
            "text/plain": [
              "['#####', '#   #', '#   #', '#   #', '#####']"
            ]
          },
          "metadata": {
            "tags": []
          },
          "execution_count": 63
        }
      ]
    },
    {
      "cell_type": "code",
      "metadata": {
        "colab": {
          "base_uri": "https://localhost:8080/"
        },
        "id": "Fsb3Vxk1U6sU",
        "outputId": "ec118751-e64c-4f74-f6bd-fe517c5d529f"
      },
      "source": [
        "make_box(1)"
      ],
      "execution_count": null,
      "outputs": [
        {
          "output_type": "execute_result",
          "data": {
            "text/plain": [
              "['#']"
            ]
          },
          "metadata": {
            "tags": []
          },
          "execution_count": 64
        }
      ]
    },
    {
      "cell_type": "code",
      "metadata": {
        "colab": {
          "base_uri": "https://localhost:8080/"
        },
        "id": "0F2skOEaWHmq",
        "outputId": "93b1db0e-5782-49e5-a861-e728a6652f1f"
      },
      "source": [
        "make_box(2)"
      ],
      "execution_count": null,
      "outputs": [
        {
          "output_type": "execute_result",
          "data": {
            "text/plain": [
              "['##', '##']"
            ]
          },
          "metadata": {
            "tags": []
          },
          "execution_count": 65
        }
      ]
    },
    {
      "cell_type": "markdown",
      "metadata": {
        "id": "truXqhUvgDFG"
      },
      "source": [
        "4. Given a common phrase, return False if any individual word in the phrase\n",
        "contains duplicate letters. Return True otherwise.\n",
        "\n",
        "Examples\n",
        "\n",
        "no_duplicate_letters(&quot;Fortune favours the bold.&quot;) ➞ True\n",
        "\n",
        "no_duplicate_letters(&quot;You can lead a horse to water, but you can&#39;t make him\n",
        "\n",
        "drink.&quot;) ➞ True"
      ]
    },
    {
      "cell_type": "code",
      "metadata": {
        "id": "cHFWDznSWJsQ"
      },
      "source": [
        "import collections\n",
        "def no_duplicate_letters(str1):\n",
        "  words = []\n",
        "  lst = str1.split(' ')\n",
        "  for i in lst:\n",
        "    str3 = ''\n",
        "    str3 += ''.join(char for char in i if char.isalnum())\n",
        "    words.append(str3)\n",
        "  word_counts = collections.Counter(words)\n",
        "  for count in word_counts.values():\n",
        "    if count>1:\n",
        "      a = False\n",
        "      break\n",
        "    else:\n",
        "      a = True\n",
        "  return a"
      ],
      "execution_count": 22,
      "outputs": []
    },
    {
      "cell_type": "code",
      "metadata": {
        "id": "70O4sTnLiT1q",
        "colab": {
          "base_uri": "https://localhost:8080/"
        },
        "outputId": "bc71ca53-716a-49cc-c3d6-d242989a5e4b"
      },
      "source": [
        "no_duplicate_letters(\"You can lead a horse to water, but you can't make him drink.\")"
      ],
      "execution_count": 25,
      "outputs": [
        {
          "output_type": "execute_result",
          "data": {
            "text/plain": [
              "True"
            ]
          },
          "metadata": {
            "tags": []
          },
          "execution_count": 25
        }
      ]
    },
    {
      "cell_type": "code",
      "metadata": {
        "id": "2faJ7CcemC8_"
      },
      "source": [
        ""
      ],
      "execution_count": null,
      "outputs": []
    }
  ]
}