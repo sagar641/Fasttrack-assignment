{
  "nbformat": 4,
  "nbformat_minor": 0,
  "metadata": {
    "colab": {
      "name": "Python Advance Program 19.ipynb",
      "provenance": []
    },
    "kernelspec": {
      "name": "python3",
      "display_name": "Python 3"
    },
    "language_info": {
      "name": "python"
    }
  },
  "cells": [
    {
      "cell_type": "markdown",
      "metadata": {
        "id": "gwOwI4Cy96ry"
      },
      "source": [
        "1. Create a checker board generator, which takes as inputs n and 2 elements\n",
        "to generate an n x n checkerboard with those two elements as alternating\n",
        "squares.\n",
        "\n",
        "Examples\n",
        "\n",
        "checker_board(2, 7, 6) ➞ [\n",
        "[7, 6],\n",
        "[6, 7]\n",
        "]\n",
        "\n",
        "checker_board(3, &quot;A&quot;, &quot;B&quot;) ➞ [\n",
        "[&quot;A&quot;, &quot;B&quot;, &quot;A&quot;],\n",
        "[&quot;B&quot;, &quot;A&quot;, &quot;B&quot;],\n",
        "[&quot;A&quot;, &quot;B&quot;, &quot;A&quot;]\n",
        "]\n",
        "\n",
        "checker_board(4, &quot;c&quot;, &quot;d&quot;) ➞ [\n",
        "[&quot;c&quot;, &quot;d&quot;, &quot;c&quot;, &quot;d&quot;],\n",
        "[&quot;d&quot;, &quot;c&quot;, &quot;d&quot;, &quot;c&quot;],\n",
        "[&quot;c&quot;, &quot;d&quot;, &quot;c&quot;, &quot;d&quot;],\n",
        "[&quot;d&quot;, &quot;c&quot;, &quot;d&quot;, &quot;c&quot;]\n",
        "]\n",
        "\n",
        "checker_board(4, &quot;c&quot;, &quot;c&quot;) ➞ &quot;invalid&quot;"
      ]
    },
    {
      "cell_type": "code",
      "metadata": {
        "id": "obXKnpjR6YTV"
      },
      "source": [
        "def checker_board(n, ele1, ele2):\n",
        "  if ele1 != ele2:\n",
        "    lst1 = []\n",
        "    for i in range(n):\n",
        "      lst2 = []\n",
        "      for j in range(n):\n",
        "        if j%2 == 0:\n",
        "          lst2.append(ele1)\n",
        "        else:\n",
        "          lst2.append(ele2)\n",
        "      lst1.append(lst2)\n",
        "    return lst1\n",
        "  else:\n",
        "    return \"Invalid\""
      ],
      "execution_count": null,
      "outputs": []
    },
    {
      "cell_type": "code",
      "metadata": {
        "colab": {
          "base_uri": "https://localhost:8080/",
          "height": 35
        },
        "id": "m8GXI6BD_r-_",
        "outputId": "d782e2fd-1ba9-4474-c325-f823d5682422"
      },
      "source": [
        "checker_board(4, \"c\", \"c\")"
      ],
      "execution_count": null,
      "outputs": [
        {
          "output_type": "execute_result",
          "data": {
            "application/vnd.google.colaboratory.intrinsic+json": {
              "type": "string"
            },
            "text/plain": [
              "'Invalid'"
            ]
          },
          "metadata": {
            "tags": []
          },
          "execution_count": 7
        }
      ]
    },
    {
      "cell_type": "code",
      "metadata": {
        "colab": {
          "base_uri": "https://localhost:8080/"
        },
        "id": "o6A_WNhQAlse",
        "outputId": "7484f0a6-77d5-4cae-aa66-037737e2e424"
      },
      "source": [
        "checker_board(4, \"c\", \"d\")"
      ],
      "execution_count": null,
      "outputs": [
        {
          "output_type": "execute_result",
          "data": {
            "text/plain": [
              "[['c', 'd', 'c', 'd'],\n",
              " ['c', 'd', 'c', 'd'],\n",
              " ['c', 'd', 'c', 'd'],\n",
              " ['c', 'd', 'c', 'd']]"
            ]
          },
          "metadata": {
            "tags": []
          },
          "execution_count": 8
        }
      ]
    },
    {
      "cell_type": "markdown",
      "metadata": {
        "id": "uj3onyHhA8-5"
      },
      "source": [
        "2. A string is an almost-palindrome if, by changing only one character, you\n",
        "can make it a palindrome. Create a function that returns True if a string is an\n",
        "almost-palindrome and False otherwise.\n",
        "\n",
        "Examples\n",
        "\n",
        "almost_palindrome(&quot;abcdcbg&quot;) ➞ True\n",
        "# Transformed to &quot;abcdcba&quot; by changing &quot;g&quot; to &quot;a&quot;.\n",
        "almost_palindrome(&quot;abccia&quot;) ➞ True\n",
        "# Transformed to &quot;abccba&quot; by changing &quot;i&quot; to &quot;b&quot;.\n",
        "almost_palindrome(&quot;abcdaaa&quot;) ➞ False\n",
        "# Can&#39;t be transformed to a palindrome in exactly 1 turn.\n",
        "almost_palindrome(&quot;1234312&quot;) ➞ False"
      ]
    },
    {
      "cell_type": "code",
      "metadata": {
        "id": "-Y8CuhB_ApAl"
      },
      "source": [
        "def almost_palindrome(str1):\n",
        "  l = len(str1)\n",
        "  count = 0\n",
        "  for i in range(l//2):\n",
        "    if str1[i] == str1[l-i-1]:\n",
        "      continue\n",
        "    else:\n",
        "      count += 1\n",
        "  if count <= 1:\n",
        "    return True\n",
        "  else:\n",
        "    return False"
      ],
      "execution_count": null,
      "outputs": []
    },
    {
      "cell_type": "code",
      "metadata": {
        "colab": {
          "base_uri": "https://localhost:8080/"
        },
        "id": "GyOdca5yCoQs",
        "outputId": "73cfa800-c9fe-4d68-c060-1b828d3ddfd2"
      },
      "source": [
        "almost_palindrome(\"1234312\")"
      ],
      "execution_count": null,
      "outputs": [
        {
          "output_type": "execute_result",
          "data": {
            "text/plain": [
              "False"
            ]
          },
          "metadata": {
            "tags": []
          },
          "execution_count": 26
        }
      ]
    },
    {
      "cell_type": "code",
      "metadata": {
        "colab": {
          "base_uri": "https://localhost:8080/"
        },
        "id": "goq3aNWiD4vN",
        "outputId": "36c28c26-7a0b-4c25-c29f-c1b066b40337"
      },
      "source": [
        "almost_palindrome(\"abcdaaa\")"
      ],
      "execution_count": null,
      "outputs": [
        {
          "output_type": "execute_result",
          "data": {
            "text/plain": [
              "False"
            ]
          },
          "metadata": {
            "tags": []
          },
          "execution_count": 27
        }
      ]
    },
    {
      "cell_type": "code",
      "metadata": {
        "colab": {
          "base_uri": "https://localhost:8080/"
        },
        "id": "96KtScHWEKh8",
        "outputId": "bc53b1d0-2b88-46bb-81c7-ab0f0f40f858"
      },
      "source": [
        "almost_palindrome(\"abccia\")"
      ],
      "execution_count": null,
      "outputs": [
        {
          "output_type": "execute_result",
          "data": {
            "text/plain": [
              "True"
            ]
          },
          "metadata": {
            "tags": []
          },
          "execution_count": 28
        }
      ]
    },
    {
      "cell_type": "code",
      "metadata": {
        "colab": {
          "base_uri": "https://localhost:8080/"
        },
        "id": "SoiqitGYENPI",
        "outputId": "454adcad-2ca4-450f-854d-e259028c859b"
      },
      "source": [
        "almost_palindrome(\"abcdcbg\")"
      ],
      "execution_count": null,
      "outputs": [
        {
          "output_type": "execute_result",
          "data": {
            "text/plain": [
              "True"
            ]
          },
          "metadata": {
            "tags": []
          },
          "execution_count": 29
        }
      ]
    },
    {
      "cell_type": "markdown",
      "metadata": {
        "id": "P7q33qR9FC5Y"
      },
      "source": [
        "3. Create a function that finds how many prime numbers there are, up to the\n",
        "given integer.\n",
        "\n",
        "Examples\n",
        "\n",
        "prime_numbers(10) ➞ 4\n",
        "# 2, 3, 5 and 7\n",
        "prime_numbers(20) ➞ 8\n",
        "# 2, 3, 5, 7, 11, 13, 17 and 19\n",
        "prime_numbers(30) ➞ 10\n",
        "# 2, 3, 5, 7, 11, 13, 17, 19, 23 and 29"
      ]
    },
    {
      "cell_type": "code",
      "metadata": {
        "id": "-DT6w47YEP6Q"
      },
      "source": [
        "def prime_numbers(n):\n",
        "  lst = []\n",
        "  for i in range(2, n):\n",
        "    count = 0\n",
        "    prime = True\n",
        "    for j in range(2, i):\n",
        "      if i%j == 0:\n",
        "        count += 1\n",
        "        break\n",
        "    if count == 0:\n",
        "      prime = True\n",
        "      lst.append(i)\n",
        "  return len(lst)"
      ],
      "execution_count": 5,
      "outputs": []
    },
    {
      "cell_type": "code",
      "metadata": {
        "colab": {
          "base_uri": "https://localhost:8080/"
        },
        "id": "k25ebXoHP_UA",
        "outputId": "20e03e85-2a2f-4492-df6f-97d31307b4e8"
      },
      "source": [
        "prime_numbers(30) "
      ],
      "execution_count": 6,
      "outputs": [
        {
          "output_type": "execute_result",
          "data": {
            "text/plain": [
              "10"
            ]
          },
          "metadata": {
            "tags": []
          },
          "execution_count": 6
        }
      ]
    },
    {
      "cell_type": "markdown",
      "metadata": {
        "id": "x1LXp0EBQ1IS"
      },
      "source": [
        "4. If today was Monday, in two days, it would be Wednesday.\n",
        "Create a function that takes in a list of days as input and the number of days\n",
        "to increment by. Return a list of days after n number of days has passed.\n",
        "\n",
        "Examples\n",
        "\n",
        "after_n_days([&quot;Thursday&quot;, &quot;Monday&quot;], 4) ➞ [&quot;Monday&quot;, &quot;Friday&quot;]\n",
        "\n",
        "after_n_days([&quot;Sunday&quot;, &quot;Sunday&quot;, &quot;Sunday&quot;], 1) ➞ [&quot;Monday&quot;, &quot;Monday&quot;,\n",
        "&quot;Monday&quot;]\n",
        "\n",
        "after_n_days([&quot;Monday&quot;, &quot;Tuesday&quot;, &quot;Friday&quot;], 1) ➞ [&quot;Tuesday&quot;, &quot;Wednesday&quot;,\n",
        "&quot;Saturday&quot;]"
      ]
    },
    {
      "cell_type": "code",
      "metadata": {
        "id": "x92QLPyJQxVC"
      },
      "source": [
        "def after_n_days(lst, incr):\n",
        "  final_lst = []\n",
        "  lst1 = [\"Sunday\", \"Monday\", \"Tuesday\", \"Wednesday\", \"Thursday\", \"Friday\", \"Saturday\"]\n",
        "  for i in range(len(lst)):\n",
        "    #for j in range(len(lst1)):\n",
        "    j = lst1.index(lst[i])+incr\n",
        "    j = j%7\n",
        "    final_lst.append(lst1[j])\n",
        "  return final_lst"
      ],
      "execution_count": 17,
      "outputs": []
    },
    {
      "cell_type": "code",
      "metadata": {
        "colab": {
          "base_uri": "https://localhost:8080/"
        },
        "id": "Y7N7ERPOc2wu",
        "outputId": "ed01b69b-55d4-45b2-bd99-64203580f133"
      },
      "source": [
        "after_n_days([\"Monday\", \"Tuesday\", \"Friday\"], 1)"
      ],
      "execution_count": 18,
      "outputs": [
        {
          "output_type": "execute_result",
          "data": {
            "text/plain": [
              "['Tuesday', 'Wednesday', 'Saturday']"
            ]
          },
          "metadata": {
            "tags": []
          },
          "execution_count": 18
        }
      ]
    },
    {
      "cell_type": "code",
      "metadata": {
        "colab": {
          "base_uri": "https://localhost:8080/"
        },
        "id": "8BDxm-hse6zu",
        "outputId": "22cdab8a-264a-43b0-d2e0-66c141252296"
      },
      "source": [
        "after_n_days([\"Sunday\", \"Sunday\", \"Sunday\"], 1)"
      ],
      "execution_count": 19,
      "outputs": [
        {
          "output_type": "execute_result",
          "data": {
            "text/plain": [
              "['Monday', 'Monday', 'Monday']"
            ]
          },
          "metadata": {
            "tags": []
          },
          "execution_count": 19
        }
      ]
    },
    {
      "cell_type": "markdown",
      "metadata": {
        "id": "HXNLiTP9fbSV"
      },
      "source": [
        "5. You are in the process of creating a chat application and want to add an\n",
        "anonymous name feature. This anonymous name feature will create an alias\n",
        "that consists of two capitalized words beginning with the same letter as the\n",
        "users first name.\n",
        "Create a function that determines if the list of users is mapped to a list of\n",
        "anonymous names correctly.\n",
        "\n",
        "Examples\n",
        "\n",
        "is_correct_aliases([&quot;Adrian M.&quot;, &quot;Harriet S.&quot;, &quot;Mandy T.&quot;], [&quot;Amazing\n",
        "Artichoke&quot;, &quot;Hopeful Hedgehog&quot;, &quot;Marvelous Mouse&quot;]) ➞ True\n",
        "\n",
        "is_correct_aliases([&quot;Rachel F.&quot;, &quot;Pam G.&quot;, &quot;Fred Z.&quot;, &quot;Nancy K.&quot;],\n",
        "[&quot;Reassuring Rat&quot;, &quot;Peaceful Panda&quot;, &quot;Fantastic Frog&quot;, &quot;Notable Nickel&quot;]) ➞\n",
        "True\n",
        "\n",
        "is_correct_aliases([&quot;Beth T.&quot;], [&quot;Brandishing Mimosa&quot;]) ➞ False"
      ]
    },
    {
      "cell_type": "code",
      "metadata": {
        "id": "r0P3N-rtfEud"
      },
      "source": [
        "def is_correct_aliases(lst1, lst2):\n",
        "  condition = True\n",
        "  for i in range(len(lst1)):\n",
        "    for j in lst2[i].split(\" \"):\n",
        "      if j[0] == lst1[i][0]:\n",
        "        continue\n",
        "      else:\n",
        "        condition = False\n",
        "        break\n",
        "  return condition"
      ],
      "execution_count": 26,
      "outputs": []
    },
    {
      "cell_type": "code",
      "metadata": {
        "colab": {
          "base_uri": "https://localhost:8080/"
        },
        "id": "9LCAArD-hGeQ",
        "outputId": "3a94c3cf-3240-445a-f2b2-8d931e0daf13"
      },
      "source": [
        "is_correct_aliases([\"Adrian M.\", \"Harriet S.\", \"Mandy T.\"], [\"Amazing Artichoke\", \"Hopeful Hedgehog\", \"Marvelous Mouse\"])"
      ],
      "execution_count": 27,
      "outputs": [
        {
          "output_type": "execute_result",
          "data": {
            "text/plain": [
              "True"
            ]
          },
          "metadata": {
            "tags": []
          },
          "execution_count": 27
        }
      ]
    },
    {
      "cell_type": "code",
      "metadata": {
        "colab": {
          "base_uri": "https://localhost:8080/"
        },
        "id": "9z4KJNHmvAg7",
        "outputId": "51e98ae9-da84-4bd5-a724-e61b42d20f6b"
      },
      "source": [
        "is_correct_aliases([\"Rachel F.\", \"Pam G.\", \"Fred Z.\", \"Nancy K.\"], [\"Reassuring Rat\", \"Peaceful Panda\", \"Fantastic Frog\", \"Notable Nickel\"])"
      ],
      "execution_count": 28,
      "outputs": [
        {
          "output_type": "execute_result",
          "data": {
            "text/plain": [
              "True"
            ]
          },
          "metadata": {
            "tags": []
          },
          "execution_count": 28
        }
      ]
    },
    {
      "cell_type": "code",
      "metadata": {
        "colab": {
          "base_uri": "https://localhost:8080/"
        },
        "id": "GKCcGZInvCo4",
        "outputId": "34813752-7860-409b-e5b8-fcc77740816a"
      },
      "source": [
        "is_correct_aliases([\"Beth T.\"], [\"Brandishing Mimosa\"])"
      ],
      "execution_count": 29,
      "outputs": [
        {
          "output_type": "execute_result",
          "data": {
            "text/plain": [
              "False"
            ]
          },
          "metadata": {
            "tags": []
          },
          "execution_count": 29
        }
      ]
    },
    {
      "cell_type": "code",
      "metadata": {
        "id": "a7uemTZFvEVL"
      },
      "source": [
        ""
      ],
      "execution_count": null,
      "outputs": []
    }
  ]
}