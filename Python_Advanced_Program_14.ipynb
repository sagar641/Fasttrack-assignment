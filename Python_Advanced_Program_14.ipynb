{
  "nbformat": 4,
  "nbformat_minor": 0,
  "metadata": {
    "colab": {
      "name": "Python Advanced Program 14.ipynb",
      "provenance": [],
      "collapsed_sections": []
    },
    "kernelspec": {
      "name": "python3",
      "display_name": "Python 3"
    },
    "language_info": {
      "name": "python"
    }
  },
  "cells": [
    {
      "cell_type": "markdown",
      "metadata": {
        "id": "M_BDv2wt4aVy"
      },
      "source": [
        "1. Given a list of numbers, create a function that removes 25% from every\n",
        "number in the list except the smallest number, and adds the total amount\n",
        "removed to the smallest number.\n",
        "\n",
        "Examples\n",
        "\n",
        "show_the_love([4, 1, 4]) ➞ [3, 3, 3]\n",
        "\n",
        "show_the_love([16, 10, 8]) ➞ [12, 7.5, 14.5]\n",
        "\n",
        "show_the_love([2, 100]) ➞ [27, 75]"
      ]
    },
    {
      "cell_type": "code",
      "metadata": {
        "id": "UMVhHz3T4dc0"
      },
      "source": [
        "def show_the_love(lst):\n",
        "  m = min(lst)\n",
        "  diff = 0\n",
        "  for i in range(len(lst)):\n",
        "    if lst[i] != m:\n",
        "      diff += 0.25*lst[i]\n",
        "      lst[i] = 0.75*lst[i]\n",
        "  lst[lst.index(m)] = m + diff\n",
        "  return lst"
      ],
      "execution_count": null,
      "outputs": []
    },
    {
      "cell_type": "code",
      "metadata": {
        "colab": {
          "base_uri": "https://localhost:8080/"
        },
        "id": "lVRZKwF1_0WZ",
        "outputId": "812846c8-bb14-4e4a-d96e-029c598f5651"
      },
      "source": [
        "show_the_love([16, 10, 8])"
      ],
      "execution_count": null,
      "outputs": [
        {
          "output_type": "execute_result",
          "data": {
            "text/plain": [
              "[12.0, 7.5, 14.5]"
            ]
          },
          "metadata": {
            "tags": []
          },
          "execution_count": 10
        }
      ]
    },
    {
      "cell_type": "code",
      "metadata": {
        "colab": {
          "base_uri": "https://localhost:8080/"
        },
        "id": "0s7NIO4wAtYz",
        "outputId": "6329505f-ab0f-47ea-adc9-fc12be34e645"
      },
      "source": [
        "show_the_love([4, 1, 4])"
      ],
      "execution_count": null,
      "outputs": [
        {
          "output_type": "execute_result",
          "data": {
            "text/plain": [
              "[3.0, 3.0, 3.0]"
            ]
          },
          "metadata": {
            "tags": []
          },
          "execution_count": 11
        }
      ]
    },
    {
      "cell_type": "markdown",
      "metadata": {
        "id": "w_3OWZfqD6dI"
      },
      "source": [
        "2. Create a function that takes in two words as input and returns a list of three\n",
        "elements, in the following order:\n",
        "\n",
        "1.Shared letters between two words.\n",
        "\n",
        "2.Letters unique to word 1.\n",
        "\n",
        "3.Letters unique to word 2.\n",
        "\n",
        "Each element should have unique letters, and have each letter be\n",
        "alphabetically sorted.\n",
        "\n",
        "letters(&quot;sharp&quot;, &quot;soap&quot;) ➞ [&quot;aps&quot;, &quot;hr&quot;, &quot;o&quot;]\n",
        "\n",
        "letters(&quot;board&quot;, &quot;bored&quot;) ➞ [&quot;bdor&quot;, &quot;a&quot;, &quot;e&quot;]\n",
        "\n",
        "letters(&quot;happiness&quot;, &quot;envelope&quot;) ➞ [&quot;enp&quot;, &quot;ahis&quot;, &quot;lov&quot;]\n",
        "\n",
        "letters(&quot;kerfuffle&quot;, &quot;fluffy&quot;) ➞ [&quot;flu&quot;, &quot;ekr&quot;, &quot;y&quot;]"
      ]
    },
    {
      "cell_type": "code",
      "metadata": {
        "id": "n1BjcdPAy3tP"
      },
      "source": [
        "def remove_dup(str1):\n",
        "  str1 = set(list(str1))\n",
        "  str1 = \"\".join(str1)\n",
        "  return str1"
      ],
      "execution_count": null,
      "outputs": []
    },
    {
      "cell_type": "code",
      "metadata": {
        "id": "as-XRORQBimv"
      },
      "source": [
        "def letters(str1, str2):\n",
        "  l1 = list(str1)\n",
        "  l2 = list(str2)\n",
        "  shared = ''\n",
        "  unique1 = ''\n",
        "  unique2 = ''\n",
        "  for i in range(len(l2)):\n",
        "    if l2[i] in l1:\n",
        "      shared += l2[i]\n",
        "    elif l2[i] not in l1:\n",
        "      unique2 += l2[i] \n",
        "  for i in range(len(l1)):\n",
        "    if l1[i] not in l2:\n",
        "      unique1 += l1[i] \n",
        "  shared = remove_dup(shared)\n",
        "  unique1 = remove_dup(unique1)\n",
        "  unique2 = remove_dup(unique2)\n",
        "  return [shared, unique1, unique2]"
      ],
      "execution_count": null,
      "outputs": []
    },
    {
      "cell_type": "code",
      "metadata": {
        "colab": {
          "base_uri": "https://localhost:8080/"
        },
        "id": "xNmtg0J9KvmO",
        "outputId": "0a24896f-b0bf-4ad2-cbf7-3000477b5a60"
      },
      "source": [
        "letters(\"happiness\", \"envelope\") "
      ],
      "execution_count": null,
      "outputs": [
        {
          "output_type": "execute_result",
          "data": {
            "text/plain": [
              "['enp', 'iash', 'ovl']"
            ]
          },
          "metadata": {
            "tags": []
          },
          "execution_count": 9
        }
      ]
    },
    {
      "cell_type": "code",
      "metadata": {
        "id": "Wjvn5dB9Lb3X",
        "colab": {
          "base_uri": "https://localhost:8080/"
        },
        "outputId": "b4a313df-8cff-4e50-c2d3-5fb53fa0396b"
      },
      "source": [
        "letters(\"kerfuffle\", \"fluffy\")"
      ],
      "execution_count": null,
      "outputs": [
        {
          "output_type": "execute_result",
          "data": {
            "text/plain": [
              "['luf', 'erk', 'y']"
            ]
          },
          "metadata": {
            "tags": []
          },
          "execution_count": 11
        }
      ]
    },
    {
      "cell_type": "markdown",
      "metadata": {
        "id": "1jlJBZ4u1dJl"
      },
      "source": [
        "3. Write a function that pairs the first number in an array with the last, the\n",
        "second number with the second to last, etc.\n",
        "\n",
        "Examples\n",
        "\n",
        "pairs([1, 2, 3, 4, 5, 6, 7]) ➞ [[1, 7], [2, 6], [3, 5], [4, 4]]"
      ]
    },
    {
      "cell_type": "code",
      "metadata": {
        "id": "1zBZRx7JxB6V"
      },
      "source": [
        "def pairs(lst):\n",
        "  n = len(lst)\n",
        "  lst1 = []\n",
        "  for i in range(n//2):\n",
        "    lst1.append([lst[i], lst[n-i-1]])\n",
        "  return lst1"
      ],
      "execution_count": null,
      "outputs": []
    },
    {
      "cell_type": "code",
      "metadata": {
        "colab": {
          "base_uri": "https://localhost:8080/"
        },
        "id": "NguKvtp8H2X9",
        "outputId": "7f7156e2-67f0-4127-9777-7f5a4604e698"
      },
      "source": [
        "pairs([1, 2, 3, 4, 5, 6])"
      ],
      "execution_count": null,
      "outputs": [
        {
          "output_type": "execute_result",
          "data": {
            "text/plain": [
              "[[1, 6], [2, 5], [3, 4]]"
            ]
          },
          "metadata": {
            "tags": []
          },
          "execution_count": 14
        }
      ]
    },
    {
      "cell_type": "markdown",
      "metadata": {
        "id": "TzuCwGjSHuVZ"
      },
      "source": [
        "4. Write a function that adds two numbers. The catch, however, is that the\n",
        "numbers will be strings.\n",
        "\n",
        "Examples\n",
        "\n",
        "add_str_nums(&quot;4&quot;, &quot;5&quot;) ➞ &quot;9&quot;\n",
        "\n",
        "add_str_nums(&quot;abcdefg&quot;, &quot;3&quot;) ➞ &quot;-1&quot;\n",
        "\n",
        "add_str_nums(&quot;1&quot;, &quot;&quot;) ➞ &quot;1&quot;\n",
        "\n",
        "add_str_nums(&quot;1874682736267235927359283579235789257&quot;,\n",
        "&quot;32652983572985729&quot;) ➞ &quot;1874682736267235927391936562808774986&quot;"
      ]
    },
    {
      "cell_type": "code",
      "metadata": {
        "id": "riiFzWgkyhoJ"
      },
      "source": [
        "def add_str_nums(a, b):\n",
        "  if a == '':\n",
        "    a = 0\n",
        "  if b == '':\n",
        "    b = 0 \n",
        "  try:\n",
        "    c = int(a) + int(b)\n",
        "    return str(c)\n",
        "  except Exception as e:\n",
        "    print(-1)\n",
        "  "
      ],
      "execution_count": 19,
      "outputs": []
    },
    {
      "cell_type": "code",
      "metadata": {
        "colab": {
          "base_uri": "https://localhost:8080/",
          "height": 35
        },
        "id": "l6_md1wqO1he",
        "outputId": "84fc1726-1810-43fb-aa63-b429ff0790bc"
      },
      "source": [
        "add_str_nums(\"1\", \"\")"
      ],
      "execution_count": 20,
      "outputs": [
        {
          "output_type": "execute_result",
          "data": {
            "application/vnd.google.colaboratory.intrinsic+json": {
              "type": "string"
            },
            "text/plain": [
              "'1'"
            ]
          },
          "metadata": {
            "tags": []
          },
          "execution_count": 20
        }
      ]
    },
    {
      "cell_type": "code",
      "metadata": {
        "colab": {
          "base_uri": "https://localhost:8080/",
          "height": 35
        },
        "id": "jgADlN7APwl6",
        "outputId": "97ae55c0-8b4f-4d13-d26f-301ba35ab41e"
      },
      "source": [
        "add_str_nums(\"1874682736267235927359283579235789257\", \"32652983572985729\")"
      ],
      "execution_count": 21,
      "outputs": [
        {
          "output_type": "execute_result",
          "data": {
            "application/vnd.google.colaboratory.intrinsic+json": {
              "type": "string"
            },
            "text/plain": [
              "'1874682736267235927391936562808774986'"
            ]
          },
          "metadata": {
            "tags": []
          },
          "execution_count": 21
        }
      ]
    },
    {
      "cell_type": "code",
      "metadata": {
        "id": "SDmtJe70Pzcj",
        "colab": {
          "base_uri": "https://localhost:8080/"
        },
        "outputId": "d479700c-86a8-4b34-9e8a-60bf47f8de9c"
      },
      "source": [
        "add_str_nums(\"abcdefg\", \"3\")"
      ],
      "execution_count": 22,
      "outputs": [
        {
          "output_type": "stream",
          "text": [
            "-1\n"
          ],
          "name": "stdout"
        }
      ]
    },
    {
      "cell_type": "markdown",
      "metadata": {
        "id": "bQ1She7KVLzK"
      },
      "source": [
        "5. lPaeesh le pemu mnxit ehess rtnisg! Oh, sorry, that was supposed to say:\n",
        "Please help me unmix these strings!\n",
        "Somehow my strings have all become mixed up; every pair of characters has\n",
        "been swapped. Help me undo this so I can understand my strings again.\n",
        "\n",
        "Examples\n",
        "\n",
        "unmix(&quot;123456&quot;) ➞ &quot;214365&quot;\n",
        "\n",
        "unmix(&quot;hTsii s aimex dpus rtni.g&quot;) ➞ &quot;This is a mixed up string.&quot;\n",
        "\n",
        "unmix(&quot;badce&quot;) ➞ &quot;abcde&quot;"
      ]
    },
    {
      "cell_type": "code",
      "metadata": {
        "id": "5ltcb358Raqf"
      },
      "source": [
        "def unmix(a):\n",
        "  b = len(a)\n",
        "  c = ''\n",
        "  for i in range(0, len(a)-1,2):\n",
        "    c += a[i+1] + a[i]\n",
        "  return c"
      ],
      "execution_count": 34,
      "outputs": []
    },
    {
      "cell_type": "code",
      "metadata": {
        "colab": {
          "base_uri": "https://localhost:8080/",
          "height": 35
        },
        "id": "kYK2_HZFakkg",
        "outputId": "bd368c50-eae8-41a4-d785-7257155f6b3d"
      },
      "source": [
        "unmix(\"hTsii  s aimex dpus rtni.g\") "
      ],
      "execution_count": 36,
      "outputs": [
        {
          "output_type": "execute_result",
          "data": {
            "application/vnd.google.colaboratory.intrinsic+json": {
              "type": "string"
            },
            "text/plain": [
              "'This is a mixed up string.'"
            ]
          },
          "metadata": {
            "tags": []
          },
          "execution_count": 36
        }
      ]
    },
    {
      "cell_type": "code",
      "metadata": {
        "colab": {
          "base_uri": "https://localhost:8080/",
          "height": 35
        },
        "id": "qJUxFwFPcnIW",
        "outputId": "4ba19d7f-283e-4937-dec2-503df3909fb5"
      },
      "source": [
        "unmix(\"123456\")"
      ],
      "execution_count": 37,
      "outputs": [
        {
          "output_type": "execute_result",
          "data": {
            "application/vnd.google.colaboratory.intrinsic+json": {
              "type": "string"
            },
            "text/plain": [
              "'214365'"
            ]
          },
          "metadata": {
            "tags": []
          },
          "execution_count": 37
        }
      ]
    },
    {
      "cell_type": "code",
      "metadata": {
        "id": "or0RxeOvcs_A"
      },
      "source": [
        ""
      ],
      "execution_count": null,
      "outputs": []
    }
  ]
}