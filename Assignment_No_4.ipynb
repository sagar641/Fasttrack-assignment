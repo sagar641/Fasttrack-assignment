{
  "nbformat": 4,
  "nbformat_minor": 0,
  "metadata": {
    "colab": {
      "name": "Assignment No 4.ipynb",
      "provenance": [],
      "collapsed_sections": []
    },
    "kernelspec": {
      "display_name": "Python 3",
      "name": "python3"
    },
    "language_info": {
      "name": "python"
    }
  },
  "cells": [
    {
      "cell_type": "markdown",
      "metadata": {
        "id": "oqMR9gvH54Ou"
      },
      "source": [
        "1. Write a Python Program to Find the Factorial of a Number?"
      ]
    },
    {
      "cell_type": "code",
      "metadata": {
        "colab": {
          "base_uri": "https://localhost:8080/"
        },
        "id": "Y9vUsDzq57eb",
        "outputId": "2686a6a6-923a-4c26-9450-95d28db0b94e"
      },
      "source": [
        "a = int(input(\"Enter a number: \"))\n",
        "b = 1\n",
        "while a>0:\n",
        "  b *= a\n",
        "  a -= 1 \n",
        "\n",
        "print(\"The factorial of given number is \",b)"
      ],
      "execution_count": null,
      "outputs": [
        {
          "output_type": "stream",
          "text": [
            "Enter a number: 5\n",
            "The factorial of given number is  120\n"
          ],
          "name": "stdout"
        }
      ]
    },
    {
      "cell_type": "markdown",
      "metadata": {
        "id": "70J1VLrK72pw"
      },
      "source": [
        "2.Write a Python Program to Display the multiplication Table?"
      ]
    },
    {
      "cell_type": "code",
      "metadata": {
        "colab": {
          "base_uri": "https://localhost:8080/"
        },
        "id": "sAGACLce76Xu",
        "outputId": "bb1e904c-e12c-4e07-e857-b97a28ddadb4"
      },
      "source": [
        "a = int(input(\"Enter a number: \"))\n",
        "\n",
        "for i in range(1, 11):\n",
        "  print(\"{} x {}  = {}\".format(a, i, a*i)) "
      ],
      "execution_count": null,
      "outputs": [
        {
          "output_type": "stream",
          "text": [
            "Enter a number: 7\n",
            "7 x 1  = 7\n",
            "7 x 2  = 14\n",
            "7 x 3  = 21\n",
            "7 x 4  = 28\n",
            "7 x 5  = 35\n",
            "7 x 6  = 42\n",
            "7 x 7  = 49\n",
            "7 x 8  = 56\n",
            "7 x 9  = 63\n",
            "7 x 10  = 70\n"
          ],
          "name": "stdout"
        }
      ]
    },
    {
      "cell_type": "markdown",
      "metadata": {
        "id": "atvmsGcd9UiO"
      },
      "source": [
        "3. Write a Python Program to Print the Fibonacci sequence?"
      ]
    },
    {
      "cell_type": "code",
      "metadata": {
        "colab": {
          "base_uri": "https://localhost:8080/"
        },
        "id": "5g-_EcnS9RCl",
        "outputId": "df7d82b3-e127-4875-a9f7-f5e1dddea4fe"
      },
      "source": [
        "a = int(input(\"Enter a number: \"))\n",
        "n1 = 0\n",
        "n2 = 1\n",
        "c = 0\n",
        "while c<=a:\n",
        "  n3 = n1+n2  \n",
        "  n1 = n2\n",
        "  n2 = n3\n",
        "  print(n3)\n",
        "  c = c+1\n",
        "  "
      ],
      "execution_count": null,
      "outputs": [
        {
          "output_type": "stream",
          "text": [
            "Enter a number: 8\n",
            "1\n",
            "2\n",
            "3\n",
            "5\n",
            "8\n",
            "13\n",
            "21\n",
            "34\n",
            "55\n"
          ],
          "name": "stdout"
        }
      ]
    },
    {
      "cell_type": "code",
      "metadata": {
        "colab": {
          "base_uri": "https://localhost:8080/"
        },
        "id": "LLZIRLrCArRM",
        "outputId": "0ea583ef-a3b2-40b9-b00f-f427c0c7630b"
      },
      "source": [
        "def fib(n):\n",
        "  if n <= 1:\n",
        "    return 1\n",
        "  else:\n",
        "    return fib(n-1) + fib(n-2)\n",
        "\n",
        "n = int(input(\"Enter a number: \"))\n",
        "\n",
        "for i in range(1,n):\n",
        "  print(fib(i))"
      ],
      "execution_count": null,
      "outputs": [
        {
          "output_type": "stream",
          "text": [
            "Enter a number: 9\n",
            "1\n",
            "2\n",
            "3\n",
            "5\n",
            "8\n",
            "13\n",
            "21\n",
            "34\n"
          ],
          "name": "stdout"
        }
      ]
    },
    {
      "cell_type": "markdown",
      "metadata": {
        "id": "uDluwQxico5I"
      },
      "source": [
        "4.Write a Python Program to Check Armstrong Number?"
      ]
    },
    {
      "cell_type": "code",
      "metadata": {
        "colab": {
          "base_uri": "https://localhost:8080/"
        },
        "id": "qejgOjudczyg",
        "outputId": "d9ac470e-7da2-4df1-8bed-ae1671166ae2"
      },
      "source": [
        "n = int(input(\"Enter a three digit number: \"))\n",
        "\n",
        "c = n//100\n",
        "b = (n - c*100)//10\n",
        "a = n%10\n",
        "\n",
        "if a**3+b**3+c**3 ==n:\n",
        "  print(\"The number {} is a Armstrong number\".format(n))\n",
        "else:\n",
        "  print(\"The number {} is not a Armstrong number\".format(n))"
      ],
      "execution_count": null,
      "outputs": [
        {
          "output_type": "stream",
          "text": [
            "Enter a three digit number: 152\n",
            "The number 152 is not a Armstrong number\n"
          ],
          "name": "stdout"
        }
      ]
    },
    {
      "cell_type": "code",
      "metadata": {
        "colab": {
          "base_uri": "https://localhost:8080/"
        },
        "id": "71dTistNrQLr",
        "outputId": "9d480dc1-8e99-4093-fcb5-d6ad9213b9e7"
      },
      "source": [
        "n = int(input(\"Enter a number: \"))\n",
        "o = len(str(n))\n",
        "sum = 0\n",
        "temp = n\n",
        "while temp > 0:\n",
        "       d = temp % 10\n",
        "       sum += d**o\n",
        "       temp //= 10\n",
        "\n",
        "print(\"The sum is \",sum)\n",
        "if sum == n:\n",
        "  print(\"Number entered is a Armstrong number \")\n",
        "else:\n",
        "  print(\"Number entered is not a Armstrong number \")  "
      ],
      "execution_count": null,
      "outputs": [
        {
          "output_type": "stream",
          "text": [
            "Enter a number: 1355\n",
            "The sum is  1332\n",
            "Number entered is not a Armstrong number \n"
          ],
          "name": "stdout"
        }
      ]
    },
    {
      "cell_type": "markdown",
      "metadata": {
        "id": "hTovBfILttaj"
      },
      "source": [
        "5.Write a Python Program to Find Armstrong Number in an Interval?"
      ]
    },
    {
      "cell_type": "code",
      "metadata": {
        "colab": {
          "base_uri": "https://localhost:8080/"
        },
        "id": "wFY9lBcgtp2s",
        "outputId": "ae2cbfb1-2b92-404f-8248-753504ebe6a2"
      },
      "source": [
        "n1 = int(input(\"Enter lower interval: \"))\n",
        "n2 = int(input(\"Enter upper interval: \"))\n",
        "\n",
        "for i in range(n1, n2+1):\n",
        "  temp = i\n",
        "  o = len(str(i))\n",
        "  sum = 0\n",
        "  while temp > 0:\n",
        "    d = temp % 10\n",
        "    sum += d**o\n",
        "    temp //= 10\n",
        "  if sum == i:\n",
        "    print(sum, end = ',') \n",
        "\n"
      ],
      "execution_count": null,
      "outputs": [
        {
          "output_type": "stream",
          "text": [
            "Enter lower interval: 10\n",
            "Enter upper interval: 10000\n",
            "153,370,371,407,1634,8208,9474,"
          ],
          "name": "stdout"
        }
      ]
    },
    {
      "cell_type": "markdown",
      "metadata": {
        "id": "KXlCiUXYzalB"
      },
      "source": [
        "6. Write a Python Program to Find the Sum of Natural Numbers?"
      ]
    },
    {
      "cell_type": "code",
      "metadata": {
        "colab": {
          "base_uri": "https://localhost:8080/"
        },
        "id": "n5kgRi_4zZ5K",
        "outputId": "0dcacc75-1055-4bbe-dac3-5a6e747b1da8"
      },
      "source": [
        "n = int(input(\"Enter a number: \"))\n",
        "sum = 0\n",
        "for i in range(n+1):\n",
        "  sum += i \n",
        "print(sum)  "
      ],
      "execution_count": null,
      "outputs": [
        {
          "output_type": "stream",
          "text": [
            "Enter a number: 6\n",
            "21\n"
          ],
          "name": "stdout"
        }
      ]
    }
  ]
}