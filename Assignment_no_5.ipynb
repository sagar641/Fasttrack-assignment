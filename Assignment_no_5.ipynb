{
  "nbformat": 4,
  "nbformat_minor": 0,
  "metadata": {
    "colab": {
      "name": "Assignment no 5.ipynb",
      "provenance": [],
      "collapsed_sections": []
    },
    "kernelspec": {
      "name": "python3",
      "display_name": "Python 3"
    },
    "language_info": {
      "name": "python"
    }
  },
  "cells": [
    {
      "cell_type": "markdown",
      "metadata": {
        "id": "xOvCzS7DYl13"
      },
      "source": [
        "1. Write a Python Program to Find LCM?"
      ]
    },
    {
      "cell_type": "code",
      "metadata": {
        "colab": {
          "base_uri": "https://localhost:8080/"
        },
        "id": "vjsAa28ScneW",
        "outputId": "9d599208-4c95-4c54-cbca-5847aab037e9"
      },
      "source": [
        "def lcm(x, y):\n",
        "   n = max(x,y)\n",
        "\n",
        "   for n in range(n, x*y+1, n): \n",
        "     if ((n % x == 0) and (n % y == 0)):\n",
        "       lcm = n\n",
        "       break\n",
        "     else:\n",
        "       continue  \n",
        "   return lcm\n",
        "\n",
        "a = int(input(\"Enter first number: \"))\n",
        "b = int(input(\"Enter second number: \"))\n",
        "print(\"The L.C.M. is\", lcm(a, b))\n"
      ],
      "execution_count": 30,
      "outputs": [
        {
          "output_type": "stream",
          "text": [
            "Enter first number: 8\n",
            "Enter second number: 13\n",
            "The L.C.M. is 104\n"
          ],
          "name": "stdout"
        }
      ]
    },
    {
      "cell_type": "markdown",
      "metadata": {
        "id": "0--ajY-_ieST"
      },
      "source": [
        "2.Write a Python Program to Find HCF?"
      ]
    },
    {
      "cell_type": "code",
      "metadata": {
        "colab": {
          "base_uri": "https://localhost:8080/"
        },
        "id": "DdIifUw9gfrI",
        "outputId": "8f2dd07d-d5ce-465c-89be-c26ed07e632c"
      },
      "source": [
        "def hcf(x, y):\n",
        "  n = min(x,y)\n",
        "  for i in range(n, 0, -1):\n",
        "    if x%i == 0 and y%i == 0:\n",
        "      break\n",
        "  return i   \n",
        "\n",
        "x = int(input(\"Enter first number: \"))\n",
        "y = int(input(\"Enter first number: \"))\n",
        "\n",
        "print(\"Lcm of given two numbers is: \", hcf(x, y))"
      ],
      "execution_count": 29,
      "outputs": [
        {
          "output_type": "stream",
          "text": [
            "Enter first number: 145\n",
            "Enter first number: 115\n",
            "Lcm of given two numbers is:  5\n"
          ],
          "name": "stdout"
        }
      ]
    },
    {
      "cell_type": "markdown",
      "metadata": {
        "id": "DqFxv7kiqcLb"
      },
      "source": [
        "3.Write a Python Program to Convert Decimal to Binary, Octal and Hexadecimal?"
      ]
    },
    {
      "cell_type": "code",
      "metadata": {
        "id": "UZI5j5njqadO"
      },
      "source": [
        "def deci_to_binary(a):\n",
        "  l = []\n",
        "  while a >= 1:\n",
        "    l.append(a%2)\n",
        "    a = a//2\n",
        "  l.reverse()\n",
        "  return l\n"
      ],
      "execution_count": 48,
      "outputs": []
    },
    {
      "cell_type": "code",
      "metadata": {
        "colab": {
          "base_uri": "https://localhost:8080/"
        },
        "id": "iyskk6k4yzy_",
        "outputId": "c6b7c14a-5ebd-48d3-f5b9-ac711f02ef2e"
      },
      "source": [
        "a = int(input(\"Enter first number: \"))\n",
        "print(\"Binary conversion of given number is\", deci_to_binary(a))"
      ],
      "execution_count": 49,
      "outputs": [
        {
          "output_type": "stream",
          "text": [
            "Enter first number: 25\n",
            "Binary conversion of given number is [1, 1, 0, 0, 1]\n"
          ],
          "name": "stdout"
        }
      ]
    },
    {
      "cell_type": "code",
      "metadata": {
        "id": "WDMtzgnezLn3"
      },
      "source": [
        "def deci_to_octal(a):\n",
        "  l = []\n",
        "  while a >= 1:\n",
        "    l.append(a%8)\n",
        "    a = a//8\n",
        "  l.reverse()\n",
        "  return l  \n"
      ],
      "execution_count": 61,
      "outputs": []
    },
    {
      "cell_type": "code",
      "metadata": {
        "colab": {
          "base_uri": "https://localhost:8080/"
        },
        "id": "8oAvm1Wnjhun",
        "outputId": "fd43f372-d132-4816-e494-3729c79f87ff"
      },
      "source": [
        "a = int(input(\"Enter first number: \"))\n",
        "print(\"Octal conversion of given number is\", deci_to_octal(a))"
      ],
      "execution_count": 62,
      "outputs": [
        {
          "output_type": "stream",
          "text": [
            "Enter first number: 8\n",
            "Octal conversion of given number is [1, 0]\n"
          ],
          "name": "stdout"
        }
      ]
    },
    {
      "cell_type": "code",
      "metadata": {
        "id": "EiEFr6noz2Q6"
      },
      "source": [
        "def deci_to_hexa(a):\n",
        "  l = []\n",
        "  while a >= 1:\n",
        "    if a%16 <= 9:\n",
        "      l.append(a%16)\n",
        "    elif a%16 == 10:\n",
        "      l.append('A')\n",
        "    elif a%16 == 11:\n",
        "      l.append('B')\n",
        "    elif a%16 == 12:\n",
        "      l.append('C')  \n",
        "    elif a%16 == 13:\n",
        "      l.append('D')  \n",
        "    elif a%16 == 14:\n",
        "      l.append('E')\n",
        "    elif a%16 == 15:\n",
        "      l.append('F') \n",
        "    a = a//16\n",
        "  l.reverse()\n",
        "  return l  "
      ],
      "execution_count": 63,
      "outputs": []
    },
    {
      "cell_type": "code",
      "metadata": {
        "colab": {
          "base_uri": "https://localhost:8080/"
        },
        "id": "RKa7kPGd0ykO",
        "outputId": "807fbc81-e18d-4c5a-b2a9-dc59aad56bf6"
      },
      "source": [
        "a = int(input(\"Enter first number: \"))\n",
        "print(\"Hexadecimal conversion of given number is\", deci_to_hexa(a))"
      ],
      "execution_count": 66,
      "outputs": [
        {
          "output_type": "stream",
          "text": [
            "Enter first number: 7562\n",
            "Hexadecimal conversion of given number is [1, 'D', 8, 'A']\n"
          ],
          "name": "stdout"
        }
      ]
    },
    {
      "cell_type": "markdown",
      "metadata": {
        "id": "uLOd2Zxx4DRb"
      },
      "source": [
        "4.Write a Python Program To Find ASCII value of a character?"
      ]
    },
    {
      "cell_type": "code",
      "metadata": {
        "colab": {
          "base_uri": "https://localhost:8080/"
        },
        "id": "KTnB8krt4Fab",
        "outputId": "dc49cfe6-4823-4919-aa71-b20f3e23ba9e"
      },
      "source": [
        "c = input(\"Enter a char value: \")\n",
        "\n",
        "print(\"ASCII value of \" + c + \"is \", ord(c))"
      ],
      "execution_count": 70,
      "outputs": [
        {
          "output_type": "stream",
          "text": [
            "Enter a char value: Z\n",
            "ASCII value of Zis  90\n"
          ],
          "name": "stdout"
        }
      ]
    }
  ]
}