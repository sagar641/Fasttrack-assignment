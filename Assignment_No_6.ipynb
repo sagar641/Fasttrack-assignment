{
  "nbformat": 4,
  "nbformat_minor": 0,
  "metadata": {
    "colab": {
      "name": "Assignment No 6.ipynb",
      "provenance": [],
      "collapsed_sections": []
    },
    "kernelspec": {
      "name": "python3",
      "display_name": "Python 3"
    },
    "language_info": {
      "name": "python"
    }
  },
  "cells": [
    {
      "cell_type": "markdown",
      "metadata": {
        "id": "WdMbpVZeC80u"
      },
      "source": [
        "1. Write a Python Program to Display Fibonacci Sequence Using Recursion?"
      ]
    },
    {
      "cell_type": "code",
      "metadata": {
        "colab": {
          "base_uri": "https://localhost:8080/"
        },
        "id": "DKK6TxEvC-2q",
        "outputId": "cc3df89a-d5c8-47f7-eaf6-ee98c7846d86"
      },
      "source": [
        "def fib(n):\n",
        "  if n <= 1:\n",
        "    return 1\n",
        "  else:\n",
        "    return fib(n-1) + fib(n-2)\n",
        "\n",
        "n = int(input(\"Enter a number: \"))\n",
        "print(\"First {} numbers of Fibonnaci sequence are: \".format(n), end = \" \" )\n",
        "for i in range(1,n):\n",
        "  print(fib(i), end = \",\")"
      ],
      "execution_count": 11,
      "outputs": [
        {
          "output_type": "stream",
          "text": [
            "Enter a number: 8\n",
            "First 8 numbers of Fibonnaci sequence are:  1,2,3,5,8,13,21,"
          ],
          "name": "stdout"
        }
      ]
    },
    {
      "cell_type": "markdown",
      "metadata": {
        "id": "PwmY2DafDccq"
      },
      "source": [
        "2. Write a Python Program to Find Factorial of Number Using Recursion?"
      ]
    },
    {
      "cell_type": "code",
      "metadata": {
        "colab": {
          "base_uri": "https://localhost:8080/"
        },
        "id": "7g4N7QKfDZya",
        "outputId": "fbc3db22-2cfa-4daa-cb4d-ea01baa37689"
      },
      "source": [
        "def factorial(n):\n",
        "  if n <= 1:\n",
        "    return 1\n",
        "  else:\n",
        "    return n*fib(n-1)\n",
        "\n",
        "n = int(input(\"Enter a number: \"))\n",
        "#f = factorial(n)\n",
        "print(\"Factorial of {} is: {} \".format(n, factorial(n)))"
      ],
      "execution_count": 16,
      "outputs": [
        {
          "output_type": "stream",
          "text": [
            "Enter a number: 6\n",
            "Factorial of 6 is: 720 \n"
          ],
          "name": "stdout"
        }
      ]
    },
    {
      "cell_type": "markdown",
      "metadata": {
        "id": "CyP7QnOMIVp0"
      },
      "source": [
        "3.Write a Python Program to calculate your Body Mass Index?"
      ]
    },
    {
      "cell_type": "code",
      "metadata": {
        "colab": {
          "base_uri": "https://localhost:8080/"
        },
        "id": "-ex-tJXBISGh",
        "outputId": "caf60260-b701-4da7-d03e-0e04979be262"
      },
      "source": [
        "height = float(input(\"Enter your height in meters: \"))\n",
        "weight = float(input(\"Enter your weight in Kg: \"))\n",
        "\n",
        "BMI = weight/(height**2)\n",
        "\n",
        "print(\"Your Body Mass Index is : \", BMI)"
      ],
      "execution_count": 18,
      "outputs": [
        {
          "output_type": "stream",
          "text": [
            "Enter your height in meters: 1.68\n",
            "Enter your weight in Kg: 65\n",
            "Your Body Mass Index is :  23.030045351473927\n"
          ],
          "name": "stdout"
        }
      ]
    },
    {
      "cell_type": "markdown",
      "metadata": {
        "id": "VXL8DFvRJ7Gq"
      },
      "source": [
        "4.Write a Python Program to calculate the natural logarithm of any number?"
      ]
    },
    {
      "cell_type": "code",
      "metadata": {
        "colab": {
          "base_uri": "https://localhost:8080/"
        },
        "id": "u1mOhKcFJY7t",
        "outputId": "deafad8b-185c-496a-c4aa-82deecdf857b"
      },
      "source": [
        "import math\n",
        "n = int(input(\"Enter a number: \"))\n",
        "\n",
        "l = math.log(n)\n",
        "\n",
        "print(\"Log of given number is: \", l) "
      ],
      "execution_count": 23,
      "outputs": [
        {
          "output_type": "stream",
          "text": [
            "Enter a number: 3\n",
            "Log of given number is:  1.0986122886681098\n"
          ],
          "name": "stdout"
        }
      ]
    },
    {
      "cell_type": "markdown",
      "metadata": {
        "id": "OXoCgnyHW5tB"
      },
      "source": [
        "5.Write a Python Program for cube sum of first n natural numbers?"
      ]
    },
    {
      "cell_type": "code",
      "metadata": {
        "colab": {
          "base_uri": "https://localhost:8080/"
        },
        "id": "7guWgngcW2UU",
        "outputId": "a3b6eeac-68cd-447b-ae93-0ada0575f8d8"
      },
      "source": [
        "n = int(input(\"Enter a number: \"))\n",
        "sum = 0\n",
        "for i in range(1, n+1):\n",
        "  sum += i**3 \n",
        "print(\"cube sum of first n natural numbers is \", sum)  "
      ],
      "execution_count": 24,
      "outputs": [
        {
          "output_type": "stream",
          "text": [
            "Enter a number: 5\n",
            "cube sum of first n natural numbers is  225\n"
          ],
          "name": "stdout"
        }
      ]
    }
  ]
}