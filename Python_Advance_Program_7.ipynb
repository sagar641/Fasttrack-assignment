{
  "nbformat": 4,
  "nbformat_minor": 0,
  "metadata": {
    "colab": {
      "name": "Python Advance Program 7.ipynb",
      "provenance": []
    },
    "kernelspec": {
      "name": "python3",
      "display_name": "Python 3"
    },
    "language_info": {
      "name": "python"
    }
  },
  "cells": [
    {
      "cell_type": "markdown",
      "metadata": {
        "id": "_P0GnlY3dSly"
      },
      "source": [
        "1. Write a function that counts how many concentric layers a rug.\n",
        "\n",
        "Examples\n",
        "\n",
        "count_layers([\n",
        "&quot;AAAA&quot;,\n",
        "&quot;ABBA&quot;,\n",
        "&quot;AAAA&quot;\n",
        "]) ➞ 2\n",
        "\n",
        "count_layers([\n",
        "&quot;AAAAAAAAA&quot;,\n",
        "&quot;ABBBBBBBA&quot;,\n",
        "&quot;ABBAAABBA&quot;,\n",
        "&quot;ABBBBBBBA&quot;,\n",
        "&quot;AAAAAAAAA&quot;\n",
        "]) ➞ 3\n",
        "\n",
        "count_layers([\n",
        "&quot;AAAAAAAAAAA&quot;,\n",
        "&quot;AABBBBBBBAA&quot;,\n",
        "&quot;AABCCCCCBAA&quot;,\n",
        "&quot;AABCAAACBAA&quot;,\n",
        "&quot;AABCADACBAA&quot;,\n",
        "&quot;AABCAAACBAA&quot;,\n",
        "&quot;AABCCCCCBAA&quot;,\n",
        "&quot;AABBBBBBBAA&quot;,\n",
        "&quot;AAAAAAAAAAA&quot;\n",
        "]) ➞ 5"
      ]
    },
    {
      "cell_type": "code",
      "metadata": {
        "id": "z8nc9-1gT02L"
      },
      "source": [
        "def count_layers(lst):\n",
        "  count = 1\n",
        "  for i in range(len(lst)//2):\n",
        "    mid = len(lst[i])//2\n",
        "    if lst[i][mid] != lst[i+1][mid]:\n",
        "      count += 1\n",
        "    else:\n",
        "      count = count\n",
        "  print(count)"
      ],
      "execution_count": 28,
      "outputs": []
    },
    {
      "cell_type": "code",
      "metadata": {
        "colab": {
          "base_uri": "https://localhost:8080/"
        },
        "id": "ETSsRybzUOwb",
        "outputId": "934b94c2-21fe-47e7-dcda-9b25bd5ba1c8"
      },
      "source": [
        "count_layers([ \"AAAA\", \"ABBA\", \"AAAA\" ])"
      ],
      "execution_count": 29,
      "outputs": [
        {
          "output_type": "stream",
          "text": [
            "2\n"
          ],
          "name": "stdout"
        }
      ]
    },
    {
      "cell_type": "code",
      "metadata": {
        "colab": {
          "base_uri": "https://localhost:8080/"
        },
        "id": "D4uP0EcZUWBv",
        "outputId": "268db841-3563-4af3-acfe-5b5cc2accca8"
      },
      "source": [
        "count_layers([ \"AAAAAAAAA\", \"ABBBBBBBA\", \"ABBAAABBA\", \"ABBBBBBBA\", \"AAAAAAAAA\" ])"
      ],
      "execution_count": 30,
      "outputs": [
        {
          "output_type": "stream",
          "text": [
            "3\n"
          ],
          "name": "stdout"
        }
      ]
    },
    {
      "cell_type": "code",
      "metadata": {
        "colab": {
          "base_uri": "https://localhost:8080/"
        },
        "id": "UIBV6dxxUroO",
        "outputId": "5384a250-edca-4705-889b-c5c4e0ddff9b"
      },
      "source": [
        "count_layers([ \"AAAAAAAAAAA\", \"AABBBBBBBAA\", \"AABCCCCCBAA\", \"AABCAAACBAA\", \"AABCADACBAA\", \"AABCAAACBAA\", \"AABCCCCCBAA\", \"AABBBBBBBAA\", \"AAAAAAAAAAA\" ]) "
      ],
      "execution_count": 31,
      "outputs": [
        {
          "output_type": "stream",
          "text": [
            "5\n"
          ],
          "name": "stdout"
        }
      ]
    },
    {
      "cell_type": "markdown",
      "metadata": {
        "id": "wlrAQYiWkN2o"
      },
      "source": [
        "2. There are many different styles of music and many albums exhibit multiple\n",
        "styles. Create a function that takes a list of musical styles from albums and\n",
        "returns how many styles are unique.\n",
        "\n",
        "Examples\n",
        "\n",
        "unique_styles([\n",
        "&quot;Dub,Dancehall&quot;,\n",
        "&quot;Industrial,Heavy Metal&quot;,\n",
        "&quot;Techno,Dubstep&quot;,\n",
        "&quot;Synth-pop,Euro-Disco&quot;,\n",
        "&quot;Industrial,Techno,Minimal&quot;\n",
        "]) ➞ 9"
      ]
    },
    {
      "cell_type": "code",
      "metadata": {
        "id": "qdFP-bCtdnyA"
      },
      "source": [
        "def unique_styles(lst):\n",
        "  styles =\",\".join(map(str, lst))\n",
        "  return len(set(styles.split(',')))"
      ],
      "execution_count": 74,
      "outputs": []
    },
    {
      "cell_type": "code",
      "metadata": {
        "colab": {
          "base_uri": "https://localhost:8080/"
        },
        "id": "v5vJsKWfkUcT",
        "outputId": "b2a86fe7-1fcd-427f-d922-c85cc9ef6506"
      },
      "source": [
        "unique_styles([ \"Dub,Dancehall\", \"Industrial,Heavy Metal\", \"Techno,Dubstep\", \"Synth-pop,Euro-Disco\", \"Industrial,Techno,Minimal\" ])"
      ],
      "execution_count": 75,
      "outputs": [
        {
          "output_type": "execute_result",
          "data": {
            "text/plain": [
              "9"
            ]
          },
          "metadata": {
            "tags": []
          },
          "execution_count": 75
        }
      ]
    },
    {
      "cell_type": "code",
      "metadata": {
        "colab": {
          "base_uri": "https://localhost:8080/"
        },
        "id": "ILtcL63WkcXL",
        "outputId": "c93eef88-0102-48bf-ef2f-24e03774e312"
      },
      "source": [
        "unique_styles([\"Soul\", \"House,Folk\", \"Trance,Downtempo,Big Beat,House\", \"Deep House\", \"Soul\" ])"
      ],
      "execution_count": 76,
      "outputs": [
        {
          "output_type": "execute_result",
          "data": {
            "text/plain": [
              "7"
            ]
          },
          "metadata": {
            "tags": []
          },
          "execution_count": 76
        }
      ]
    },
    {
      "cell_type": "markdown",
      "metadata": {
        "id": "QRVaCMk1qgG1"
      },
      "source": [
        "3. Create a function that finds a target number in a list of prime numbers.\n",
        "Implement a binary search algorithm in your function. The target number will\n",
        "be from 2 through 97. If the target is prime then return &quot;yes&quot; else return &quot;no&quot;."
      ]
    },
    {
      "cell_type": "code",
      "metadata": {
        "id": "egXXn0CRsOVy"
      },
      "source": [
        "def is_prime(primes, num):\n",
        "  total_primes =len(primes)\n",
        "  min = 0\n",
        "  max = total_primes\n",
        "  while min <=max:\n",
        "    mid = min + (max-min)//2\n",
        "    if primes[mid]==num:\n",
        "      return \"Yes\"\n",
        "      break\n",
        "    elif primes[mid]<num:\n",
        "      min = mid+1\n",
        "    elif primes[mid]>num:\n",
        "      max = mid-1\n",
        "  else:\n",
        "    return \"No\"\n"
      ],
      "execution_count": 109,
      "outputs": []
    },
    {
      "cell_type": "code",
      "metadata": {
        "colab": {
          "base_uri": "https://localhost:8080/",
          "height": 35
        },
        "id": "2ZOL5UExwhaN",
        "outputId": "5357a10b-6a54-4092-a3c3-916697ba0c38"
      },
      "source": [
        "primes = [2, 3, 5, 7, 11, 13, 17, 19, 23, 29, 31, 37, 41, 43, 47, 53, 59, 61, 67,71, 73, 79, 83, 89, 97]\n",
        "num = 67\n",
        "is_prime(primes, num)"
      ],
      "execution_count": 111,
      "outputs": [
        {
          "output_type": "execute_result",
          "data": {
            "application/vnd.google.colaboratory.intrinsic+json": {
              "type": "string"
            },
            "text/plain": [
              "'Yes'"
            ]
          },
          "metadata": {
            "tags": []
          },
          "execution_count": 111
        }
      ]
    },
    {
      "cell_type": "markdown",
      "metadata": {
        "id": "0aEotkFo94um"
      },
      "source": [
        "4. Create a function that takes in n, a, b and returns the number of positive\n",
        "values raised to the nth power that lie in the range [a, b], inclusive.\n",
        "\n",
        "power_ranger(2, 49, 65) ➞ 2\n",
        "\n",
        "2 squares (n^2) lie between 49 and 65, 49 (7^2) and 64 (8^2)"
      ]
    },
    {
      "cell_type": "code",
      "metadata": {
        "id": "ynrOGWFh6xwf"
      },
      "source": [
        "def power_ranger(power, min, max):\n",
        "  lst = []\n",
        "  for i in range(min, max+1):\n",
        "    root = i**(1/power)\n",
        "    if int(root) == root:\n",
        "      lst.append(i)\n",
        "  n = len(lst)\n",
        "  return str(power) + \"th powers are \" + str(n) + \" and they are \" + str(lst)"
      ],
      "execution_count": 143,
      "outputs": []
    },
    {
      "cell_type": "code",
      "metadata": {
        "colab": {
          "base_uri": "https://localhost:8080/",
          "height": 35
        },
        "id": "aIbQNu1M-__d",
        "outputId": "4f41dbd8-97fd-403d-f590-8061d098f74d"
      },
      "source": [
        "power_ranger(2, 49, 65) "
      ],
      "execution_count": 144,
      "outputs": [
        {
          "output_type": "execute_result",
          "data": {
            "application/vnd.google.colaboratory.intrinsic+json": {
              "type": "string"
            },
            "text/plain": [
              "'2th powers are 2 and they are [49, 64]'"
            ]
          },
          "metadata": {
            "tags": []
          },
          "execution_count": 144
        }
      ]
    },
    {
      "cell_type": "code",
      "metadata": {
        "colab": {
          "base_uri": "https://localhost:8080/",
          "height": 35
        },
        "id": "1WFQzPhb_uGi",
        "outputId": "9f5290c4-b18b-443b-e7ee-7a8f871d9cb0"
      },
      "source": [
        "power_ranger(4, 250, 1300)"
      ],
      "execution_count": 145,
      "outputs": [
        {
          "output_type": "execute_result",
          "data": {
            "application/vnd.google.colaboratory.intrinsic+json": {
              "type": "string"
            },
            "text/plain": [
              "'4th powers are 3 and they are [256, 625, 1296]'"
            ]
          },
          "metadata": {
            "tags": []
          },
          "execution_count": 145
        }
      ]
    },
    {
      "cell_type": "markdown",
      "metadata": {
        "id": "5ViW8OR4IZ0q"
      },
      "source": [
        "5. Given a number, return the difference between the maximum and minimum\n",
        "numbers that can be formed when the digits are rearranged.\n",
        "Examples\n",
        "\n",
        "rearranged_difference(972882) ➞ 760833\n",
        "988722 - 227889 = 760833\n",
        "\n",
        "rearranged_difference(3320707) ➞ 7709823\n",
        " 7733200 - 23377 = 7709823\n",
        " \n",
        "rearranged_difference(90010) ➞ 90981\n",
        "91000 - 19 = 90981"
      ]
    },
    {
      "cell_type": "code",
      "metadata": {
        "id": "dVkPu4qS_vO-"
      },
      "source": [
        "def rearranged_difference(num):\n",
        "  a = ''.join(map(str, sorted(list(str(num)))))\n",
        "  b = ''.join(map(str, sorted(list(str(num)), reverse=True)))\n",
        "  return int(b)- int(a)"
      ],
      "execution_count": 169,
      "outputs": []
    },
    {
      "cell_type": "code",
      "metadata": {
        "colab": {
          "base_uri": "https://localhost:8080/"
        },
        "id": "GRfyYyHBI-HP",
        "outputId": "ce23aced-bdbc-4133-9497-d7fd18d2da60"
      },
      "source": [
        "rearranged_difference(3320707)"
      ],
      "execution_count": 170,
      "outputs": [
        {
          "output_type": "execute_result",
          "data": {
            "text/plain": [
              "7709823"
            ]
          },
          "metadata": {
            "tags": []
          },
          "execution_count": 170
        }
      ]
    },
    {
      "cell_type": "code",
      "metadata": {
        "colab": {
          "base_uri": "https://localhost:8080/"
        },
        "id": "q9cNsqDaI-qP",
        "outputId": "6817a10b-a544-4ae8-c4b0-ae984a95d680"
      },
      "source": [
        "rearranged_difference(972882)"
      ],
      "execution_count": 172,
      "outputs": [
        {
          "output_type": "execute_result",
          "data": {
            "text/plain": [
              "760833"
            ]
          },
          "metadata": {
            "tags": []
          },
          "execution_count": 172
        }
      ]
    },
    {
      "cell_type": "code",
      "metadata": {
        "id": "1L6EMJg0LG1F"
      },
      "source": [
        ""
      ],
      "execution_count": null,
      "outputs": []
    }
  ]
}