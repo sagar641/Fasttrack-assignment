{
  "nbformat": 4,
  "nbformat_minor": 0,
  "metadata": {
    "colab": {
      "name": "Python Advance Assignment 12.ipynb",
      "provenance": [],
      "collapsed_sections": []
    },
    "kernelspec": {
      "name": "python3",
      "display_name": "Python 3"
    },
    "language_info": {
      "name": "python"
    }
  },
  "cells": [
    {
      "cell_type": "code",
      "metadata": {
        "id": "GORleWKW4DCF"
      },
      "source": [
        ""
      ],
      "execution_count": null,
      "outputs": []
    },
    {
      "cell_type": "markdown",
      "metadata": {
        "id": "IUPZN0uo29Ky"
      },
      "source": [
        "1. For this challenge, forget how to add two numbers together. The best\n",
        "explanation on what to do for this function is this meme:\n",
        "\n",
        "Examples\n",
        "meme_sum(26, 39) ➞ 515\n",
        "# 2+3 = 5, 6+9 = 15\n",
        "# 26 + 39 = 515\n",
        "meme_sum(122, 81) ➞ 1103\n",
        "# 1+0 = 1, 2+8 = 10, 2+1 = 3\n",
        "# 122 + 81 = 1103"
      ]
    },
    {
      "cell_type": "code",
      "metadata": {
        "id": "924N6i81_BZN"
      },
      "source": [
        "def meme_sum(a, b):\n",
        "  a = str(a)\n",
        "  b = str(b)\n",
        "  if len(a) == len(b):\n",
        "    pass\n",
        "  elif len(a) > len(b):\n",
        "    b = '0'*(len(a)- len(b)) + b\n",
        "  else:\n",
        "    a = '0'*(len(b)- len(a)) + a\n",
        "  ans = ''\n",
        "  for i in range(len(a)):\n",
        "    ans += str(int(a[i]) + int(b[i]))\n",
        "  return ans"
      ],
      "execution_count": null,
      "outputs": []
    },
    {
      "cell_type": "code",
      "metadata": {
        "colab": {
          "base_uri": "https://localhost:8080/",
          "height": 52
        },
        "id": "c9s6J4iwG2ay",
        "outputId": "6a25a54b-a15a-4732-b9b2-33c9a892c2b5"
      },
      "source": [
        "meme_sum(4567443, 567158)"
      ],
      "execution_count": null,
      "outputs": [
        {
          "output_type": "stream",
          "text": [
            "b= 0567158\n"
          ],
          "name": "stdout"
        },
        {
          "output_type": "execute_result",
          "data": {
            "application/vnd.google.colaboratory.intrinsic+json": {
              "type": "string"
            },
            "text/plain": [
              "'41012145911'"
            ]
          },
          "metadata": {
            "tags": []
          },
          "execution_count": 47
        }
      ]
    },
    {
      "cell_type": "markdown",
      "metadata": {
        "id": "cXrgzKm-KKWy"
      },
      "source": [
        "3. If a person traveled up a hill for 18mins at 20mph and then traveled back\n",
        "down the same path at 60mph then their average speed traveled was 30mph.\n",
        "Write a function that returns the average speed traveled given an uphill time,\n",
        "uphill rate and a downhill rate. Uphill time is given in minutes. Return the rate\n",
        "as an integer (mph). No rounding is necessary.\n",
        "\n",
        "Examples\n",
        "\n",
        "ave_spd(18, 20, 60) ➞ 30\n",
        "\n",
        "ave_spd(30, 10, 30) ➞ 15\n",
        "\n",
        "ave_spd(30, 8, 24) ➞ 12"
      ]
    },
    {
      "cell_type": "code",
      "metadata": {
        "id": "TNuySr0FJCrF"
      },
      "source": [
        "def ave_spd(t, s1, s2):\n",
        "  return int(2*s1*s2/(s1+s2))"
      ],
      "execution_count": null,
      "outputs": []
    },
    {
      "cell_type": "code",
      "metadata": {
        "colab": {
          "base_uri": "https://localhost:8080/"
        },
        "id": "fspJ3hDELSCd",
        "outputId": "56b2aa05-e177-4aca-ce1d-20698e6fd364"
      },
      "source": [
        "ave_spd(18, 20, 60)"
      ],
      "execution_count": null,
      "outputs": [
        {
          "output_type": "execute_result",
          "data": {
            "text/plain": [
              "30"
            ]
          },
          "metadata": {
            "tags": []
          },
          "execution_count": 52
        }
      ]
    },
    {
      "cell_type": "code",
      "metadata": {
        "colab": {
          "base_uri": "https://localhost:8080/"
        },
        "id": "ht4JpVC4LXoo",
        "outputId": "3bb31232-5bac-4e90-cbc4-3901f3f70065"
      },
      "source": [
        "ave_spd(30, 8, 24)"
      ],
      "execution_count": null,
      "outputs": [
        {
          "output_type": "execute_result",
          "data": {
            "text/plain": [
              "12"
            ]
          },
          "metadata": {
            "tags": []
          },
          "execution_count": 53
        }
      ]
    },
    {
      "cell_type": "markdown",
      "metadata": {
        "id": "Y2mOv5RULmKV"
      },
      "source": [
        "2. Given an integer, create a function that returns the next prime. If the\n",
        "number is prime, return the number itself.\n",
        "\n",
        "Examples\n",
        "\n",
        "next_prime(12) ➞ 13\n",
        "\n",
        "next_prime(24) ➞ 29\n",
        "\n",
        "next_prime(11) ➞ 11"
      ]
    },
    {
      "cell_type": "code",
      "metadata": {
        "id": "xq8Wb3GPM_Io"
      },
      "source": [
        "def next_prime(n):\n",
        "  while True:\n",
        "    prime = True\n",
        "    for j in range(2, n//2+1):\n",
        "      if n%j == 0:\n",
        "        prime = False\n",
        "        break\n",
        "    if prime == True:\n",
        "      break\n",
        "    else:\n",
        "      n += 1\n",
        "  return n"
      ],
      "execution_count": 41,
      "outputs": []
    },
    {
      "cell_type": "code",
      "metadata": {
        "colab": {
          "base_uri": "https://localhost:8080/"
        },
        "id": "WVWyQJTquTTC",
        "outputId": "578d7436-4692-42db-a1d4-602a7de3c7b3"
      },
      "source": [
        "next_prime(35) "
      ],
      "execution_count": 45,
      "outputs": [
        {
          "output_type": "execute_result",
          "data": {
            "text/plain": [
              "37"
            ]
          },
          "metadata": {
            "tags": []
          },
          "execution_count": 45
        }
      ]
    },
    {
      "cell_type": "markdown",
      "metadata": {
        "id": "BwYmWLDW6to6"
      },
      "source": [
        "5. You work in a factory, and your job is to take items from a conveyor belt\n",
        "and pack them into boxes. Each box can hold a maximum of 10 kgs. Given a\n",
        "list containing the weight (in kg) of each item, how many boxes would you\n",
        "need to pack all of the items?\n",
        "\n",
        "Example\n",
        "\n",
        "boxes([2, 1, 2, 5, 4, 3, 6, 1, 1, 9, 3, 2]) ➞ 5"
      ]
    },
    {
      "cell_type": "code",
      "metadata": {
        "colab": {
          "base_uri": "https://localhost:8080/"
        },
        "id": "dYLWEZ0F13Bg",
        "outputId": "b2602916-2062-4089-f8a8-5e1dbdf79438"
      },
      "source": [
        "lst = [2, 1, 2, 5, 4, 3, 6, 1, 1, 9, 3, 2]\n",
        "lst1 = []\n",
        "count = 0\n",
        "weight = 0\n",
        "for i in lst:\n",
        "  if weight + i <= 10:\n",
        "    weight += i\n",
        "    lst1.append(i)\n",
        "  else:\n",
        "    weight = 0\n",
        "    weight += i\n",
        "    print(lst1)\n",
        "    count += 1 \n",
        "    lst1 = []\n",
        "    lst1.append(i)\n",
        "print(lst1)\n",
        "count += 1 \n",
        "print(\"Total Boxes= \", count)\n",
        "\n",
        "  \n"
      ],
      "execution_count": 60,
      "outputs": [
        {
          "output_type": "stream",
          "text": [
            "[2, 1, 2, 5]\n",
            "[4, 3]\n",
            "[6, 1, 1]\n",
            "[9]\n",
            "[3, 2]\n",
            "Total Boxes=  5\n"
          ],
          "name": "stdout"
        }
      ]
    }
  ]
}