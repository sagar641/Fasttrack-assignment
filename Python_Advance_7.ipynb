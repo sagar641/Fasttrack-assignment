{
  "nbformat": 4,
  "nbformat_minor": 0,
  "metadata": {
    "colab": {
      "name": "Python Advance 7.ipynb",
      "provenance": [],
      "collapsed_sections": []
    },
    "kernelspec": {
      "name": "python3",
      "display_name": "Python 3"
    },
    "language_info": {
      "name": "python"
    }
  },
  "cells": [
    {
      "cell_type": "markdown",
      "metadata": {
        "id": "tuKY0U-g87cM"
      },
      "source": [
        "Q1. What is the purpose of the try statement?"
      ]
    },
    {
      "cell_type": "markdown",
      "metadata": {
        "id": "5dNWEo7Z8-mq"
      },
      "source": [
        "=> 'try' statement will try to execute the statement in its block if there are no exceptions. If there is any error then it will be handled by 'except' block."
      ]
    },
    {
      "cell_type": "code",
      "metadata": {
        "colab": {
          "base_uri": "https://localhost:8080/"
        },
        "id": "DSz3o5JE-jqy",
        "outputId": "44a7a19b-11c2-4d7a-fdb4-8e0f45a227f8"
      },
      "source": [
        "def divide(x, y):\n",
        "    try:\n",
        "        result = x / y\n",
        "        print(\"Yeah ! Your answer is :\", result)\n",
        "    except ZeroDivisionError:\n",
        "        print(\"Sorry ! You are dividing by zero \")\n",
        " \n",
        "divide(3, 2)\n",
        "divide(5,0)"
      ],
      "execution_count": 3,
      "outputs": [
        {
          "output_type": "stream",
          "text": [
            "Yeah ! Your answer is : 1.5\n",
            "Sorry ! You are dividing by zero \n"
          ],
          "name": "stdout"
        }
      ]
    },
    {
      "cell_type": "markdown",
      "metadata": {
        "id": "zJMdYcPF9ysS"
      },
      "source": [
        "Q3. What is the purpose of the raise statement?"
      ]
    },
    {
      "cell_type": "markdown",
      "metadata": {
        "id": "LeqYdvfaABZJ"
      },
      "source": [
        "In Python programming, exceptions are raised when errors occur at runtime. We can also manually raise exceptions using the raise keyword.\n",
        "\n",
        "We can optionally pass values to the exception to clarify why that exception was raised."
      ]
    },
    {
      "cell_type": "code",
      "metadata": {
        "colab": {
          "base_uri": "https://localhost:8080/"
        },
        "id": "niBl5kJm_kti",
        "outputId": "90c67e6b-fc37-4c34-8ef3-e340364165e7"
      },
      "source": [
        "try:\n",
        "  a = int(input(\"Enter a positive integer: \"))\n",
        "  if a <= 0:\n",
        "    raise ValueError(\"That is not a positive number!\")\n",
        "except ValueError as ve:\n",
        "  print(ve)"
      ],
      "execution_count": 6,
      "outputs": [
        {
          "output_type": "stream",
          "text": [
            "Enter a positive integer: f\n",
            "invalid literal for int() with base 10: 'f'\n"
          ],
          "name": "stdout"
        }
      ]
    },
    {
      "cell_type": "markdown",
      "metadata": {
        "id": "qCQvA6bT-iKB"
      },
      "source": [
        "Q4. What does the assert statement do, and what other statement is it like?"
      ]
    },
    {
      "cell_type": "markdown",
      "metadata": {
        "id": "ozto3RD8EZkb"
      },
      "source": [
        "The assert keyword is used when debugging code. The assert keyword is used to test if a condition in the code returns True, if not, the program will raise an AssertionError. "
      ]
    },
    {
      "cell_type": "code",
      "metadata": {
        "colab": {
          "base_uri": "https://localhost:8080/",
          "height": 197
        },
        "id": "2VdqubY6EpTe",
        "outputId": "a206ab51-a072-40a0-ba63-a08e37e4c6d6"
      },
      "source": [
        "x = \"hello\"\n",
        "assert x == \"goodbye\", \"x should be 'hello'\""
      ],
      "execution_count": 7,
      "outputs": [
        {
          "output_type": "error",
          "ename": "AssertionError",
          "evalue": "ignored",
          "traceback": [
            "\u001b[0;31m---------------------------------------------------------------------------\u001b[0m",
            "\u001b[0;31mAssertionError\u001b[0m                            Traceback (most recent call last)",
            "\u001b[0;32m<ipython-input-7-d5edc6ac018d>\u001b[0m in \u001b[0;36m<module>\u001b[0;34m()\u001b[0m\n\u001b[1;32m      1\u001b[0m \u001b[0mx\u001b[0m \u001b[0;34m=\u001b[0m \u001b[0;34m\"hello\"\u001b[0m\u001b[0;34m\u001b[0m\u001b[0;34m\u001b[0m\u001b[0m\n\u001b[1;32m      2\u001b[0m \u001b[0;34m\u001b[0m\u001b[0m\n\u001b[0;32m----> 3\u001b[0;31m \u001b[0;32massert\u001b[0m \u001b[0mx\u001b[0m \u001b[0;34m==\u001b[0m \u001b[0;34m\"goodbye\"\u001b[0m\u001b[0;34m,\u001b[0m \u001b[0;34m\"x should be 'hello'\"\u001b[0m\u001b[0;34m\u001b[0m\u001b[0;34m\u001b[0m\u001b[0m\n\u001b[0m",
            "\u001b[0;31mAssertionError\u001b[0m: x should be 'hello'"
          ]
        }
      ]
    },
    {
      "cell_type": "markdown",
      "metadata": {
        "id": "QBdqBVRhE7pD"
      },
      "source": [
        "Q5. What is the purpose of the with/as argument, and what other statement is it like?"
      ]
    },
    {
      "cell_type": "markdown",
      "metadata": {
        "id": "deezhZOUE_PZ"
      },
      "source": [
        "'with' statement in Python is used in exception handling to make the code cleaner and much more readable. It simplifies the management of common resources like file streams. "
      ]
    },
    {
      "cell_type": "code",
      "metadata": {
        "id": "Em-Nyb8cE6uM"
      },
      "source": [
        "with open('file_path', 'w') as file:\n",
        "    file.write('hello world !')\n",
        "\n",
        "#there is no requirement of close function in this example due to with statement"
      ],
      "execution_count": null,
      "outputs": []
    }
  ]
}