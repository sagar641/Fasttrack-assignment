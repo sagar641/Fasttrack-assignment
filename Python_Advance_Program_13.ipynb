{
  "nbformat": 4,
  "nbformat_minor": 0,
  "metadata": {
    "colab": {
      "name": "Python Advance Program 13.ipynb",
      "provenance": []
    },
    "kernelspec": {
      "name": "python3",
      "display_name": "Python 3"
    },
    "language_info": {
      "name": "python"
    }
  },
  "cells": [
    {
      "cell_type": "markdown",
      "metadata": {
        "id": "VHEIznNs3bUk"
      },
      "source": [
        "1. Create a function that takes a list and string. The function should remove\n",
        "the letters in the string from the list, and return the list.\n",
        "\n",
        "Examples\n",
        "\n",
        "remove_letters([&quot;s&quot;, &quot;t&quot;, &quot;r&quot;, &quot;i&quot;, &quot;n&quot;, &quot;g&quot;, &quot;w&quot;], &quot;string&quot;) ➞ [&quot;w&quot;]\n",
        "\n",
        "remove_letters([&quot;b&quot;, &quot;b&quot;, &quot;l&quot;, &quot;l&quot;, &quot;g&quot;, &quot;n&quot;, &quot;o&quot;, &quot;a&quot;, &quot;w&quot;], &quot;balloon&quot;) ➞ [&quot;b&quot;, &quot;g&quot;,\n",
        "&quot;w&quot;]\n",
        "\n",
        "remove_letters([&quot;d&quot;, &quot;b&quot;, &quot;t&quot;, &quot;e&quot;, &quot;a&quot;, &quot;i&quot;], &quot;edabit&quot;) ➞ []"
      ]
    },
    {
      "cell_type": "code",
      "metadata": {
        "id": "_8MlzvE8S1zj"
      },
      "source": [
        "def remove_letters(lst, str1):\n",
        "  lst1 = list(str1)\n",
        "  #lst2 = []\n",
        "  for i in lst1:\n",
        "    if i in lst1:\n",
        "      #lst2.append(i)\n",
        "      lst.remove(i)\n",
        "  return lst"
      ],
      "execution_count": 19,
      "outputs": []
    },
    {
      "cell_type": "code",
      "metadata": {
        "colab": {
          "base_uri": "https://localhost:8080/"
        },
        "id": "TN2EDmMf2CKq",
        "outputId": "f83fb9aa-2cfb-4606-8689-90fda15ff2fc"
      },
      "source": [
        "remove_letters([\"b\", \"b\", \"l\", \"l\", \"g\", \"n\", \"o\", \"o\", \"a\", \"w\"], \"balloon\")"
      ],
      "execution_count": 21,
      "outputs": [
        {
          "output_type": "execute_result",
          "data": {
            "text/plain": [
              "['b', 'g', 'w']"
            ]
          },
          "metadata": {
            "tags": []
          },
          "execution_count": 21
        }
      ]
    },
    {
      "cell_type": "code",
      "metadata": {
        "colab": {
          "base_uri": "https://localhost:8080/"
        },
        "id": "zG6HExqh4fKn",
        "outputId": "079e8ca7-549d-4113-95a5-e730c50dba23"
      },
      "source": [
        "remove_letters([\"d\", \"b\", \"t\", \"e\", \"a\", \"i\"], \"edabit\")"
      ],
      "execution_count": 22,
      "outputs": [
        {
          "output_type": "execute_result",
          "data": {
            "text/plain": [
              "[]"
            ]
          },
          "metadata": {
            "tags": []
          },
          "execution_count": 22
        }
      ]
    },
    {
      "cell_type": "markdown",
      "metadata": {
        "id": "Kni4Jq4X60lC"
      },
      "source": [
        "Create a function that takes a number (step) as an argument and returns the\n",
        "amount of blocks in that step.\n",
        "\n",
        "Examples\n",
        "\n",
        "blocks(1) ➞ 5\n",
        "\n",
        "blocks(5) ➞ 39\n",
        "\n",
        "blocks(2) ➞ 12"
      ]
    },
    {
      "cell_type": "code",
      "metadata": {
        "id": "W43AtcJp4jtz"
      },
      "source": [
        "def blocks(n):\n",
        "  f = 5\n",
        "  i_dif = 7\n",
        "  for i in range(n-1):\n",
        "    f += i_dif\n",
        "    i_dif += 1\n",
        "  return f"
      ],
      "execution_count": 28,
      "outputs": []
    },
    {
      "cell_type": "code",
      "metadata": {
        "colab": {
          "base_uri": "https://localhost:8080/"
        },
        "id": "5w1wrJkz8Lp1",
        "outputId": "d21df808-6132-41dc-c5b5-d74baee52a69"
      },
      "source": [
        "blocks(5) "
      ],
      "execution_count": 29,
      "outputs": [
        {
          "output_type": "execute_result",
          "data": {
            "text/plain": [
              "39"
            ]
          },
          "metadata": {
            "tags": []
          },
          "execution_count": 29
        }
      ]
    },
    {
      "cell_type": "code",
      "metadata": {
        "colab": {
          "base_uri": "https://localhost:8080/"
        },
        "id": "KUIllfCR9X0O",
        "outputId": "bde4ab94-5c2c-41a6-e3f2-d06f5f5bf5e3"
      },
      "source": [
        "blocks(2) "
      ],
      "execution_count": 30,
      "outputs": [
        {
          "output_type": "execute_result",
          "data": {
            "text/plain": [
              "12"
            ]
          },
          "metadata": {
            "tags": []
          },
          "execution_count": 30
        }
      ]
    },
    {
      "cell_type": "markdown",
      "metadata": {
        "id": "SYXEOKnw-CAu"
      },
      "source": [
        "3. Create a function that subtracts one positive integer from another, without\n",
        "using any arithmetic operators such as -, %, /, +, etc.\n",
        "\n",
        "Examples\n",
        "\n",
        "my_sub(5, 9) ➞ 4\n",
        "\n",
        "my_sub(10, 30) ➞ 20\n",
        "\n",
        "my_sub(0, 0) ➞ 0"
      ]
    },
    {
      "cell_type": "code",
      "metadata": {
        "id": "I8fjqsvg9ZNU"
      },
      "source": [
        ""
      ],
      "execution_count": null,
      "outputs": []
    },
    {
      "cell_type": "markdown",
      "metadata": {
        "id": "-hwy7VRe-fBr"
      },
      "source": [
        "4. Create a function that takes a string containing money in dollars and\n",
        "pounds sterling (seperated by comma) and returns the sum of dollar bills only,\n",
        "as an integer.\n",
        "\n",
        "For the input string:\n",
        "- Each amount is prefixed by the currency symbol: $ for dollars and £ for\n",
        "pounds.\n",
        "- Thousands are represented by the suffix k.\n",
        "i.e. $4k = $4,000 and £40k = £40,000"
      ]
    },
    {
      "cell_type": "code",
      "metadata": {
        "id": "9JvCJSBe-m0T"
      },
      "source": [
        "def amount_in_int(str1):\n",
        "  str2 = ''\n",
        "  if str1[-1] == 'k':\n",
        "    str1 = str1[0:-1] + '000'\n",
        "  for i in str1:\n",
        "    if i != '$' and i != '£' and i != ',':\n",
        "      str2 += i\n",
        "  return int(str2) "
      ],
      "execution_count": 44,
      "outputs": []
    },
    {
      "cell_type": "code",
      "metadata": {
        "colab": {
          "base_uri": "https://localhost:8080/"
        },
        "id": "_HQVHPEsBdwd",
        "outputId": "cafcbbb0-d028-43fa-9c6c-ed5a96dc1d64"
      },
      "source": [
        "amount_in_int('£40k')"
      ],
      "execution_count": 45,
      "outputs": [
        {
          "output_type": "execute_result",
          "data": {
            "text/plain": [
              "40000"
            ]
          },
          "metadata": {
            "tags": []
          },
          "execution_count": 45
        }
      ]
    },
    {
      "cell_type": "code",
      "metadata": {
        "colab": {
          "base_uri": "https://localhost:8080/"
        },
        "id": "AUGld6J5DMrO",
        "outputId": "eab58625-cd5e-454a-8f00-379d59487579"
      },
      "source": [
        "amount_in_int('£4,00,000')"
      ],
      "execution_count": 46,
      "outputs": [
        {
          "output_type": "execute_result",
          "data": {
            "text/plain": [
              "400000"
            ]
          },
          "metadata": {
            "tags": []
          },
          "execution_count": 46
        }
      ]
    },
    {
      "cell_type": "code",
      "metadata": {
        "id": "9OmzVAZKDbWP"
      },
      "source": [
        "def add_bill(bills):\n",
        "  bill = 0\n",
        "  for i in bills.split(','):\n",
        "    if i[0] == '$':\n",
        "      bill += amount_in_int(i)\n",
        "  return bill"
      ],
      "execution_count": 52,
      "outputs": []
    },
    {
      "cell_type": "markdown",
      "metadata": {
        "id": "GY4VkFkSHmyn"
      },
      "source": [
        "add_bill(&quot;p30,d2k,p60,d200,p360&quot;)"
      ]
    },
    {
      "cell_type": "code",
      "metadata": {
        "colab": {
          "base_uri": "https://localhost:8080/"
        },
        "id": "Ezcqc6lsHhcL",
        "outputId": "2322cf81-28a7-48de-ff83-79fc3183d39f"
      },
      "source": [
        "add_bill(\"$20,£40,£60,$50\")"
      ],
      "execution_count": 53,
      "outputs": [
        {
          "output_type": "execute_result",
          "data": {
            "text/plain": [
              "70"
            ]
          },
          "metadata": {
            "tags": []
          },
          "execution_count": 53
        }
      ]
    },
    {
      "cell_type": "code",
      "metadata": {
        "colab": {
          "base_uri": "https://localhost:8080/"
        },
        "id": "SNBunR3OH4G3",
        "outputId": "4fb3da81-1b0f-4b3a-c52d-228443c77fd5"
      },
      "source": [
        "add_bill(\"£30,$2k,£60,$200,£360\")"
      ],
      "execution_count": 54,
      "outputs": [
        {
          "output_type": "execute_result",
          "data": {
            "text/plain": [
              "2200"
            ]
          },
          "metadata": {
            "tags": []
          },
          "execution_count": 54
        }
      ]
    },
    {
      "cell_type": "markdown",
      "metadata": {
        "id": "NxlTCVojKbR_"
      },
      "source": [
        "5. Create a function that flips a horizontal list into a vertical list, and a vertical\n",
        "list into a horizontal list.\n",
        "In other words, take an 1 x n list (1 row + n columns) and flip it into a n x 1 list\n",
        "(n rows and 1 column), and vice versa.\n",
        "Examples\n",
        "flip_list([1, 2, 3, 4]) ➞ [[1], [2], [3], [4]]\n",
        "# Take a horizontal list and flip it vertical.\n",
        "flip_list([[5], [6], [9]]) ➞ [5, 6, 9]\n",
        "# Take a vertical list and flip it horizontal."
      ]
    },
    {
      "cell_type": "code",
      "metadata": {
        "id": "cvlM6cvuJ-fg"
      },
      "source": [
        "def flip_list(lst):\n",
        "  lst1 = []\n",
        "  for i in lst:\n",
        "    if type(lst[0]) == list:\n",
        "      lst1.append(i[0])\n",
        "    else:\n",
        "      lst1.append([i])\n",
        "\n",
        "  return lst1"
      ],
      "execution_count": 59,
      "outputs": []
    },
    {
      "cell_type": "code",
      "metadata": {
        "colab": {
          "base_uri": "https://localhost:8080/"
        },
        "id": "0ml0zGRsOkNA",
        "outputId": "3dd5b044-4b62-42f4-d1c2-ee08a894c58f"
      },
      "source": [
        "flip_list([[5], [6], [9]])"
      ],
      "execution_count": 60,
      "outputs": [
        {
          "output_type": "execute_result",
          "data": {
            "text/plain": [
              "[5, 6, 9]"
            ]
          },
          "metadata": {
            "tags": []
          },
          "execution_count": 60
        }
      ]
    },
    {
      "cell_type": "code",
      "metadata": {
        "id": "1wTN3ArUO5EU"
      },
      "source": [
        ""
      ],
      "execution_count": null,
      "outputs": []
    }
  ]
}