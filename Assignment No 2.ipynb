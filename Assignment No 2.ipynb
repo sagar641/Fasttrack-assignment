{
 "cells": [
  {
   "cell_type": "markdown",
   "metadata": {},
   "source": [
    "1. Write a Python program to convert kilometers to miles?"
   ]
  },
  {
   "cell_type": "code",
   "execution_count": 7,
   "metadata": {},
   "outputs": [
    {
     "name": "stdout",
     "output_type": "stream",
     "text": [
      "Enter the Distance in Kms :16\n",
      "Given distance is 16.0km converted to miles is 9.94miles\n"
     ]
    }
   ],
   "source": [
    "km = float(input(\"Enter the Distance in Kms :\" ))\n",
    "miles = km/1.61\n",
    "#round(miles,2)\n",
    "print(\"Given distance is {}km converted to miles is {:0.2f}miles\".format(km, miles))"
   ]
  },
  {
   "cell_type": "markdown",
   "metadata": {},
   "source": [
    "2.Write a Python program to convert Celsius to Fahrenheit?"
   ]
  },
  {
   "cell_type": "code",
   "execution_count": 10,
   "metadata": {},
   "outputs": [
    {
     "name": "stdout",
     "output_type": "stream",
     "text": [
      "Enter the Temperature in Deg C :24.35\n",
      "Given temp is 24.35 C converted to Fahrenheit is 75.83 F\n"
     ]
    }
   ],
   "source": [
    "C = float(input(\"Enter the Temperature in Deg C :\" ))\n",
    "F = 9*C/5 +32 \n",
    "#round(miles,2)\n",
    "print(\"Given temp is {} C converted to Fahrenheit is {:0.2f} F\".format(C, F))"
   ]
  },
  {
   "cell_type": "markdown",
   "metadata": {},
   "source": [
    "3.Write a Python program to display calendar?"
   ]
  },
  {
   "cell_type": "code",
   "execution_count": 17,
   "metadata": {},
   "outputs": [
    {
     "name": "stdout",
     "output_type": "stream",
     "text": [
      "Enter the year :2020\n",
      "Enter the month :5\n",
      "      May 2020\n",
      "Mo Tu We Th Fr Sa Su\n",
      "             1  2  3\n",
      " 4  5  6  7  8  9 10\n",
      "11 12 13 14 15 16 17\n",
      "18 19 20 21 22 23 24\n",
      "25 26 27 28 29 30 31\n",
      "\n"
     ]
    }
   ],
   "source": [
    "import calendar\n",
    "\n",
    "year = int(input(\"Enter the year :\"  ))\n",
    "month = int(input(\"Enter the month :\" ))   \n",
    "\n",
    "print(calendar.month(year, month))"
   ]
  },
  {
   "cell_type": "markdown",
   "metadata": {},
   "source": [
    "4. Write a Python program to solve quadratic equation?"
   ]
  },
  {
   "cell_type": "code",
   "execution_count": 26,
   "metadata": {},
   "outputs": [
    {
     "name": "stdout",
     "output_type": "stream",
     "text": [
      "Equation of the form y = ax2 + bx + c\n",
      "Enter the coefficient of x2 :4\n",
      "Enter the coefficient of x :-18\n",
      "Enter the constant :9\n",
      "Roots of Equation y = 4x2 + -18x + 9 are 6.18 and 2.82\n"
     ]
    }
   ],
   "source": [
    "import math\n",
    "print(\"Equation of the form y = ax2 + bx + c\")\n",
    "a = int(input(\"Enter the coefficient of x2 :\"  ))\n",
    "b = int(input(\"Enter the coefficient of x :\"  ))\n",
    "c = int(input(\"Enter the constant :\"  ))\n",
    "\n",
    "y1, y2 = (-2*b+math.sqrt(b**2 - 4*a*c))/(2*a), (-2*b-math.sqrt(b**2 - 4*a*c))/(2*a)\n",
    "print(\"Roots of Equation y = {}x2 + {}x + {} are {:0.2f} and {:0.2f}\".format(a,b,c, y1,y2))"
   ]
  },
  {
   "cell_type": "markdown",
   "metadata": {},
   "source": [
    "5.Write a Python program to swap two variables without temp variable?"
   ]
  },
  {
   "cell_type": "code",
   "execution_count": 2,
   "metadata": {},
   "outputs": [
    {
     "name": "stdout",
     "output_type": "stream",
     "text": [
      "Original value of x is 10 and y is 12\n",
      "After Swaping value of x is 12 and y is 10\n"
     ]
    }
   ],
   "source": [
    "x = 10\n",
    "y = 12\n",
    "print(\"Original value of x is {} and y is {}\".format(x,y) )\n",
    "x, y = y, x\n",
    "#y = x\n",
    "print(\"After Swaping value of x is {} and y is {}\".format(x,y) )"
   ]
  },
  {
   "cell_type": "code",
   "execution_count": null,
   "metadata": {},
   "outputs": [],
   "source": []
  }
 ],
 "metadata": {
  "kernelspec": {
   "display_name": "Python 3",
   "language": "python",
   "name": "python3"
  },
  "language_info": {
   "codemirror_mode": {
    "name": "ipython",
    "version": 3
   },
   "file_extension": ".py",
   "mimetype": "text/x-python",
   "name": "python",
   "nbconvert_exporter": "python",
   "pygments_lexer": "ipython3",
   "version": "3.8.3"
  }
 },
 "nbformat": 4,
 "nbformat_minor": 4
}
