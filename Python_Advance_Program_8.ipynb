{
  "nbformat": 4,
  "nbformat_minor": 0,
  "metadata": {
    "colab": {
      "name": "Python Advance Program 8.ipynb",
      "provenance": [],
      "collapsed_sections": []
    },
    "kernelspec": {
      "name": "python3",
      "display_name": "Python 3"
    },
    "language_info": {
      "name": "python"
    }
  },
  "cells": [
    {
      "cell_type": "markdown",
      "metadata": {
        "id": "1RKwKGrMsF0Y"
      },
      "source": [
        "1. Given a sentence as txt, return True if any two adjacent words have this\n",
        "property: One word ends with a vowel, while the word immediately after\n",
        "begins with a vowel (a e i o u).\n",
        "\n",
        "Examples\n",
        "\n",
        "vowel_links(&quot;a very large appliance&quot;) ➞ True\n",
        "\n",
        "vowel_links(&quot;go to edabit&quot;) ➞ True\n",
        "\n",
        "vowel_links(&quot;an open fire&quot;) ➞ False\n",
        "\n",
        "vowel_links(&quot;a sudden applause&quot;) ➞ False"
      ]
    },
    {
      "cell_type": "code",
      "metadata": {
        "id": "ctXGLoRHjMt7"
      },
      "source": [
        "def vowel_links(sentence):\n",
        "  vowels = ['a', 'e', 'i', 'o', 'u']\n",
        "  for i in range(len(sentence)):\n",
        "    if sentence[i] == \" \":\n",
        "      if (sentence[i-1] in vowels) and (sentence[i+1] in vowels):\n",
        "        condition = True\n",
        "        break\n",
        "      else:\n",
        "        condition = False\n",
        "\n",
        "  return condition"
      ],
      "execution_count": null,
      "outputs": []
    },
    {
      "cell_type": "code",
      "metadata": {
        "colab": {
          "base_uri": "https://localhost:8080/"
        },
        "id": "YIRRRer5zaQm",
        "outputId": "3208f700-bd35-4603-e894-107fd366ba85"
      },
      "source": [
        "vowel_links(\"a very large appliance\")"
      ],
      "execution_count": null,
      "outputs": [
        {
          "output_type": "execute_result",
          "data": {
            "text/plain": [
              "True"
            ]
          },
          "metadata": {
            "tags": []
          },
          "execution_count": 26
        }
      ]
    },
    {
      "cell_type": "code",
      "metadata": {
        "colab": {
          "base_uri": "https://localhost:8080/"
        },
        "id": "MdI0JXZJ00TF",
        "outputId": "11c70841-1ff5-4e09-f019-cb68089b59a3"
      },
      "source": [
        "vowel_links(\"a sudden applause\")"
      ],
      "execution_count": null,
      "outputs": [
        {
          "output_type": "execute_result",
          "data": {
            "text/plain": [
              "False"
            ]
          },
          "metadata": {
            "tags": []
          },
          "execution_count": 27
        }
      ]
    },
    {
      "cell_type": "markdown",
      "metadata": {
        "id": "efWvpiwf198P"
      },
      "source": [
        "2. You are given three inputs: a string, one letter, and a second letter.\n",
        "Write a function that returns True if every instance of the first letter occurs\n",
        "before every instance of the second letter.\n",
        "\n",
        "Examples\n",
        "\n",
        "first_before_second(&quot;a rabbit jumps joyfully&quot;, &quot;a&quot;, &quot;j&quot;) ➞ True\n",
        "\n",
        " Every instance of &quot;a&quot; occurs before every instance of &quot;j&quot;.\n",
        " \n",
        "first_before_second(&quot;knaves knew about waterfalls&quot;, &quot;k&quot;, &quot;w&quot;) ➞ True\n",
        "\n",
        "first_before_second(&quot;happy birthday&quot;, &quot;a&quot;, &quot;y&quot;) ➞ False\n",
        "\n",
        "The &quot;a&quot; in &quot;birthday&quot; occurs after the &quot;y&quot; in &quot;happy&quot;.\n",
        "first_before_second(&quot;precarious kangaroos&quot;, &quot;k&quot;, &quot;a&quot;) ➞ False"
      ]
    },
    {
      "cell_type": "code",
      "metadata": {
        "id": "1YhpbBbN3g2T"
      },
      "source": [
        "def first_before_second(sentence, letter1, letter2):\n",
        "  lst1 = []\n",
        "  lst2 = []\n",
        "  for i in range(len(sentence)):\n",
        "    if sentence[i] == letter1:\n",
        "      lst1.append(i)\n",
        "    elif sentence[i] == letter2:\n",
        "      lst2.append(i)\n",
        "  if max(lst1) < min(lst2):\n",
        "    return True\n",
        "  else:\n",
        "    return False"
      ],
      "execution_count": null,
      "outputs": []
    },
    {
      "cell_type": "code",
      "metadata": {
        "colab": {
          "base_uri": "https://localhost:8080/"
        },
        "id": "o4XmFfIp3lQK",
        "outputId": "0c2ef567-6a51-42e2-f92e-9af0bc5cf036"
      },
      "source": [
        "first_before_second(\"a rabbit jumps joyfully\", \"a\", \"j\")"
      ],
      "execution_count": null,
      "outputs": [
        {
          "output_type": "execute_result",
          "data": {
            "text/plain": [
              "True"
            ]
          },
          "metadata": {
            "tags": []
          },
          "execution_count": 51
        }
      ]
    },
    {
      "cell_type": "code",
      "metadata": {
        "colab": {
          "base_uri": "https://localhost:8080/"
        },
        "id": "MR_NY5537WzE",
        "outputId": "1838df51-6ab1-40ba-b76a-a5235199b263"
      },
      "source": [
        "first_before_second(\"precarious kangaroos\", \"k\", \"a\")"
      ],
      "execution_count": null,
      "outputs": [
        {
          "output_type": "execute_result",
          "data": {
            "text/plain": [
              "False"
            ]
          },
          "metadata": {
            "tags": []
          },
          "execution_count": 52
        }
      ]
    },
    {
      "cell_type": "markdown",
      "metadata": {
        "id": "LsK6MHGz7faq"
      },
      "source": [
        "3. Create a function that returns the characters from a list or string r on odd or\n",
        "even positions, depending on the specifier s. The specifier will be &quot;odd&quot; for\n",
        "items on odd positions (1, 3, 5, ...) and &quot;even&quot; for items on even positions (2,\n",
        "4, 6, ...).\n",
        "\n",
        "Examples\n",
        "\n",
        "char_at_pos([2, 4, 6, 8, 10], &quot;even&quot;) ➞ [4, 8]\n",
        "4 &amp; 8 occupy the 2nd &amp; 4th positions\n",
        "\n",
        "char_at_pos([&quot;A&quot;, &quot;R&quot;, &quot;B&quot;, &quot;I&quot;, &quot;T&quot;, &quot;R&quot;, &quot;A&quot;, &quot;R&quot;, &quot;I&quot;, &quot;L&quot;, &quot;Y&quot;], &quot;odd&quot;)"
      ]
    },
    {
      "cell_type": "code",
      "metadata": {
        "id": "s3iq-2tQ-zhL"
      },
      "source": [
        "def char_at_pos(data, speci):\n",
        "  if speci == \"odd\":\n",
        "    return data[0::2]\n",
        "  if speci == \"even\":\n",
        "    return data[1::2]\n"
      ],
      "execution_count": null,
      "outputs": []
    },
    {
      "cell_type": "code",
      "metadata": {
        "colab": {
          "base_uri": "https://localhost:8080/"
        },
        "id": "LSvCN7lc_Ep2",
        "outputId": "13da47f0-5d1b-4204-f8a9-9ed5fc94264f"
      },
      "source": [
        "char_at_pos([2, 4, 6, 8, 10], \"even\")"
      ],
      "execution_count": null,
      "outputs": [
        {
          "output_type": "execute_result",
          "data": {
            "text/plain": [
              "[4, 8]"
            ]
          },
          "metadata": {
            "tags": []
          },
          "execution_count": 69
        }
      ]
    },
    {
      "cell_type": "code",
      "metadata": {
        "colab": {
          "base_uri": "https://localhost:8080/"
        },
        "id": "_7VJv0pIA0_E",
        "outputId": "652406a7-e8bb-49db-e732-1f18c8633de9"
      },
      "source": [
        "char_at_pos([\"A\", \"R\", \"B\", \"I\", \"T\", \"R\", \"A\", \"R\", \"I\", \"L\", \"Y\"], \"odd\")"
      ],
      "execution_count": null,
      "outputs": [
        {
          "output_type": "execute_result",
          "data": {
            "text/plain": [
              "['A', 'B', 'T', 'A', 'I', 'Y']"
            ]
          },
          "metadata": {
            "tags": []
          },
          "execution_count": 71
        }
      ]
    },
    {
      "cell_type": "markdown",
      "metadata": {
        "id": "TE3a1-UcA_a8"
      },
      "source": [
        "4. Write a function that returns the greatest common divisor of all list\n",
        "elements. If the greatest common divisor is 1, return 1.\n",
        "\n",
        "Examples\n",
        "\n",
        "GCD([10, 20, 40]) ➞ 10\n",
        "\n",
        "GCD([1, 2, 3, 100]) ➞ 1\n",
        "\n",
        "GCD([1024, 192, 2048, 512]) ➞ 64"
      ]
    },
    {
      "cell_type": "code",
      "metadata": {
        "id": "U15PXwZgA7J-"
      },
      "source": [
        "numbers =[1024, 192, 2048, 512]"
      ],
      "execution_count": 82,
      "outputs": []
    },
    {
      "cell_type": "code",
      "metadata": {
        "id": "vitwU_wOBk6f"
      },
      "source": [
        "def GCD(numbers):\n",
        "  common_f = []\n",
        "  for i in range(2, min(numbers)+1):\n",
        "    k = 0\n",
        "    for j in range(len(numbers)):\n",
        "      if numbers[j]%i == 0:\n",
        "        k += 1\n",
        "    if k == len(numbers):\n",
        "      common_f.append(i)\n",
        "  if len(common_f) != 0:\n",
        "    return max(common_f)\n",
        "  else: return 1"
      ],
      "execution_count": 108,
      "outputs": []
    },
    {
      "cell_type": "code",
      "metadata": {
        "colab": {
          "base_uri": "https://localhost:8080/"
        },
        "id": "zsw8pxkyCp6x",
        "outputId": "0952b13c-4cfa-4bb2-c706-72de55008e03"
      },
      "source": [
        "GCD([1, 2, 3, 100])"
      ],
      "execution_count": 109,
      "outputs": [
        {
          "output_type": "execute_result",
          "data": {
            "text/plain": [
              "1"
            ]
          },
          "metadata": {
            "tags": []
          },
          "execution_count": 109
        }
      ]
    },
    {
      "cell_type": "code",
      "metadata": {
        "id": "nTC6uOejCrQr",
        "colab": {
          "base_uri": "https://localhost:8080/"
        },
        "outputId": "dcc3a684-fb29-4f88-be05-4f71f5b69dc4"
      },
      "source": [
        "GCD([10, 20, 40])"
      ],
      "execution_count": 110,
      "outputs": [
        {
          "output_type": "execute_result",
          "data": {
            "text/plain": [
              "10"
            ]
          },
          "metadata": {
            "tags": []
          },
          "execution_count": 110
        }
      ]
    },
    {
      "cell_type": "code",
      "metadata": {
        "colab": {
          "base_uri": "https://localhost:8080/"
        },
        "id": "5Um8nh7JeMmH",
        "outputId": "d49b770f-e34f-43a7-a0b3-085fbf36d1e0"
      },
      "source": [
        "GCD([1024, 192, 2048, 512])"
      ],
      "execution_count": 111,
      "outputs": [
        {
          "output_type": "execute_result",
          "data": {
            "text/plain": [
              "64"
            ]
          },
          "metadata": {
            "tags": []
          },
          "execution_count": 111
        }
      ]
    },
    {
      "cell_type": "code",
      "metadata": {
        "id": "PpOu7MKrkGTx"
      },
      "source": [
        "from math import gcd\n",
        "from functools import reduce\n",
        "def find_gcd(list):\n",
        "    x = reduce(gcd, list)\n",
        "    return x"
      ],
      "execution_count": 123,
      "outputs": []
    },
    {
      "cell_type": "code",
      "metadata": {
        "colab": {
          "base_uri": "https://localhost:8080/"
        },
        "id": "w_SYaB5dkQNp",
        "outputId": "fe11d4f8-ba2f-434b-cf97-9976a03e3369"
      },
      "source": [
        "find_gcd([1024, 192, 2048, 512])"
      ],
      "execution_count": 124,
      "outputs": [
        {
          "output_type": "execute_result",
          "data": {
            "text/plain": [
              "64"
            ]
          },
          "metadata": {
            "tags": []
          },
          "execution_count": 124
        }
      ]
    },
    {
      "cell_type": "markdown",
      "metadata": {
        "id": "7F6g9KaZpi3-"
      },
      "source": [
        "5. A number/string is a palindrome if the digits/characters are the same when\n",
        "read both forward and backward. Examples include &quot;racecar&quot; and 12321.\n",
        "Given a positive number n, check if n or the binary representation of n is\n",
        "palindromic. Return the following:\n",
        "\n",
        "- &quot;Decimal only.&quot; if only n is a palindrome.\n",
        "\n",
        "- &quot;Binary only.&quot; if only the binary representation of n is a palindrome.\n",
        "\n",
        "- &quot;Decimal and binary.&quot; if both are palindromes.\n",
        "\n",
        "- &quot;Neither!&quot; if neither are palindromes.\n",
        "\n",
        "Examples\n",
        "\n",
        "palindrome_type(1306031) ➞ &quot;Decimal only.&quot;\n",
        "decimal = 1306031\n",
        "binary = &quot;100111110110110101111&quot;\n",
        "\n",
        "palindrome_type(427787) ➞ &quot;Binary only.&quot;\n",
        "decimal = 427787\n",
        "binary = &quot;1101000011100001011&quot;"
      ]
    },
    {
      "cell_type": "code",
      "metadata": {
        "id": "Crw3H-SyqUia"
      },
      "source": [
        "def palin(n):\n",
        "  num = str(n)\n",
        "  for i in range(len(num)//2):\n",
        "    if num[i] == num[len(num) - 1 - i]:\n",
        "      palindrome = True\n",
        "    else:\n",
        "      palindrome = False\n",
        "      break\n",
        "  return palindrome"
      ],
      "execution_count": 166,
      "outputs": []
    },
    {
      "cell_type": "code",
      "metadata": {
        "id": "1ch4Xn2rrclg"
      },
      "source": [
        "def int_to_binary(n):\n",
        "  bin = ''\n",
        "  while n>0:\n",
        "    i = n%2\n",
        "    n = n//2\n",
        "    bin = str(i) +bin\n",
        "  return int(bin)"
      ],
      "execution_count": 167,
      "outputs": []
    },
    {
      "cell_type": "code",
      "metadata": {
        "id": "JLXI21IpwAzD"
      },
      "source": [
        "def palindrome_type(n):\n",
        "  bin = int_to_binary(n)\n",
        "  if palin(n) == True and palin(bin) == True:\n",
        "    print(\"Decimal and binary \\n # decimal = {} \\n # binary = {}\".format(n, bin))\n",
        "  elif palin(n) == True and palin(bin) == False:\n",
        "    print(\"Only Decimal \\n # decimal = {} \\n # binary = {}\".format(n, bin))\n",
        "  elif palin(n) == False and palin(bin) == True:\n",
        "    print(\"Only binary \\n # decimal = {} \\n # binary = {}\".format(n, bin))\n",
        "  else:\n",
        "    print(\"Neither! \\n # decimal = {} \\n # binary = {}\".format(n, bin))\n",
        "    condition"
      ],
      "execution_count": 169,
      "outputs": []
    },
    {
      "cell_type": "code",
      "metadata": {
        "colab": {
          "base_uri": "https://localhost:8080/"
        },
        "id": "FlznOEWO1Pgy",
        "outputId": "763a2f76-a966-4490-d5dd-0218feeb1442"
      },
      "source": [
        "palindrome_type(1306031)"
      ],
      "execution_count": 170,
      "outputs": [
        {
          "output_type": "stream",
          "text": [
            "Only Decimal \n",
            " # decimal = 1306031 \n",
            " # binary = 100111110110110101111\n"
          ],
          "name": "stdout"
        }
      ]
    },
    {
      "cell_type": "code",
      "metadata": {
        "colab": {
          "base_uri": "https://localhost:8080/"
        },
        "id": "HOnAggvY6A4_",
        "outputId": "d65d37ce-0a63-4489-e96a-bebe5e3ae76d"
      },
      "source": [
        "palindrome_type(427787)"
      ],
      "execution_count": 171,
      "outputs": [
        {
          "output_type": "stream",
          "text": [
            "Only binary \n",
            " # decimal = 427787 \n",
            " # binary = 1101000011100001011\n"
          ],
          "name": "stdout"
        }
      ]
    },
    {
      "cell_type": "code",
      "metadata": {
        "colab": {
          "base_uri": "https://localhost:8080/"
        },
        "id": "Vp6ufI_a6D3B",
        "outputId": "3ef7726f-c0a1-4ce5-9f3b-9a9bd7ec58f5"
      },
      "source": [
        "palindrome_type(934)"
      ],
      "execution_count": 172,
      "outputs": [
        {
          "output_type": "stream",
          "text": [
            "Neither! \n",
            " # decimal = 934 \n",
            " # binary = 1110100110\n"
          ],
          "name": "stdout"
        }
      ]
    },
    {
      "cell_type": "code",
      "metadata": {
        "colab": {
          "base_uri": "https://localhost:8080/"
        },
        "id": "nIn84xFu6Joy",
        "outputId": "4fda3ff0-22ca-494d-d2bc-30beeb0eaa76"
      },
      "source": [
        "palindrome_type(313)"
      ],
      "execution_count": 173,
      "outputs": [
        {
          "output_type": "stream",
          "text": [
            "Decimal and binary \n",
            " # decimal = 313 \n",
            " # binary = 100111001\n"
          ],
          "name": "stdout"
        }
      ]
    },
    {
      "cell_type": "code",
      "metadata": {
        "id": "nZfavOAh6Mpe"
      },
      "source": [
        ""
      ],
      "execution_count": null,
      "outputs": []
    }
  ]
}