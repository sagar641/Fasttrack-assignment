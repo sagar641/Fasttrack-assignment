{
  "nbformat": 4,
  "nbformat_minor": 0,
  "metadata": {
    "colab": {
      "name": "Python Advance Program 17.ipynb",
      "provenance": [],
      "collapsed_sections": []
    },
    "kernelspec": {
      "name": "python3",
      "display_name": "Python 3"
    }
  },
  "cells": [
    {
      "cell_type": "markdown",
      "metadata": {
        "id": "Kq3iTU-aJfJl"
      },
      "source": [
        "1. Create a function that transposes a 2D matrix.\n",
        "\n",
        "Examples\n",
        "\n",
        "transpose_matrix([\n",
        "[1, 1, 1],\n",
        "[2, 2, 2],\n",
        "[3, 3, 3]\n",
        "]) ➞ [\n",
        "[1, 2, 3],\n",
        "[1, 2, 3],\n",
        "[1, 2, 3]\n",
        "]\n",
        "transpose_matrix([\n",
        "[5, 5],\n",
        "[6, 7],\n",
        "[9, 1]\n",
        "]) ➞ [\n",
        "[5, 6, 9],\n",
        "[5, 7, 1]\n",
        "]"
      ]
    },
    {
      "cell_type": "code",
      "metadata": {
        "id": "KS9khO3ahvb-"
      },
      "source": [
        "def transpose_matrix(lst1):\n",
        "  lst2 = []\n",
        "  for i in range(len(lst1[0])):\n",
        "    lst3 = []\n",
        "    for j in lst1:   \n",
        "      k = j[i]\n",
        "      lst3.append(k)\n",
        "    lst2.append(lst3)\n",
        "  return lst2"
      ],
      "execution_count": null,
      "outputs": []
    },
    {
      "cell_type": "code",
      "metadata": {
        "id": "AO8jrpgph5QT",
        "colab": {
          "base_uri": "https://localhost:8080/"
        },
        "outputId": "6dd37d82-274b-4f0b-ff36-ed980fc15faa"
      },
      "source": [
        "transpose_matrix([ [5, 5], [6, 7], [9, 1] ])"
      ],
      "execution_count": null,
      "outputs": [
        {
          "output_type": "execute_result",
          "data": {
            "text/plain": [
              "[[5, 6, 9], [5, 7, 1]]"
            ]
          },
          "metadata": {
            "tags": []
          },
          "execution_count": 9
        }
      ]
    },
    {
      "cell_type": "code",
      "metadata": {
        "colab": {
          "base_uri": "https://localhost:8080/"
        },
        "id": "6UiQSB7sl2mk",
        "outputId": "9a6b3879-cce9-473f-cafb-dfbe817c2308"
      },
      "source": [
        "transpose_matrix([ [1, 1, 1], [2, 2, 2], [3, 3, 3] ])"
      ],
      "execution_count": null,
      "outputs": [
        {
          "output_type": "execute_result",
          "data": {
            "text/plain": [
              "[[1, 2, 3], [1, 2, 3], [1, 2, 3]]"
            ]
          },
          "metadata": {
            "tags": []
          },
          "execution_count": 10
        }
      ]
    },
    {
      "cell_type": "code",
      "metadata": {
        "colab": {
          "base_uri": "https://localhost:8080/"
        },
        "id": "ZqElMtnblimy",
        "outputId": "6493da4f-64dd-443e-ffd1-72704fda163f"
      },
      "source": [
        "transpose_matrix([ [1, 1, 1], [2, 2, 2]])"
      ],
      "execution_count": null,
      "outputs": [
        {
          "output_type": "execute_result",
          "data": {
            "text/plain": [
              "[[1, 2], [1, 2], [1, 2]]"
            ]
          },
          "metadata": {
            "tags": []
          },
          "execution_count": 11
        }
      ]
    },
    {
      "cell_type": "markdown",
      "metadata": {
        "id": "qybe0vMBMjwR"
      },
      "source": [
        "2. Create a function that determines whether a string is a valid hex code.\n",
        "A hex code must begin with a pound key # and is exactly 6 characters in\n",
        "length. Each character must be a digit from 0-9 or an alphabetic character\n",
        "from A-F. All alphabetic characters may be uppercase or lowercase.\n",
        "\n",
        "Examples\n",
        "\n",
        "is_valid_hex_code(&quot;#CD5C5C&quot;) ➞ True\n",
        "is_valid_hex_code(&quot;#EAECEE&quot;) ➞ True\n",
        "is_valid_hex_code(&quot;#eaecee&quot;) ➞ True\n",
        "is_valid_hex_code(&quot;#CD5C58C&quot;) ➞ False\n",
        "# Length exceeds 6\n",
        "is_valid_hex_code(&quot;#CD5C5Z&quot;) ➞ False\n",
        "# Not all alphabetic characters in A-F\n",
        "is_valid_hex_code(&quot;#CD5C&amp;C&quot;) ➞ False\n",
        "# Contains unacceptable character"
      ]
    },
    {
      "cell_type": "code",
      "metadata": {
        "id": "RG2gWHyFMf4e"
      },
      "source": [
        "def is_valid_hex_code(str1):\n",
        "  dict1 = {1:\"A\", 2:\"B\", 3:\"C\", 4:\"D\", 5:\"E\", 6:\"F\"}\n",
        "  lst = [\"{}\".format(i) for i in range(10)]\n",
        "  condition = False\n",
        "  #print(lst)\n",
        "  if str1[0] == \"#\":\n",
        "    for i in str1[1:]:\n",
        "      if i in dict1.values():\n",
        "        condition = True\n",
        "      elif i in lst:\n",
        "        condition = True\n",
        "      else:\n",
        "        condition = False\n",
        "        break\n",
        "  else:\n",
        "    condition = False\n",
        "\n",
        "  return condition"
      ],
      "execution_count": null,
      "outputs": []
    },
    {
      "cell_type": "code",
      "metadata": {
        "colab": {
          "base_uri": "https://localhost:8080/"
        },
        "id": "D5HcTR7CO0aw",
        "outputId": "57163fff-ad58-41b5-ef1d-b7d9db70b51c"
      },
      "source": [
        "is_valid_hex_code(\"#CD5C5Z\")"
      ],
      "execution_count": null,
      "outputs": [
        {
          "output_type": "execute_result",
          "data": {
            "text/plain": [
              "False"
            ]
          },
          "metadata": {
            "tags": []
          },
          "execution_count": 33
        }
      ]
    },
    {
      "cell_type": "code",
      "metadata": {
        "colab": {
          "base_uri": "https://localhost:8080/"
        },
        "id": "7zJcqJa7R0s9",
        "outputId": "25853158-3301-4243-a4c6-ba272c4a4036"
      },
      "source": [
        "is_valid_hex_code(\"#CD5C&C\")"
      ],
      "execution_count": null,
      "outputs": [
        {
          "output_type": "execute_result",
          "data": {
            "text/plain": [
              "False"
            ]
          },
          "metadata": {
            "tags": []
          },
          "execution_count": 35
        }
      ]
    },
    {
      "cell_type": "markdown",
      "metadata": {
        "id": "tPxig_bKXhMV"
      },
      "source": [
        "3. Given a list of math equations (given as strings), return the percentage of\n",
        "correct answers as a string. Round to the nearest whole number.\n",
        "\n",
        "Examples\n",
        "\n",
        "mark_maths([&quot;2+2=4&quot;, &quot;3+2=5&quot;, &quot;10-3=3&quot;, &quot;5+5=10&quot;]) ➞ &quot;75%&quot;\n",
        "mark_maths([&quot;1-2=-2&quot;]), &quot;0%&quot;\n",
        "mark_maths([&quot;2+3=5&quot;, &quot;4+4=9&quot;, &quot;3-1=2&quot;]) ➞ &quot;67%&quot;"
      ]
    },
    {
      "cell_type": "code",
      "metadata": {
        "id": "pL2ONeiBSa5w"
      },
      "source": [
        "def equation(str1):\n",
        "  val = 0\n",
        "  lst1 = str1.split(\"=\")\n",
        "  c = int(lst1[1])\n",
        "  if \"+\" in lst1[0]:\n",
        "    lst2 = lst1[0].split(\"+\")\n",
        "    a = int(lst2[0])\n",
        "    b = int(lst2[1])\n",
        "    str2 = \"+\"\n",
        "    if c == (a + b):\n",
        "      val = 1\n",
        "  elif \"-\" in lst1[0]:\n",
        "    lst2 = lst1[0].split(\"-\")\n",
        "    a = int(lst2[0])\n",
        "    b = int(lst2[1])\n",
        "    str2 = \"-\"\n",
        "    if c == (a - b):\n",
        "      val = 1\n",
        "\n",
        "  return val"
      ],
      "execution_count": null,
      "outputs": []
    },
    {
      "cell_type": "code",
      "metadata": {
        "id": "CG1FS4ZekRuz"
      },
      "source": [
        "def mark_maths(lst1):\n",
        "  k = 0\n",
        "  no_eq = 0\n",
        "  for i in lst1:\n",
        "    k += equation(i)\n",
        "    no_eq += 1\n",
        "  return str(int((k/no_eq)*100)) + \"%\""
      ],
      "execution_count": null,
      "outputs": []
    },
    {
      "cell_type": "code",
      "metadata": {
        "colab": {
          "base_uri": "https://localhost:8080/",
          "height": 35
        },
        "id": "bqAP0f7GkS2H",
        "outputId": "97d819de-3d3c-4512-9ae7-383fe381c55d"
      },
      "source": [
        "mark_maths([\"2+2=4\", \"3+2=5\", \"10-3=3\", \"5+5=10\"])"
      ],
      "execution_count": null,
      "outputs": [
        {
          "output_type": "execute_result",
          "data": {
            "application/vnd.google.colaboratory.intrinsic+json": {
              "type": "string"
            },
            "text/plain": [
              "'75%'"
            ]
          },
          "metadata": {
            "tags": []
          },
          "execution_count": 80
        }
      ]
    },
    {
      "cell_type": "code",
      "metadata": {
        "colab": {
          "base_uri": "https://localhost:8080/",
          "height": 35
        },
        "id": "kTnsxMF3uj_7",
        "outputId": "50444752-6c3b-4993-fefa-e1acc330e8ef"
      },
      "source": [
        "mark_maths([\"2+3=5\", \"4+4=9\", \"3-1=2\"])"
      ],
      "execution_count": null,
      "outputs": [
        {
          "output_type": "execute_result",
          "data": {
            "application/vnd.google.colaboratory.intrinsic+json": {
              "type": "string"
            },
            "text/plain": [
              "'66%'"
            ]
          },
          "metadata": {
            "tags": []
          },
          "execution_count": 81
        }
      ]
    },
    {
      "cell_type": "code",
      "metadata": {
        "colab": {
          "base_uri": "https://localhost:8080/",
          "height": 35
        },
        "id": "cLrAEJIK_Kyn",
        "outputId": "dd370bf2-e335-40a9-8000-6802bed832d6"
      },
      "source": [
        "mark_maths([\"1-2=-2\"])"
      ],
      "execution_count": null,
      "outputs": [
        {
          "output_type": "execute_result",
          "data": {
            "application/vnd.google.colaboratory.intrinsic+json": {
              "type": "string"
            },
            "text/plain": [
              "'0%'"
            ]
          },
          "metadata": {
            "tags": []
          },
          "execution_count": 82
        }
      ]
    },
    {
      "cell_type": "markdown",
      "metadata": {
        "id": "aKkKDofYYb9r"
      },
      "source": [
        "4. There are two players, Alice and Bob, each with a 3-by-3 grid. A referee\n",
        "tells Alice to fill out one particular row in the grid (say the second row) by\n",
        "putting either a 1 or a 0 in each box, such that the sum of the numbers in that\n",
        "row is odd. The referee tells Bob to fill out one column in the grid (say the first\n",
        "column) by putting either a 1 or a 0 in each box, such that the sum of the\n",
        "numbers in that column is even.\n",
        "\n",
        "- Alice and Bob win the game if Alice’s numbers give an odd sum, Bob’s give\n",
        "an even sum, and (most important) they’ve each written down the same\n",
        "number in the one square where their row and column intersect.\n",
        "\n",
        "Examples\n",
        "\n",
        "magic_square_game([2, &quot;100&quot;], [1, &quot;101&quot;]) ➞ False\n",
        "\n",
        "magic_square_game([2, &quot;001&quot;], [1, &quot;101&quot;]) ➞ True\n",
        "\n",
        "magic_square_game([3, &quot;111&quot;], [2, &quot;011&quot;]) ➞ True\n",
        "\n",
        "magic_square_game([1, &quot;010&quot;], [3, &quot;101&quot;]) ➞ False"
      ]
    },
    {
      "cell_type": "code",
      "metadata": {
        "id": "Mel26tBr_Oq4"
      },
      "source": [
        "def magic_square_game(A, B):\n",
        "  a = A[1][B[0]-1]\n",
        "  b = B[1][A[0]-1]\n",
        "  if a == b:\n",
        "    return (True)\n",
        "  else:\n",
        "    return (False)"
      ],
      "execution_count": 5,
      "outputs": []
    },
    {
      "cell_type": "code",
      "metadata": {
        "colab": {
          "base_uri": "https://localhost:8080/"
        },
        "id": "JhM1qKzJbW_1",
        "outputId": "ce186f3a-4c8f-49ec-8823-ae2d06a29859"
      },
      "source": [
        "magic_square_game([2, \"001\"], [1, \"101\"])"
      ],
      "execution_count": 6,
      "outputs": [
        {
          "output_type": "execute_result",
          "data": {
            "text/plain": [
              "True"
            ]
          },
          "metadata": {
            "tags": []
          },
          "execution_count": 6
        }
      ]
    },
    {
      "cell_type": "code",
      "metadata": {
        "colab": {
          "base_uri": "https://localhost:8080/"
        },
        "id": "8QZr9LNIcC88",
        "outputId": "a9270871-91c0-44a7-f3e6-3e4156753686"
      },
      "source": [
        "magic_square_game([1, \"010\"], [3, \"101\"])"
      ],
      "execution_count": 7,
      "outputs": [
        {
          "output_type": "execute_result",
          "data": {
            "text/plain": [
              "False"
            ]
          },
          "metadata": {
            "tags": []
          },
          "execution_count": 7
        }
      ]
    },
    {
      "cell_type": "markdown",
      "metadata": {
        "id": "LvHIMS_CedCx"
      },
      "source": [
        "5. From point A, an object is moving towards point B at constant velocity va\n",
        "(in km/hr). From point B, another object is moving towards point A at constant\n",
        "velocity vb (in km/hr). Knowing this and the distance between point A and B\n",
        "(in km), write a function that returns how much time passes until both objects\n",
        "meet.\n",
        "Format the output like this:\n",
        "\n",
        "- &quot;2h 23min 34s&quot;\n",
        "\n",
        "Examples\n",
        "\n",
        "lets_meet(100, 10, 30) ➞ &quot;2h 30min 0s&quot;\n",
        "\n",
        "lets_meet(280, 70, 80) ➞ &quot;1h 52min 0s&quot;\n",
        "\n",
        "lets_meet(90, 75, 65) ➞ &quot;0h 38min 34s&quot;"
      ]
    },
    {
      "cell_type": "code",
      "metadata": {
        "id": "V7rKVn61cE0N"
      },
      "source": [
        "def lets_meet(d, v1, v2):\n",
        "  t = d/(v1 + v2)\n",
        "  h = int(t)\n",
        "  min = (t%1 * 60)\n",
        "  sec = min%1 * 60\n",
        "  str1 = \"{}h {}min {}s\".format(int(h), int(min), int(sec))\n",
        "  return str1"
      ],
      "execution_count": 30,
      "outputs": []
    },
    {
      "cell_type": "code",
      "metadata": {
        "colab": {
          "base_uri": "https://localhost:8080/",
          "height": 35
        },
        "id": "tI5bX4yefnKF",
        "outputId": "60ef3616-685f-4159-cb27-bae282de4cc4"
      },
      "source": [
        "lets_meet(90, 75, 65) "
      ],
      "execution_count": 31,
      "outputs": [
        {
          "output_type": "execute_result",
          "data": {
            "application/vnd.google.colaboratory.intrinsic+json": {
              "type": "string"
            },
            "text/plain": [
              "'0h 38min 34s'"
            ]
          },
          "metadata": {
            "tags": []
          },
          "execution_count": 31
        }
      ]
    },
    {
      "cell_type": "code",
      "metadata": {
        "colab": {
          "base_uri": "https://localhost:8080/",
          "height": 35
        },
        "id": "2rkKU3qQgyRN",
        "outputId": "c0995903-d228-4e27-cc69-1e8ad548b9eb"
      },
      "source": [
        "lets_meet(280, 70, 80)"
      ],
      "execution_count": 32,
      "outputs": [
        {
          "output_type": "execute_result",
          "data": {
            "application/vnd.google.colaboratory.intrinsic+json": {
              "type": "string"
            },
            "text/plain": [
              "'1h 52min 0s'"
            ]
          },
          "metadata": {
            "tags": []
          },
          "execution_count": 32
        }
      ]
    },
    {
      "cell_type": "code",
      "metadata": {
        "id": "KYe47YlMnOFj"
      },
      "source": [
        ""
      ],
      "execution_count": null,
      "outputs": []
    }
  ]
}