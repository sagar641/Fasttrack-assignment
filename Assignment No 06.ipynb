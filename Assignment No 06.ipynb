{
  "nbformat": 4,
  "nbformat_minor": 0,
  "metadata": {
    "colab": {
      "name": "Python basic assignment.ipynb",
      "provenance": [],
      "collapsed_sections": []
    },
    "kernelspec": {
      "name": "python3",
      "display_name": "Python 3"
    },
    "language_info": {
      "name": "python"
    }
  },
  "cells": [
    {
      "cell_type": "markdown",
      "metadata": {
        "id": "zIqYCEb6JzEo"
      },
      "source": [
        "## **Assignment No 6**"
      ]
    },
    {
      "cell_type": "markdown",
      "metadata": {
        "id": "ZDcMkORhKNNn"
      },
      "source": [
        "1. What are escape characters, and how do you use them?\n",
        "2. What do the escape characters n and t stand for?"
      ]
    },
    {
      "cell_type": "markdown",
      "metadata": {
        "id": "HZpL1GnbKe7Q"
      },
      "source": [
        "In Python, the backslash \"\\ \" is a special character, also called the \"escape\" character. It is used in representing certain whitespace characters: \"\\t\" is a tab, \"\\n\" is a newline."
      ]
    },
    {
      "cell_type": "markdown",
      "metadata": {
        "id": "AhNSJ26FKhtg"
      },
      "source": [
        "3. What is the way to include backslash characters in a string?"
      ]
    },
    {
      "cell_type": "code",
      "metadata": {
        "colab": {
          "base_uri": "https://localhost:8080/"
        },
        "id": "jPZHbdtGLNdr",
        "outputId": "6facd1df-ee99-4b22-a9fc-77dceec109bf"
      },
      "source": [
        "print(\"I am a Data Scientist.\\nI learn following subjects- \\n \\t Machine learning \\n \\t Deep learning \\n \\t Python programming \")"
      ],
      "execution_count": 2,
      "outputs": [
        {
          "output_type": "stream",
          "text": [
            "I am a Data Scientist.\n",
            "I learn following subjects- \n",
            " \t Machine learning \n",
            " \t Deep learning \n",
            " \t Python programming \n"
          ],
          "name": "stdout"
        }
      ]
    },
    {
      "cell_type": "markdown",
      "metadata": {
        "id": "nSMujU-XLGGQ"
      },
      "source": [
        "4. The string &quot;Howl&#39;s Moving Castle&quot; is a correct value. Why isn&#39;t the single quote character in the\n",
        "word Howl&#39;s not escaped a problem?"
      ]
    },
    {
      "cell_type": "markdown",
      "metadata": {
        "id": "Oze86w6ePr-V"
      },
      "source": [
        "Because of double quotes."
      ]
    },
    {
      "cell_type": "code",
      "metadata": {
        "colab": {
          "base_uri": "https://localhost:8080/"
        },
        "id": "ckSFTNlIM53f",
        "outputId": "03bb715d-e012-4f60-e38d-58cb8e960fea"
      },
      "source": [
        "s = \"Howl's Moving Castle\"\n",
        "print(s)"
      ],
      "execution_count": 3,
      "outputs": [
        {
          "output_type": "stream",
          "text": [
            "Howl's Moving Castle\n"
          ],
          "name": "stdout"
        }
      ]
    },
    {
      "cell_type": "code",
      "metadata": {
        "colab": {
          "base_uri": "https://localhost:8080/",
          "height": 129
        },
        "id": "noa3ZbybM_x_",
        "outputId": "fdf48b15-83dc-4018-d229-c1ae4ac0123b"
      },
      "source": [
        "s1 = 'Howl's Moving Castle'\n",
        "print(s1)"
      ],
      "execution_count": 4,
      "outputs": [
        {
          "output_type": "error",
          "ename": "SyntaxError",
          "evalue": "ignored",
          "traceback": [
            "\u001b[0;36m  File \u001b[0;32m\"<ipython-input-4-b1d45e364a40>\"\u001b[0;36m, line \u001b[0;32m1\u001b[0m\n\u001b[0;31m    s1 = 'Howl's Moving Castle'\u001b[0m\n\u001b[0m               ^\u001b[0m\n\u001b[0;31mSyntaxError\u001b[0m\u001b[0;31m:\u001b[0m invalid syntax\n"
          ]
        }
      ]
    },
    {
      "cell_type": "markdown",
      "metadata": {
        "id": "0kH8ms5sPwrK"
      },
      "source": [
        "5. How do you write a string of newlines if you don&#39;t want to use the n character?\n"
      ]
    },
    {
      "cell_type": "markdown",
      "metadata": {
        "id": "0lSf2Z9UTdUP"
      },
      "source": [
        "Using triple quotes"
      ]
    },
    {
      "cell_type": "code",
      "metadata": {
        "colab": {
          "base_uri": "https://localhost:8080/"
        },
        "id": "x91iUjlBSZKK",
        "outputId": "6a7a16e8-36bf-41dd-d004-57e855e512f3"
      },
      "source": [
        "s = \"\"\"This is a python program. \n",
        "      Assignment no 6.\"\"\"\n",
        "print(s)"
      ],
      "execution_count": 6,
      "outputs": [
        {
          "output_type": "stream",
          "text": [
            "This is a python program. \n",
            "      Assignment no 6.\n"
          ],
          "name": "stdout"
        }
      ]
    },
    {
      "cell_type": "markdown",
      "metadata": {
        "id": "B9wY16LfQ1_n"
      },
      "source": [
        "6. What are the values of the given expressions?\n",
        "&#39;Hello, world!&#39;[1]\n",
        "&#39;Hello, world!&#39;[0:5]\n",
        "&#39;Hello, world!&#39;[:5]\n",
        "&#39;Hello, world!&#39;[3:]"
      ]
    },
    {
      "cell_type": "code",
      "metadata": {
        "colab": {
          "base_uri": "https://localhost:8080/",
          "height": 35
        },
        "id": "bC8dvGYOTlMC",
        "outputId": "48f48a97-6b41-44d7-da0f-ae57c57fdbde"
      },
      "source": [
        "'Hello, world!'[1]"
      ],
      "execution_count": 9,
      "outputs": [
        {
          "output_type": "execute_result",
          "data": {
            "application/vnd.google.colaboratory.intrinsic+json": {
              "type": "string"
            },
            "text/plain": [
              "'e'"
            ]
          },
          "metadata": {
            "tags": []
          },
          "execution_count": 9
        }
      ]
    },
    {
      "cell_type": "code",
      "metadata": {
        "colab": {
          "base_uri": "https://localhost:8080/",
          "height": 35
        },
        "id": "u5vNvUpbUDUl",
        "outputId": "682c202f-b373-4e19-aa94-22c2c2bb6c25"
      },
      "source": [
        "'Hello, world!'[0:5]\n"
      ],
      "execution_count": 10,
      "outputs": [
        {
          "output_type": "execute_result",
          "data": {
            "application/vnd.google.colaboratory.intrinsic+json": {
              "type": "string"
            },
            "text/plain": [
              "'Hello'"
            ]
          },
          "metadata": {
            "tags": []
          },
          "execution_count": 10
        }
      ]
    },
    {
      "cell_type": "code",
      "metadata": {
        "colab": {
          "base_uri": "https://localhost:8080/",
          "height": 35
        },
        "id": "vyUXZkuFUFR_",
        "outputId": "a6defc3f-3bc6-4e83-c82f-e70f836771dd"
      },
      "source": [
        "'Hello, world!'[:5]"
      ],
      "execution_count": 11,
      "outputs": [
        {
          "output_type": "execute_result",
          "data": {
            "application/vnd.google.colaboratory.intrinsic+json": {
              "type": "string"
            },
            "text/plain": [
              "'Hello'"
            ]
          },
          "metadata": {
            "tags": []
          },
          "execution_count": 11
        }
      ]
    },
    {
      "cell_type": "code",
      "metadata": {
        "colab": {
          "base_uri": "https://localhost:8080/",
          "height": 35
        },
        "id": "w9JLfK_jUHhE",
        "outputId": "07d0fbac-a4a4-4e01-af95-d968dbca6f0b"
      },
      "source": [
        "'Hello, world!'[3:]"
      ],
      "execution_count": 12,
      "outputs": [
        {
          "output_type": "execute_result",
          "data": {
            "application/vnd.google.colaboratory.intrinsic+json": {
              "type": "string"
            },
            "text/plain": [
              "'lo, world!'"
            ]
          },
          "metadata": {
            "tags": []
          },
          "execution_count": 12
        }
      ]
    },
    {
      "cell_type": "markdown",
      "metadata": {
        "id": "UCcG5EQpULNx"
      },
      "source": [
        "7. What are the values of the following expressions?\n",
        "&#39;Hello&#39;.upper()\n",
        "&#39;Hello&#39;.upper().isupper()\n",
        "&#39;Hello&#39;.upper().lower()"
      ]
    },
    {
      "cell_type": "code",
      "metadata": {
        "colab": {
          "base_uri": "https://localhost:8080/",
          "height": 35
        },
        "id": "SR2IMSr6UO6Y",
        "outputId": "02ef8702-2718-48d9-aaec-721c592fe654"
      },
      "source": [
        "'Hello'.upper()"
      ],
      "execution_count": 13,
      "outputs": [
        {
          "output_type": "execute_result",
          "data": {
            "application/vnd.google.colaboratory.intrinsic+json": {
              "type": "string"
            },
            "text/plain": [
              "'HELLO'"
            ]
          },
          "metadata": {
            "tags": []
          },
          "execution_count": 13
        }
      ]
    },
    {
      "cell_type": "code",
      "metadata": {
        "colab": {
          "base_uri": "https://localhost:8080/"
        },
        "id": "5c1IhiBPUfVC",
        "outputId": "4b25bad8-76b1-4fc6-ea16-461d8e73d4c2"
      },
      "source": [
        "'Hello'.upper().isupper()"
      ],
      "execution_count": 14,
      "outputs": [
        {
          "output_type": "execute_result",
          "data": {
            "text/plain": [
              "True"
            ]
          },
          "metadata": {
            "tags": []
          },
          "execution_count": 14
        }
      ]
    },
    {
      "cell_type": "code",
      "metadata": {
        "colab": {
          "base_uri": "https://localhost:8080/",
          "height": 35
        },
        "id": "uRWymgEmUhla",
        "outputId": "64a7f77f-fb81-41a2-ac7e-acd494636a9d"
      },
      "source": [
        "'Hello'.upper().lower()"
      ],
      "execution_count": 15,
      "outputs": [
        {
          "output_type": "execute_result",
          "data": {
            "application/vnd.google.colaboratory.intrinsic+json": {
              "type": "string"
            },
            "text/plain": [
              "'hello'"
            ]
          },
          "metadata": {
            "tags": []
          },
          "execution_count": 15
        }
      ]
    },
    {
      "cell_type": "markdown",
      "metadata": {
        "id": "btotejgJU3tq"
      },
      "source": [
        "8. What are the values of the following expressions?\n",
        "&#39;Remember, remember, the fifth of July.&#39;.split()\n",
        "&#39;-&#39;.join(&#39;There can only one.&#39;.split())"
      ]
    },
    {
      "cell_type": "code",
      "metadata": {
        "colab": {
          "base_uri": "https://localhost:8080/"
        },
        "id": "mdS9IoRaU4-q",
        "outputId": "46e0621b-2316-415f-bb9e-03a42d512629"
      },
      "source": [
        " 'Remember, remember, the fifth of July.'.split()"
      ],
      "execution_count": 18,
      "outputs": [
        {
          "output_type": "execute_result",
          "data": {
            "text/plain": [
              "['Remember,', 'remember,', 'the', 'fifth', 'of', 'July.']"
            ]
          },
          "metadata": {
            "tags": []
          },
          "execution_count": 18
        }
      ]
    },
    {
      "cell_type": "code",
      "metadata": {
        "colab": {
          "base_uri": "https://localhost:8080/",
          "height": 35
        },
        "id": "2XfjKSCwUIzn",
        "outputId": "40518be0-5552-4cb1-cac8-666045f6b249"
      },
      "source": [
        "'-'.join('There can only one'.split())"
      ],
      "execution_count": 19,
      "outputs": [
        {
          "output_type": "execute_result",
          "data": {
            "application/vnd.google.colaboratory.intrinsic+json": {
              "type": "string"
            },
            "text/plain": [
              "'There-can-only-one'"
            ]
          },
          "metadata": {
            "tags": []
          },
          "execution_count": 19
        }
      ]
    },
    {
      "cell_type": "markdown",
      "metadata": {
        "id": "z-Tj3OLeVzm9"
      },
      "source": [
        "9. What are the methods for right-justifying, left-justifying, and centering a string?"
      ]
    },
    {
      "cell_type": "code",
      "metadata": {
        "colab": {
          "base_uri": "https://localhost:8080/"
        },
        "id": "Mwp4LMfbVtkl",
        "outputId": "9aceb75e-030f-469b-eaf3-7b3bba05879d"
      },
      "source": [
        "#Left-justifying\n",
        "s = 'hello'\n",
        "print('{:.<10}'.format(s))"
      ],
      "execution_count": 20,
      "outputs": [
        {
          "output_type": "stream",
          "text": [
            "hello.....\n"
          ],
          "name": "stdout"
        }
      ]
    },
    {
      "cell_type": "code",
      "metadata": {
        "colab": {
          "base_uri": "https://localhost:8080/"
        },
        "id": "p4wdsjehayM2",
        "outputId": "ba114d9c-f0ff-4d3f-e054-8477ae27ed18"
      },
      "source": [
        "#Centering\n",
        "s = 'hello'\n",
        "print('{:.^10}'.format(s))"
      ],
      "execution_count": 21,
      "outputs": [
        {
          "output_type": "stream",
          "text": [
            "..hello...\n"
          ],
          "name": "stdout"
        }
      ]
    },
    {
      "cell_type": "code",
      "metadata": {
        "colab": {
          "base_uri": "https://localhost:8080/"
        },
        "id": "NlI_dGCmampK",
        "outputId": "6f674ab8-8aef-4b73-f6e7-e6d84cd151d1"
      },
      "source": [
        "#Right-justifying\n",
        "s = 'hello'\n",
        "print('{:.>10}'.format(s))"
      ],
      "execution_count": 22,
      "outputs": [
        {
          "output_type": "stream",
          "text": [
            ".....hello\n"
          ],
          "name": "stdout"
        }
      ]
    },
    {
      "cell_type": "markdown",
      "metadata": {
        "id": "xURSa3bTbNZ4"
      },
      "source": [
        "10. What is the best way to remove whitespace characters from the start or end?"
      ]
    },
    {
      "cell_type": "markdown",
      "metadata": {
        "id": "QoFi8HjldvKw"
      },
      "source": [
        "Python String strip() function will remove leading and trailing whitespaces. To remove only leading or trailing spaces, use lstrip() or rstrip() function instead."
      ]
    },
    {
      "cell_type": "code",
      "metadata": {
        "colab": {
          "base_uri": "https://localhost:8080/",
          "height": 35
        },
        "id": "IDct8o8Na584",
        "outputId": "6dfb3716-a785-4e06-8325-3c9d02b5af46"
      },
      "source": [
        "\"           hello          \".strip()"
      ],
      "execution_count": 26,
      "outputs": [
        {
          "output_type": "execute_result",
          "data": {
            "application/vnd.google.colaboratory.intrinsic+json": {
              "type": "string"
            },
            "text/plain": [
              "'hello'"
            ]
          },
          "metadata": {
            "tags": []
          },
          "execution_count": 26
        }
      ]
    },
    {
      "cell_type": "code",
      "metadata": {
        "colab": {
          "base_uri": "https://localhost:8080/",
          "height": 35
        },
        "id": "FRFuepzEeHKf",
        "outputId": "bff7e184-25ca-4451-f800-559bd87b3bfd"
      },
      "source": [
        "\"           hello          \".lstrip()"
      ],
      "execution_count": 27,
      "outputs": [
        {
          "output_type": "execute_result",
          "data": {
            "application/vnd.google.colaboratory.intrinsic+json": {
              "type": "string"
            },
            "text/plain": [
              "'hello          '"
            ]
          },
          "metadata": {
            "tags": []
          },
          "execution_count": 27
        }
      ]
    },
    {
      "cell_type": "code",
      "metadata": {
        "colab": {
          "base_uri": "https://localhost:8080/",
          "height": 35
        },
        "id": "GyNF6zz2eL9o",
        "outputId": "75cafb3e-173d-408b-cf48-72946f5b5895"
      },
      "source": [
        "\"           hello          \".rstrip()"
      ],
      "execution_count": 28,
      "outputs": [
        {
          "output_type": "execute_result",
          "data": {
            "application/vnd.google.colaboratory.intrinsic+json": {
              "type": "string"
            },
            "text/plain": [
              "'           hello'"
            ]
          },
          "metadata": {
            "tags": []
          },
          "execution_count": 28
        }
      ]
    },
    {
      "cell_type": "code",
      "metadata": {
        "id": "7GMa68uSeqcT"
      },
      "source": [
        ""
      ],
      "execution_count": null,
      "outputs": []
    }
  ]
}