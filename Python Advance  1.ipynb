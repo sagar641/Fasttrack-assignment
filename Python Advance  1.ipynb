{
  "nbformat": 4,
  "nbformat_minor": 0,
  "metadata": {
    "colab": {
      "name": "Untitled10.ipynb",
      "provenance": [],
      "collapsed_sections": []
    },
    "kernelspec": {
      "name": "python3",
      "display_name": "Python 3"
    },
    "language_info": {
      "name": "python"
    }
  },
  "cells": [
    {
      "cell_type": "markdown",
      "metadata": {
        "id": "gJt-Ks0uU-m5"
      },
      "source": [
        "Q1. What is the purpose of Python&#39;s OOP?"
      ]
    },
    {
      "cell_type": "markdown",
      "metadata": {
        "id": "yBn2cX_jVAYX"
      },
      "source": [
        "=> Python's OOP makes code more reusable and makes it easier to work with larger programs. OOP programs prevent from repeating code because a class can be defined once and reused many times."
      ]
    },
    {
      "cell_type": "markdown",
      "metadata": {
        "id": "FxC853CwXzvH"
      },
      "source": [
        "Q2. Where does an inheritance search look for an attribute?"
      ]
    },
    {
      "cell_type": "markdown",
      "metadata": {
        "id": "_s5U3kknX0y8"
      },
      "source": [
        "=> An inherited attribute is one that is inherited from a parent product class.We define class attributes outside all the methods, usually they are placed at the top, right below the class header."
      ]
    },
    {
      "cell_type": "markdown",
      "metadata": {
        "id": "28onUXQehSf7"
      },
      "source": [
        "Q3. How do you distinguish between a class object and an instance object?"
      ]
    },
    {
      "cell_type": "markdown",
      "metadata": {
        "id": "w9u8t7VahY7e"
      },
      "source": [
        "=> Instance objects are objects used for data that is unique to a particular instance. Class objects are objects that are shared by all instances of a class."
      ]
    },
    {
      "cell_type": "markdown",
      "metadata": {
        "id": "je8lK7A0NMXU"
      },
      "source": [
        "Q5. What is the purpose of the __init__ method?"
      ]
    },
    {
      "cell_type": "markdown",
      "metadata": {
        "id": "etyJ9OBnU1EK"
      },
      "source": [
        "=> The __init__ method allows to accept arguments to your class. More importantly, the __init__ method allows to assign initial values to various attributes on your class instances."
      ]
    },
    {
      "cell_type": "markdown",
      "metadata": {
        "id": "9bi8vtIHU71U"
      },
      "source": [
        "Q6. What is the process for creating a class instance?"
      ]
    },
    {
      "cell_type": "markdown",
      "metadata": {
        "id": "jFY7F165Wg0D"
      },
      "source": [
        "=> Call a class by using defined class name as follows-"
      ]
    },
    {
      "cell_type": "code",
      "metadata": {
        "id": "E390MgFUXFSC"
      },
      "source": [
        "class Data_Science:\n",
        "  pass\n",
        "\n",
        "a = Data_science()\n",
        "#here 'a' is instance of class Data_Science"
      ],
      "execution_count": null,
      "outputs": []
    },
    {
      "cell_type": "markdown",
      "metadata": {
        "id": "UCeNBfWAXu3L"
      },
      "source": [
        "Q7. What is the process for creating a class?"
      ]
    },
    {
      "cell_type": "markdown",
      "metadata": {
        "id": "cpc59IydX4Ga"
      },
      "source": [
        "To create a class, use the keyword 'class name_of_class:' and attributes and methods are defined as follows"
      ]
    },
    {
      "cell_type": "code",
      "metadata": {
        "id": "XwnV7ZvOX5FC"
      },
      "source": [
        "class Data_Science: #class define\n",
        "\n",
        "  i=10              #attributes\n",
        "  j='abc'\n",
        "\n",
        "  def a():          #methods\n",
        "    pass\n",
        "\n",
        "  def b():\n",
        "    pass\n"
      ],
      "execution_count": null,
      "outputs": []
    },
    {
      "cell_type": "markdown",
      "metadata": {
        "id": "K00MaivyY47R"
      },
      "source": [
        "Q8. How would you define the superclasses of a class?"
      ]
    },
    {
      "cell_type": "markdown",
      "metadata": {
        "id": "Utn7fFSFY8Io"
      },
      "source": [
        "classes can be derived from other classes. The derived class (the class that is derived from another class) is called a subclass. The class from which it's derived is called the superclass."
      ]
    }
  ]
}