{
  "nbformat": 4,
  "nbformat_minor": 0,
  "metadata": {
    "colab": {
      "name": "Python Advance Program 5.ipynb",
      "provenance": [],
      "collapsed_sections": []
    },
    "kernelspec": {
      "name": "python3",
      "display_name": "Python 3"
    },
    "language_info": {
      "name": "python"
    }
  },
  "cells": [
    {
      "cell_type": "markdown",
      "metadata": {
        "id": "KCa7XvEV1rcH"
      },
      "source": [
        "1. Create a function that takes a number n (integer greater than zero) as an\n",
        "argument, and returns 2 if n is odd and 8 if n is even.\n",
        "You can only use the following arithmetic operators: addition of numbers +,\n",
        "subtraction of numbers -, multiplication of number *, division of number /, and\n",
        "exponentiation **.\n",
        "You are not allowed to use any other methods in this challenge (i.e. no if\n",
        "statements, comparison operators, etc).\n",
        "\n",
        "Examples\n",
        "\n",
        "f(1) ➞ 2"
      ]
    },
    {
      "cell_type": "code",
      "metadata": {
        "id": "ScBHcJUL1fZj"
      },
      "source": [
        "def f(n):\n",
        "  lst = [8, 2]\n",
        "  return lst[n%2]"
      ],
      "execution_count": null,
      "outputs": []
    },
    {
      "cell_type": "code",
      "metadata": {
        "colab": {
          "base_uri": "https://localhost:8080/"
        },
        "id": "QcQw3PdS40dK",
        "outputId": "55dcd612-bf24-4a07-a756-70d4abec2d38"
      },
      "source": [
        "f(211)"
      ],
      "execution_count": null,
      "outputs": [
        {
          "output_type": "execute_result",
          "data": {
            "text/plain": [
              "2"
            ]
          },
          "metadata": {
            "tags": []
          },
          "execution_count": 7
        }
      ]
    },
    {
      "cell_type": "code",
      "metadata": {
        "colab": {
          "base_uri": "https://localhost:8080/"
        },
        "id": "xngdKRzP5DCv",
        "outputId": "b72968e7-e909-4318-9c37-4890487a6514"
      },
      "source": [
        "f(524)"
      ],
      "execution_count": null,
      "outputs": [
        {
          "output_type": "execute_result",
          "data": {
            "text/plain": [
              "8"
            ]
          },
          "metadata": {
            "tags": []
          },
          "execution_count": 8
        }
      ]
    },
    {
      "cell_type": "markdown",
      "metadata": {
        "id": "Sw4N-v4m9pEP"
      },
      "source": [
        "2. Create a function that returns the majority vote in a list. A majority vote is\n",
        "an element that occurs &gt; N/2 times in a list (where N is the length of the list).\n",
        "Examples\n",
        "majority_vote([&quot;A&quot;, &quot;A&quot;, &quot;B&quot;]) ➞ &quot;A&quot;\n",
        "majority_vote([&quot;A&quot;, &quot;A&quot;, &quot;A&quot;, &quot;B&quot;, &quot;C&quot;, &quot;A&quot;]) ➞ &quot;A&quot;\n",
        "majority_vote([&quot;A&quot;, &quot;B&quot;, &quot;B&quot;, &quot;A&quot;, &quot;C&quot;, &quot;C&quot;]) ➞ None"
      ]
    },
    {
      "cell_type": "code",
      "metadata": {
        "id": "tlVhZ6CB7Wac"
      },
      "source": [
        "def majority_vote(lst):\n",
        "  maxcount = 0\n",
        "  for i in range(len(lst)):\n",
        "    count = 0\n",
        "    for j in range(len(lst)):\n",
        "      if lst[i] == lst[j]:\n",
        "        count += 1 \n",
        "      if count > maxcount:\n",
        "        maxcount = count\n",
        "        index = i\n",
        "\n",
        "  if (maxcount > len(lst)//2):\n",
        "    print(lst[index])\n",
        "  \n",
        "  else:\n",
        "    print(\"None\")"
      ],
      "execution_count": null,
      "outputs": []
    },
    {
      "cell_type": "code",
      "metadata": {
        "colab": {
          "base_uri": "https://localhost:8080/"
        },
        "id": "F-u8WvOHBa_7",
        "outputId": "cb35524c-e5c6-4e4c-b517-0d67b7789625"
      },
      "source": [
        "majority_vote([\"A\", \"A\", \"A\", \"B\", \"C\", \"A\"])"
      ],
      "execution_count": null,
      "outputs": [
        {
          "output_type": "stream",
          "text": [
            "A\n"
          ],
          "name": "stdout"
        }
      ]
    },
    {
      "cell_type": "code",
      "metadata": {
        "colab": {
          "base_uri": "https://localhost:8080/"
        },
        "id": "64SaVeS4BhF5",
        "outputId": "c0c3aebb-bef3-410c-c1b0-4d6303e71491"
      },
      "source": [
        "majority_vote([\"A\", \"B\", \"B\", \"A\", \"C\", \"C\"])"
      ],
      "execution_count": null,
      "outputs": [
        {
          "output_type": "stream",
          "text": [
            "None\n"
          ],
          "name": "stdout"
        }
      ]
    },
    {
      "cell_type": "code",
      "metadata": {
        "colab": {
          "base_uri": "https://localhost:8080/"
        },
        "id": "k55RIMcbBlDK",
        "outputId": "4db9ad5e-4642-4193-8d07-684edd9b103f"
      },
      "source": [
        "majority_vote([\"A\", \"A\", \"B\"])"
      ],
      "execution_count": null,
      "outputs": [
        {
          "output_type": "stream",
          "text": [
            "A\n"
          ],
          "name": "stdout"
        }
      ]
    },
    {
      "cell_type": "markdown",
      "metadata": {
        "id": "SOAXN6v3BaIY"
      },
      "source": [
        "3. Create a function that takes a string txt and censors any word from a given\n",
        "list lst. The text removed must be replaced by the given character char."
      ]
    },
    {
      "cell_type": "code",
      "metadata": {
        "id": "xU0osiIBFfyy"
      },
      "source": [
        "def censor_string(text1, lst, censor):\n",
        "  word_list = text1.split()\n",
        "  for i in range(len(lst)):\n",
        "    text2 = ''\n",
        "    for j in range(len(word_list)):\n",
        "      #index = text1.find(j)\n",
        "      if lst[i] == word_list[j]:\n",
        "        text2 += censor*len(lst[i]) + ' '\n",
        "      else:\n",
        "        text2 += word_list[j] + ' '\n",
        "    word_list = text2.split()\n",
        "        \n",
        "  return text2   \n"
      ],
      "execution_count": null,
      "outputs": []
    },
    {
      "cell_type": "code",
      "metadata": {
        "colab": {
          "base_uri": "https://localhost:8080/",
          "height": 35
        },
        "id": "1-cKZLoIGVQi",
        "outputId": "8cdc383c-54e7-4012-9f4a-e6142c31eae4"
      },
      "source": [
        "censor_string(\"Today is a Wednesday!\", [\"Today\", \"a\"], censor = \"-\")\n"
      ],
      "execution_count": null,
      "outputs": [
        {
          "output_type": "execute_result",
          "data": {
            "application/vnd.google.colaboratory.intrinsic+json": {
              "type": "string"
            },
            "text/plain": [
              "'----- is - Wednesday! '"
            ]
          },
          "metadata": {
            "tags": []
          },
          "execution_count": 41
        }
      ]
    },
    {
      "cell_type": "code",
      "metadata": {
        "colab": {
          "base_uri": "https://localhost:8080/",
          "height": 35
        },
        "id": "FYzFhN7CGc-M",
        "outputId": "c9187138-b69a-4a73-e9f1-16e1bcf8de1c"
      },
      "source": [
        "censor_string(\"The cow jumped over the moon.\", [\"cow\", \"over\"], \"*\")"
      ],
      "execution_count": null,
      "outputs": [
        {
          "output_type": "execute_result",
          "data": {
            "application/vnd.google.colaboratory.intrinsic+json": {
              "type": "string"
            },
            "text/plain": [
              "'The *** jumped **** the moon. '"
            ]
          },
          "metadata": {
            "tags": []
          },
          "execution_count": 42
        }
      ]
    },
    {
      "cell_type": "markdown",
      "metadata": {
        "id": "tOnBSXddUhF5"
      },
      "source": [
        "4. In mathematics a Polydivisible Number (or magic number) is a number in a\n",
        "given number base with digits abcde... that has the following properties:\n",
        "- Its first digit a is not 0.\n",
        "- The number formed by its first two digits ab is a multiple of 2.\n",
        "- The number formed by its first three digits abc is a multiple of 3.\n",
        "- The number formed by its first four digits abcd is a multiple of 4.\n",
        "Create a function which takes an integer n and returns True if the given\n",
        "number is a Polydivisible Number and False otherwise."
      ]
    },
    {
      "cell_type": "code",
      "metadata": {
        "id": "4-_stfm6GZb6"
      },
      "source": [
        "def is_polydivisible(num):\n",
        "  a = list(str(num))\n",
        "  digits = len(a)\n",
        "  i = 1\n",
        "  while i <= digits:\n",
        "    j = num//(10**(digits-i))\n",
        "    k = j/i\n",
        "    if k == int(k):\n",
        "      is_whole = True\n",
        "      i = i+1\n",
        "      continue\n",
        "    else:\n",
        "      is_whole = False\n",
        "      break\n",
        "    \n",
        "  return is_whole\n"
      ],
      "execution_count": 61,
      "outputs": []
    },
    {
      "cell_type": "code",
      "metadata": {
        "colab": {
          "base_uri": "https://localhost:8080/"
        },
        "id": "iswUwJn_HAMQ",
        "outputId": "c64d8f86-6392-45a3-e7de-33ef555cd3f1"
      },
      "source": [
        "is_polydivisible(123220)\n"
      ],
      "execution_count": 62,
      "outputs": [
        {
          "output_type": "execute_result",
          "data": {
            "text/plain": [
              "False"
            ]
          },
          "metadata": {
            "tags": []
          },
          "execution_count": 62
        }
      ]
    },
    {
      "cell_type": "code",
      "metadata": {
        "colab": {
          "base_uri": "https://localhost:8080/"
        },
        "id": "o3N4hFduIONe",
        "outputId": "c74f1695-e6bc-4ad1-d42e-1b3bb7740bd0"
      },
      "source": [
        "is_polydivisible(1232)\n"
      ],
      "execution_count": 63,
      "outputs": [
        {
          "output_type": "execute_result",
          "data": {
            "text/plain": [
              "True"
            ]
          },
          "metadata": {
            "tags": []
          },
          "execution_count": 63
        }
      ]
    },
    {
      "cell_type": "markdown",
      "metadata": {
        "id": "Hs0XvZNPa28y"
      },
      "source": [
        "5. Create a function that takes a list of numbers and returns the sum of all\n",
        "prime numbers in the list.\n",
        "\n",
        "Examples\n",
        "\n",
        "sum_primes([1, 2, 3, 4, 5, 6, 7, 8, 9, 10]) ➞ 17\n",
        "\n",
        "sum_primes([2, 3, 4, 11, 20, 50, 71]) ➞ 87\n",
        "\n",
        "sum_primes([]) ➞ None"
      ]
    },
    {
      "cell_type": "code",
      "metadata": {
        "id": "Fj6e2s9bbBRs"
      },
      "source": [
        "def is_prime_no(num):\n",
        "  if num == 1:\n",
        "    return False\n",
        "  elif num == 2:\n",
        "    return True\n",
        "  else:\n",
        "    for i in range(2, num):\n",
        "      if num%i == 0:\n",
        "        is_prime = False\n",
        "        break\n",
        "      else:\n",
        "        is_prime = True\n",
        "    return is_prime"
      ],
      "execution_count": 67,
      "outputs": []
    },
    {
      "cell_type": "code",
      "metadata": {
        "id": "Dau2-JsrdAO0"
      },
      "source": [
        "def sum_primes(lst):\n",
        "  sum = 0\n",
        "  for i in lst:\n",
        "    if is_prime_no(i) == True:\n",
        "      sum += i\n",
        "    else:\n",
        "      sum = sum\n",
        "\n",
        "  if sum > 0:\n",
        "    return sum\n",
        "  else:\n",
        "    print(None)"
      ],
      "execution_count": 80,
      "outputs": []
    },
    {
      "cell_type": "code",
      "metadata": {
        "colab": {
          "base_uri": "https://localhost:8080/"
        },
        "id": "ZAyDfgbqdJ3q",
        "outputId": "f8db53ca-3af7-44e9-a7c5-1a441a325e8f"
      },
      "source": [
        "sum_primes([1, 2, 3, 4, 5, 6, 7, 8, 9, 10])"
      ],
      "execution_count": 81,
      "outputs": [
        {
          "output_type": "execute_result",
          "data": {
            "text/plain": [
              "17"
            ]
          },
          "metadata": {
            "tags": []
          },
          "execution_count": 81
        }
      ]
    },
    {
      "cell_type": "code",
      "metadata": {
        "colab": {
          "base_uri": "https://localhost:8080/"
        },
        "id": "YtJY7B41d266",
        "outputId": "69519377-1228-4d94-fd80-f79f11d541b0"
      },
      "source": [
        "sum_primes([2, 3, 4, 11, 20, 50, 71])"
      ],
      "execution_count": 82,
      "outputs": [
        {
          "output_type": "execute_result",
          "data": {
            "text/plain": [
              "87"
            ]
          },
          "metadata": {
            "tags": []
          },
          "execution_count": 82
        }
      ]
    },
    {
      "cell_type": "code",
      "metadata": {
        "colab": {
          "base_uri": "https://localhost:8080/"
        },
        "id": "XUsKN_SweDoJ",
        "outputId": "4756607f-57fe-4785-87ed-b4986f3f6c49"
      },
      "source": [
        "sum_primes([])"
      ],
      "execution_count": 83,
      "outputs": [
        {
          "output_type": "stream",
          "text": [
            "None\n"
          ],
          "name": "stdout"
        }
      ]
    },
    {
      "cell_type": "code",
      "metadata": {
        "id": "FSoYAx6weKaP"
      },
      "source": [
        ""
      ],
      "execution_count": null,
      "outputs": []
    }
  ]
}