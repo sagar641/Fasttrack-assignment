{
  "nbformat": 4,
  "nbformat_minor": 0,
  "metadata": {
    "colab": {
      "name": "Programming Assignment 23.ipynb",
      "provenance": [],
      "collapsed_sections": []
    },
    "kernelspec": {
      "name": "python3",
      "display_name": "Python 3"
    },
    "language_info": {
      "name": "python"
    }
  },
  "cells": [
    {
      "cell_type": "markdown",
      "metadata": {
        "id": "URJh9o90qDHu"
      },
      "source": [
        "Question 1 : \n",
        "Create a function that takes a number as an argument and returns True or False depending on whether the number is symmetrical or not. A number is symmetrical when it is the same as its reverse.\n",
        "Examples\n",
        "is_symmetrical(7227) ➞ True\n",
        "is_symmetrical(12567) ➞ False\n",
        "is_symmetrical(44444444) ➞ True\n",
        "is_symmetrical(9939) ➞ False\n",
        "is_symmetrical(1112111) ➞ True"
      ]
    },
    {
      "cell_type": "code",
      "metadata": {
        "id": "9p6xIAkDrVB_"
      },
      "source": [
        "def is_symmetrical(n):\n",
        "  a = str(n)\n",
        "  symmetrical = True\n",
        "  #if len(a)%2 == 0:\n",
        "  for i in range(len(a)//2):\n",
        "      if a[i] != a[len(a)-1-i]:\n",
        "        symmetrical = False\n",
        "  return symmetrical"
      ],
      "execution_count": null,
      "outputs": []
    },
    {
      "cell_type": "code",
      "metadata": {
        "colab": {
          "base_uri": "https://localhost:8080/"
        },
        "id": "GZHU5JD-ssvQ",
        "outputId": "6050ac56-3168-4702-b587-8114bf45a88e"
      },
      "source": [
        "is_symmetrical(11111211111)"
      ],
      "execution_count": null,
      "outputs": [
        {
          "output_type": "execute_result",
          "data": {
            "text/plain": [
              "True"
            ]
          },
          "metadata": {
            "tags": []
          },
          "execution_count": 10
        }
      ]
    },
    {
      "cell_type": "code",
      "metadata": {
        "colab": {
          "base_uri": "https://localhost:8080/"
        },
        "id": "aEuu7etmt2uN",
        "outputId": "94469be3-c1cd-4dc3-bdf9-6b28314394a0"
      },
      "source": [
        "is_symmetrical(12567)"
      ],
      "execution_count": null,
      "outputs": [
        {
          "output_type": "execute_result",
          "data": {
            "text/plain": [
              "False"
            ]
          },
          "metadata": {
            "tags": []
          },
          "execution_count": 12
        }
      ]
    },
    {
      "cell_type": "markdown",
      "metadata": {
        "id": "Nnhi3Q4vPW9f"
      },
      "source": [
        "Question 2 : \n",
        "Given a string of numbers separated by a comma and space, return the product of the\n",
        "numbers.\n",
        "Examples\n",
        "multiply_nums(&quot;2, 3&quot;) ➞ 6\n",
        "multiply_nums(&quot;1, 2, 3, 4&quot;) ➞ 24\n",
        "multiply_nums(&quot;54, 75, 453, 0&quot;) ➞ 0\n",
        "multiply_nums(&quot;10, -2&quot;) ➞ -20"
      ]
    },
    {
      "cell_type": "code",
      "metadata": {
        "id": "VfZfBB--PV44"
      },
      "source": [
        "def multiply_nums(s = str):\n",
        "  lst = list(s.split(','))\n",
        "  lst1 = [int(i) for i in lst]\n",
        "  n = 1\n",
        "  for i in range(len(lst1)):\n",
        "    n = lst1[i]*n\n",
        "  return n"
      ],
      "execution_count": 24,
      "outputs": []
    },
    {
      "cell_type": "code",
      "metadata": {
        "id": "zfmuK5lTQIma",
        "colab": {
          "base_uri": "https://localhost:8080/"
        },
        "outputId": "c1056b24-b990-4a2b-b6af-4a84d89875ab"
      },
      "source": [
        "multiply_nums(\"54, 75, 453, 0\")"
      ],
      "execution_count": 25,
      "outputs": [
        {
          "output_type": "execute_result",
          "data": {
            "text/plain": [
              "0"
            ]
          },
          "metadata": {
            "tags": []
          },
          "execution_count": 25
        }
      ]
    },
    {
      "cell_type": "code",
      "metadata": {
        "colab": {
          "base_uri": "https://localhost:8080/"
        },
        "id": "rv1lzNFKXQCt",
        "outputId": "ba55307c-c194-4efc-e927-710b5965ba6c"
      },
      "source": [
        "multiply_nums(\"1, 2, 3, 4\")"
      ],
      "execution_count": 26,
      "outputs": [
        {
          "output_type": "execute_result",
          "data": {
            "text/plain": [
              "24"
            ]
          },
          "metadata": {
            "tags": []
          },
          "execution_count": 26
        }
      ]
    },
    {
      "cell_type": "markdown",
      "metadata": {
        "id": "PLsfS2yBXhJ2"
      },
      "source": [
        "Question 3 : \n",
        "Create a function that squares every digit of a number.\n",
        "Examples\n",
        "square_digits(9119) ➞ 811181\n",
        "square_digits(2483) ➞ 416649\n",
        "square_digits(3212) ➞ 9414\n",
        "Notes\n",
        "The function receives an integer and must return an integer."
      ]
    },
    {
      "cell_type": "code",
      "metadata": {
        "id": "Wly7V5pwXgFX"
      },
      "source": [
        "def square_digits(n):\n",
        "  s = str(n)\n",
        "  s1 = \"\"\n",
        "  for i in [int(i)**2 for i in s]:\n",
        "    s1 += str(i)\n",
        "  return s1"
      ],
      "execution_count": 43,
      "outputs": []
    },
    {
      "cell_type": "code",
      "metadata": {
        "colab": {
          "base_uri": "https://localhost:8080/",
          "height": 35
        },
        "id": "f3t507UBbf_h",
        "outputId": "38a35618-88d0-4f0e-9676-f52c44314f6a"
      },
      "source": [
        "square_digits(9119)"
      ],
      "execution_count": 44,
      "outputs": [
        {
          "output_type": "execute_result",
          "data": {
            "application/vnd.google.colaboratory.intrinsic+json": {
              "type": "string"
            },
            "text/plain": [
              "'811181'"
            ]
          },
          "metadata": {
            "tags": []
          },
          "execution_count": 44
        }
      ]
    },
    {
      "cell_type": "markdown",
      "metadata": {
        "id": "oVnFPGYQYlAZ"
      },
      "source": [
        "Question 4 : \n",
        "Create a function that sorts a list and removes all duplicate items from it.\n",
        "Examples\n",
        "setify([1, 3, 3, 5, 5]) ➞ [1, 3, 5]\n",
        "setify([4, 4, 4, 4]) ➞ [4]\n",
        "setify([5, 7, 8, 9, 10, 15]) ➞ [5, 7, 8, 9, 10, 15]\n",
        "setify([3, 3, 3, 2, 1]) ➞ [1, 2, 3]"
      ]
    },
    {
      "cell_type": "code",
      "metadata": {
        "id": "eV3ZTkK7ayDN"
      },
      "source": [
        "def setify(lst = list):\n",
        "  s1 = set(lst)\n",
        "  return s1"
      ],
      "execution_count": 46,
      "outputs": []
    },
    {
      "cell_type": "code",
      "metadata": {
        "colab": {
          "base_uri": "https://localhost:8080/"
        },
        "id": "LtP5Al8lccEP",
        "outputId": "10c78153-ddcb-46f4-eabe-da28ea51c4ad"
      },
      "source": [
        "setify([5, 7, 8, 8, 9, 10, 7, 15]) "
      ],
      "execution_count": 48,
      "outputs": [
        {
          "output_type": "execute_result",
          "data": {
            "text/plain": [
              "{5, 7, 8, 9, 10, 15}"
            ]
          },
          "metadata": {
            "tags": []
          },
          "execution_count": 48
        }
      ]
    },
    {
      "cell_type": "markdown",
      "metadata": {
        "id": "3Pb_sILqcu6f"
      },
      "source": [
        "Question 5 : \n",
        "Create a function that returns the mean of all digits.\n",
        "Examples\n",
        "mean(42) ➞ 3\n",
        "mean(12345) ➞ 3\n",
        "mean(666) ➞ 6"
      ]
    },
    {
      "cell_type": "code",
      "metadata": {
        "id": "2Wq2VbskcsvI"
      },
      "source": [
        "def mean(n):\n",
        "  #s = str(n)\n",
        "  lst = [int(i) for i in str(n)]\n",
        "  sum = 0\n",
        "  for i in range(len(lst)):\n",
        "    sum += lst[i] \n",
        "  return sum/len(lst)"
      ],
      "execution_count": 54,
      "outputs": []
    },
    {
      "cell_type": "code",
      "metadata": {
        "colab": {
          "base_uri": "https://localhost:8080/"
        },
        "id": "e5sDc1FidSq9",
        "outputId": "d0c780d1-9bde-40e3-e746-92bfd85b9685"
      },
      "source": [
        "mean(25346)"
      ],
      "execution_count": 55,
      "outputs": [
        {
          "output_type": "execute_result",
          "data": {
            "text/plain": [
              "4.0"
            ]
          },
          "metadata": {
            "tags": []
          },
          "execution_count": 55
        }
      ]
    },
    {
      "cell_type": "code",
      "metadata": {
        "colab": {
          "base_uri": "https://localhost:8080/"
        },
        "id": "t3WtsjOHeflh",
        "outputId": "9eb82dd9-0b7a-4949-c344-cbb470fa8426"
      },
      "source": [
        "mean(12345)"
      ],
      "execution_count": 56,
      "outputs": [
        {
          "output_type": "execute_result",
          "data": {
            "text/plain": [
              "3.0"
            ]
          },
          "metadata": {
            "tags": []
          },
          "execution_count": 56
        }
      ]
    }
  ]
}