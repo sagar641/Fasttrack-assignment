{
 "cells": [
  {
   "cell_type": "markdown",
   "metadata": {},
   "source": [
    "# 1. To what does a relative path refer?\n",
    "\n",
    "### Ans: Relative path refers to the path from the Current Working Directory (CWD).\n",
    "\n",
    "### For e.g."
   ]
  },
  {
   "cell_type": "code",
   "execution_count": 1,
   "metadata": {},
   "outputs": [],
   "source": [
    "import os"
   ]
  },
  {
   "cell_type": "code",
   "execution_count": 3,
   "metadata": {},
   "outputs": [
    {
     "data": {
      "text/plain": [
       "'C:\\\\Users\\\\TKIETP-Mech\\\\Ineuron\\\\Python Assignments\\\\Assignments_iNeuron-main'"
      ]
     },
     "execution_count": 3,
     "metadata": {},
     "output_type": "execute_result"
    }
   ],
   "source": [
    "absolute_path = os.path.abspath(\".\")\n",
    "absolute_path"
   ]
  },
  {
   "cell_type": "code",
   "execution_count": 4,
   "metadata": {},
   "outputs": [
    {
     "data": {
      "text/plain": [
       "'..\\\\Python conceptual'"
      ]
     },
     "execution_count": 4,
     "metadata": {},
     "output_type": "execute_result"
    }
   ],
   "source": [
    "relative_path = (os.path.relpath(\"Python conceptual\", \"Python assignments basic\"))\n",
    "relative_path"
   ]
  },
  {
   "cell_type": "code",
   "execution_count": 5,
   "metadata": {},
   "outputs": [
    {
     "data": {
      "text/plain": [
       "'C:\\\\Users\\\\TKIETP-Mech\\\\Ineuron\\\\Python Assignments\\\\Python conceptual'"
      ]
     },
     "execution_count": 5,
     "metadata": {},
     "output_type": "execute_result"
    }
   ],
   "source": [
    "os.path.abspath(relative_path)"
   ]
  },
  {
   "cell_type": "markdown",
   "metadata": {},
   "source": [
    "# 2. What does an absolute path start with your operating system?\n",
    "\n",
    "###  Since I have windows operating system, thus the absolute path starts from C:/\n",
    "### For e.g."
   ]
  },
  {
   "cell_type": "code",
   "execution_count": 7,
   "metadata": {},
   "outputs": [],
   "source": [
    "import os,platform"
   ]
  },
  {
   "cell_type": "code",
   "execution_count": 8,
   "metadata": {},
   "outputs": [
    {
     "name": "stdout",
     "output_type": "stream",
     "text": [
      "Operating system name: nt\n",
      "Platform name: Windows\n"
     ]
    }
   ],
   "source": [
    "print(\"Operating system name:\", os.name)\n",
    "print(\"Platform name:\", platform.system())"
   ]
  },
  {
   "cell_type": "code",
   "execution_count": 9,
   "metadata": {},
   "outputs": [
    {
     "name": "stdout",
     "output_type": "stream",
     "text": [
      "Absolute path for CWD:\n",
      "C:\\Users\\TKIETP-Mech\\Ineuron\\Python Assignments\\Assignments_iNeuron-main\n"
     ]
    }
   ],
   "source": [
    "print(f\"Absolute path for CWD:\\n{os.path.abspath('.')}\")"
   ]
  },
  {
   "cell_type": "markdown",
   "metadata": {},
   "source": [
    "# 3. What do the functions os.getcwd() and os.chdir() do?\n",
    "\n",
    "Ans:\n",
    "    os.getcwd() => It will give the current working directory\n",
    "    os.chdir() => It will change the current working directory according to the path givn as its arguement<br><br><br>\n",
    "    For e.g."
   ]
  },
  {
   "cell_type": "code",
   "execution_count": 10,
   "metadata": {},
   "outputs": [
    {
     "data": {
      "text/plain": [
       "'C:\\\\Users\\\\TKIETP-Mech\\\\Ineuron\\\\Python Assignments\\\\Assignments_iNeuron-main'"
      ]
     },
     "execution_count": 10,
     "metadata": {},
     "output_type": "execute_result"
    }
   ],
   "source": [
    "cwd = os.getcwd()\n",
    "cwd"
   ]
  },
  {
   "cell_type": "code",
   "execution_count": 11,
   "metadata": {},
   "outputs": [
    {
     "data": {
      "text/plain": [
       "['.ipynb_checkpoints',\n",
       " 'Assignment_1.ipynb',\n",
       " 'Assignment_10.ipynb',\n",
       " 'Assignment_11.ipynb',\n",
       " 'Assignment_12.ipynb',\n",
       " 'Assignment_13.ipynb',\n",
       " 'Assignment_14.ipynb',\n",
       " 'Assignment_15.ipynb',\n",
       " 'Assignment_16.ipynb',\n",
       " 'Assignment_17.ipynb',\n",
       " 'Assignment_18.ipynb',\n",
       " 'Assignment_19.ipynb',\n",
       " 'Assignment_2.ipynb',\n",
       " 'Assignment_21.ipynb',\n",
       " 'Assignment_22.ipynb',\n",
       " 'Assignment_23.ipynb',\n",
       " 'Assignment_24.ipynb',\n",
       " 'Assignment_25.ipynb',\n",
       " 'Assignment_3.ipynb',\n",
       " 'Assignment_4.ipynb',\n",
       " 'Assignment_5.ipynb',\n",
       " 'Assignment_6.ipynb',\n",
       " 'Assignment_7.ipynb',\n",
       " 'Assignment_8.ipynb',\n",
       " 'Assignment_9.ipynb',\n",
       " 'demo.docx',\n",
       " 'I_Scheme_ME1I_Syllabus.pdf',\n",
       " 'PandasChallenge.ipynb',\n",
       " 'Programming Assignment_1.ipynb',\n",
       " 'Programming assignment_2.ipynb',\n",
       " 'Programming assignment_3.ipynb',\n",
       " 'Programming assignment_4.ipynb',\n",
       " 'Programming assignment_5.ipynb',\n",
       " 'Programming assignment_6.ipynb',\n",
       " 'Programming_Assignment10.ipynb',\n",
       " 'Programming_Assignment11.ipynb',\n",
       " 'Programming_Assignment13.ipynb',\n",
       " 'Programming_Assignment14.ipynb',\n",
       " 'Programming_Assignment15.ipynb',\n",
       " 'Programming_Assignment16.ipynb',\n",
       " 'Programming_Assignment17.ipynb',\n",
       " 'Programming_Assignment18.ipynb',\n",
       " 'Programming_Assignment19.ipynb',\n",
       " 'Programming_Assignment20.ipynb',\n",
       " 'Programming_Assignment21.ipynb',\n",
       " 'Programming_Assignment23.ipynb',\n",
       " 'Programming_Assignment24.ipynb',\n",
       " 'Programming_Assignment25.ipynb',\n",
       " 'Programming_Assignment7.ipynb',\n",
       " 'Programming_Assignment8.ipynb',\n",
       " 'Programming_Assignment9.ipynb',\n",
       " 'Programmin_Assignment12.ipynb',\n",
       " 'Programmin_Assignment22.ipynb',\n",
       " 'README.md',\n",
       " 'Solution1.ipynb',\n",
       " 'test1',\n",
       " 'test1.rar',\n",
       " 'Zip_files.zip']"
      ]
     },
     "execution_count": 11,
     "metadata": {},
     "output_type": "execute_result"
    }
   ],
   "source": [
    "os.listdir()"
   ]
  },
  {
   "cell_type": "code",
   "execution_count": 15,
   "metadata": {},
   "outputs": [
    {
     "data": {
      "text/plain": [
       "'C:\\\\Users\\\\TKIETP-Mech\\\\Ineuron\\\\Python Assignments\\\\Assignments_iNeuron-main\\\\Test folder'"
      ]
     },
     "execution_count": 15,
     "metadata": {},
     "output_type": "execute_result"
    }
   ],
   "source": [
    "new_absolute_path = os.path.join(cwd, \"Test folder\")\n",
    "new_absolute_path"
   ]
  },
  {
   "cell_type": "code",
   "execution_count": 12,
   "metadata": {},
   "outputs": [
    {
     "data": {
      "text/plain": [
       "'C:\\\\Users\\\\vishu\\\\Desktop\\\\Python assignments basic\\\\Python conceptual\\\\Test folder'"
      ]
     },
     "execution_count": 12,
     "metadata": {},
     "output_type": "execute_result"
    }
   ],
   "source": [
    "os.getcwd()"
   ]
  },
  {
   "cell_type": "markdown",
   "metadata": {},
   "source": [
    "# 4. What are the . and .. folders?\n",
    "\n",
    "<h3>Ans:<br><br>\n",
    "    ( . ) => It represents the current working directory.<br><br>\n",
    "    ( .. ) => It represents the parent directory, which is one level above the current working directory.<br><br><br>\n",
    "    For e.g."
   ]
  },
  {
   "cell_type": "code",
   "execution_count": 13,
   "metadata": {},
   "outputs": [],
   "source": [
    "os.chdir(\"..\")"
   ]
  },
  {
   "cell_type": "code",
   "execution_count": 14,
   "metadata": {},
   "outputs": [
    {
     "data": {
      "text/plain": [
       "'C:\\\\Users\\\\vishu\\\\Desktop\\\\Python assignments basic\\\\Python conceptual'"
      ]
     },
     "execution_count": 14,
     "metadata": {},
     "output_type": "execute_result"
    }
   ],
   "source": [
    "os.getcwd()"
   ]
  },
  {
   "cell_type": "code",
   "execution_count": 15,
   "metadata": {},
   "outputs": [
    {
     "data": {
      "text/plain": [
       "'.'"
      ]
     },
     "execution_count": 15,
     "metadata": {},
     "output_type": "execute_result"
    }
   ],
   "source": [
    "os.path.relpath(\"Python conceptual\",\"Python conceptual\")"
   ]
  },
  {
   "cell_type": "code",
   "execution_count": 16,
   "metadata": {},
   "outputs": [
    {
     "data": {
      "text/plain": [
       "'..\\\\Python conceptual'"
      ]
     },
     "execution_count": 16,
     "metadata": {},
     "output_type": "execute_result"
    }
   ],
   "source": [
    "os.path.relpath(\"Python conceptual\", \"Python assignments basic\")"
   ]
  },
  {
   "cell_type": "markdown",
   "metadata": {},
   "source": [
    "# 5. In C:\\bacon\\eggs\\spam.txt, which part is the dir name, and which part is the base name?\n",
    "\n",
    "Ans:\n",
    "    dir name(Returns the directory component of pathname) => C:\\bacon\\eggs\n",
    "    base name(Returns the final componet fo the pathname) => spam.txt"
   ]
  },
  {
   "cell_type": "code",
   "execution_count": 18,
   "metadata": {},
   "outputs": [],
   "source": [
    "path = \"C:\\\\bacon\\\\eggs\\\\spam.txt\""
   ]
  },
  {
   "cell_type": "code",
   "execution_count": 19,
   "metadata": {},
   "outputs": [
    {
     "name": "stdout",
     "output_type": "stream",
     "text": [
      "dir name = C:\\bacon\\eggs\n"
     ]
    }
   ],
   "source": [
    "print(\"dir name =\",os.path.dirname(path))"
   ]
  },
  {
   "cell_type": "code",
   "execution_count": 20,
   "metadata": {},
   "outputs": [
    {
     "name": "stdout",
     "output_type": "stream",
     "text": [
      "base name = spam.txt\n"
     ]
    }
   ],
   "source": [
    "print(\"base name =\",os.path.basename(path))"
   ]
  },
  {
   "cell_type": "markdown",
   "metadata": {},
   "source": [
    "# 6. What are the three “mode” arguments that can be passed to the open() function?\n",
    "\n",
    "<h3> Ans: <br><br>\n",
    "    The different modes in open() function are:<br><br>\n",
    "    1) \"r\" = Read mode: For opening the file for reading only in text mode. This is the default mode.<br><br>\n",
    "    2) \"w\" = Write mode: For writing (or truncating the file if it already exists).<br><br>\n",
    "    3) \"a\" = Append mode: For writing to the file if it's a new file, otherwise for appending to the end of file.<br><br><br>\n",
    "    \n",
    "    Apart from the above three modes, several others exists too! For e.g.\n",
    "    1) \"x\" = Create a new file and open it for writing.\n",
    "    2) \"b\" = Open the file in binary mode.\n",
    "    3) \"t\" = Open the file in text mode(by default).\n",
    "    4) \"+\" = Open a disk file for updating (reading and writing)\n",
    "    5) \"U\" = Universal newline mode.\n",
    "</h3>    \n",
    "<h3> For e.g.</h3>"
   ]
  },
  {
   "cell_type": "markdown",
   "metadata": {},
   "source": [
    "#### (mode = \"r\") or read mode"
   ]
  },
  {
   "cell_type": "code",
   "execution_count": 26,
   "metadata": {
    "scrolled": true
   },
   "outputs": [
    {
     "name": "stdout",
     "output_type": "stream",
     "text": [
      "Type of object: <class '_io.TextIOWrapper'>\n"
     ]
    }
   ],
   "source": [
    "obj = open('test.txt', mode=\"r\")\n",
    "print(\"Type of object:\",type(obj))\n"
   ]
  },
  {
   "cell_type": "markdown",
   "metadata": {},
   "source": [
    "#### (mode = \"w\") or write mode"
   ]
  },
  {
   "cell_type": "code",
   "execution_count": 27,
   "metadata": {},
   "outputs": [
    {
     "name": "stdout",
     "output_type": "stream",
     "text": [
      "Hi friends, this is a text file line 0. Have a look!\n",
      "\n"
     ]
    }
   ],
   "source": [
    "with open(\"test1.txt\", mode=\"w\") as f:\n",
    "    for i in range(5):\n",
    "        f.write(f\"Hi friends, this is a text file line {i}. Have a look!\\n\")\n",
    "\n",
    "with open(\"test1.txt\", mode = \"r\") as f1:\n",
    "    print(f1.readline())\n",
    "    f1.close()"
   ]
  },
  {
   "cell_type": "code",
   "execution_count": 29,
   "metadata": {},
   "outputs": [
    {
     "name": "stdout",
     "output_type": "stream",
     "text": [
      "The text has been overwritten!\n"
     ]
    }
   ],
   "source": [
    "with open(\"test1.txt\", mode = \"w\") as f2:\n",
    "    f2.write(\"The text has been overwritten!\")\n",
    "    f2.close()\n",
    "\n",
    "with open(\"test1.txt\",mode = \"r\") as f3:\n",
    "    print(f3.read())\n",
    "    f3.close()"
   ]
  },
  {
   "cell_type": "markdown",
   "metadata": {},
   "source": [
    "#### (mode = \"a\") or append mode"
   ]
  },
  {
   "cell_type": "code",
   "execution_count": 30,
   "metadata": {},
   "outputs": [
    {
     "name": "stdout",
     "output_type": "stream",
     "text": [
      "The text has been overwritten! This text is appended!\n",
      " This text is appended!\n",
      " This text is appended!\n",
      "\n"
     ]
    }
   ],
   "source": [
    "with open(\"test1.txt\", mode = \"a\") as f3:\n",
    "    for _ in range(3):\n",
    "        f3.write(\" This text is appended!\\n\")\n",
    "    f3.close()\n",
    "\n",
    "with open(\"test1.txt\", mode=\"r\") as f4:\n",
    "    print(f4.read())\n",
    "    f4.close()"
   ]
  },
  {
   "cell_type": "markdown",
   "metadata": {},
   "source": [
    "# 7. What happens if an existing file is opened in write mode?\n",
    "\n",
    "### Ans: It will overwrite all the content already in the file with the new content you pass in the write() method."
   ]
  },
  {
   "cell_type": "markdown",
   "metadata": {},
   "source": [
    "# 8. How do you tell the difference between read() and readlines()?\n",
    "\n",
    "<h3> Ans:<br><br>\n",
    "    read() = It reads the entire file at once, and returns the entire file's content as a single string value.<br><br>\n",
    "    readlines() = Reads the file's content line by line and returns a list containing each line as a separate string entity.\n",
    "    <br><br><br>\n",
    "    For e.g."
   ]
  },
  {
   "cell_type": "code",
   "execution_count": 31,
   "metadata": {},
   "outputs": [
    {
     "name": "stdout",
     "output_type": "stream",
     "text": [
      "------------- Using read() -------------\n",
      "The text has been overwritten! This text is appended!\n",
      " This text is appended!\n",
      " This text is appended!\n",
      "\n",
      "-------------- Using readlines() ---------------\n",
      "['The text has been overwritten! This text is appended!\\n', ' This text is appended!\\n', ' This text is appended!\\n']\n"
     ]
    }
   ],
   "source": [
    "with open(\"test1.txt\") as f:\n",
    "    print(\"------------- Using read() -------------\")\n",
    "    print(f.read())\n",
    "\n",
    "with open(\"test1.txt\") as f:\n",
    "    print(\"-------------- Using readlines() ---------------\")\n",
    "    print(f.readlines())"
   ]
  },
  {
   "cell_type": "markdown",
   "metadata": {},
   "source": [
    "# 9. What data structure does a shelf value resemble?\n",
    "\n",
    "### Ans: The shelf data structure is is a very simple data structure, which is similar to python builtins dictionary, and is used for persistent data storage when relational database solution is not required.\n",
    "\n",
    "### Similar to builtins dictionary, it also has key and values, along with various methods like items(), keys(), values(), etc. but there is a constraint on keys, i.e. the keys can only be of string type, but values can be of any type.\n",
    "\n",
    "### Below is the simple example showing the use of shelf data structure"
   ]
  },
  {
   "cell_type": "code",
   "execution_count": 32,
   "metadata": {},
   "outputs": [],
   "source": [
    "import shelve"
   ]
  },
  {
   "cell_type": "code",
   "execution_count": 33,
   "metadata": {},
   "outputs": [],
   "source": [
    "dict1 = {\"name\":\"Vishal\",\n",
    "    \"age\": 24,\n",
    "    \"interest\": \"singing\",\n",
    "    \"course\":\"full-stack-DS\"}\n",
    "\n",
    "sh1 = shelve.Shelf(dict1)"
   ]
  },
  {
   "cell_type": "code",
   "execution_count": 34,
   "metadata": {},
   "outputs": [
    {
     "data": {
      "text/plain": [
       "shelve.Shelf"
      ]
     },
     "execution_count": 34,
     "metadata": {},
     "output_type": "execute_result"
    }
   ],
   "source": [
    "type(sh1)"
   ]
  },
  {
   "cell_type": "code",
   "execution_count": 35,
   "metadata": {},
   "outputs": [
    {
     "data": {
      "text/plain": [
       "(ItemsView(<shelve.Shelf object at 0x00000155F121A670>),\n",
       " KeysView(<shelve.Shelf object at 0x00000155F121A670>),\n",
       " ValuesView(<shelve.Shelf object at 0x00000155F121A670>))"
      ]
     },
     "execution_count": 35,
     "metadata": {},
     "output_type": "execute_result"
    }
   ],
   "source": [
    "sh1.items(), sh1.keys(), sh1.values()"
   ]
  },
  {
   "cell_type": "code",
   "execution_count": 50,
   "metadata": {},
   "outputs": [
    {
     "name": "stdout",
     "output_type": "stream",
     "text": [
      "<class 'shelve.DbfilenameShelf'>\n"
     ]
    }
   ],
   "source": [
    "sh = shelve.open(\"test\")\n",
    "sh[\"name\"] = \"Sagar\"\n",
    "sh[\"age\"] = 35\n",
    "sh[\"marks\"] = 66\n",
    "\n",
    "print(type(sh))"
   ]
  },
  {
   "cell_type": "code",
   "execution_count": 38,
   "metadata": {},
   "outputs": [
    {
     "data": {
      "text/plain": [
       "True"
      ]
     },
     "execution_count": 38,
     "metadata": {},
     "output_type": "execute_result"
    }
   ],
   "source": [
    "isinstance(sh, shelve.Shelf)  "
   ]
  },
  {
   "cell_type": "code",
   "execution_count": 40,
   "metadata": {},
   "outputs": [
    {
     "data": {
      "text/plain": [
       "24"
      ]
     },
     "execution_count": 40,
     "metadata": {},
     "output_type": "execute_result"
    }
   ],
   "source": [
    "sh[\"age\"]"
   ]
  },
  {
   "cell_type": "code",
   "execution_count": 39,
   "metadata": {},
   "outputs": [
    {
     "data": {
      "text/plain": [
       "24"
      ]
     },
     "execution_count": 39,
     "metadata": {},
     "output_type": "execute_result"
    }
   ],
   "source": [
    "sh.get(\"age\")"
   ]
  },
  {
   "cell_type": "code",
   "execution_count": 51,
   "metadata": {},
   "outputs": [
    {
     "data": {
      "text/plain": [
       "[('name', 'Sagar'),\n",
       " ('age', 35),\n",
       " ('interest', 'singing'),\n",
       " ('career', 'datascience'),\n",
       " ('marks', 66)]"
      ]
     },
     "execution_count": 51,
     "metadata": {},
     "output_type": "execute_result"
    }
   ],
   "source": [
    "list(sh.items())"
   ]
  },
  {
   "cell_type": "code",
   "execution_count": 44,
   "metadata": {},
   "outputs": [
    {
     "data": {
      "text/plain": [
       "[('name', 'Vishal'), ('age', 24)]"
      ]
     },
     "execution_count": 44,
     "metadata": {},
     "output_type": "execute_result"
    }
   ],
   "source": [
    "list(sh.items())"
   ]
  },
  {
   "cell_type": "code",
   "execution_count": 53,
   "metadata": {},
   "outputs": [],
   "source": [
    "dict2 = {\"interest\":\"badminton\", \"career\":\"datascience\"}\n",
    "sh.update(dict2)"
   ]
  },
  {
   "cell_type": "code",
   "execution_count": 54,
   "metadata": {},
   "outputs": [
    {
     "data": {
      "text/plain": [
       "[('name', 'Sagar'),\n",
       " ('age', 35),\n",
       " ('interest', 'badminton'),\n",
       " ('career', 'datascience'),\n",
       " ('marks', 66)]"
      ]
     },
     "execution_count": 54,
     "metadata": {},
     "output_type": "execute_result"
    }
   ],
   "source": [
    "list(sh.items())"
   ]
  },
  {
   "cell_type": "code",
   "execution_count": null,
   "metadata": {},
   "outputs": [],
   "source": []
  }
 ],
 "metadata": {
  "kernelspec": {
   "display_name": "Python 3",
   "language": "python",
   "name": "python3"
  },
  "language_info": {
   "codemirror_mode": {
    "name": "ipython",
    "version": 3
   },
   "file_extension": ".py",
   "mimetype": "text/x-python",
   "name": "python",
   "nbconvert_exporter": "python",
   "pygments_lexer": "ipython3",
   "version": "3.8.3"
  }
 },
 "nbformat": 4,
 "nbformat_minor": 4
}
