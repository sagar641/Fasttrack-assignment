{
  "nbformat": 4,
  "nbformat_minor": 0,
  "metadata": {
    "colab": {
      "name": "Programming Assignment 24.ipynb",
      "provenance": [],
      "collapsed_sections": []
    },
    "kernelspec": {
      "name": "python3",
      "display_name": "Python 3"
    },
    "language_info": {
      "name": "python"
    }
  },
  "cells": [
    {
      "cell_type": "markdown",
      "metadata": {
        "id": "g3EYAqnJRKQ4"
      },
      "source": [
        "Question1 : \n",
        "Create a function that takes an integer and returns a list from 1 to the given number, where:\n",
        "1. If the number can be divided evenly by 4, amplify it by 10 (i.e. return 10 times the\n",
        "number).\n",
        "2. If the number cannot be divided evenly by 4, simply return the number.\n",
        "Examples\n",
        "amplify(4) ➞ [1, 2, 3, 40]\n",
        "amplify(3) ➞ [1, 2, 3]\n",
        "amplify(25) ➞ [1, 2, 3, 40, 5, 6, 7, 80, 9, 10, 11, 120, 13, 14, 15, 160,\n",
        "17, 18, 19, 200, 21, 22, 23, 240, 25]"
      ]
    },
    {
      "cell_type": "code",
      "metadata": {
        "id": "WmrNKnsyT7Fd"
      },
      "source": [
        "def amplify(n):\n",
        "  lst=[]\n",
        "  for i in range(1, n+1):\n",
        "    if i%4 == 0:\n",
        "      i = i*10\n",
        "    else:\n",
        "      i = i\n",
        "    lst.append(i) \n",
        "  return lst"
      ],
      "execution_count": 13,
      "outputs": []
    },
    {
      "cell_type": "code",
      "metadata": {
        "colab": {
          "base_uri": "https://localhost:8080/"
        },
        "id": "LnieO3r5T9fk",
        "outputId": "cb281cff-5248-492c-c6f3-4478af7afee1"
      },
      "source": [
        "amplify(8)"
      ],
      "execution_count": 14,
      "outputs": [
        {
          "output_type": "execute_result",
          "data": {
            "text/plain": [
              "[1, 2, 3, 40, 5, 6, 7, 80]"
            ]
          },
          "metadata": {
            "tags": []
          },
          "execution_count": 14
        }
      ]
    },
    {
      "cell_type": "code",
      "metadata": {
        "id": "ct10q0eiRTEH"
      },
      "source": [
        "def amplify1(n):\n",
        "  lst = [i*10 if i%4 == 0 else i for i in range(1, n+1)]\n",
        "  return lst"
      ],
      "execution_count": 8,
      "outputs": []
    },
    {
      "cell_type": "code",
      "metadata": {
        "colab": {
          "base_uri": "https://localhost:8080/"
        },
        "id": "Z6Bb8Zk0Tag6",
        "outputId": "ba0d75db-5c7b-427d-9f02-cd9ceb4d282a"
      },
      "source": [
        "amplify1(15)"
      ],
      "execution_count": 12,
      "outputs": [
        {
          "output_type": "execute_result",
          "data": {
            "text/plain": [
              "[1, 2, 3, 40, 5, 6, 7, 80, 9, 10, 11, 120, 13, 14, 15]"
            ]
          },
          "metadata": {
            "tags": []
          },
          "execution_count": 12
        }
      ]
    },
    {
      "cell_type": "markdown",
      "metadata": {
        "id": "z1UBxP5oUK2L"
      },
      "source": [
        "Question2 : \n",
        "Create a function that takes a list of numbers and return the number that&#39;s unique.\n",
        "Examples\n",
        "unique([3, 3, 3, 7, 3, 3]) ➞ 7\n",
        "unique([0, 0, 0.77, 0, 0]) ➞ 0.77\n",
        "unique([0, 1, 1, 1, 1, 1, 1, 1]) ➞ 0"
      ]
    },
    {
      "cell_type": "code",
      "metadata": {
        "id": "8k4o0t6wR0R4"
      },
      "source": [
        "def unique(lst = list):\n",
        "  for i in range(len(lst)):\n",
        "      if lst[i] != lst[i+1] and lst[i] == lst[i+2]:\n",
        "        n = lst[i+1]\n",
        "        break\n",
        "      elif lst[i] == lst[i+1] and lst[i] != lst[i+2]:\n",
        "        n = lst[i+2]\n",
        "        break\n",
        "      elif lst[i] != lst[i+1] and lst[i] != lst[i+2]:\n",
        "        n = lst[i]\n",
        "        break\n",
        "      else:\n",
        "        continue\n",
        "  return n"
      ],
      "execution_count": 10,
      "outputs": []
    },
    {
      "cell_type": "code",
      "metadata": {
        "colab": {
          "base_uri": "https://localhost:8080/"
        },
        "id": "Z8M4eteucBsu",
        "outputId": "6f1b7fcb-a8ca-4d33-b62b-bd9f44c18a3a"
      },
      "source": [
        "lst = [3,1,1,1,1,1,1,1,1,1]\n",
        "unique(lst)"
      ],
      "execution_count": 13,
      "outputs": [
        {
          "output_type": "execute_result",
          "data": {
            "text/plain": [
              "3"
            ]
          },
          "metadata": {
            "tags": []
          },
          "execution_count": 13
        }
      ]
    },
    {
      "cell_type": "markdown",
      "metadata": {
        "id": "Amz9WTBpcfpY"
      },
      "source": [
        "Question3\n",
        "Your task is to create a Circle constructor that creates a circle with a radius provided by an\n",
        "argument. The circles constructed must have two getters getArea() (PIr^2) and\n",
        "getPerimeter() (2PI*r) which give both respective areas and perimeter (circumference).\n",
        "\n",
        "For help with this class, I have provided you with a Rectangle constructor which you can use\n",
        "as a base example.\n",
        "Examples\n",
        "circy = Circle(11)\n",
        "circy.getArea()\n",
        "# Should return 380.132711084365\n",
        "circy = Circle(4.44)\n",
        "circy.getPerimeter()\n",
        "# Should return 27.897342763877365"
      ]
    },
    {
      "cell_type": "code",
      "metadata": {
        "id": "jsHaW4tccYaY"
      },
      "source": [
        "import math\n",
        "class circle:\n",
        "  def __init__(self, r):\n",
        "    self.r = r\n",
        "  \n",
        "  def get_area(self):\n",
        "    area = math.pi*(self.r)**2\n",
        "    return area\n",
        "\n",
        "  def get_perimeter(self):\n",
        "    peri = 2*math.pi*self.r\n",
        "    return peri"
      ],
      "execution_count": 32,
      "outputs": []
    },
    {
      "cell_type": "code",
      "metadata": {
        "id": "fqdzQFT2d91y"
      },
      "source": [
        "circy = circle(20)"
      ],
      "execution_count": 37,
      "outputs": []
    },
    {
      "cell_type": "code",
      "metadata": {
        "colab": {
          "base_uri": "https://localhost:8080/"
        },
        "id": "Bh4EE_NpeYIx",
        "outputId": "3dcb3590-90da-4adf-b103-c7d85227ef77"
      },
      "source": [
        "circy.get_area()"
      ],
      "execution_count": 38,
      "outputs": [
        {
          "output_type": "execute_result",
          "data": {
            "text/plain": [
              "1256.6370614359173"
            ]
          },
          "metadata": {
            "tags": []
          },
          "execution_count": 38
        }
      ]
    },
    {
      "cell_type": "code",
      "metadata": {
        "colab": {
          "base_uri": "https://localhost:8080/"
        },
        "id": "_eD6ekhPgAyO",
        "outputId": "9f4d3a74-add3-4466-8920-39b1cf842399"
      },
      "source": [
        "circy.get_perimeter()"
      ],
      "execution_count": 39,
      "outputs": [
        {
          "output_type": "execute_result",
          "data": {
            "text/plain": [
              "125.66370614359172"
            ]
          },
          "metadata": {
            "tags": []
          },
          "execution_count": 39
        }
      ]
    },
    {
      "cell_type": "markdown",
      "metadata": {
        "id": "2ZkpKg-QgNxf"
      },
      "source": [
        "Question4 : \n",
        "Create a function that takes a list of strings and return a list, sorted from shortest to longest.\n",
        "Examples\n",
        "sort_by_length([&quot;Google&quot;, &quot;Apple&quot;, &quot;Microsoft&quot;])\n",
        "➞ [&quot;Apple&quot;, &quot;Google&quot;, &quot;Microsoft&quot;]\n",
        "sort_by_length([&quot;Leonardo&quot;, &quot;Michelangelo&quot;, &quot;Raphael&quot;, &quot;Donatello&quot;])\n",
        "➞ [&quot;Raphael&quot;, &quot;Leonardo&quot;, &quot;Donatello&quot;, &quot;Michelangelo&quot;]\n",
        "sort_by_length([&quot;Turing&quot;, &quot;Einstein&quot;, &quot;Jung&quot;])\n",
        "➞ [&quot;Jung&quot;, &quot;Turing&quot;, &quot;Einstein&quot;]"
      ]
    },
    {
      "cell_type": "code",
      "metadata": {
        "id": "jUaZqEnIgL8c"
      },
      "source": [
        "def sort_by_length(lst = list):\n",
        "  dict1 = {len(i):i for i in lst}\n",
        "  d = sorted(dict1.keys())\n",
        "  return list(dict1.values())"
      ],
      "execution_count": 64,
      "outputs": []
    },
    {
      "cell_type": "code",
      "metadata": {
        "colab": {
          "base_uri": "https://localhost:8080/"
        },
        "id": "9KvfiXRBjhMJ",
        "outputId": "d7a82b3a-41c1-463c-ed20-29477c18a7ad"
      },
      "source": [
        "sort_by_length([\"Leonardo\", \"Michelangelo\", \"Raphael\", \"Donatello\"])"
      ],
      "execution_count": 65,
      "outputs": [
        {
          "output_type": "execute_result",
          "data": {
            "text/plain": [
              "['Leonardo', 'Michelangelo', 'Raphael', 'Donatello']"
            ]
          },
          "metadata": {
            "tags": []
          },
          "execution_count": 65
        }
      ]
    },
    {
      "cell_type": "markdown",
      "metadata": {
        "id": "Kr40hZJEmT8a"
      },
      "source": [
        "Question 5 : Create a function that validates whether three given integers form a Pythagorean triplet. The\n",
        "sum of the squares of the two smallest integers must equal the square of the largest number to\n",
        "be validated.\n",
        "\n",
        "Examples\n",
        "is_triplet(3, 4, 5) ➞ True\n",
        " 3² + 4² = 25\n",
        " 5² = 25\n",
        "is_triplet(13, 5, 12) ➞ True\n",
        " 5² + 12² = 169\n",
        " 13² = 169\n",
        "is_triplet(1, 2, 3) ➞ False\n",
        " 1² + 2² = 5\n",
        " 3² = 9"
      ]
    },
    {
      "cell_type": "code",
      "metadata": {
        "id": "MfcTOIpBks-0"
      },
      "source": [
        "def is_triplet(a, b, c):\n",
        "  lst = sorted([a,b,c])\n",
        "  if (lst[0])**2 + (lst[1])**2 == (lst[2])**2:\n",
        "    return True\n",
        "  else:\n",
        "    return False"
      ],
      "execution_count": 68,
      "outputs": []
    },
    {
      "cell_type": "code",
      "metadata": {
        "colab": {
          "base_uri": "https://localhost:8080/"
        },
        "id": "Vk3ngmsLncuh",
        "outputId": "ef496253-80b6-4220-ff7e-69cc21901802"
      },
      "source": [
        "is_triplet(5, 3, 2)"
      ],
      "execution_count": 69,
      "outputs": [
        {
          "output_type": "execute_result",
          "data": {
            "text/plain": [
              "False"
            ]
          },
          "metadata": {
            "tags": []
          },
          "execution_count": 69
        }
      ]
    },
    {
      "cell_type": "code",
      "metadata": {
        "colab": {
          "base_uri": "https://localhost:8080/"
        },
        "id": "tiMepgcroLRW",
        "outputId": "492ba3ac-01c5-4d81-df2b-a2f1bc4f69c3"
      },
      "source": [
        "is_triplet(3, 4, 5)"
      ],
      "execution_count": 70,
      "outputs": [
        {
          "output_type": "execute_result",
          "data": {
            "text/plain": [
              "True"
            ]
          },
          "metadata": {
            "tags": []
          },
          "execution_count": 70
        }
      ]
    }
  ]
}