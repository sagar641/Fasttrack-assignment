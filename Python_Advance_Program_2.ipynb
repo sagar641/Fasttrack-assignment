{
  "nbformat": 4,
  "nbformat_minor": 0,
  "metadata": {
    "colab": {
      "name": "Python Advance Program 2.ipynb",
      "provenance": [],
      "collapsed_sections": []
    },
    "kernelspec": {
      "name": "python3",
      "display_name": "Python 3"
    },
    "language_info": {
      "name": "python"
    }
  },
  "cells": [
    {
      "cell_type": "markdown",
      "metadata": {
        "id": "fTx8s6IjhfRi"
      },
      "source": [
        "1. Write a function that takes a positive integer num and calculates how many\n",
        "dots exist in a pentagonal shape around the center dot on the Nth iteration.\n",
        "In the image below you can see the first iteration is only a single dot. On the\n",
        "second, there are 6 dots. On the third, there are 16 dots, and on the fourth\n",
        "there are 31 dots.\n",
        "\n",
        "Return the number of dots that exist in the whole pentagon on the Nth\n",
        "iteration."
      ]
    },
    {
      "cell_type": "code",
      "metadata": {
        "id": "MQTwYQ1zhNkQ"
      },
      "source": [
        "def pentagonal(side):\n",
        "  if side == 1:\n",
        "    return 1\n",
        "  else:\n",
        "    return pentagonal(side-1) + 5*(side-1) "
      ],
      "execution_count": null,
      "outputs": []
    },
    {
      "cell_type": "code",
      "metadata": {
        "colab": {
          "base_uri": "https://localhost:8080/"
        },
        "id": "2xxvZjkqkgSP",
        "outputId": "6c0c5912-c15e-4d74-dba9-11fd7fa08a5f"
      },
      "source": [
        "pentagonal(2)"
      ],
      "execution_count": null,
      "outputs": [
        {
          "output_type": "execute_result",
          "data": {
            "text/plain": [
              "6"
            ]
          },
          "metadata": {
            "tags": []
          },
          "execution_count": 11
        }
      ]
    },
    {
      "cell_type": "code",
      "metadata": {
        "colab": {
          "base_uri": "https://localhost:8080/"
        },
        "id": "F66zbh8eku-A",
        "outputId": "de9b8457-8520-4508-b034-8bf237d20bbd"
      },
      "source": [
        "pentagonal(8)"
      ],
      "execution_count": null,
      "outputs": [
        {
          "output_type": "execute_result",
          "data": {
            "text/plain": [
              "141"
            ]
          },
          "metadata": {
            "tags": []
          },
          "execution_count": 12
        }
      ]
    },
    {
      "cell_type": "markdown",
      "metadata": {
        "id": "Iw0D5USlqSp9"
      },
      "source": [
        "2. Make a function that encrypts a given input with these steps:\n",
        "Input: &quot;apple&quot;\n",
        "Step 1: Reverse the input: &quot;elppa&quot;\n",
        "Step 2: Replace all vowels using the following chart:\n",
        "a =&gt; 0\n",
        "e =&gt; 1\n",
        "i =&gt; 2\n",
        "o =&gt; 2\n",
        "u =&gt; 3"
      ]
    },
    {
      "cell_type": "code",
      "metadata": {
        "id": "sG2GoZwwmgAY"
      },
      "source": [
        "d = {'a': '0', 'e': '1', 'i': '2', 'o': '2', 'u': '3'}"
      ],
      "execution_count": null,
      "outputs": []
    },
    {
      "cell_type": "code",
      "metadata": {
        "id": "sgrHZnmFq6kV"
      },
      "source": [
        "def encrypt(a = str):\n",
        "  b  = reversed(list(a))\n",
        "  b = [d.get(x, x) for x in b]\n",
        "  b.append('aca')\n",
        "  #c = ''\n",
        "  return ''.join(b)"
      ],
      "execution_count": null,
      "outputs": []
    },
    {
      "cell_type": "code",
      "metadata": {
        "colab": {
          "base_uri": "https://localhost:8080/",
          "height": 35
        },
        "id": "MfGSUeSMszCr",
        "outputId": "494f5c27-57d6-4299-9852-80616063bc4d"
      },
      "source": [
        "a = 'banana'\n",
        "encrypt(a)"
      ],
      "execution_count": null,
      "outputs": [
        {
          "output_type": "execute_result",
          "data": {
            "application/vnd.google.colaboratory.intrinsic+json": {
              "type": "string"
            },
            "text/plain": [
              "'0n0n0baca'"
            ]
          },
          "metadata": {
            "tags": []
          },
          "execution_count": 47
        }
      ]
    },
    {
      "cell_type": "code",
      "metadata": {
        "colab": {
          "base_uri": "https://localhost:8080/",
          "height": 35
        },
        "id": "81k2HUnBs2dC",
        "outputId": "43433625-28dc-4760-81df-d4fd7eb586cd"
      },
      "source": [
        "encrypt(\"burak\")"
      ],
      "execution_count": null,
      "outputs": [
        {
          "output_type": "execute_result",
          "data": {
            "application/vnd.google.colaboratory.intrinsic+json": {
              "type": "string"
            },
            "text/plain": [
              "'k0r3baca'"
            ]
          },
          "metadata": {
            "tags": []
          },
          "execution_count": 48
        }
      ]
    },
    {
      "cell_type": "markdown",
      "metadata": {
        "id": "-0szrWmHzaNO"
      },
      "source": [
        "3. Given the month and year as numbers, return whether that month contains\n",
        "a Friday 13th.(i.e You can check Python&#39;s datetime module)"
      ]
    },
    {
      "cell_type": "code",
      "metadata": {
        "id": "luW89pRQuRDT"
      },
      "source": [
        "import datetime \n"
      ],
      "execution_count": null,
      "outputs": []
    },
    {
      "cell_type": "markdown",
      "metadata": {
        "id": "X32fISAy1Cb3"
      },
      "source": [
        "4. Write a regular expression that will help us count how many bad cookies\n",
        "are produced every day. You must use RegEx negative lookbehind."
      ]
    },
    {
      "cell_type": "markdown",
      "metadata": {
        "id": "7f7R4rwL1IE1"
      },
      "source": [
        "lst = [&quot;bad cookie&quot;, &quot;good cookie&quot;, &quot;bad cookie&quot;, &quot;good cookie&quot;, &quot;good cookie&quot;]\n",
        "pattern = &quot;yourregularexpressionhere&quot;\n",
        "len(re.findall(pattern, &quot;, &quot;.join(lst))) ➞ 2"
      ]
    },
    {
      "cell_type": "code",
      "metadata": {
        "colab": {
          "base_uri": "https://localhost:8080/"
        },
        "id": "QNg7dk4q1Lvs",
        "outputId": "518c70a4-4886-48b3-cac3-2678bbb1fdf9"
      },
      "source": [
        "import regex as re\n",
        "lst = [\"bad cookie\", \"good cookie\", \"bad cookie\", \"good cookie\", \"good cookie\"] \n",
        "pattern = \"good\" \n",
        "len(re.findall(pattern, \", \".join(lst)))"
      ],
      "execution_count": null,
      "outputs": [
        {
          "output_type": "execute_result",
          "data": {
            "text/plain": [
              "3"
            ]
          },
          "metadata": {
            "tags": []
          },
          "execution_count": 51
        }
      ]
    },
    {
      "cell_type": "markdown",
      "metadata": {
        "id": "eTy-6k-oV3g9"
      },
      "source": [
        "5. Given a list of words in the singular form, return a set of those words in the\n",
        "plural form if they appear more than once in the list.\n",
        "\n",
        "Examples\n",
        "\n",
        "pluralize([&quot;cow&quot;, &quot;pig&quot;, &quot;cow&quot;, &quot;cow&quot;]) ➞ { &quot;cows&quot;, &quot;pig&quot; }\n",
        "\n",
        "pluralize([&quot;table&quot;, &quot;table&quot;, &quot;table&quot;]) ➞ { &quot;tables&quot; }"
      ]
    },
    {
      "cell_type": "code",
      "metadata": {
        "id": "hIgFgc9_V5vZ"
      },
      "source": [
        "def pluralize(a = list):\n",
        "  return {i + 's' if  a.count(i)>1 else i for i in a} \n"
      ],
      "execution_count": 10,
      "outputs": []
    },
    {
      "cell_type": "code",
      "metadata": {
        "id": "CsDsdMbx1XJF",
        "colab": {
          "base_uri": "https://localhost:8080/"
        },
        "outputId": "d37e0533-e3a0-413e-db03-390925f3d6d2"
      },
      "source": [
        "pluralize(['cow', 'cow', 'pig', 'cow', 'arm', 'pig'])"
      ],
      "execution_count": 13,
      "outputs": [
        {
          "output_type": "execute_result",
          "data": {
            "text/plain": [
              "{'arm', 'cows', 'pigs'}"
            ]
          },
          "metadata": {
            "tags": []
          },
          "execution_count": 13
        }
      ]
    },
    {
      "cell_type": "code",
      "metadata": {
        "id": "KLHOSq_5YEen"
      },
      "source": [
        ""
      ],
      "execution_count": null,
      "outputs": []
    }
  ]
}