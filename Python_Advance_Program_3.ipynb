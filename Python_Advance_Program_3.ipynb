{
  "nbformat": 4,
  "nbformat_minor": 0,
  "metadata": {
    "colab": {
      "name": "Python Advance Program 3.ipynb",
      "provenance": [],
      "collapsed_sections": []
    },
    "kernelspec": {
      "name": "python3",
      "display_name": "Python 3"
    },
    "language_info": {
      "name": "python"
    }
  },
  "cells": [
    {
      "cell_type": "markdown",
      "metadata": {
        "id": "pvMD2MOfbikz"
      },
      "source": [
        "1. Create a function to perform basic arithmetic operations that includes\n",
        "addition, subtraction, multiplication and division on a string number (e.g. &quot;12 + 24&quot; or &quot;23 - 21&quot; or &quot;12 // 12&quot; or &quot;12 * 21&quot;).\n",
        "\n",
        "Here, we have 1 followed by a space, operator followed by another space\n",
        "and 2. For the challenge, we are going to have only two numbers between 1\n",
        "valid operator. The return value should be a number.\n",
        "\n",
        "eval() is not allowed. In case of division, whenever the second number equals\n",
        "&quot;0&quot; return -1.\n",
        "\n",
        "For example:\n",
        "\n",
        "&quot;15 // 0&quot; ➞ -1"
      ]
    },
    {
      "cell_type": "code",
      "metadata": {
        "id": "9zi243cqbhVK"
      },
      "source": [
        "def eval(a):\n",
        "  b = a.split(' ')\n",
        "  for i in b:\n",
        "    if b[1] == '+':\n",
        "      return int(b[0]) + int(b[2])\n",
        "    elif b[1] == '*':\n",
        "      return int(b[0]) * int(b[2])\n",
        "    elif b[1] == '-':\n",
        "      return int(b[0]) - int(b[2])\n",
        "    elif b[1] == '//':\n",
        "      if int(b[2]) !=0:\n",
        "        return int(b[0]) // int(b[2])\n",
        "      else:\n",
        "        return -1\n",
        "    else:\n",
        "      print(\"Give correct argument\")\n"
      ],
      "execution_count": 17,
      "outputs": []
    },
    {
      "cell_type": "code",
      "metadata": {
        "colab": {
          "base_uri": "https://localhost:8080/"
        },
        "id": "zBDZJbtqdrQ9",
        "outputId": "265f6d41-db3e-4750-b280-f78a664e7697"
      },
      "source": [
        "eval(\"12 + 23\")\n"
      ],
      "execution_count": 12,
      "outputs": [
        {
          "output_type": "execute_result",
          "data": {
            "text/plain": [
              "35"
            ]
          },
          "metadata": {
            "tags": []
          },
          "execution_count": 12
        }
      ]
    },
    {
      "cell_type": "code",
      "metadata": {
        "colab": {
          "base_uri": "https://localhost:8080/"
        },
        "id": "RNePnnKKdxAb",
        "outputId": "ed612cd8-0b6d-44ee-f9f2-326863b0f6fd"
      },
      "source": [
        "eval(\"12 - 23\")"
      ],
      "execution_count": 13,
      "outputs": [
        {
          "output_type": "execute_result",
          "data": {
            "text/plain": [
              "-11"
            ]
          },
          "metadata": {
            "tags": []
          },
          "execution_count": 13
        }
      ]
    },
    {
      "cell_type": "code",
      "metadata": {
        "colab": {
          "base_uri": "https://localhost:8080/"
        },
        "id": "uwbfw-Cqeqsh",
        "outputId": "7dc357bb-6b9b-4e75-e4a0-c99e91307acb"
      },
      "source": [
        "eval(\"12 * 3\")"
      ],
      "execution_count": 14,
      "outputs": [
        {
          "output_type": "execute_result",
          "data": {
            "text/plain": [
              "36"
            ]
          },
          "metadata": {
            "tags": []
          },
          "execution_count": 14
        }
      ]
    },
    {
      "cell_type": "code",
      "metadata": {
        "colab": {
          "base_uri": "https://localhost:8080/"
        },
        "id": "NL-K6hbQg6rV",
        "outputId": "9c67d6a8-c0a9-433e-e2ac-39a178b829ef"
      },
      "source": [
        "eval(\"120 // 0\")"
      ],
      "execution_count": 18,
      "outputs": [
        {
          "output_type": "execute_result",
          "data": {
            "text/plain": [
              "-1"
            ]
          },
          "metadata": {
            "tags": []
          },
          "execution_count": 18
        }
      ]
    },
    {
      "cell_type": "markdown",
      "metadata": {
        "id": "tAEABG70hqkp"
      },
      "source": [
        "2. Write a function that takes the coordinates of three points in the form of a\n",
        "2d array and returns the perimeter of the triangle. The given points are the\n",
        "vertices of a triangle on a two-dimensional plane.\n",
        "\n",
        "Examples\n",
        "\n",
        "perimeter( [ [15, 7], [5, 22], [11, 1] ] ) ➞ 47.08\n",
        "\n",
        "perimeter( [ [0, 0], [0, 1], [1, 0] ] ) ➞ 3.42\n",
        "\n",
        "perimeter( [ [-10, -10], [10, 10 ], [-10, 10] ] ) ➞ 68.28"
      ]
    },
    {
      "cell_type": "code",
      "metadata": {
        "id": "Lb1_9auZtZ1J"
      },
      "source": [
        "import math\n",
        "def distance2D(p1,p2):\n",
        "  return math.sqrt((p1[0]-p2[0])**2 + (p1[1]-p2[1])**2)\n",
        "def perimeter(a):\n",
        "  p1, p2, p3 = a[0], a[1], a[2]\n",
        "  return distance2D(p1,p2)+distance2D(p2,p3)+distance2D(p1,p3)"
      ],
      "execution_count": 53,
      "outputs": []
    },
    {
      "cell_type": "code",
      "metadata": {
        "colab": {
          "base_uri": "https://localhost:8080/"
        },
        "id": "wxT4t73Iv8JH",
        "outputId": "ce772ab3-3acd-4ba5-950a-4aab94d5b491"
      },
      "source": [
        "perimeter([[-10, -10],[10, 10 ],[-10, 10]])"
      ],
      "execution_count": 55,
      "outputs": [
        {
          "output_type": "execute_result",
          "data": {
            "text/plain": [
              "68.2842712474619"
            ]
          },
          "metadata": {
            "tags": []
          },
          "execution_count": 55
        }
      ]
    },
    {
      "cell_type": "markdown",
      "metadata": {
        "id": "Npm9hpzkyKgm"
      },
      "source": [
        "3. A city skyline can be represented as a 2-D list with 1s representing\n",
        "buildings.Create a function that takes a skyline (2-D list of 0&#39;s and 1&#39;s) and returns the height of the tallest skyscraper."
      ]
    },
    {
      "cell_type": "code",
      "metadata": {
        "id": "3R6QrpuBypYD"
      },
      "source": [
        "def tallest_skyscraper(a):\n",
        "  h = []\n",
        "  \n",
        "  for i in range(len(a)):\n",
        "    height = 0\n",
        "    for j in range(len(a)):\n",
        "      height += a[j][i]\n",
        "    h.append(height)\n",
        "  return max(h)"
      ],
      "execution_count": 69,
      "outputs": []
    },
    {
      "cell_type": "code",
      "metadata": {
        "colab": {
          "base_uri": "https://localhost:8080/"
        },
        "id": "ihsboSIyxEXM",
        "outputId": "f1eb37f4-a5cf-4a4a-dda4-e4fd0aeecb14"
      },
      "source": [
        "s = [[0, 0, 0, 0, 0, 0],\n",
        "[0, 0, 0, 0, 1, 0],\n",
        "[0, 0, 1, 0, 1, 0],\n",
        "[0, 1, 1, 1, 1, 0],\n",
        "[1, 1, 1, 1, 1, 1]]\n",
        "\n",
        "tallest_skyscraper(s)"
      ],
      "execution_count": 70,
      "outputs": [
        {
          "output_type": "execute_result",
          "data": {
            "text/plain": [
              "4"
            ]
          },
          "metadata": {
            "tags": []
          },
          "execution_count": 70
        }
      ]
    },
    {
      "cell_type": "code",
      "metadata": {
        "colab": {
          "base_uri": "https://localhost:8080/"
        },
        "id": "kMR9Nw_6yfo7",
        "outputId": "4de969d1-bffb-4b5f-8f02-dfbe946950fb"
      },
      "source": [
        "tallest_skyscraper([\n",
        "[0, 0, 0, 0],\n",
        "[0, 0, 0, 0],\n",
        "[1, 1, 1, 0],\n",
        "[1, 1, 1, 1]\n",
        "])"
      ],
      "execution_count": 71,
      "outputs": [
        {
          "output_type": "execute_result",
          "data": {
            "text/plain": [
              "2"
            ]
          },
          "metadata": {
            "tags": []
          },
          "execution_count": 71
        }
      ]
    },
    {
      "cell_type": "markdown",
      "metadata": {
        "id": "X3KTovo84C_V"
      },
      "source": [
        "4. A financial institution provides professional services to banks and claims\n",
        "charges from the customers based on the number of man-days provided.\n",
        "Internally, it has set a scheme to motivate and reward staff to meet and\n",
        "exceed targeted billable utilization and revenues by paying a bonus for each\n",
        "day claimed from customers in excess of a threshold target.\n",
        "This quarterly scheme is calculated with a threshold target of 32 days per\n",
        "quarter, and the incentive payment for each billable day in excess of such\n",
        "threshold target is shown as follows:\n",
        "\n",
        "Days Bonus\n",
        "\n",
        "0 to 32 days Zero\n",
        "\n",
        "33 to 40 days SGD$325 per billable day\n",
        "\n",
        "41 to 48 days SGD$550 per billable day\n",
        "\n",
        "Greater than 48 days SGD$600 per billable day\n",
        "\n",
        "Please note that incentive payment is calculated progressively. As an\n",
        "example, if an employee reached total billable days of 45 in a quarter, his/her\n",
        "incentive payment is computed as follows:\n",
        "\n",
        "32*0 + 8*325 + 5*550 = 5350\n",
        "\n",
        "Write a function to read the billable days of an employee and return the bonus\n",
        "he/she has obtained in that quarter."
      ]
    },
    {
      "cell_type": "code",
      "metadata": {
        "id": "o2gxxsZj3RTy"
      },
      "source": [
        "def bonus(n_days):\n",
        "  if n_days <= 32:\n",
        "    return 0\n",
        "  elif n_days > 32 and n_days<= 40:\n",
        "    return (n_days-32)*325\n",
        "  elif n_days > 40 and n_days<= 48:\n",
        "    return 8*325 + (n_days-40)*550\n",
        "  elif n_days > 48:\n",
        "    return 8*325 + 8*550 + (n_days-48)*600\n",
        "  else:\n",
        "    print(\"Enter correct value\")\n"
      ],
      "execution_count": 76,
      "outputs": []
    },
    {
      "cell_type": "code",
      "metadata": {
        "colab": {
          "base_uri": "https://localhost:8080/"
        },
        "id": "ImWmEBkb7EoB",
        "outputId": "42cb71d7-9a7d-4e5a-a10b-4c7a397a496e"
      },
      "source": [
        "bonus(45)"
      ],
      "execution_count": 77,
      "outputs": [
        {
          "output_type": "execute_result",
          "data": {
            "text/plain": [
              "5350"
            ]
          },
          "metadata": {
            "tags": []
          },
          "execution_count": 77
        }
      ]
    },
    {
      "cell_type": "code",
      "metadata": {
        "colab": {
          "base_uri": "https://localhost:8080/"
        },
        "id": "rPJgiEpR7QVE",
        "outputId": "a0d31bf6-0db7-44f2-d19a-135845efbac8"
      },
      "source": [
        "bonus(37)"
      ],
      "execution_count": 78,
      "outputs": [
        {
          "output_type": "execute_result",
          "data": {
            "text/plain": [
              "1625"
            ]
          },
          "metadata": {
            "tags": []
          },
          "execution_count": 78
        }
      ]
    },
    {
      "cell_type": "code",
      "metadata": {
        "colab": {
          "base_uri": "https://localhost:8080/"
        },
        "id": "zLxI8TbH7jAR",
        "outputId": "4ec4fc8d-65f9-4544-82b3-3a2c56fd3b68"
      },
      "source": [
        "bonus(50)"
      ],
      "execution_count": 79,
      "outputs": [
        {
          "output_type": "execute_result",
          "data": {
            "text/plain": [
              "8200"
            ]
          },
          "metadata": {
            "tags": []
          },
          "execution_count": 79
        }
      ]
    },
    {
      "cell_type": "markdown",
      "metadata": {
        "id": "kE6YLf2e7zFF"
      },
      "source": [
        "5.Create a function that determines whether a number is a Disarium or not."
      ]
    },
    {
      "cell_type": "code",
      "metadata": {
        "id": "ZvY8oas67lGR"
      },
      "source": [
        "def is_disarium(n):\n",
        "  p = list(str(n))\n",
        "  sum = 0\n",
        "  for i in p:\n",
        "    sum += int(i)**(p.index(i)+1)\n",
        "  if sum == n:\n",
        "    return True\n",
        "  else:\n",
        "    return False"
      ],
      "execution_count": 85,
      "outputs": []
    },
    {
      "cell_type": "code",
      "metadata": {
        "colab": {
          "base_uri": "https://localhost:8080/"
        },
        "id": "W9uS5W5H8Foe",
        "outputId": "cdde1899-0dea-4d94-d5c8-4fb0a75dd448"
      },
      "source": [
        "is_disarium(135)"
      ],
      "execution_count": 86,
      "outputs": [
        {
          "output_type": "execute_result",
          "data": {
            "text/plain": [
              "True"
            ]
          },
          "metadata": {
            "tags": []
          },
          "execution_count": 86
        }
      ]
    },
    {
      "cell_type": "code",
      "metadata": {
        "colab": {
          "base_uri": "https://localhost:8080/"
        },
        "id": "HzoYx-eD9ot_",
        "outputId": "f2646ebc-8dbd-4114-bfc0-a55cffa36ec4"
      },
      "source": [
        "is_disarium(544)"
      ],
      "execution_count": 87,
      "outputs": [
        {
          "output_type": "execute_result",
          "data": {
            "text/plain": [
              "False"
            ]
          },
          "metadata": {
            "tags": []
          },
          "execution_count": 87
        }
      ]
    },
    {
      "cell_type": "code",
      "metadata": {
        "colab": {
          "base_uri": "https://localhost:8080/"
        },
        "id": "uXCr1ot28Io0",
        "outputId": "3b1cce60-5446-40bb-da2b-7bd3e63d7cb9"
      },
      "source": [
        "is_disarium(518)"
      ],
      "execution_count": 88,
      "outputs": [
        {
          "output_type": "execute_result",
          "data": {
            "text/plain": [
              "True"
            ]
          },
          "metadata": {
            "tags": []
          },
          "execution_count": 88
        }
      ]
    },
    {
      "cell_type": "code",
      "metadata": {
        "id": "x1WOTXkA9uUq"
      },
      "source": [
        ""
      ],
      "execution_count": null,
      "outputs": []
    },
    {
      "cell_type": "code",
      "metadata": {
        "id": "or7Dondw9wJb"
      },
      "source": [
        ""
      ],
      "execution_count": null,
      "outputs": []
    }
  ]
}