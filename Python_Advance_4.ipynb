{
  "nbformat": 4,
  "nbformat_minor": 0,
  "metadata": {
    "colab": {
      "name": "Python Advance 4.ipynb",
      "provenance": []
    },
    "kernelspec": {
      "name": "python3",
      "display_name": "Python 3"
    },
    "language_info": {
      "name": "python"
    }
  },
  "cells": [
    {
      "cell_type": "markdown",
      "metadata": {
        "id": "Lew3G-IxQv1i"
      },
      "source": [
        "Q1. Which two operator overloading methods can you use in your classes to support iteration?"
      ]
    },
    {
      "cell_type": "markdown",
      "metadata": {
        "id": "BrIa9fTXQxhP"
      },
      "source": [
        "=> A Python iterator object must implement two special methods, __iter__() and __next__() "
      ]
    },
    {
      "cell_type": "markdown",
      "metadata": {
        "id": "YtMYbnRIRVcW"
      },
      "source": [
        "Q2. In what contexts do the two operator overloading methods manage printing?"
      ]
    },
    {
      "cell_type": "code",
      "metadata": {
        "colab": {
          "base_uri": "https://localhost:8080/"
        },
        "id": "Jg-czcgoTOZu",
        "outputId": "b801e3e5-56ca-4851-b500-24c6fbf70261"
      },
      "source": [
        "class PowTwo:\n",
        "    \"\"\"Class to implement an iterator\n",
        "    of powers of two\"\"\"\n",
        "\n",
        "    def __init__(self, max=0):\n",
        "        self.max = max\n",
        "\n",
        "    def __iter__(self):\n",
        "        self.n = 0\n",
        "        return self\n",
        "\n",
        "    def __next__(self):\n",
        "        if self.n <= self.max:\n",
        "            result = 2 ** self.n\n",
        "            self.n += 1\n",
        "            return result\n",
        "        else:\n",
        "            raise StopIteration\n",
        "\n",
        "\n",
        "# create an object\n",
        "numbers = PowTwo(3)\n",
        "\n",
        "# create an iterable from the object\n",
        "i = iter(numbers)\n",
        "\n",
        "# Using next to get to the next iterator element\n",
        "print(next(i))\n",
        "print(next(i))\n",
        "print(next(i))\n",
        "print(next(i))\n"
      ],
      "execution_count": null,
      "outputs": [
        {
          "output_type": "stream",
          "text": [
            "1\n",
            "2\n",
            "4\n",
            "8\n"
          ],
          "name": "stdout"
        }
      ]
    },
    {
      "cell_type": "code",
      "metadata": {
        "id": "wv6QoViP5cTL"
      },
      "source": [
        ""
      ],
      "execution_count": null,
      "outputs": []
    },
    {
      "cell_type": "markdown",
      "metadata": {
        "id": "DXE9agL9SVez"
      },
      "source": [
        "Q4. In a class, how do you capture in-place addition?"
      ]
    },
    {
      "cell_type": "markdown",
      "metadata": {
        "id": "TKxpd_C9lzPb"
      },
      "source": [
        "=> In-place operation is an operation that changes directly the content of a given linear algebra, vector, matrices(Tensor) without making a copy. The operators which helps to do the operation is called in-place operator. iadd() function is used to assign the current value and add them."
      ]
    },
    {
      "cell_type": "code",
      "metadata": {
        "colab": {
          "base_uri": "https://localhost:8080/"
        },
        "id": "GiuswFmzrEZY",
        "outputId": "2bbc6cb5-8b19-4410-ec3f-019cdb9f4912"
      },
      "source": [
        "class Number: \n",
        "    def __init__(self, val): \n",
        "        self.val = val \n",
        "    def __iadd__(self, other):             # __iadd__ explicit: x += y \n",
        "        self.val += other                  # Usually returns self \n",
        "        return self \n",
        "\n",
        "x = Number(5) \n",
        "x += 1 \n",
        "x = Number(10)\n",
        "x += 1 \n",
        "x.val \n"
      ],
      "execution_count": 3,
      "outputs": [
        {
          "output_type": "execute_result",
          "data": {
            "text/plain": [
              "11"
            ]
          },
          "metadata": {
            "tags": []
          },
          "execution_count": 3
        }
      ]
    },
    {
      "cell_type": "markdown",
      "metadata": {
        "id": "_Y2_41-wl22n"
      },
      "source": [
        "Q5. When is it appropriate to use operator overloading?"
      ]
    },
    {
      "cell_type": "markdown",
      "metadata": {
        "id": "IHJrQK3F4uVH"
      },
      "source": [
        "=> When it is required to extend the meaning of predefined operators, operator overloading is done."
      ]
    }
  ]
}