{
  "nbformat": 4,
  "nbformat_minor": 0,
  "metadata": {
    "colab": {
      "name": "Python Advance 3.ipynb",
      "provenance": [],
      "collapsed_sections": []
    },
    "kernelspec": {
      "name": "python3",
      "display_name": "Python 3"
    },
    "language_info": {
      "name": "python"
    }
  },
  "cells": [
    {
      "cell_type": "markdown",
      "metadata": {
        "id": "sIjLUU1CsDzc"
      },
      "source": [
        "1. What is the concept of an abstract superclass?\n",
        
        "\n"
      ]
    },
    {
      "cell_type": "markdown",
      "metadata": {
        "id": "NFrp-WomwruJ"
      },
      "source": [
        "=>A class is called an Abstract class if it contains one or more abstract methods. An abstract method is a method that is declared, but contains no implementation. The 'abc' module in Python library provides the infrastructure for defining custom abstract base classes."
      ]
    },
    {
      "cell_type": "markdown",
      "metadata": {
        "id": "FAGSyFLFwywR"
      },
      "source": [
        "2. What happens when a class statement&#39;s top level contains a basic assignment statement?"
      ]
    },
    {
      "cell_type": "markdown",
      "metadata": {
        "id": "FRbWVxLoxk9Y"
      },
      "source": [
        "=> It becomes the global variable."
      ]
    },
    {
      "cell_type": "markdown",
      "metadata": {
        "id": "g5dRErLqyNW_"
      },
      "source": [
        "3. Why does a class need to manually call a superclass&#39;s __init__ method?"
      ]
    },
    {
      "cell_type": "markdown",
      "metadata": {
        "id": "0EkkX2HxyRUo"
      },
      "source": [
        "=> Calling a parent class (also known as a super class) constructor within a child class executes the operations of the parent class constructor in the child class."
      ]
    },
    {
      "cell_type": "markdown",
      "metadata": {
        "id": "F5p0K7mTzeD2"
      },
      "source": [
        "4. How can you augment, instead of completely replacing, an inherited method?"
      ]
    },
    {
      "cell_type": "markdown",
      "metadata": {
        "id": "WXNg2BdD0MfV"
      },
      "source": [
        "=> BY using abstract superclass."
      ]
    },
    {
      "cell_type": "markdown",
      "metadata": {
        "id": "jlJrTmYc3IV8"
      },
      "source": [
        "5. How is the local scope of a class different from that of a function?"
      ]
    },
    {
      "cell_type": "markdown",
      "metadata": {
        "id": "e_8lo6Tv3OWc"
      },
      "source": [
        "=> Variable declared in class outside function can be used by the function by using self. The variable declared in function called as local variable is only limited to that function."
      ]
    }
  ]
}
